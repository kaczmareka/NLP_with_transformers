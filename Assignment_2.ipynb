{
  "cells": [
    {
      "cell_type": "markdown",
      "id": "be9f7653",
      "metadata": {
        "id": "be9f7653"
      },
      "source": [
        "**Heidelberg University**\n",
        "\n",
        "**Data Science  Group**\n",
        "    \n",
        "Prof. Dr. Michael Gertz  \n",
        "\n",
        "Ashish Chouhan, Satya Almasian, John Ziegler, Jayson Salazar, Nicolas Reuter\n",
        "    \n",
        "November 13, 2023\n",
        "    \n",
        "Natural Language Processing with Transformers\n",
        "\n",
        "Winter Semster 2023/2024     \n",
        "***"
      ]
    },
    {
      "cell_type": "markdown",
      "metadata": {},
      "source": [
        "# Team members\n",
        "- Agata Kaczmarek\n",
        "- Pranjal Sharma\n",
        "- Jan Smoleń\n",
        "- Mateusz Stączek"
      ]
    },
    {
      "cell_type": "markdown",
      "id": "258e9648",
      "metadata": {
        "id": "258e9648"
      },
      "source": [
        "# **Assignment 2: “Sequence Models”**\n",
        "**Due**: Monday, November 27, 2pm, via [Moodle](https://moodle.uni-heidelberg.de/course/view.php?id=19251)\n",
        "\n"
      ]
    },
    {
      "cell_type": "markdown",
      "id": "fc27ad9e",
      "metadata": {
        "id": "fc27ad9e"
      },
      "source": [
        "### **Submission Guidelines**\n",
        "\n",
        "- Solutions need to be uploaded as a **single** Jupyter notebook. You will find several pre-filled code segments in the notebook, your task is to fill in the missing cells.\n",
        "- For the written solution, use LaTeX in markdown inside the same notebook. Do **not** hand in a separate file for it.\n",
        "- Download the .zip file containing the dataset but do **not** upload it with your solution.\n",
        "- It is sufficient if one person per group uploads the solution to Moodle, but make sure that the complete names of all team members are given in the notebook.\n",
        "\n",
        "***"
      ]
    },
    {
      "cell_type": "markdown",
      "id": "e322e8b0",
      "metadata": {
        "id": "e322e8b0"
      },
      "source": [
        "## **Task 1: Part-of-Speech Tagging with a Bidirectional LSTM**  (2+4+5=11 points)"
      ]
    },
    {
      "cell_type": "markdown",
      "id": "b4ca26ac",
      "metadata": {
        "id": "b4ca26ac"
      },
      "source": [
        "In this task we will be building a sequence tagger that produces an output for every element in an input sequence, using `PyTorch` and `TorchText`, where `TorchText` consists of data processing utilities and popular datasets for natural language.\n",
        "\n",
        "\n",
        "*   **input:** a sequence of text\n",
        "*   **output:** part-of-speech (POS) tag for each token in the input text\n",
        "\n",
        "We tackle this task using a multi-layer bi-directional LSTM (BiLSTM) to predict POS tags using the [Universal Dependencies](https://universaldependencies.org/) English Web Treebank (UDPOS) dataset. This dataset is contained in the `TorchText` library and we do not require an external file for it. The dataset in  `TorchText`  has two different sets of tags, universal dependency (UD) tags and Penn Treebank (PTB) tags. We only focus on the UD tags for this assignment."
      ]
    },
    {
      "cell_type": "code",
      "execution_count": 2,
      "id": "nnBfLC1P5QXw",
      "metadata": {
        "colab": {
          "base_uri": "https://localhost:8080/"
        },
        "id": "nnBfLC1P5QXw",
        "outputId": "773c471a-2414-48a0-d887-9148edbc421d"
      },
      "outputs": [
        {
          "name": "stdout",
          "output_type": "stream",
          "text": [
            "Collecting portalocker\n",
            "  Downloading portalocker-2.8.2-py3-none-any.whl (17 kB)\n",
            "Installing collected packages: portalocker\n",
            "Successfully installed portalocker-2.8.2\n"
          ]
        }
      ],
      "source": [
        "%pip install portalocker"
      ]
    },
    {
      "cell_type": "code",
      "execution_count": 3,
      "id": "nT5geerO7d1P",
      "metadata": {
        "colab": {
          "base_uri": "https://localhost:8080/"
        },
        "id": "nT5geerO7d1P",
        "outputId": "e4e40263-2024-4c3d-d0dc-47a92419e158"
      },
      "outputs": [
        {
          "name": "stdout",
          "output_type": "stream",
          "text": [
            "Requirement already satisfied: torchdata in /usr/local/lib/python3.10/dist-packages (0.7.0)\n",
            "Requirement already satisfied: urllib3>=1.25 in /usr/local/lib/python3.10/dist-packages (from torchdata) (2.0.7)\n",
            "Requirement already satisfied: requests in /usr/local/lib/python3.10/dist-packages (from torchdata) (2.31.0)\n",
            "Requirement already satisfied: torch==2.1.0 in /usr/local/lib/python3.10/dist-packages (from torchdata) (2.1.0+cu118)\n",
            "Requirement already satisfied: filelock in /usr/local/lib/python3.10/dist-packages (from torch==2.1.0->torchdata) (3.13.1)\n",
            "Requirement already satisfied: typing-extensions in /usr/local/lib/python3.10/dist-packages (from torch==2.1.0->torchdata) (4.5.0)\n",
            "Requirement already satisfied: sympy in /usr/local/lib/python3.10/dist-packages (from torch==2.1.0->torchdata) (1.12)\n",
            "Requirement already satisfied: networkx in /usr/local/lib/python3.10/dist-packages (from torch==2.1.0->torchdata) (3.2.1)\n",
            "Requirement already satisfied: jinja2 in /usr/local/lib/python3.10/dist-packages (from torch==2.1.0->torchdata) (3.1.2)\n",
            "Requirement already satisfied: fsspec in /usr/local/lib/python3.10/dist-packages (from torch==2.1.0->torchdata) (2023.6.0)\n",
            "Requirement already satisfied: triton==2.1.0 in /usr/local/lib/python3.10/dist-packages (from torch==2.1.0->torchdata) (2.1.0)\n",
            "Requirement already satisfied: charset-normalizer<4,>=2 in /usr/local/lib/python3.10/dist-packages (from requests->torchdata) (3.3.2)\n",
            "Requirement already satisfied: idna<4,>=2.5 in /usr/local/lib/python3.10/dist-packages (from requests->torchdata) (3.4)\n",
            "Requirement already satisfied: certifi>=2017.4.17 in /usr/local/lib/python3.10/dist-packages (from requests->torchdata) (2023.7.22)\n",
            "Requirement already satisfied: MarkupSafe>=2.0 in /usr/local/lib/python3.10/dist-packages (from jinja2->torch==2.1.0->torchdata) (2.1.3)\n",
            "Requirement already satisfied: mpmath>=0.19 in /usr/local/lib/python3.10/dist-packages (from sympy->torch==2.1.0->torchdata) (1.3.0)\n"
          ]
        }
      ],
      "source": [
        "%pip install torchdata"
      ]
    },
    {
      "cell_type": "code",
      "execution_count": 4,
      "id": "_pIBtTh3sOQe",
      "metadata": {
        "colab": {
          "base_uri": "https://localhost:8080/"
        },
        "id": "_pIBtTh3sOQe",
        "outputId": "1fc97f54-b0a7-4151-ecc4-84e26d677acd"
      },
      "outputs": [
        {
          "name": "stdout",
          "output_type": "stream",
          "text": [
            "Requirement already satisfied: torchtext in /usr/local/lib/python3.10/dist-packages (0.16.0)\n",
            "Requirement already satisfied: tqdm in /usr/local/lib/python3.10/dist-packages (from torchtext) (4.66.1)\n",
            "Requirement already satisfied: requests in /usr/local/lib/python3.10/dist-packages (from torchtext) (2.31.0)\n",
            "Requirement already satisfied: torch==2.1.0 in /usr/local/lib/python3.10/dist-packages (from torchtext) (2.1.0+cu118)\n",
            "Requirement already satisfied: numpy in /usr/local/lib/python3.10/dist-packages (from torchtext) (1.23.5)\n",
            "Requirement already satisfied: torchdata==0.7.0 in /usr/local/lib/python3.10/dist-packages (from torchtext) (0.7.0)\n",
            "Requirement already satisfied: filelock in /usr/local/lib/python3.10/dist-packages (from torch==2.1.0->torchtext) (3.13.1)\n",
            "Requirement already satisfied: typing-extensions in /usr/local/lib/python3.10/dist-packages (from torch==2.1.0->torchtext) (4.5.0)\n",
            "Requirement already satisfied: sympy in /usr/local/lib/python3.10/dist-packages (from torch==2.1.0->torchtext) (1.12)\n",
            "Requirement already satisfied: networkx in /usr/local/lib/python3.10/dist-packages (from torch==2.1.0->torchtext) (3.2.1)\n",
            "Requirement already satisfied: jinja2 in /usr/local/lib/python3.10/dist-packages (from torch==2.1.0->torchtext) (3.1.2)\n",
            "Requirement already satisfied: fsspec in /usr/local/lib/python3.10/dist-packages (from torch==2.1.0->torchtext) (2023.6.0)\n",
            "Requirement already satisfied: triton==2.1.0 in /usr/local/lib/python3.10/dist-packages (from torch==2.1.0->torchtext) (2.1.0)\n",
            "Requirement already satisfied: urllib3>=1.25 in /usr/local/lib/python3.10/dist-packages (from torchdata==0.7.0->torchtext) (2.0.7)\n",
            "Requirement already satisfied: charset-normalizer<4,>=2 in /usr/local/lib/python3.10/dist-packages (from requests->torchtext) (3.3.2)\n",
            "Requirement already satisfied: idna<4,>=2.5 in /usr/local/lib/python3.10/dist-packages (from requests->torchtext) (3.4)\n",
            "Requirement already satisfied: certifi>=2017.4.17 in /usr/local/lib/python3.10/dist-packages (from requests->torchtext) (2023.7.22)\n",
            "Requirement already satisfied: MarkupSafe>=2.0 in /usr/local/lib/python3.10/dist-packages (from jinja2->torch==2.1.0->torchtext) (2.1.3)\n",
            "Requirement already satisfied: mpmath>=0.19 in /usr/local/lib/python3.10/dist-packages (from sympy->torch==2.1.0->torchtext) (1.3.0)\n"
          ]
        }
      ],
      "source": [
        "%pip install torchtext"
      ]
    },
    {
      "cell_type": "code",
      "execution_count": 5,
      "id": "787e2059",
      "metadata": {
        "id": "787e2059"
      },
      "outputs": [],
      "source": [
        "import torch\n",
        "import torch.nn as nn\n",
        "import torch.optim as optim\n",
        "\n",
        "from torchtext.datasets import UDPOS\n",
        "\n",
        "import numpy as np\n",
        "\n",
        "import time\n",
        "import random\n",
        "from torchtext.vocab import build_vocab_from_iterator\n",
        "from torch.utils.data import DataLoader\n",
        "device = torch.device('cuda' if torch.cuda.is_available() else 'cpu')\n",
        "\n",
        "\n",
        "# for reproducibility\n",
        "random.seed(77)\n",
        "np.random.seed(77)\n",
        "torch.manual_seed(77)\n",
        "torch.backends.cudnn.deterministic = True"
      ]
    },
    {
      "cell_type": "markdown",
      "id": "fc29cb37",
      "metadata": {
        "id": "fc29cb37"
      },
      "source": [
        "### Subtask 1: Data Analysis\n",
        "The very basic components of the torchtext library include `vocab`, `word vectors`, and `tokenizer`. Those are the basic data processing building blocks for the raw text string.\n",
        "In this case, we use the tokenizer and the vocabulary. Use the `build_vocab_from_iterator` to create the vocabulary for the text field and add the `<unk>` and `<pad>` tokens to it. Use a minimal frequency of `2`.\n",
        "Also create a vocabulary for the labels (tag field). However, since the tags are predefined elements, you will not need an `<unk>` token.\n",
        " This dataset actually has two different sets of tags, universal dependency (UD) tags and Penn Treebank (PTB) tags. We train our model on the UD tags, which is the second element on the list of outputs (example below).\n"
      ]
    },
    {
      "cell_type": "code",
      "execution_count": 6,
      "id": "IlEFywat4Gva",
      "metadata": {
        "colab": {
          "base_uri": "https://localhost:8080/"
        },
        "id": "IlEFywat4Gva",
        "outputId": "c278e3cd-7c03-493f-8ae9-9d4e5316660e"
      },
      "outputs": [
        {
          "name": "stdout",
          "output_type": "stream",
          "text": [
            "[['Al', '-', 'Zaman', ':', 'American', 'forces', 'killed', 'Shaikh', 'Abdullah', 'al', '-', 'Ani', ',', 'the', 'preacher', 'at', 'the', 'mosque', 'in', 'the', 'town', 'of', 'Qaim', ',', 'near', 'the', 'Syrian', 'border', '.'], ['PROPN', 'PUNCT', 'PROPN', 'PUNCT', 'ADJ', 'NOUN', 'VERB', 'PROPN', 'PROPN', 'PROPN', 'PUNCT', 'PROPN', 'PUNCT', 'DET', 'NOUN', 'ADP', 'DET', 'NOUN', 'ADP', 'DET', 'NOUN', 'ADP', 'PROPN', 'PUNCT', 'ADP', 'DET', 'ADJ', 'NOUN', 'PUNCT'], ['NNP', 'HYPH', 'NNP', ':', 'JJ', 'NNS', 'VBD', 'NNP', 'NNP', 'NNP', 'HYPH', 'NNP', ',', 'DT', 'NN', 'IN', 'DT', 'NN', 'IN', 'DT', 'NN', 'IN', 'NNP', ',', 'IN', 'DT', 'JJ', 'NN', '.']]\n"
          ]
        }
      ],
      "source": [
        "train_iter = iter(UDPOS(split=\"train\"))\n",
        "print(next(train_iter))"
      ]
    },
    {
      "cell_type": "code",
      "execution_count": 7,
      "id": "7HJWFvb3AgTI",
      "metadata": {
        "colab": {
          "base_uri": "https://localhost:8080/"
        },
        "id": "7HJWFvb3AgTI",
        "outputId": "b420e75d-5a94-4121-e762-2aa23e2204dc"
      },
      "outputs": [
        {
          "name": "stdout",
          "output_type": "stream",
          "text": [
            "Number of training examples: 12543\n",
            "Number of validation examples: 2002\n",
            "Number of testing examples: 2077\n"
          ]
        }
      ],
      "source": [
        "print(f\"Number of training examples: {len(list(UDPOS(split='train')))}\")\n",
        "print(f\"Number of validation examples: {len(list(UDPOS(split='valid')))}\")\n",
        "print(f\"Number of testing examples: {len(list(UDPOS(split='test')))}\")"
      ]
    },
    {
      "cell_type": "markdown",
      "id": "RaAW09-n_5DC",
      "metadata": {
        "id": "RaAW09-n_5DC"
      },
      "source": [
        "Note that the data is already tokenized!"
      ]
    },
    {
      "cell_type": "code",
      "execution_count": 8,
      "id": "rcG-FcDu5DcA",
      "metadata": {
        "id": "rcG-FcDu5DcA"
      },
      "outputs": [],
      "source": [
        "train_iter = UDPOS(split=\"train\") # to get the training set\n",
        "\n",
        "### your code (make sure pad has id of 0) ####\n",
        "\n",
        "train_iter_0 = [example[0] for example in train_iter]\n",
        "vocab = build_vocab_from_iterator(train_iter_0, min_freq=2, specials=['<pad>', '<unk>'])\n",
        "vocab.set_default_index(1)\n",
        "\n",
        "train_iter_1 = [example[1] for example in train_iter]\n",
        "ud_vocab = build_vocab_from_iterator(train_iter_1, specials=['<pad>'])\n",
        "\n",
        "### your code ####\n"
      ]
    },
    {
      "cell_type": "markdown",
      "id": "nzalgc92j2mG",
      "metadata": {
        "id": "nzalgc92j2mG"
      },
      "source": [
        "Prepare a text processing pipeline that takes raw input and labels and converts them to ids."
      ]
    },
    {
      "cell_type": "code",
      "execution_count": 11,
      "id": "BDqKYQnRj2D8",
      "metadata": {
        "id": "BDqKYQnRj2D8"
      },
      "outputs": [],
      "source": [
        "text_pipeline = lambda x: vocab(x)\n",
        "label_pipeline = lambda x: ud_vocab(x)"
      ]
    },
    {
      "cell_type": "code",
      "execution_count": 12,
      "id": "wg36B2Z_Hdi0",
      "metadata": {
        "colab": {
          "base_uri": "https://localhost:8080/"
        },
        "id": "wg36B2Z_Hdi0",
        "outputId": "5e0237e6-23c0-42fa-d7b6-9b9aae6b0fe5"
      },
      "outputs": [
        {
          "name": "stdout",
          "output_type": "stream",
          "text": [
            "[3, 9271, 35, 9097, 0, 1]\n",
            "[6, 8, 1, 2]\n"
          ]
        }
      ],
      "source": [
        "print(text_pipeline(['the', 'preacher','at', 'mosque', \"<pad>\",\"pppp\"])) #should output [3, 9271, 35, 9097, 0, 1]\n",
        "print(label_pipeline(['DET', 'ADJ', 'NOUN', 'PUNCT'])) # should output [6, 8, 1, 2]"
      ]
    },
    {
      "cell_type": "code",
      "execution_count": 13,
      "id": "cjn1qH2dHoaa",
      "metadata": {
        "colab": {
          "base_uri": "https://localhost:8080/"
        },
        "id": "cjn1qH2dHoaa",
        "outputId": "71545f0e-6e4e-461e-f8d2-377f32fb4edf"
      },
      "outputs": [
        {
          "name": "stdout",
          "output_type": "stream",
          "text": [
            "Unique tokens in input vocabulary: 9875\n",
            "Unique tokens in UD vocabulary: 18\n"
          ]
        }
      ],
      "source": [
        "print(f\"Unique tokens in input vocabulary: {len(vocab)}\")\n",
        "print(f\"Unique tokens in UD vocabulary: {len(ud_vocab)}\")"
      ]
    },
    {
      "cell_type": "markdown",
      "id": "FUnDiAOW-N5S",
      "metadata": {
        "id": "FUnDiAOW-N5S"
      },
      "source": [
        "Write a custom function for the dataloader that applies the text and label pipeline and pads the sequences to have equal lengths."
      ]
    },
    {
      "cell_type": "code",
      "execution_count": 14,
      "id": "0aN6s1UhoRhK",
      "metadata": {
        "id": "0aN6s1UhoRhK"
      },
      "outputs": [],
      "source": [
        "from functools import partial\n",
        "\n",
        "def collate_batch(batch, pad_token_ix, pad_token_ix_ud):\n",
        "    ### your code ###\n",
        "    max_length=0\n",
        "    x_list=[[] for _ in range(len(batch))]\n",
        "    y_list=[[] for _ in range(len(batch))]\n",
        "    for i, example in enumerate(batch):\n",
        "        len_example=len(example[0])\n",
        "        if len_example>max_length:\n",
        "          max_length=len_example\n",
        "        x_list[i]=example[0]\n",
        "        y_list[i]=example[1]\n",
        "\n",
        "    for i in range(len(x_list)):\n",
        "      x_list[i] = text_pipeline(x_list[i])\n",
        "      y_list[i] = label_pipeline(y_list[i])\n",
        "\n",
        "    x_padded = [[pad_token_ix for _ in range(max_length)] for _ in range(len(x_list))]\n",
        "    y_padded = [[pad_token_ix_ud for _ in range(max_length)] for _ in range(len(y_list))]\n",
        "\n",
        "    for i in range(len(x_list)):\n",
        "      x_padded[i][:len(x_list[i])]=x_list[i]\n",
        "      y_padded[i][:len(y_list[i])]=y_list[i]\n",
        "\n",
        "    x_padded=torch.from_numpy(np.array(x_padded)) #padded input\n",
        "    y_padded=torch.from_numpy(np.array(y_padded)) #padded predictions\n",
        "\n",
        "    ### your code ###\n",
        "\n",
        "    return x_padded.to(device), y_padded.to(device)\n",
        "\n",
        "collate_fn = partial(collate_batch, pad_token_ix=vocab['<pad>'], pad_token_ix_ud=ud_vocab['<pad>'])\n",
        "\n",
        "\n",
        "train_dataloader = DataLoader(\n",
        "    UDPOS(split=\"train\"), batch_size=128, shuffle=False, collate_fn=collate_fn\n",
        ")\n",
        "valid_dataloader = DataLoader(\n",
        "    UDPOS(split=\"valid\"), batch_size=128, shuffle=True, collate_fn=collate_fn\n",
        ")\n",
        "test_dataloader = DataLoader(\n",
        "    UDPOS(split=\"test\"), batch_size=128, shuffle=True, collate_fn=collate_fn\n",
        ")"
      ]
    },
    {
      "cell_type": "code",
      "execution_count": 15,
      "id": "2X8ZZ0J4oek_",
      "metadata": {
        "colab": {
          "base_uri": "https://localhost:8080/"
        },
        "id": "2X8ZZ0J4oek_",
        "outputId": "cd5f44eb-dd86-4d6b-db24-f119b10f9996"
      },
      "outputs": [
        {
          "name": "stdout",
          "output_type": "stream",
          "text": [
            "torch.Size([128, 76])\n",
            "torch.Size([128, 76])\n",
            "tensor([7, 2, 7, 2, 8, 1, 3, 7, 7, 7, 2, 7, 2, 6, 1, 5, 6, 1, 5, 6, 1, 5, 7, 2,\n",
            "        5, 6, 8, 1, 2, 0, 0, 0, 0, 0, 0, 0, 0, 0, 0, 0, 0, 0, 0, 0, 0, 0, 0, 0,\n",
            "        0, 0, 0, 0, 0, 0, 0, 0, 0, 0, 0, 0, 0, 0, 0, 0, 0, 0, 0, 0, 0, 0, 0, 0,\n",
            "        0, 0, 0, 0], device='cuda:0')\n",
            "tensor([ 262,   16, 5728,   45,  289,  701, 1160, 4436,    1,  585,   16,    1,\n",
            "           4,    3, 9271,   35,    3, 9097,   10,    3,  500,    8, 7676,    4,\n",
            "         762,    3, 2242, 1610,    2,    0,    0,    0,    0,    0,    0,    0,\n",
            "           0,    0,    0,    0,    0,    0,    0,    0,    0,    0,    0,    0,\n",
            "           0,    0,    0,    0,    0,    0,    0,    0,    0,    0,    0,    0,\n",
            "           0,    0,    0,    0,    0,    0,    0,    0,    0,    0,    0,    0,\n",
            "           0,    0,    0,    0], device='cuda:0')\n"
          ]
        }
      ],
      "source": [
        "for idx, (text, label) in enumerate(train_dataloader):\n",
        "      print(label.shape)\n",
        "      print(text.shape)\n",
        "      print(label[0])\n",
        "      print(text[0])\n",
        "      break"
      ]
    },
    {
      "cell_type": "markdown",
      "id": "jDy_wvjR_1Sg",
      "metadata": {
        "id": "jDy_wvjR_1Sg"
      },
      "source": [
        "Let's take a closer look at the data and the distribution of tags.\n",
        "Implement `tag_percentage`:\n",
        "\n",
        "*   Use the `collection.counter` to count the unique instances of each tag.\n",
        "\n",
        "*    Compute the percentage of each tag in the entire set, by using the counted frequencies.\n",
        "\n"
      ]
    },
    {
      "cell_type": "code",
      "execution_count": 16,
      "id": "273JqNZn_rRT",
      "metadata": {
        "id": "273JqNZn_rRT"
      },
      "outputs": [],
      "source": [
        "from collections import Counter\n",
        "\n",
        "def tag_percentage(training_iterator):\n",
        "    train_iter_1 = [token for example in training_iterator for token in example[1]]\n",
        "    counter = Counter(train_iter_1)\n",
        "    #### your code to count the number of tags\n",
        "    keys_counter=counter.keys()\n",
        "    suma=counter.total()\n",
        "    ### compute the tag percentages based on the counter object\n",
        "\n",
        "    tag_p=[0 for _ in range(len(keys_counter))]\n",
        "    for i, key in enumerate(keys_counter):\n",
        "      percentage=counter[key]/suma\n",
        "      tag_p[i]=(key, counter[key], percentage)\n",
        "    ###\n",
        "    return tag_p"
      ]
    },
    {
      "cell_type": "code",
      "execution_count": 17,
      "id": "fWzoEd7h_qRw",
      "metadata": {
        "colab": {
          "base_uri": "https://localhost:8080/"
        },
        "id": "fWzoEd7h_qRw",
        "outputId": "00d169a8-a700-45df-afe0-a9765276c837"
      },
      "outputs": [
        {
          "name": "stdout",
          "output_type": "stream",
          "text": [
            "Tag\t\tCount\t\tPercentage\n",
            "\n",
            "PROPN\t\t12946\t\t 6.3%\n",
            "PUNCT\t\t23679\t\t11.6%\n",
            "ADJ\t\t12477\t\t 6.1%\n",
            "NOUN\t\t34781\t\t17.0%\n",
            "VERB\t\t23081\t\t11.3%\n",
            "DET\t\t16285\t\t 8.0%\n",
            "ADP\t\t17638\t\t 8.6%\n",
            "AUX\t\t12343\t\t 6.0%\n",
            "PRON\t\t18577\t\t 9.1%\n",
            "PART\t\t5567\t\t 2.7%\n",
            "SCONJ\t\t3843\t\t 1.9%\n",
            "NUM\t\t3999\t\t 2.0%\n",
            "ADV\t\t10548\t\t 5.2%\n",
            "CCONJ\t\t6707\t\t 3.3%\n",
            "X\t\t847\t\t 0.4%\n",
            "INTJ\t\t688\t\t 0.3%\n",
            "SYM\t\t599\t\t 0.3%\n"
          ]
        }
      ],
      "source": [
        "print(\"Tag\\t\\tCount\\t\\tPercentage\\n\")\n",
        "\n",
        "for tag, count, percent in tag_percentage(UDPOS(split='train')):\n",
        "    print(f\"{tag}\\t\\t{count}\\t\\t{percent*100:4.1f}%\")"
      ]
    },
    {
      "cell_type": "markdown",
      "id": "GKTQL0EsxSUU",
      "metadata": {
        "id": "GKTQL0EsxSUU"
      },
      "source": [
        "####${\\color{red}{Comments\\ 1.1}}$\n",
        "\n",
        "${\\color{red}{⚠️Comments\\ begin⚠️}}$\n",
        "\n",
        "\n",
        "```\n",
        "cross-feedback comment section\n",
        "```\n",
        "\n",
        "\n",
        "${\\color{red}{⚠️Comments\\ end⚠️}}$"
      ]
    },
    {
      "cell_type": "markdown",
      "id": "gYHy3vSELfaN",
      "metadata": {
        "id": "gYHy3vSELfaN"
      },
      "source": [
        "### Subtask 2: The Model\n",
        "\n",
        "We start by creating a simple model and then make it more complex in later subtasks. The class `BiLSTMTagger` must subclass the `nn.Module` class of `PyTorch`. Fill the blank in the class by following the notes described below.\n",
        "1.   The input is a sequence of tokens, $X = \\{x_1, x_2,...,x_T\\}$.\n",
        "2.   Each token passes through  an embeddings layer, $e(X) = \\{e(x_1), e(x_2), ..., e(x_T)\\}$. Use `nn.Embedding` for the embedding layer and make sure to pass in the index of the pad token.\n",
        "3. Embedding is processed by forward and backward LSTMs from left to right and right to left.  The first input to the forward LSTM is $x_1$ and the first input to the backward LSTM is $x_T$. The hidden state of LSTMs is dependent on\n",
        "the hidden, $h$, and cell, $c$, states from the previous time-steps:\n",
        "$$h^{\\rightarrow}_t = \\text{LSTM}^{\\rightarrow}(e(x^{\\rightarrow}_t), h^{\\rightarrow}_{t-1}, c^{\\rightarrow}_{t-1})$$\n",
        "$$h^{\\leftarrow}_t=\\text{LSTM}^{\\leftarrow}(e(x^{\\leftarrow}_t), h^{\\leftarrow}_{t-1}, c^{\\leftarrow}_{t-1})$$\n",
        "4. The hidden, $h$, and cell, $c$ of each layer is passed to the next layer, where the $h_0$ and $c_0$, for each direction and layer, are initialized to a tensor full of zeros. Use `nn.LSTM` for LSTM cells. How can you make it bidirectional?\n",
        "5. Final hidden state is the concatenation of forward and backward hidden states from the final layer of the LSTM, $H = \\{h_1, h_2, ... h_T\\}$, where $h_1 = [h^{\\rightarrow}_1;h^{\\leftarrow}_T]$, $h_2 = [h^{\\rightarrow}_2;h^{\\leftarrow}_{T-1}]$. Use `nn.Linear` here.\n",
        "6. The last layer is linear layer $f$, which is used to make the prediction of which tag applies to this token, $\\hat{y}_t = f(h_t)$.\n",
        "7. Define a `nn.Dropout` layer to apply to the embeddings and the outputs of the final layer of the LSTM."
      ]
    },
    {
      "cell_type": "code",
      "execution_count": 18,
      "id": "qE4GQE6NJ1k8",
      "metadata": {
        "id": "qE4GQE6NJ1k8"
      },
      "outputs": [],
      "source": [
        "class BiLSTMTagger(nn.Module):\n",
        "    def __init__(self, hyperparameters):\n",
        "      '''\n",
        "      hyperparameters: is a dictionary containing:\n",
        "                 input_dim: dimension of the input\n",
        "                 embedding_dim: dimension of the embedding layer\n",
        "                 lstm_hidden_dim: dimension of the hidden state of lstms\n",
        "                 output_dim: dimension of the output hidden layer\n",
        "                 n_layers: number of layers to stack\n",
        "                 bidirectional: is the lstm bi-directional\n",
        "                 dropout: probability for the drop out layer\n",
        "                 pad_idx: id of the pad token\n",
        "      '''\n",
        "      super().__init__()\n",
        "       #### your code ####\n",
        "      #embedding layer\n",
        "      self.embedding = nn.Embedding(num_embeddings=hyperparameters['input_dim'],\n",
        "                                    embedding_dim=hyperparameters['embedding_dim'],\n",
        "                                    padding_idx=hyperparameters['pad_idx']\n",
        "                                    )\n",
        "      #bi-lstm, apply dropout if the number of layers is more than 1\n",
        "      if hyperparameters['n_layers']>1:\n",
        "        dropout_param = hyperparameters['dropout']\n",
        "      else:\n",
        "        dropout_param = 0.0\n",
        "      self.lstm = nn.LSTM(input_size=hyperparameters['embedding_dim'],\n",
        "                          hidden_size=hyperparameters['lstm_hidden_dim'],\n",
        "                          num_layers=hyperparameters['n_layers'],\n",
        "                          bidirectional=hyperparameters['bidirectional'],\n",
        "                          batch_first=True)\n",
        "      self.fc = nn.Linear(in_features=hyperparameters['lstm_hidden_dim']*(hyperparameters['bidirectional'] +1),\n",
        "                          out_features=hyperparameters['output_dim'])\n",
        "\n",
        "      self.dropout = nn.Dropout(hyperparameters['dropout'])\n",
        "      #### your code ####\n",
        "    def forward(self, text, debug=False): #(B,S)\n",
        "      '''\n",
        "      S: sentence len\n",
        "      B: batch size\n",
        "      E: embedding size\n",
        "      H: hidden size\n",
        "      O: output size\n",
        "      L: number of layers\n",
        "      '''\n",
        "      #### your code ####\n",
        "      #pass text through embedding layer and a drop out layer\n",
        "      embd = self.embedding(text)\n",
        "      drop_embd = self.dropout(embd)\n",
        "\n",
        "      #pass embeddings into bi-LSTM\n",
        "      outputs, (hidden, cell) = self.lstm(drop_embd)\n",
        "      output_drop=self.dropout(outputs)\n",
        "\n",
        "      #compute prediction\n",
        "      predictions = self.fc(output_drop)\n",
        "      #### your code ####\n",
        "\n",
        "      if debug==True:\n",
        "        print(\"Input shape:\",text.shape)\n",
        "        print(\"Embedding shape:\",embd.shape)\n",
        "        print(\"LSTM output shape:\",outputs.shape)\n",
        "        print(\"LSTM hidden shape:\",hidden.shape)\n",
        "        print(\"LSTM cell shape:\",cell.shape)\n",
        "        print(\"Output shape:\",predictions.shape)\n",
        "\n",
        "      return predictions"
      ]
    },
    {
      "cell_type": "markdown",
      "id": "4OcQbD9LUkD5",
      "metadata": {
        "id": "4OcQbD9LUkD5"
      },
      "source": [
        "Response in plain text:\n",
        "1. Based on the notation defined in the forward function. What is the dimension of `outputs`, `hidden`, and `cell`?\n",
        "\n",
        "S: sentence len\n",
        "      B: batch size\n",
        "      E: embedding size\n",
        "      H: hidden size\n",
        "      O: output size\n",
        "      L: number of layers\n",
        "\n",
        "`outputs` = $(B, S, D*H)$, where D = 2 if bidirectional=True, otherwise is 1\n",
        "\n",
        "`hidden` = $(D*L, B, H)$\n",
        "\n",
        "`cell` = $(D*L, B, H)$"
      ]
    },
    {
      "cell_type": "markdown",
      "id": "ml4KUd1BU3op",
      "metadata": {
        "id": "ml4KUd1BU3op"
      },
      "source": []
    },
    {
      "cell_type": "code",
      "execution_count": 19,
      "id": "ivB8Iv4yScVW",
      "metadata": {
        "id": "ivB8Iv4yScVW"
      },
      "outputs": [],
      "source": [
        "hyper_parameters={\n",
        "  'input_dim':  len(vocab),\n",
        "  'embedding_dim': 100,\n",
        "  'lstm_hidden_dim': 128,\n",
        "  'output_dim':len(ud_vocab),\n",
        "  'n_layers': 2 ,\n",
        "  'bidirectional':True,\n",
        "  'dropout': 0.25,\n",
        "  'pad_idx': vocab['<pad>']\n",
        "}\n",
        "model = BiLSTMTagger(hyper_parameters)"
      ]
    },
    {
      "cell_type": "code",
      "execution_count": 21,
      "id": "1XvNFfJBV7ya",
      "metadata": {
        "colab": {
          "base_uri": "https://localhost:8080/"
        },
        "id": "1XvNFfJBV7ya",
        "outputId": "73af2496-b7e0-48e3-eff4-ad2761fcf22d"
      },
      "outputs": [
        {
          "name": "stdout",
          "output_type": "stream",
          "text": [
            "Input shape: torch.Size([2, 6])\n",
            "Embedding shape: torch.Size([2, 6, 100])\n",
            "LSTM output shape: torch.Size([2, 6, 256])\n",
            "LSTM hidden shape: torch.Size([4, 2, 128])\n",
            "LSTM cell shape: torch.Size([4, 2, 128])\n",
            "Output shape: torch.Size([2, 6, 18])\n"
          ]
        },
        {
          "data": {
            "text/plain": [
              "torch.Size([2, 6, 18])"
            ]
          },
          "execution_count": 21,
          "metadata": {},
          "output_type": "execute_result"
        }
      ],
      "source": [
        "input=torch.tensor([[3, 9271, 35, 9097, 0, 1],\n",
        "                    [3, 9271, 35, 9097, 0, 1]])\n",
        "model(input,debug=True).shape"
      ]
    },
    {
      "cell_type": "markdown",
      "id": "2XiJkG-NfrDV",
      "metadata": {
        "id": "2XiJkG-NfrDV"
      },
      "source": [
        "Weights of the network are initialized randomly, so let's make a more systematic initialization to help us with the optimization. For example,  Xavier Initialization creates weights such that the variance of the activations is the same across every layer. This constant variance helps prevent the gradient from exploding or vanishing. However, it does not apply to bias terms.\n",
        "\n",
        "Create a function that uses Xavier Initialization to initialize the weights of the network, for biases use a normal distribution with a mean of 0 and a standard deviation of 0.1."
      ]
    },
    {
      "cell_type": "code",
      "execution_count": 23,
      "id": "PB78pCHpa758",
      "metadata": {
        "colab": {
          "base_uri": "https://localhost:8080/"
        },
        "id": "PB78pCHpa758",
        "outputId": "5ccdf13f-9201-4971-8f7f-6bdfb47215a5"
      },
      "outputs": [
        {
          "data": {
            "text/plain": [
              "BiLSTMTagger(\n",
              "  (embedding): Embedding(9875, 100, padding_idx=0)\n",
              "  (lstm): LSTM(100, 128, num_layers=2, batch_first=True, bidirectional=True)\n",
              "  (fc): Linear(in_features=256, out_features=18, bias=True)\n",
              "  (dropout): Dropout(p=0.25, inplace=False)\n",
              ")"
            ]
          },
          "execution_count": 23,
          "metadata": {},
          "output_type": "execute_result"
        }
      ],
      "source": [
        "def init_weights(m):\n",
        "  ### you code ###\n",
        "  names_of_keys=m.state_dict().keys()\n",
        "  for key in names_of_keys:\n",
        "    if 'weight' in key:\n",
        "      #apply xavier\n",
        "      m.state_dict()[key] = nn.init.xavier_normal_(m.state_dict()[key])\n",
        "    elif 'bias' in key:\n",
        "      #use normal distribution\n",
        "      m.state_dict()[key] = np.random.normal(0, 0.1)\n",
        "  ### your code ###\n",
        "model.apply(init_weights)\n",
        "model.to(device)"
      ]
    },
    {
      "cell_type": "markdown",
      "id": "sdPx1mSOgy0V",
      "metadata": {
        "id": "sdPx1mSOgy0V"
      },
      "source": [
        "Let's count the number of trainable parameters in our model."
      ]
    },
    {
      "cell_type": "code",
      "execution_count": 24,
      "id": "P5738nU2ew_O",
      "metadata": {
        "colab": {
          "base_uri": "https://localhost:8080/"
        },
        "id": "P5738nU2ew_O",
        "outputId": "02253175-8abf-4350-96d4-c5ec97a465a9"
      },
      "outputs": [
        {
          "name": "stdout",
          "output_type": "stream",
          "text": [
            "number of trainable parameters: 1622910\n"
          ]
        }
      ],
      "source": [
        "def count_parameters(model):\n",
        "  ### your code ###\n",
        "  sum=0\n",
        "  for p in model.parameters():\n",
        "    if p.requires_grad:\n",
        "      sum +=torch.numel(p)\n",
        "  return sum\n",
        "  ### your code ###\n",
        "\n",
        "print(\"number of trainable parameters:\",count_parameters(model))"
      ]
    },
    {
      "cell_type": "markdown",
      "id": "91uNA-vnyoUW",
      "metadata": {
        "id": "91uNA-vnyoUW"
      },
      "source": [
        "####${\\color{red}{Comments\\ 1.2}}$\n",
        "\n",
        "${\\color{red}{⚠️Comments\\ begin⚠️}}$\n",
        "\n",
        "\n",
        "```\n",
        "cross-feedback comment section\n",
        "```\n",
        "\n",
        "\n",
        "${\\color{red}{⚠️Comments\\ end⚠️}}$"
      ]
    },
    {
      "cell_type": "markdown",
      "id": "-lVg08iTd0XN",
      "metadata": {
        "id": "-lVg08iTd0XN"
      },
      "source": [
        "### Subtask 3: Training\n",
        "\n",
        "We start by defining a loss function and an optimizer.\n",
        "\n",
        "\n",
        "*   **optimizer:** We use Adam with the learning rate=0.0001.\n",
        "*   **loss:** We use cross-entropy loss.\n",
        "\n",
        "Even though we have no `<unk>` tokens within our tag vocab, we still have `<pad>` tokens to create batches of the same size. However, we do not want to calculate loss on those tokens, so make sure you define your loss function in such a way that ignores the `<pad>` tokens.\n",
        "\n",
        "\n"
      ]
    },
    {
      "cell_type": "code",
      "execution_count": 25,
      "id": "8LEyNeKhmBvK",
      "metadata": {
        "id": "8LEyNeKhmBvK"
      },
      "outputs": [],
      "source": [
        "### your code ###\n",
        "optimizer = torch.optim.Adam(model.parameters(), lr=0.0001)\n",
        "loss_function = nn.CrossEntropyLoss(ignore_index=vocab['<pad>'])\n",
        "### your code ###"
      ]
    },
    {
      "cell_type": "markdown",
      "id": "95Cf7ZcVgLHK",
      "metadata": {
        "id": "95Cf7ZcVgLHK"
      },
      "source": [
        "Watching the loss go down as you train a model is a good indication of the correct training procedure, but does not tell us how well we are doing on a given task.\n",
        "To this end, we also implement a categorical accuracy measure to keep track of how well our model is doing on a given task.\n",
        "Same as before: we don't want to calculate accuracy over the `<pad>` tokens as we aren't interested in predicting them.\n",
        "Implement the function `categorical_acc` to compare the prediction of non-pad tokens with labels count the correct ones and calculate the accuracy over a single batch."
      ]
    },
    {
      "cell_type": "code",
      "execution_count": 27,
      "id": "ZFlJOqu6Gr8U",
      "metadata": {
        "id": "ZFlJOqu6Gr8U"
      },
      "outputs": [],
      "source": [
        "def categorical_acc(preds, gt, pad_idx):\n",
        "    \"\"\"\n",
        "    Returns categorical accuracy per batch\n",
        "    \"\"\"\n",
        "    ### your code ####\n",
        "    max_preds =  preds.argmax(dim=-1) # get the index of the max probability\n",
        "    max_preds = max_preds.flatten()\n",
        "    gt=gt.flatten()\n",
        "    non_padded_indices = gt.ne(0)\n",
        "    acc = sum(max_preds[non_padded_indices] == gt[non_padded_indices])/sum(non_padded_indices)\n",
        "    return acc\n",
        "    ### your code ####"
      ]
    },
    {
      "cell_type": "code",
      "execution_count": 32,
      "id": "WANOhA56kjY_",
      "metadata": {
        "colab": {
          "base_uri": "https://localhost:8080/"
        },
        "id": "WANOhA56kjY_",
        "outputId": "8f3172d0-6216-4cfd-8996-32a677686517"
      },
      "outputs": [
        {
          "data": {
            "text/plain": [
              "tensor(0.6667)"
            ]
          },
          "execution_count": 32,
          "metadata": {},
          "output_type": "execute_result"
        }
      ],
      "source": [
        "dummpy_input=torch.tensor([\n",
        "    [0.9,0,0,0],\n",
        "    [0.1,0.9,0,0],\n",
        "    [0.1,0,0,0.9],\n",
        "    [0.9,0.1,0,0],\n",
        "    [0.1,0.8,0,0]\n",
        "\n",
        "])\n",
        "categorical_acc(dummpy_input, torch.tensor([0,2,3,0,1]), 0)"
      ]
    },
    {
      "cell_type": "markdown",
      "id": "y_wngIs7jFrT",
      "metadata": {
        "id": "y_wngIs7jFrT"
      },
      "source": [
        "Define the `train` model that performs one epoch of training. You can refer to the Tutorial 2 of the course to get a sample workflow. The only difference to the tutorial is that we keep track of the batch-wise accuracy as well as the loss."
      ]
    },
    {
      "cell_type": "code",
      "execution_count": 34,
      "id": "kyMs0FJNfGCp",
      "metadata": {
        "id": "kyMs0FJNfGCp"
      },
      "outputs": [],
      "source": [
        "def train(model, dataloader, optimizer, loss_function, pad_idx):\n",
        "\n",
        "    epoch_loss = 0\n",
        "    epoch_acc = 0\n",
        "\n",
        "    model.train()\n",
        "    epoch_start_time = time.time()\n",
        "\n",
        "    for length_dataloader,(text,tags) in enumerate(dataloader):\n",
        "        #### your code ####\n",
        "        optimizer.zero_grad()\n",
        "        outputs = model(text)\n",
        "        loss=loss_function(outputs.view(-1, outputs.size(-1)), tags.flatten())\n",
        "        loss.backward()\n",
        "        acc = categorical_acc(outputs, tags, pad_idx)\n",
        "        optimizer.step()\n",
        "        epoch_loss += loss.item()\n",
        "        epoch_acc += acc\n",
        "\n",
        "        #### your code ####\n",
        "    end_time= time.time() - epoch_start_time\n",
        "    return epoch_loss / length_dataloader, epoch_acc / length_dataloader,end_time"
      ]
    },
    {
      "cell_type": "markdown",
      "id": "W0ytUn7vkdcR",
      "metadata": {
        "id": "W0ytUn7vkdcR"
      },
      "source": [
        "It is not enough to only look at the training loss and accuracy, since with more training, we can always do better on the training set, but lose the generalizability to unseen data, a phenomenon known as **overfitting**. Therefore, it is important to check the loss and accuracy on the validation set after each epoch and stop before  overfitting occurs. Moreover, we can use the validation metric as an indication of which checkpoint of our model is the best.\n",
        "\n",
        "Define an `evaluate` function that runs once through the validation set and computes loss and accuracy. **Note:** You should not be updating gradients here and your model should be in evaluation mode."
      ]
    },
    {
      "cell_type": "code",
      "execution_count": 35,
      "id": "0CKzEqyAfktd",
      "metadata": {
        "id": "0CKzEqyAfktd"
      },
      "outputs": [],
      "source": [
        "def evaluate(model, dataloader, loss_function, pad_idx):\n",
        "\n",
        "    val_loss = 0\n",
        "    val_acc = 0\n",
        "\n",
        "    ### your code ###\n",
        "    model.eval()\n",
        "    with torch.no_grad():\n",
        "      for length_dataloader,(text,tags) in enumerate(dataloader):\n",
        "          outputs = model.forward(text)\n",
        "          output_argmax=  outputs.argmax(dim=1)\n",
        "          loss = loss_function(outputs.view(-1, outputs.size(-1)), tags.flatten())\n",
        "          acc = categorical_acc(outputs, tags, pad_idx)\n",
        "          val_loss += loss.item()\n",
        "          val_acc += acc\n",
        "\n",
        "     ### your code ###\n",
        "\n",
        "    return val_loss / length_dataloader, val_acc / length_dataloader"
      ]
    },
    {
      "cell_type": "markdown",
      "id": "3AZJidLFnOUW",
      "metadata": {
        "id": "3AZJidLFnOUW"
      },
      "source": [
        "Let's use the functions defined so far and train our model for `30` epochs. We suggest using GPU for this task, as it is quite slow on the CPU. Run the training loop for the given number of epochs and calculate the validation metric at the end of each epoch. Based on the validation loss, save the best checkpoint of the model."
      ]
    },
    {
      "cell_type": "code",
      "execution_count": 37,
      "id": "NblN-U0inVYc",
      "metadata": {
        "colab": {
          "base_uri": "https://localhost:8080/"
        },
        "id": "NblN-U0inVYc",
        "outputId": "dec9b0b9-be79-4c77-8830-262eea305a5d"
      },
      "outputs": [
        {
          "name": "stderr",
          "output_type": "stream",
          "text": [
            "/usr/local/lib/python3.10/dist-packages/torch/utils/data/datapipes/iter/combining.py:333: UserWarning: Some child DataPipes are not exhausted when __iter__ is called. We are resetting the buffer and each child DataPipe will read from the start again.\n",
            "  warnings.warn(\"Some child DataPipes are not exhausted when __iter__ is called. We are resetting \"\n"
          ]
        },
        {
          "name": "stdout",
          "output_type": "stream",
          "text": [
            "Epoch: 01 | Epoch Time: 0m 14s\n",
            "\tTrain Loss: 2.717 | Train Acc: 15.29%\n",
            "\t Validation Loss: 2.716 |  Validation Acc: 17.84%\n",
            "Epoch: 02 | Epoch Time: 0m 13s\n",
            "\tTrain Loss: 2.548 | Train Acc: 17.24%\n",
            "\t Validation Loss: 2.670 |  Validation Acc: 18.85%\n",
            "Epoch: 03 | Epoch Time: 0m 15s\n",
            "\tTrain Loss: 2.474 | Train Acc: 20.76%\n",
            "\t Validation Loss: 2.521 |  Validation Acc: 27.10%\n",
            "Epoch: 04 | Epoch Time: 0m 13s\n",
            "\tTrain Loss: 2.223 | Train Acc: 29.22%\n",
            "\t Validation Loss: 2.115 |  Validation Acc: 38.50%\n",
            "Epoch: 05 | Epoch Time: 0m 14s\n",
            "\tTrain Loss: 1.750 | Train Acc: 46.01%\n",
            "\t Validation Loss: 1.591 |  Validation Acc: 58.74%\n",
            "Epoch: 06 | Epoch Time: 0m 14s\n",
            "\tTrain Loss: 1.303 | Train Acc: 62.58%\n",
            "\t Validation Loss: 1.218 |  Validation Acc: 70.41%\n",
            "Epoch: 07 | Epoch Time: 0m 16s\n",
            "\tTrain Loss: 1.018 | Train Acc: 71.57%\n",
            "\t Validation Loss: 0.996 |  Validation Acc: 77.46%\n",
            "Epoch: 08 | Epoch Time: 0m 13s\n",
            "\tTrain Loss: 0.839 | Train Acc: 77.36%\n",
            "\t Validation Loss: 0.852 |  Validation Acc: 82.83%\n",
            "Epoch: 09 | Epoch Time: 0m 13s\n",
            "\tTrain Loss: 0.720 | Train Acc: 81.49%\n",
            "\t Validation Loss: 0.758 |  Validation Acc: 86.04%\n",
            "Epoch: 10 | Epoch Time: 0m 13s\n",
            "\tTrain Loss: 0.630 | Train Acc: 84.45%\n",
            "\t Validation Loss: 0.685 |  Validation Acc: 88.01%\n",
            "Epoch: 11 | Epoch Time: 0m 14s\n",
            "\tTrain Loss: 0.563 | Train Acc: 86.46%\n",
            "\t Validation Loss: 0.630 |  Validation Acc: 89.25%\n",
            "Epoch: 12 | Epoch Time: 0m 13s\n",
            "\tTrain Loss: 0.508 | Train Acc: 87.86%\n",
            "\t Validation Loss: 0.587 |  Validation Acc: 90.34%\n",
            "Epoch: 13 | Epoch Time: 0m 14s\n",
            "\tTrain Loss: 0.462 | Train Acc: 89.08%\n",
            "\t Validation Loss: 0.547 |  Validation Acc: 91.41%\n",
            "Epoch: 14 | Epoch Time: 0m 15s\n",
            "\tTrain Loss: 0.424 | Train Acc: 89.89%\n",
            "\t Validation Loss: 0.517 |  Validation Acc: 92.16%\n",
            "Epoch: 15 | Epoch Time: 0m 13s\n",
            "\tTrain Loss: 0.391 | Train Acc: 90.70%\n",
            "\t Validation Loss: 0.493 |  Validation Acc: 92.76%\n",
            "Epoch: 16 | Epoch Time: 0m 18s\n",
            "\tTrain Loss: 0.363 | Train Acc: 91.33%\n",
            "\t Validation Loss: 0.467 |  Validation Acc: 93.32%\n",
            "Epoch: 17 | Epoch Time: 0m 15s\n",
            "\tTrain Loss: 0.339 | Train Acc: 91.85%\n",
            "\t Validation Loss: 0.451 |  Validation Acc: 93.62%\n",
            "Epoch: 18 | Epoch Time: 0m 13s\n",
            "\tTrain Loss: 0.318 | Train Acc: 92.35%\n",
            "\t Validation Loss: 0.435 |  Validation Acc: 93.94%\n",
            "Epoch: 19 | Epoch Time: 0m 13s\n",
            "\tTrain Loss: 0.302 | Train Acc: 92.69%\n",
            "\t Validation Loss: 0.419 |  Validation Acc: 94.30%\n",
            "Epoch: 20 | Epoch Time: 0m 14s\n",
            "\tTrain Loss: 0.288 | Train Acc: 93.04%\n",
            "\t Validation Loss: 0.411 |  Validation Acc: 94.47%\n",
            "Epoch: 21 | Epoch Time: 0m 13s\n",
            "\tTrain Loss: 0.273 | Train Acc: 93.39%\n",
            "\t Validation Loss: 0.402 |  Validation Acc: 94.77%\n",
            "Epoch: 22 | Epoch Time: 0m 13s\n",
            "\tTrain Loss: 0.262 | Train Acc: 93.66%\n",
            "\t Validation Loss: 0.394 |  Validation Acc: 94.87%\n",
            "Epoch: 23 | Epoch Time: 0m 13s\n",
            "\tTrain Loss: 0.253 | Train Acc: 93.85%\n",
            "\t Validation Loss: 0.385 |  Validation Acc: 95.08%\n",
            "Epoch: 24 | Epoch Time: 0m 13s\n",
            "\tTrain Loss: 0.244 | Train Acc: 94.13%\n",
            "\t Validation Loss: 0.380 |  Validation Acc: 95.27%\n",
            "Epoch: 25 | Epoch Time: 0m 13s\n",
            "\tTrain Loss: 0.237 | Train Acc: 94.33%\n",
            "\t Validation Loss: 0.375 |  Validation Acc: 95.41%\n",
            "Epoch: 26 | Epoch Time: 0m 13s\n",
            "\tTrain Loss: 0.230 | Train Acc: 94.43%\n",
            "\t Validation Loss: 0.372 |  Validation Acc: 95.63%\n",
            "Epoch: 27 | Epoch Time: 0m 13s\n",
            "\tTrain Loss: 0.222 | Train Acc: 94.66%\n",
            "\t Validation Loss: 0.368 |  Validation Acc: 95.71%\n",
            "Epoch: 28 | Epoch Time: 0m 13s\n",
            "\tTrain Loss: 0.218 | Train Acc: 94.76%\n",
            "\t Validation Loss: 0.364 |  Validation Acc: 95.86%\n",
            "Epoch: 29 | Epoch Time: 0m 13s\n",
            "\tTrain Loss: 0.212 | Train Acc: 94.93%\n",
            "\t Validation Loss: 0.360 |  Validation Acc: 95.96%\n",
            "Epoch: 30 | Epoch Time: 0m 13s\n",
            "\tTrain Loss: 0.207 | Train Acc: 95.09%\n",
            "\t Validation Loss: 0.360 |  Validation Acc: 95.93%\n"
          ]
        }
      ],
      "source": [
        "epochs = 30\n",
        "\n",
        "best_valid_loss = float('inf')\n",
        "\n",
        "for epoch in range(epochs):\n",
        "    ### your code ###\n",
        "    train_loss, train_acc, epoch_time = train(model, train_dataloader, optimizer, loss_function, vocab['<pad>'])\n",
        "    valid_loss, valid_acc = evaluate(model, valid_dataloader, loss_function, vocab['<pad>'])\n",
        "    if valid_loss<best_valid_loss:\n",
        "      best_valid_loss=valid_loss\n",
        "      torch.save({\n",
        "                'epoch': epoch,\n",
        "                'model_state_dict': model.state_dict(),\n",
        "                'optimizer_state_dict': optimizer.state_dict(),\n",
        "                'valid_loss': valid_loss,\n",
        "            }, 'best_model_checkpoint.pth')\n",
        "\n",
        "    ### your code ###\n",
        "    elapsed_mins = int(epoch_time / 60)\n",
        "    elapsed_secs = int(epoch_time - (elapsed_mins * 60))\n",
        "    print(f'Epoch: {epoch+1:02} | Epoch Time: {elapsed_mins}m {elapsed_secs}s')\n",
        "    print(f'\\tTrain Loss: {train_loss:.3f} | Train Acc: {train_acc*100:.2f}%')\n",
        "    print(f'\\t Validation Loss: {valid_loss:.3f} |  Validation Acc: {valid_acc*100:.2f}%')"
      ]
    },
    {
      "cell_type": "markdown",
      "id": "7dXTYFEbHzNL",
      "metadata": {
        "id": "7dXTYFEbHzNL"
      },
      "source": [
        "Question:\n",
        "\n",
        "1. Does overfitting occur? If so, after which epochs?\n",
        "\n",
        "2. How do you detect overfitting?\n"
      ]
    },
    {
      "cell_type": "markdown",
      "id": "9qSbr8CrH9hD",
      "metadata": {
        "id": "9qSbr8CrH9hD"
      },
      "source": [
        "**Answer:**\n",
        "```\n",
        "1. For our model we can speculate that we see start of overfitting in 30th epoch - the validation loss is equal to the one in epoch 29, but the training loss is still decreasing.\n",
        "2. To detect overfitting we compare the performance on training and validation datasets during the training. If the model performs better and better on the training set, but starts to get worse on the validation one, we can speak about overfitting.\n",
        "```"
      ]
    },
    {
      "cell_type": "markdown",
      "id": "GmqNesqiMISb",
      "metadata": {
        "id": "GmqNesqiMISb"
      },
      "source": [
        "Let's see how well our model is doing on the test set. Load the best checkpoint and calculate the accuracy."
      ]
    },
    {
      "cell_type": "code",
      "execution_count": 38,
      "id": "SgCFqby0m8sf",
      "metadata": {
        "colab": {
          "base_uri": "https://localhost:8080/"
        },
        "id": "SgCFqby0m8sf",
        "outputId": "80a8832b-08ac-422a-a840-2e1926baffb0"
      },
      "outputs": [
        {
          "data": {
            "text/plain": [
              "tensor(0.9589, device='cuda:0')"
            ]
          },
          "execution_count": 38,
          "metadata": {},
          "output_type": "execute_result"
        }
      ],
      "source": [
        "#### you code ####\n",
        "model_best = BiLSTMTagger(hyper_parameters)\n",
        "checkpoint = torch.load('best_model_checkpoint.pth')\n",
        "model_best.load_state_dict(checkpoint['model_state_dict'])\n",
        "test_loss, test_acc = evaluate(model, test_dataloader, loss_function, vocab['<pad>'])\n",
        "#### you code ####\n",
        "test_acc"
      ]
    },
    {
      "cell_type": "markdown",
      "id": "tMIDBeSFyqJr",
      "metadata": {
        "id": "tMIDBeSFyqJr"
      },
      "source": [
        "####${\\color{red}{Comments\\ 1.3}}$\n",
        "\n",
        "${\\color{red}{⚠️Comments\\ begin⚠️}}$\n",
        "\n",
        "\n",
        "```\n",
        "cross-feedback comment section\n",
        "```\n",
        "\n",
        "\n",
        "${\\color{red}{⚠️Comments\\ end⚠️}}$"
      ]
    },
    {
      "cell_type": "markdown",
      "id": "7dPfzmVGMeSO",
      "metadata": {
        "id": "7dPfzmVGMeSO"
      },
      "source": [
        "### Subtask 4: Inference\n",
        "\n",
        "Let's use the model we trained to tag some actual sentences. We have the preprocessing pipeline ready from Subtask 1, now we need to map the predictions back to label texts for each token.\n",
        "\n",
        "Implement the `tag_sequence` function that takes a model and a sentence as input and generates POS tags. Keep in mind that you need to divide the sentence into tokens first. For this purpose, we just split each sentence on whitespaces."
      ]
    },
    {
      "cell_type": "code",
      "execution_count": 163,
      "id": "Xe7_ROCyEslD",
      "metadata": {
        "id": "Xe7_ROCyEslD"
      },
      "outputs": [],
      "source": [
        "def tag_sentence(model, sentence):\n",
        "    ### your code ###\n",
        "    sentence=text.split(\" \")\n",
        "    sentence_coded = torch.tensor(text_pipeline(sentence)).unsqueeze(dim=0).cuda()\n",
        "    predictions=np.array(model(sentence_coded).argmax(dim=2).cpu())[0]\n",
        "    predicted_tags=[\"\" for i in range(len(predictions))]\n",
        "    for i in range(len(predictions)):\n",
        "      predicted_tags[i]=ud_vocab.get_itos()[predictions[i]]\n",
        "\n",
        "    ### your code ###\n",
        "    return predicted_tags"
      ]
    },
    {
      "cell_type": "code",
      "execution_count": 164,
      "id": "JtiR75PFRR61",
      "metadata": {
        "colab": {
          "base_uri": "https://localhost:8080/"
        },
        "id": "JtiR75PFRR61",
        "outputId": "ce3667f7-51f8-4b66-f9e7-d68d34ab8b89"
      },
      "outputs": [
        {
          "name": "stdout",
          "output_type": "stream",
          "text": [
            "Text:  What if Google Morphed Into GoogleOS ?\n",
            "Predicted Tags:  ['PRON', 'SCONJ', 'PROPN', 'VERB', 'PROPN', 'PROPN', 'PUNCT']\n",
            "True Tags:  ['PRON', 'SCONJ', 'PROPN', 'VERB', 'ADP', 'PROPN', 'PUNCT']\n"
          ]
        }
      ],
      "source": [
        "text=\" \".join(list(UDPOS(split='test'))[0][0])\n",
        "label= list(UDPOS(split='test'))[0][1]\n",
        "predicted_tag=tag_sentence(model,text)\n",
        "print(\"Text: \",text)\n",
        "print(\"Predicted Tags: \",predicted_tag)\n",
        "print(\"True Tags: \",label)"
      ]
    },
    {
      "cell_type": "markdown",
      "id": "7bPriv78yuyQ",
      "metadata": {
        "id": "7bPriv78yuyQ"
      },
      "source": [
        "####${\\color{red}{Comments\\ 1.4}}$\n",
        "\n",
        "${\\color{red}{⚠️Comments\\ begin⚠️}}$\n",
        "\n",
        "\n",
        "```\n",
        "cross-feedback comment section\n",
        "```\n",
        "\n",
        "\n",
        "${\\color{red}{⚠️Comments\\ end⚠️}}$"
      ]
    },
    {
      "cell_type": "markdown",
      "id": "X4n7Xi4TT_Ww",
      "metadata": {
        "id": "X4n7Xi4TT_Ww"
      },
      "source": [
        "## **Task 2: Theoretical Questions** (0.5+1.5+1+3=6 points)"
      ]
    },
    {
      "cell_type": "markdown",
      "id": "QbQJ3baXUHkQ",
      "metadata": {
        "id": "QbQJ3baXUHkQ"
      },
      "source": [
        "### Subtask 1:\n",
        "In beam search, if you increase the beam width, what will happen to a) the runtime and memory and b) the quality of results?"
      ]
    },
    {
      "cell_type": "markdown",
      "id": "Ei5A-D_djZup",
      "metadata": {
        "id": "Ei5A-D_djZup"
      },
      "source": [
        "**Answer:**\n",
        "\n",
        "\n",
        "```\n",
        "Ad. a - The effect of increasing the beam width on the runtime and memory.\n",
        "\n",
        "Runtime - requires more computations. Memory - requires more space to store the results.\n",
        "\n",
        "In particular, beam width specifies the number of best candidates to keep at each step (ignoring all others). Therefore, increase of beam width increases the coputational and memory requirements lineary.\n",
        "\n",
        "Ad. b - The effect of increasing the beam width on the quality of results.\n",
        "\n",
        "Positive effect. More next word candidates are considered with each step which increases the chance of eventually finding the best one. In the best scenario, beam width would be unlimited, beam search would turn into BFS and the overall optimal solution would be found. This is not realistic as the computational and memory requirements would be much too high.\n",
        "```"
      ]
    },
    {
      "cell_type": "markdown",
      "id": "RuzX2q7TywyW",
      "metadata": {
        "id": "RuzX2q7TywyW"
      },
      "source": [
        "####${\\color{red}{Comments\\ 2.1}}$\n",
        "\n",
        "${\\color{red}{⚠️Comments\\ begin⚠️}}$\n",
        "\n",
        "\n",
        "```\n",
        "cross-feedback comment section\n",
        "```\n",
        "\n",
        "\n",
        "${\\color{red}{⚠️Comments\\ end⚠️}}$"
      ]
    },
    {
      "cell_type": "markdown",
      "id": "N7KlRPnhknbl",
      "metadata": {
        "id": "N7KlRPnhknbl"
      },
      "source": [
        "### Subtask 2:\n",
        "Except for beam search, there are other ways to create a more coherent output for generation tasks, one of which is adding a temperature to the softmax over the vocabulary. Temperature is a hyperparameter that is applied to the input of a softmax to affect the final probabilities. All values in the input are divided by the temperature before going through the softmax. What do you think will happen in these cases:\n",
        "\n",
        "1. A low temperature - below 1\n",
        "2. A high temperature - above 1\n",
        "3. Really small temperature - temperature $→$ 0"
      ]
    },
    {
      "cell_type": "markdown",
      "id": "uxuh5LOFnF3D",
      "metadata": {
        "id": "uxuh5LOFnF3D"
      },
      "source": [
        "**Answer:**\n",
        "```\n",
        "If no temperature is used, it's value is 1 and a simple softmax is applied.\n",
        "\n",
        "1. A low temperature - below 1\n",
        "\n",
        "Output probabilities are more focused on the most probable word. Therefore, model output is less diverse and the models is more confident.\n",
        "\n",
        "2. A high temperature - above 1\n",
        "\n",
        "Output probabilities are more equal, which causes more diverse output. One may call it more creative.\n",
        "\n",
        "3. Really small temperature - temperature → 0\n",
        "\n",
        "Softmax becomes an argmax function. Output loses variance, is more precise and models might be stuck at predicting the same text all the time.\n",
        "\n",
        "---\n",
        "\n",
        "A real world example of setting a temperature: when Microsoft Copilot is launched - it gives a choice \"Choose a conversation style: More Creative, More Balanced, More Precise\". This is equivalent to temperature above 1, close to 1 or below than 1 (my guess, but matches the pattern).\n",
        "```"
      ]
    },
    {
      "cell_type": "markdown",
      "id": "GmW4NNb4yyZF",
      "metadata": {
        "id": "GmW4NNb4yyZF"
      },
      "source": [
        "####${\\color{red}{Comments\\ 2.2}}$\n",
        "\n",
        "${\\color{red}{⚠️Comments\\ begin⚠️}}$\n",
        "\n",
        "\n",
        "```\n",
        "cross-feedback comment section\n",
        "```\n",
        "\n",
        "\n",
        "${\\color{red}{⚠️Comments\\ end⚠️}}$"
      ]
    },
    {
      "cell_type": "markdown",
      "id": "tM2DmNOwod4r",
      "metadata": {
        "id": "tM2DmNOwod4r"
      },
      "source": [
        "### Subtask 3:\n",
        "Explain what the “bottleneck” of an encoder-decoder RNN is and how attention provides a way to get around this bottleneck."
      ]
    },
    {
      "cell_type": "markdown",
      "id": "DNJ3f_MtdzrM",
      "metadata": {
        "id": "DNJ3f_MtdzrM"
      },
      "source": [
        "**Answer:**\n",
        "```\n",
        "1. What is \"bottleneck\" of an encoder-decoder RNN?\n",
        "\n",
        "The encoder encodes the input into a lower dimensional space. Vectors in this space are representations of, for example, hidden state, which contains all the information available to the model after analyzing the given input so far.\n",
        "\n",
        "As the input gets longer, a single vector has a limit of how much information it can encode that can later be decoded. Therefore, this is a bottleneck, as it cripples RNNs ability to 'remember' information from much earlier in the input.\n",
        "\n",
        "2. How attention provide a way to get around this bottleneck?\n",
        "\n",
        "Attention present in transformer models allows to selectively put focus to different parts of the input sequence. Attention is flexible and dynamic when compared to the fixed size vector. Attention allows the model to analyze much longer sequences as at each step, the model can easily attend hidden states from much earlier in the sequence.\n",
        "```"
      ]
    },
    {
      "cell_type": "markdown",
      "id": "JFUHVF40y0j-",
      "metadata": {
        "id": "JFUHVF40y0j-"
      },
      "source": [
        "####${\\color{red}{Comments\\ 2.3}}$\n",
        "\n",
        "${\\color{red}{⚠️Comments\\ begin⚠️}}$\n",
        "\n",
        "\n",
        "```\n",
        "cross-feedback comment section\n",
        "```\n",
        "\n",
        "\n",
        "${\\color{red}{⚠️Comments\\ end⚠️}}$"
      ]
    },
    {
      "cell_type": "markdown",
      "id": "HaHhdLdJehL3",
      "metadata": {
        "id": "HaHhdLdJehL3"
      },
      "source": [
        "### Subtask 4:\n",
        "As mentioned, there are various way to remedy the repetitiveness and incoherence of generation outputs. One of the widely used methods is Nucleus sampling described the paper \"[ The Curious Case of Neural Text DeGeneration](https://arxiv.org/pdf/1904.09751.pdf)\". Read the model section and introduction of the paper and use it as reference to answer the following questions:\n",
        "\n",
        "1. Describe top-k sampling in your own words, no need for mathematical notation.\n",
        "2. Describe Nucleus sampling in your own words, there is not need for mathematical notation.\n",
        "3.  Why is beam search not a good strategy for human-like text generation and why don't these methods suffer from the problem of the beam search?\n"
      ]
    },
    {
      "cell_type": "markdown",
      "id": "9Ojtbn1kgaYE",
      "metadata": {
        "id": "9Ojtbn1kgaYE"
      },
      "source": [
        "**Answer:**\n",
        "```\n",
        "Ad. 1 - Describe top-k sampling in your own words, no need for mathematical notation.\n",
        "\n",
        "Given probability mass distribution among available words, k defines a fixed number of words to be considered. The next word is sampled from this set of k words.\n",
        "\n",
        "It's advantage is simplicity, but a disadvantage is that it does not take into account the shape of the distribution. For example, if the distribution is flat, a large k would be desired, whereas for a peaked distribution with very few probably words, we would like only consider these few words instead of multiple less probable ones due to high k.\n",
        "\n",
        "Ad. 2 - Describe Nucleus sampling in your own words, there is not need for mathematical notation.\n",
        "\n",
        "Nucleus sampling is an alternative to top-k sampling. The only difference is that instead of a fixed number of words, a fixed top-p probability mass is considered. Next, the next word is sampled from this set of words, same as in top-k sampling.\n",
        "\n",
        "In each step, a set (of different size) of top most probable words is considered - the number of considered words is dynamic and depends on the distribution of the probabilities among the words. This is a highly desirable behaviour as it fixes disadvantages of top-k sampling.\n",
        "\n",
        "Ad. 3 - Why is beam search not a good strategy for human-like text generation and why don't these methods suffer from the problem of the beam search?\n",
        "\n",
        "Beam search is a greedy algorithm that at each step only considers a few (beam width parameter) most probable words. It is therefore deterministic. Human-like text is not deterministic in a sense that we do not want to always have the same combinantion of words but instead use synonyms or other phrasing.\n",
        "\n",
        "Sampling next words using methods such as top-k or Nucleus sampling is not deterministic by their very nature - they sample the next word from a given set of top words. This allows for a more diverse output and therefore more human-like text generation. Generated text is no longer repetitive, incoherent, or stuck in a loop (beam search is deterministic and loops can occur).\n",
        "```"
      ]
    },
    {
      "cell_type": "markdown",
      "id": "0wU67Iqpy2rg",
      "metadata": {
        "id": "0wU67Iqpy2rg"
      },
      "source": [
        "####${\\color{red}{Comments\\ 2.4}}$\n",
        "\n",
        "${\\color{red}{⚠️Comments\\ begin⚠️}}$\n",
        "\n",
        "\n",
        "```\n",
        "cross-feedback comment section\n",
        "```\n",
        "\n",
        "\n",
        "${\\color{red}{⚠️Comments\\ end⚠️}}$"
      ]
    },
    {
      "cell_type": "markdown",
      "id": "IZl0-MMY6MWs",
      "metadata": {
        "id": "IZl0-MMY6MWs"
      },
      "source": [
        "## **Task 3: Scaled Dot-Product Attention** (4+1=5 points)\n",
        "In class, you learned about attention and Transformers as described in the 2017 paper\n",
        "[Attention Is All You Need](https://arxiv.org/abs/1706.03762).\n",
        "The base of the attention module is a scaled dot product with Queries, Keys, and Values.\n",
        "In this task, you will implement a simplified version of scaled dot-product attention and inspired by the translation task, aim to replicate word alignment between English and French.\n",
        "You will not be training the embedding from scratch, we provide you with pre-trained embedding for both languages.\n",
        "However, you need to know the details of scaled dot product attention, which mainly consists of two matrix multiplications and a softmax scaling.\n",
        "Refer to Figure 2 of the [Attention Is All You Need](https://arxiv.org/abs/1706.03762) paper.\n",
        "\n",
        "The inputs of the attention module are Queries, Keys, and Values. Mathematically, attention is defined as follows:\n",
        "\n",
        "$$\n",
        "\\large \\mathrm{Attention}\\left(Q, K, V\\right) = \\mathrm{softmax}\\left(\\frac{QK^{\\top}}{\\sqrt{d_k}}\\right)V\n",
        "$$\n",
        "\n",
        "\n",
        "*   $Q$, $K$, and $V$ are the Queries, Keys, and Values matrices.\n",
        "* $d_k$ is the dimension of the Keys (in practice dimensions of all matrices are the same).\n",
        "*   $QK^{\\top}$ is a measure of the similarity between the Queries and the Keys\n",
        "* softmax transforms the similarity into weights.\n",
        "* Weights multiplied by the Values are the output of the attention, defining how much importance should be given to each token of the input.\n",
        "\n",
        "In the case of self-attention, both Queries and Keys come from the encoder, however, for cross attention between encoder and decoder, decoder states are used as the queries while encoder states are the Keys and Values.\n",
        "In our case, we need the cross attention between one language to another to find the correct alignment.\n"
      ]
    },
    {
      "cell_type": "code",
      "execution_count": null,
      "id": "gOP3Fa8IfkMK",
      "metadata": {
        "id": "gOP3Fa8IfkMK"
      },
      "outputs": [],
      "source": [
        "%pip install matplotlib"
      ]
    },
    {
      "cell_type": "code",
      "execution_count": 1,
      "id": "tB6RD3wssHe9",
      "metadata": {
        "id": "tB6RD3wssHe9"
      },
      "outputs": [],
      "source": [
        "import pickle\n",
        "import matplotlib.pyplot as plt\n",
        "import numpy as np\n",
        "#load the dictionaries (dictionary of words to ids)\n",
        "with open(\"./word2int_en.pkl\", \"rb\") as f:\n",
        "    en_dict = pickle.load(f)\n",
        "\n",
        "with open(\"./word2int_fr.pkl\", \"rb\") as f:\n",
        "    fr_dict = pickle.load(f)\n",
        "\n",
        "# load word embeddings (dictionary of token ids to embeddings)\n",
        "en_embeddings = np.load(\"./embeddings_en.npz\")[\"embeddings\"]\n",
        "fr_embeddings = np.load(\"./embeddings_fr.npz\")[\"embeddings\"]\n"
      ]
    },
    {
      "cell_type": "markdown",
      "id": "7VYjN1xHsbYj",
      "metadata": {
        "id": "7VYjN1xHsbYj"
      },
      "source": [
        "### Subtask 1: Attention Weights\n",
        "Fill the blanks in `tokenize` to tokenize a sentence and convert it to ids and `embed` function to create an embedding of a sentence."
      ]
    },
    {
      "cell_type": "code",
      "execution_count": 2,
      "id": "cwS_M10nwOBH",
      "metadata": {
        "id": "cwS_M10nwOBH"
      },
      "outputs": [],
      "source": [
        "def tokenize(sentence, token_mapping):\n",
        "   # we stick to simple blank space tokenization\n",
        "   tokenized = []\n",
        "   for word in sentence.lower().split(\" \"):  #unknown words are coded as -1\n",
        "      if word in token_mapping.keys():\n",
        "         tokenized.append(token_mapping[word])\n",
        "      else:\n",
        "         tokenized.append(-1)\n",
        "      ### your code ###\n",
        "   return tokenized\n",
        "\n",
        "def embed(tokens, embeddings):\n",
        "    \"\"\" get the embedding for the tokens in a sentence stacked in a simple matrix (sequence length, embedding size)\n",
        "        tokens: tokenized sentence\n",
        "        embeddings: dictionary of token to embeddings.\n",
        "    \"\"\"\n",
        "    embed_size = embeddings.shape[1]\n",
        "    seq_length = len(tokens)\n",
        "    output = np.zeros((seq_length, embed_size))\n",
        "    for i, token in enumerate(tokens):\n",
        "       if token!=-1:  #so the unknown tokens stays all zeros\n",
        "         output[i,:] = embeddings[token]\n",
        "\n",
        "\n",
        "    return output"
      ]
    },
    {
      "cell_type": "code",
      "execution_count": 3,
      "id": "dkAulXarueT_",
      "metadata": {
        "id": "dkAulXarueT_"
      },
      "outputs": [
        {
          "name": "stdout",
          "output_type": "stream",
          "text": [
            "Tokenized english: [59, 40, 9355, 6, 158, -1]\n",
            "embedding english: (6, 300)\n",
            "Tokenized french: [21, 73, 192, 16, 8652, -1, 558, -1]\n",
            "embedding french: (8, 300)\n"
          ]
        }
      ],
      "source": [
        "sentence_en = \"there were clouds in my coffeeeeee.\"\n",
        "tokenized_en = tokenize(sentence_en, en_dict)\n",
        "embedded_en = embed(tokenized_en, en_embeddings)\n",
        "print(\"Tokenized english:\",tokenized_en)\n",
        "print(\"embedding english:\",embedded_en.shape)\n",
        "\n",
        "sentence_fr = \"il y avait des nuages ​​dans mon ccafé.\"\n",
        "tokenized_fr = tokenize(sentence_fr, fr_dict)\n",
        "embedded_fr = embed(tokenized_fr, fr_embeddings)\n",
        "print(\"Tokenized french:\",tokenized_fr)\n",
        "print(\"embedding french:\",embedded_fr.shape)"
      ]
    },
    {
      "cell_type": "markdown",
      "id": "WJ58FCMpsHJP",
      "metadata": {
        "id": "WJ58FCMpsHJP"
      },
      "source": [
        "\n",
        "Implement the `softmax` function with `Numpy`.\n"
      ]
    },
    {
      "cell_type": "code",
      "execution_count": 4,
      "id": "caOjXfbxon9h",
      "metadata": {
        "id": "caOjXfbxon9h"
      },
      "outputs": [],
      "source": [
        "def softmax(x, axis=0):\n",
        "    \"\"\"\n",
        "    x: input matrix\n",
        "    axis: defines which axis to compute the softmax over 0 for rows and 1 for columns\n",
        "        axis=0 calculates softmax across rows which means each column sums to 1\n",
        "        axis=1 calculates softmax across columns which means each row sums to 1\n",
        "    \"\"\"\n",
        "\n",
        "    #### your code ####\n",
        "\n",
        "    if axis==1:\n",
        "        softmax_x= np.exp(x)/ np.sum(np.exp(x), 1)[:, np.newaxis]\n",
        "    elif axis==0:\n",
        "        softmax_x = np.exp(x)/ np.sum(np.exp(x), 0)[np.newaxis, :]\n",
        "    #### your code ####\n",
        "\n",
        "    return softmax_x"
      ]
    },
    {
      "cell_type": "code",
      "execution_count": 5,
      "id": "kCbjmG49p-v0",
      "metadata": {
        "id": "kCbjmG49p-v0"
      },
      "outputs": [
        {
          "data": {
            "text/plain": [
              "1.0"
            ]
          },
          "execution_count": 5,
          "metadata": {},
          "output_type": "execute_result"
        }
      ],
      "source": [
        "w=softmax(np.array([[1,3,4,1], [24,3,2,3]]),axis=0)\n",
        "w.sum(axis=0)[0]"
      ]
    },
    {
      "cell_type": "markdown",
      "id": "oNqtNPB9orLr",
      "metadata": {
        "id": "oNqtNPB9orLr"
      },
      "source": [
        "Use the `softmax` function to calculate the weights.\n",
        "$$ \\mathrm{softmax}\\left(\\frac{QK^{\\top}}{\\sqrt{d_k}}\\right)$$\n",
        "Assume the queries and keys are 2D matrices."
      ]
    },
    {
      "cell_type": "code",
      "execution_count": 6,
      "id": "ysRdVCnP7Qir",
      "metadata": {
        "id": "ysRdVCnP7Qir"
      },
      "outputs": [],
      "source": [
        "def calc_weights(queries, keys):\n",
        "    \"\"\"\n",
        "    queries: queries matrix\n",
        "    keys: keys matrix\n",
        "    \"\"\"\n",
        "    #### your code ####\n",
        "\n",
        "    weights = softmax((queries@keys.T)/np.sqrt(keys.shape[1]), axis=1)\n",
        "    #### your code ####\n",
        "\n",
        "    return weights"
      ]
    },
    {
      "cell_type": "code",
      "execution_count": 7,
      "id": "LVYGelEsqsoo",
      "metadata": {
        "id": "LVYGelEsqsoo"
      },
      "outputs": [
        {
          "name": "stdout",
          "output_type": "stream",
          "text": [
            "[[0.19557032 0.80442968]\n",
            " [0.19557032 0.80442968]]\n"
          ]
        },
        {
          "data": {
            "text/plain": [
              "1.0"
            ]
          },
          "execution_count": 7,
          "metadata": {},
          "output_type": "execute_result"
        }
      ],
      "source": [
        "weights=calc_weights(np.array([[1,3],[1,3]]),np.array([[0,3],[2,3]]))\n",
        "print(weights)\n",
        "weights.sum(axis=1)[0]"
      ]
    },
    {
      "cell_type": "markdown",
      "id": "16V5yFAew1Hx",
      "metadata": {
        "id": "16V5yFAew1Hx"
      },
      "source": [
        "Use the `calcu_weights` to compute the attention matrix between two sentences from English and French and visualize the weights to check for alignments."
      ]
    },
    {
      "cell_type": "code",
      "execution_count": 8,
      "id": "miW865arw9Fv",
      "metadata": {
        "id": "miW865arw9Fv"
      },
      "outputs": [
        {
          "name": "stdout",
          "output_type": "stream",
          "text": [
            "Most aligned: café - coffee\n",
            "2nd most algined: nuages - clouds\n"
          ]
        },
        {
          "data": {
            "image/png": "[encoded data removed]",
            "text/plain": [
              "<Figure size 500x500 with 1 Axes>"
            ]
          },
          "metadata": {},
          "output_type": "display_data"
        }
      ],
      "source": [
        "sentence_en = \"there were clouds in my coffee and unicorns in the sky.\"\n",
        "tokenized_en = tokenize(sentence_en, en_dict)\n",
        "embedded_en = embed(tokenized_en, en_embeddings)\n",
        "\n",
        "sentence_fr = \"il y avait des nuages ​​dans mon café et des licornes dans le ciel.\"\n",
        "tokenized_fr = tokenize(sentence_fr, fr_dict)\n",
        "embedded_fr = embed(tokenized_fr, fr_embeddings)\n",
        "\n",
        "alignment = calc_weights(embedded_fr, embedded_en)\n",
        "# visualize weights\n",
        "fig, ax = plt.subplots(figsize=(5,5))\n",
        "ax.imshow(alignment,cmap='gray')\n",
        "ax.xaxis.tick_top()\n",
        "ax.set_xticks(np.arange(alignment.shape[1]))\n",
        "ax.set_xticklabels(sentence_en.split(\" \"), rotation=90, size=12);\n",
        "ax.set_yticks(np.arange(alignment.shape[0]));\n",
        "ax.set_yticklabels(sentence_fr.split(\" \"), size=12);\n",
        "\n",
        "### your code to compute the top-2 ###\n",
        "flattened = alignment.flatten()\n",
        "indices = np.argpartition(flattened, -2)[-2:]\n",
        "indices_2d = np.unravel_index(indices, alignment.shape)\n",
        "top1, top2 = list(zip(indices_2d[0], indices_2d[1]))\n",
        "print(f'Most aligned: {sentence_fr.split(\" \")[top1[0]]} - {sentence_en.split(\" \")[top1[1]]}')\n",
        "print(f'2nd most algined: {sentence_fr.split(\" \")[top2[0]]} - {sentence_en.split(\" \")[top2[1]]}')\n",
        "\n",
        "### your code ###"
      ]
    },
    {
      "cell_type": "markdown",
      "id": "0BxnOJJ2xhIZ",
      "metadata": {
        "id": "0BxnOJJ2xhIZ"
      },
      "source": [
        "1. What are the top 2 alignments shown in the figure?\n",
        "2. On the rows you see flat lines for `ciel` and `dans` and `licornes`, why do you think that is?"
      ]
    },
    {
      "cell_type": "markdown",
      "id": "QUwdKXhZxqUP",
      "metadata": {
        "id": "QUwdKXhZxqUP"
      },
      "source": [
        "**Answer:**\n",
        "\n",
        "1.  'cafe - coffee' and 'nuages - clouds'\n",
        "2. It is because they are unknown words, not included in the French vocabulary - the first dans is not recognized because of the invisible character mistakenly included in the french sentence string. Therefore they are encoded as vectors of 0s, not carrying any embedding information"
      ]
    },
    {
      "cell_type": "markdown",
      "id": "C2TnQmsxy70i",
      "metadata": {
        "id": "C2TnQmsxy70i"
      },
      "source": [
        "####${\\color{red}{Comments\\ 3.1}}$\n",
        "\n",
        "${\\color{red}{⚠️Comments\\ begin⚠️}}$\n",
        "\n",
        "\n",
        "```\n",
        "cross-feedback comment section\n",
        "```\n",
        "\n",
        "\n",
        "${\\color{red}{⚠️Comments\\ end⚠️}}$"
      ]
    },
    {
      "cell_type": "markdown",
      "id": "eqXwL4MpzW--",
      "metadata": {
        "id": "eqXwL4MpzW--"
      },
      "source": [
        "### Subtask 2: Scaled Dot-product\n",
        "Implement the scaled dot-product attention using the functions from above.\n",
        "\n"
      ]
    },
    {
      "cell_type": "code",
      "execution_count": 9,
      "id": "8iQTr4KCzqZk",
      "metadata": {
        "id": "8iQTr4KCzqZk"
      },
      "outputs": [
        {
          "name": "stdout",
          "output_type": "stream",
          "text": [
            "(14, 300)\n",
            "[[-0.0077802  -0.00345834 -0.01493142  0.05936939 -0.02286767 -0.00835552\n",
            "   0.00079745 -0.03737862  0.0270674   0.05374082]\n",
            " [-0.00777829 -0.00336843 -0.01498988  0.05937157 -0.02285948 -0.00835695\n",
            "   0.00085725 -0.03740797  0.02706951  0.05377672]]\n"
          ]
        }
      ],
      "source": [
        "def attention(queries, keys, values):\n",
        "    \"\"\"  scaled dot-product attention\n",
        "    queries: query matrix\n",
        "    keys: key matrix\n",
        "    value: value matrix\n",
        "    \"\"\"\n",
        "\n",
        "    #### your code ####\n",
        "\n",
        "    attention = calc_weights(queries, keys)@values\n",
        "    #### your code ####\n",
        "    return attention\n",
        "\n",
        "\n",
        "attention_result = attention(embedded_fr, embedded_en, embedded_en)\n",
        "print(attention_result.shape)\n",
        "print(attention_result[0:2,:10])"
      ]
    },
    {
      "cell_type": "markdown",
      "id": "vlwGjAWMy_OX",
      "metadata": {
        "id": "vlwGjAWMy_OX"
      },
      "source": [
        "####${\\color{red}{Comments\\ 3.2}}$\n",
        "\n",
        "${\\color{red}{⚠️Comments\\ begin⚠️}}$\n",
        "\n",
        "\n",
        "```\n",
        "cross-feedback comment section\n",
        "```\n",
        "\n",
        "\n",
        "${\\color{red}{⚠️Comments\\ end⚠️}}$"
      ]
    },
    {
      "cell_type": "code",
      "execution_count": null,
      "id": "qDx8DrnVzAR1",
      "metadata": {
        "id": "qDx8DrnVzAR1"
      },
      "outputs": [],
      "source": []
    }
  ],
  "metadata": {
    "accelerator": "GPU",
    "colab": {
      "collapsed_sections": [
        "e322e8b0",
        "fc29cb37",
        "gYHy3vSELfaN",
        "-lVg08iTd0XN",
        "7dPfzmVGMeSO",
        "QbQJ3baXUHkQ",
        "N7KlRPnhknbl",
        "tM2DmNOwod4r",
        "IZl0-MMY6MWs"
      ],
      "provenance": []
    },
    "kernelspec": {
      "display_name": "Python 3",
      "name": "python3"
    },
    "language_info": {
      "codemirror_mode": {
        "name": "ipython",
        "version": 3
      },
      "file_extension": ".py",
      "mimetype": "text/x-python",
      "name": "python",
      "nbconvert_exporter": "python",
      "pygments_lexer": "ipython3",
      "version": "3.9.7"
    }
  },
  "nbformat": 4,
  "nbformat_minor": 5
}
