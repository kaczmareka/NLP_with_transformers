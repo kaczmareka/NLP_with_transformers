{
  "cells": [
    {
      "cell_type": "markdown",
      "id": "be9f7653",
      "metadata": {
        "id": "be9f7653"
      },
      "source": [
        "**Heidelberg University**\n",
        "\n",
        "**Data Science  Group**\n",
        "    \n",
        "Prof. Dr. Michael Gertz  \n",
        "\n",
        "Ashish Chouhan, Satya Almasian, John Ziegler, Jayson Salazar, Nicolas Reuter\n",
        "    \n",
        "October 30, 2023\n",
        "    \n",
        "Natural Language Processing with Transformers\n",
        "\n",
        "Winter Semster 2023/2024     \n",
        "***"
      ]
    },
    {
      "cell_type": "markdown",
      "id": "F0X-zKzTjEkS",
      "metadata": {
        "id": "F0X-zKzTjEkS"
      },
      "source": [
        "## Team members\n",
        "\n",
        "- Agata Kaczmarek\n",
        "- Pranjal Sharma\n",
        "- Jan Smoleń\n",
        "- Mateusz Stączek"
      ]
    },
    {
      "cell_type": "markdown",
      "id": "258e9648",
      "metadata": {
        "id": "258e9648"
      },
      "source": [
        "# **Assignment 1: “Word Embeddings and Probabilistic Language Models”**\n",
        "**Due**: Monday, November 13, 2pm, via [Moodle](https://moodle.uni-heidelberg.de/course/view.php?id=19251)\n",
        "\n"
      ]
    },
    {
      "cell_type": "markdown",
      "id": "fc27ad9e",
      "metadata": {
        "id": "fc27ad9e"
      },
      "source": [
        "### **Submission Guidelines**\n",
        "\n",
        "- Solutions need to be uploaded as a **single** Jupyter notebook. You will find several pre-filled code segments in the notebook, your task is to fill in the missing cells.\n",
        "- For the written solution, use LaTeX in markdown inside the same notebook. Do **not** hand in a separate file for it.\n",
        "- Download the .zip file containing the dataset but do **not** upload it with your solution.\n",
        "- It is sufficient if one person per group uploads the solution to Moodle, but make sure that the complete names of all team members are given in the notebook.\n",
        "\n",
        "***"
      ]
    },
    {
      "cell_type": "markdown",
      "id": "e322e8b0",
      "metadata": {
        "id": "e322e8b0"
      },
      "source": [
        "## **Task 1: F.R.I.E.N.D.S and  Word2Vec (Grade (2 + 2 + 4) = 8)**"
      ]
    },
    {
      "cell_type": "markdown",
      "id": "b4ca26ac",
      "metadata": {
        "id": "b4ca26ac"
      },
      "source": [
        "[Friends](https://en.wikipedia.org/wiki/Friends) is an American television sitcom, created by David Crane and Marta Kauffman. In this assignment we will use the transcripts from the show to train a Word2Vec model using the [Gensim](https://radimrehurek.com/gensim/) library."
      ]
    },
    {
      "cell_type": "markdown",
      "id": "fc29cb37",
      "metadata": {
        "id": "fc29cb37"
      },
      "source": [
        "### Subtask 1: Pre-processing\n",
        "We start by loading and cleaning the data. Download the dataset for this assignment and load the `friends_quotes.csv` using pandas. The dataset is from Kaggle (https://www.kaggle.com/ryanstonebraker/friends-transcript) and is created for building a classifier that  determines which friend from the Friend's TV Show would be most likely to say a quote. The column `quote` contains a line from the movie and the `author` is the one who said it. Since these are the only two columns we need, we remove the rest and only keep these two columns."
      ]
    },
    {
      "cell_type": "code",
      "execution_count": 1,
      "id": "787e2059",
      "metadata": {
        "id": "787e2059"
      },
      "outputs": [],
      "source": [
        "import re\n",
        "import pandas as pd\n",
        "from collections import defaultdict\n",
        "import spacy\n",
        "import logging  # Setting up the loggings to monitor gensim\n",
        "logging.basicConfig(format=\"%(levelname)s - %(asctime)s: %(message)s\", datefmt= '%H:%M:%S', level=logging.INFO)"
      ]
    },
    {
      "cell_type": "code",
      "execution_count": 2,
      "id": "7e7e8c7d",
      "metadata": {
        "colab": {
          "base_uri": "https://localhost:8080/",
          "height": 363
        },
        "id": "7e7e8c7d",
        "outputId": "02785dcb-6dbf-4b25-c584-9bc7a16311b1",
        "scrolled": true
      },
      "outputs": [
        {
          "data": {
            "text/html": [
              "<div>\n",
              "<style scoped>\n",
              "    .dataframe tbody tr th:only-of-type {\n",
              "        vertical-align: middle;\n",
              "    }\n",
              "\n",
              "    .dataframe tbody tr th {\n",
              "        vertical-align: top;\n",
              "    }\n",
              "\n",
              "    .dataframe thead th {\n",
              "        text-align: right;\n",
              "    }\n",
              "</style>\n",
              "<table border=\"1\" class=\"dataframe\">\n",
              "  <thead>\n",
              "    <tr style=\"text-align: right;\">\n",
              "      <th></th>\n",
              "      <th>quote</th>\n",
              "      <th>author</th>\n",
              "    </tr>\n",
              "  </thead>\n",
              "  <tbody>\n",
              "    <tr>\n",
              "      <th>0</th>\n",
              "      <td>There's nothing to tell! He's just some guy I ...</td>\n",
              "      <td>Monica</td>\n",
              "    </tr>\n",
              "    <tr>\n",
              "      <th>1</th>\n",
              "      <td>C'mon, you're going out with the guy! There's ...</td>\n",
              "      <td>Joey</td>\n",
              "    </tr>\n",
              "    <tr>\n",
              "      <th>2</th>\n",
              "      <td>All right Joey, be nice. So does he have a hum...</td>\n",
              "      <td>Chandler</td>\n",
              "    </tr>\n",
              "    <tr>\n",
              "      <th>3</th>\n",
              "      <td>Wait, does he eat chalk?</td>\n",
              "      <td>Phoebe</td>\n",
              "    </tr>\n",
              "    <tr>\n",
              "      <th>4</th>\n",
              "      <td>Just, 'cause, I don't want her to go through w...</td>\n",
              "      <td>Phoebe</td>\n",
              "    </tr>\n",
              "    <tr>\n",
              "      <th>5</th>\n",
              "      <td>Okay, everybody relax. This is not even a date...</td>\n",
              "      <td>Monica</td>\n",
              "    </tr>\n",
              "    <tr>\n",
              "      <th>6</th>\n",
              "      <td>Sounds like a date to me.</td>\n",
              "      <td>Chandler</td>\n",
              "    </tr>\n",
              "    <tr>\n",
              "      <th>7</th>\n",
              "      <td>Alright, so I'm back in high school, I'm stand...</td>\n",
              "      <td>Chandler</td>\n",
              "    </tr>\n",
              "    <tr>\n",
              "      <th>8</th>\n",
              "      <td>Oh, yeah. Had that dream.</td>\n",
              "      <td>All</td>\n",
              "    </tr>\n",
              "    <tr>\n",
              "      <th>9</th>\n",
              "      <td>Then I look down, and I realize there's a phon...</td>\n",
              "      <td>Chandler</td>\n",
              "    </tr>\n",
              "  </tbody>\n",
              "</table>\n",
              "</div>"
            ],
            "text/plain": [
              "                                               quote    author\n",
              "0  There's nothing to tell! He's just some guy I ...    Monica\n",
              "1  C'mon, you're going out with the guy! There's ...      Joey\n",
              "2  All right Joey, be nice. So does he have a hum...  Chandler\n",
              "3                           Wait, does he eat chalk?    Phoebe\n",
              "4  Just, 'cause, I don't want her to go through w...    Phoebe\n",
              "5  Okay, everybody relax. This is not even a date...    Monica\n",
              "6                          Sounds like a date to me.  Chandler\n",
              "7  Alright, so I'm back in high school, I'm stand...  Chandler\n",
              "8                          Oh, yeah. Had that dream.       All\n",
              "9  Then I look down, and I realize there's a phon...  Chandler"
            ]
          },
          "execution_count": 2,
          "metadata": {},
          "output_type": "execute_result"
        }
      ],
      "source": [
        "df = pd.read_csv('friends_quotes.csv')\n",
        "df = df[['quote', 'author']]\n",
        "df.head(10)"
      ]
    },
    {
      "cell_type": "markdown",
      "id": "be5fc72f",
      "metadata": {
        "id": "be5fc72f"
      },
      "source": [
        "Fortunately, there is no missing data, so we do not need to worry about that."
      ]
    },
    {
      "cell_type": "code",
      "execution_count": 3,
      "id": "dc3aea10",
      "metadata": {
        "colab": {
          "base_uri": "https://localhost:8080/"
        },
        "id": "dc3aea10",
        "outputId": "1302cfb0-135d-4f9f-8bd4-639bfbb1653c"
      },
      "outputs": [
        {
          "data": {
            "text/plain": [
              "quote     0\n",
              "author    0\n",
              "dtype: int64"
            ]
          },
          "execution_count": 3,
          "metadata": {},
          "output_type": "execute_result"
        }
      ],
      "source": [
        "df.isnull().sum() # check for missing data"
      ]
    },
    {
      "cell_type": "markdown",
      "id": "26a249b1",
      "metadata": {
        "id": "26a249b1"
      },
      "source": [
        "Use SpaCy to preprocess the text. For this, perform the following steps:\n",
        "- lowercase the words\n",
        "- remove the stopwords and single characters\n",
        "- use regex to remove non-alphabetic characters (anything that is not a number or alphabet including punctuations), in other words only keep \"a\" to \"z\" and digits.\n",
        "- remove lines that have less than 4 words, since they cannot contribute much to the training process.\n",
        "\n",
        "Please do not add any additional steps on your own or additional cleaning as we want to achieve comparable results."
      ]
    },
    {
      "cell_type": "code",
      "execution_count": 4,
      "id": "5491d9f0",
      "metadata": {
        "colab": {
          "base_uri": "https://localhost:8080/"
        },
        "id": "5491d9f0",
        "outputId": "8f834cf2-f2a2-4628-c3b0-eeaf8b6d2e95"
      },
      "outputs": [
        {
          "name": "stderr",
          "output_type": "stream",
          "text": [
            "t:\\win_programs\\python_venvs\\nlp-homeworks\\Lib\\site-packages\\spacy\\pipeline\\lemmatizer.py:211: UserWarning: [W108] The rule-based lemmatizer did not find POS annotation for one or more tokens. Check that your pipeline includes components that assign token.pos, typically 'tagger'+'attribute_ruler' or 'morphologizer'.\n",
            "  warnings.warn(Warnings.W108)\n"
          ]
        }
      ],
      "source": [
        "nlp = spacy.load(\"en_core_web_sm\", disable=[\"tagger\", \"parser\",\"ner\"])\n",
        "stopwords = spacy.lang.en.stop_words.STOP_WORDS\n",
        "\n",
        "# CODE BELOW\n",
        "def preprocess_test(quote, stopwords=stopwords):\n",
        "\n",
        "    # use Spacy to split the quote into tokens (words)\n",
        "    doc = nlp(quote)\n",
        "    tokens = [token.text for token in doc]\n",
        "\n",
        "    # lowercase\n",
        "    tokens = [t.lower() for t in tokens]\n",
        "\n",
        "    # use regex to remove non-alphabetic characters (anything that is not a number or alphabet including punctuations), in other words only keep \"a\" to \"z\" and digits.\n",
        "    tokens = [re.sub(r'[^a-z0-9]', ' ', word) for word in tokens]\n",
        "    quote = ' '.join(tokens) # remove additional spaces from regex\n",
        "    tokens = quote.split() # and split to tokens again\n",
        "\n",
        "    # remove single characters and stopwords\n",
        "    tokens = [word for word in tokens if word not in stopwords]\n",
        "    tokens = [word for word in tokens if len(word) > 1]\n",
        "\n",
        "    # remove lines that have less than 4 words, since they cannot contribute much to the training process.\n",
        "    if len(tokens) < 4:\n",
        "        return None\n",
        "    else:\n",
        "      return ' '.join(tokens)\n",
        "\n",
        "df['quote_preprocessed'] = df['quote'].apply(preprocess_test, stopwords=stopwords)\n",
        "quotes = df['quote_preprocessed'].tolist()\n",
        "quotes = [quote for quote in quotes if quote is not None]"
      ]
    },
    {
      "cell_type": "markdown",
      "id": "6aaa2190",
      "metadata": {
        "id": "6aaa2190"
      },
      "source": [
        "The next step is to build the vocabulary of the words and word combinations we want to learn representations from. We choose a subset of the most frequent words and bigrams to represent our corpus.\n",
        "- Use the Gensim Phrases package to automatically detect common phrases (bigrams) from a list of lines from the previous step (`min_count=10`). Now words like New_York will be considered as one entity and character names like joey_tribbiani will be recognized.\n",
        "- Create a list of words/bigrams with their frequencies and choose the top 15.000 words for the vocabulary, in order to keep the computation time-limited and to choose the most important words."
      ]
    },
    {
      "cell_type": "code",
      "execution_count": 5,
      "id": "h3KRvL0DjEkn",
      "metadata": {
        "id": "h3KRvL0DjEkn"
      },
      "outputs": [
        {
          "name": "stderr",
          "output_type": "stream",
          "text": [
            "INFO - 11:07:34: collecting all words and their counts\n",
            "INFO - 11:07:34: PROGRESS: at sentence #0, processed 0 words and 0 word types\n",
            "INFO - 11:07:35: PROGRESS: at sentence #10000, processed 83681 words and 62487 word types\n",
            "INFO - 11:07:35: PROGRESS: at sentence #20000, processed 168111 words and 109226 word types\n",
            "INFO - 11:07:35: collected 151838 token types (unigram + bigrams) from a corpus of 250643 words and 29952 sentences\n",
            "INFO - 11:07:35: merged Phrases<151838 vocab, min_count=10, threshold=10.0, max_vocab_size=40000000>\n",
            "INFO - 11:07:35: Phrases lifecycle event {'msg': 'built Phrases<151838 vocab, min_count=10, threshold=10.0, max_vocab_size=40000000> in 0.43s', 'datetime': '2023-11-13T11:07:35.287648', 'gensim': '4.3.2', 'python': '3.11.4 (tags/v3.11.4:d2340ef, Jun  7 2023, 05:45:37) [MSC v.1934 64 bit (AMD64)]', 'platform': 'Windows-10-10.0.22631-SP0', 'event': 'created'}\n"
          ]
        }
      ],
      "source": [
        "from gensim.models.phrases import Phrases\n",
        "words = [line.split() for line in quotes]\n",
        "phrases = Phrases(words, min_count=10)\n",
        "new_lines = [phrases[line] for line in words]"
      ]
    },
    {
      "cell_type": "code",
      "execution_count": 6,
      "id": "a9ca7541",
      "metadata": {
        "id": "a9ca7541"
      },
      "outputs": [],
      "source": [
        "### find the top 15000 most frequent words for the vocabulary ###\n",
        "word_freq = defaultdict(int)\n",
        "for line in new_lines:\n",
        "    for word in line:\n",
        "        word_freq[word] += 1\n",
        "\n",
        "vocab = sorted(word_freq, key=word_freq.get, reverse=True)[:15000]"
      ]
    },
    {
      "cell_type": "code",
      "execution_count": 7,
      "id": "9d08031d",
      "metadata": {
        "colab": {
          "base_uri": "https://localhost:8080/"
        },
        "id": "9d08031d",
        "outputId": "9dadb8f0-e72b-4a79-949c-6ee47895a53a"
      },
      "outputs": [
        {
          "data": {
            "text/plain": [
              "36"
            ]
          },
          "execution_count": 7,
          "metadata": {},
          "output_type": "execute_result"
        }
      ],
      "source": [
        "word_freq['central_perk']"
      ]
    },
    {
      "cell_type": "code",
      "execution_count": 8,
      "id": "0882dc8c",
      "metadata": {
        "colab": {
          "base_uri": "https://localhost:8080/"
        },
        "id": "0882dc8c",
        "outputId": "3d3535ba-4321-4435-de4b-a3f4593e1f53"
      },
      "outputs": [
        {
          "data": {
            "text/plain": [
              "1949"
            ]
          },
          "execution_count": 8,
          "metadata": {},
          "output_type": "execute_result"
        }
      ],
      "source": [
        "word_freq['joey']"
      ]
    },
    {
      "cell_type": "markdown",
      "id": "15dfce56",
      "metadata": {
        "id": "15dfce56"
      },
      "source": [
        "### Subtask 2: Training the Model\n"
      ]
    },
    {
      "cell_type": "markdown",
      "id": "b59c94e0",
      "metadata": {
        "id": "b59c94e0"
      },
      "source": [
        "Use the Gensim implementation of Word2Vec to train a model on the scripts. The training can be divided into 3 stages:\n",
        "\n",
        "\n",
        "1) Set up your model with parameters; define your parameters in such a way that the following conditions are satisfied:\n",
        " - ignore all words that have a total frequency of less than 2.\n",
        " - dimensions of the embeddings: 100\n",
        " - initial learning rate (step size) of 0.03\n",
        " - 20 negative samples\n",
        " - window size 3\n",
        " - the learning rate in the training will decrease as you apply more and more updates. Most of the time when starting with gradient descent the initial steps can be larger, and as we get close to the local minima it is best to use smaller steps to avoid jumping over the local minima. This adjustment is done internally using a learning rate scheduler. Make sure that the smallest learning rate does not go below 0.0001.\n",
        " - set the threshold for configuring which higher-frequency words are randomly down-sampled to 6e-5. This parameter forces the sampling to choose the very frequent words less often in the sampling.\n",
        " - set the hashfunction of the word2vec to the given function.\n",
        " - train on a single worker to make sure you get the same result as ours."
      ]
    },
    {
      "cell_type": "code",
      "execution_count": 9,
      "id": "dfbce0a2",
      "metadata": {
        "id": "dfbce0a2"
      },
      "outputs": [],
      "source": [
        "from gensim.models import Word2Vec\n",
        "def hash(astring):\n",
        "    return ord(astring[0])"
      ]
    },
    {
      "cell_type": "code",
      "execution_count": 10,
      "id": "7c12a7a6",
      "metadata": {
        "id": "7c12a7a6"
      },
      "outputs": [
        {
          "name": "stderr",
          "output_type": "stream",
          "text": [
            "INFO - 11:07:35: Word2Vec lifecycle event {'params': 'Word2Vec<vocab=0, vector_size=100, alpha=0.03>', 'datetime': '2023-11-13T11:07:35.979602', 'gensim': '4.3.2', 'python': '3.11.4 (tags/v3.11.4:d2340ef, Jun  7 2023, 05:45:37) [MSC v.1934 64 bit (AMD64)]', 'platform': 'Windows-10-10.0.22631-SP0', 'event': 'created'}\n"
          ]
        }
      ],
      "source": [
        "w2v = Word2Vec(min_count=2,         # ignore all words that have a total frequency of less than 2\n",
        "                vector_size=100,    # dimensions of the embeddings: 100\n",
        "                alpha=0.03,         # initial learning rate (step size) of 0.03\n",
        "                negative=20,        # 20 negative samples\n",
        "                window=3,           # window size 3\n",
        "                min_alpha=0.0001,   # smallest learning rate does not go below 0.0001\n",
        "                sample=6e-5,        # threshold for frequency above which they will be downsampled\n",
        "                hashfxn=hash,       # use given hash function\n",
        "                workers=1)          # train on a single worker"
      ]
    },
    {
      "cell_type": "markdown",
      "id": "03eba781",
      "metadata": {
        "id": "03eba781"
      },
      "source": [
        "2) Before training, Word2Vec requires us to build the vocabulary table by filtering out the unique words and doing some basic counts on them.\n",
        "Use the `build_vocab` function to process the data. If you look at the logs you can see the effect of `min_count` and `sample` on the word corpus."
      ]
    },
    {
      "cell_type": "code",
      "execution_count": 11,
      "id": "d9795441",
      "metadata": {
        "id": "d9795441",
        "scrolled": true
      },
      "outputs": [
        {
          "name": "stderr",
          "output_type": "stream",
          "text": [
            "INFO - 11:07:35: collecting all words and their counts\n",
            "INFO - 11:07:35: PROGRESS: at sentence #0, processed 0 words, keeping 0 word types\n",
            "INFO - 11:07:36: PROGRESS: at sentence #10000, processed 80406 words, keeping 9222 word types\n",
            "INFO - 11:07:36: PROGRESS: at sentence #20000, processed 161549 words, keeping 12374 word types\n",
            "INFO - 11:07:36: collected 15290 word types from a corpus of 240876 raw words and 29952 sentences\n",
            "INFO - 11:07:36: Creating a fresh vocabulary\n",
            "INFO - 11:07:36: Word2Vec lifecycle event {'msg': 'effective_min_count=2 retains 8857 unique words (57.93% of original 15290, drops 6433)', 'datetime': '2023-11-13T11:07:36.173038', 'gensim': '4.3.2', 'python': '3.11.4 (tags/v3.11.4:d2340ef, Jun  7 2023, 05:45:37) [MSC v.1934 64 bit (AMD64)]', 'platform': 'Windows-10-10.0.22631-SP0', 'event': 'prepare_vocab'}\n",
            "INFO - 11:07:36: Word2Vec lifecycle event {'msg': 'effective_min_count=2 leaves 234443 word corpus (97.33% of original 240876, drops 6433)', 'datetime': '2023-11-13T11:07:36.175578', 'gensim': '4.3.2', 'python': '3.11.4 (tags/v3.11.4:d2340ef, Jun  7 2023, 05:45:37) [MSC v.1934 64 bit (AMD64)]', 'platform': 'Windows-10-10.0.22631-SP0', 'event': 'prepare_vocab'}\n",
            "INFO - 11:07:36: deleting the raw counts dictionary of 15290 items\n",
            "INFO - 11:07:36: sample=6e-05 downsamples 972 most-common words\n",
            "INFO - 11:07:36: Word2Vec lifecycle event {'msg': 'downsampling leaves estimated 109671.43000413233 word corpus (46.8%% of prior 234443)', 'datetime': '2023-11-13T11:07:36.307415', 'gensim': '4.3.2', 'python': '3.11.4 (tags/v3.11.4:d2340ef, Jun  7 2023, 05:45:37) [MSC v.1934 64 bit (AMD64)]', 'platform': 'Windows-10-10.0.22631-SP0', 'event': 'prepare_vocab'}\n",
            "INFO - 11:07:36: estimated required memory for 8857 words and 100 dimensions: 11514100 bytes\n",
            "INFO - 11:07:36: resetting layer weights\n",
            "INFO - 11:07:36: Word2Vec lifecycle event {'update': False, 'trim_rule': 'None', 'datetime': '2023-11-13T11:07:36.486740', 'gensim': '4.3.2', 'python': '3.11.4 (tags/v3.11.4:d2340ef, Jun  7 2023, 05:45:37) [MSC v.1934 64 bit (AMD64)]', 'platform': 'Windows-10-10.0.22631-SP0', 'event': 'build_vocab'}\n"
          ]
        }
      ],
      "source": [
        "w2v.build_vocab(new_lines)"
      ]
    },
    {
      "cell_type": "markdown",
      "id": "aefdc06f",
      "metadata": {
        "id": "aefdc06f"
      },
      "source": [
        "3) Finally, we  train the model. Train the model for 100 epochs. This will take a while. As we do not plan to train the model any further, we call `init_sims()`, which will make the model much more memory-efficient by precomputing L2-norms of word weight vectors for further analysis."
      ]
    },
    {
      "cell_type": "code",
      "execution_count": 12,
      "id": "0febaedc",
      "metadata": {
        "colab": {
          "base_uri": "https://localhost:8080/"
        },
        "id": "0febaedc",
        "outputId": "517a4591-0512-4287-c271-abd82201b599"
      },
      "outputs": [
        {
          "name": "stderr",
          "output_type": "stream",
          "text": [
            "INFO - 11:07:36: Word2Vec lifecycle event {'msg': 'training model with 1 workers on 8857 vocabulary and 100 features, using sg=0 hs=0 sample=6e-05 negative=20 window=3 shrink_windows=True', 'datetime': '2023-11-13T11:07:36.507026', 'gensim': '4.3.2', 'python': '3.11.4 (tags/v3.11.4:d2340ef, Jun  7 2023, 05:45:37) [MSC v.1934 64 bit (AMD64)]', 'platform': 'Windows-10-10.0.22631-SP0', 'event': 'train'}\n",
            "INFO - 11:07:37: EPOCH 0 - PROGRESS: at 99.51% examples, 106009 words/s, in_qsize 1, out_qsize 0\n",
            "INFO - 11:07:37: EPOCH 0: training on 240876 raw words (109263 effective words) took 1.0s, 105937 effective words/s\n",
            "INFO - 11:07:38: EPOCH 1: training on 240876 raw words (109759 effective words) took 0.9s, 128019 effective words/s\n",
            "INFO - 11:07:39: EPOCH 2: training on 240876 raw words (109792 effective words) took 0.7s, 159686 effective words/s\n",
            "INFO - 11:07:39: EPOCH 3: training on 240876 raw words (109927 effective words) took 0.7s, 166577 effective words/s\n",
            "INFO - 11:07:40: EPOCH 4: training on 240876 raw words (109775 effective words) took 0.6s, 176956 effective words/s\n",
            "INFO - 11:07:41: EPOCH 5: training on 240876 raw words (109493 effective words) took 0.6s, 169701 effective words/s\n",
            "INFO - 11:07:41: EPOCH 6: training on 240876 raw words (109738 effective words) took 0.6s, 171350 effective words/s\n",
            "INFO - 11:07:42: EPOCH 7: training on 240876 raw words (109744 effective words) took 0.6s, 178677 effective words/s\n",
            "INFO - 11:07:42: EPOCH 8: training on 240876 raw words (109691 effective words) took 0.6s, 171604 effective words/s\n",
            "INFO - 11:07:43: EPOCH 9: training on 240876 raw words (109966 effective words) took 0.6s, 185031 effective words/s\n",
            "INFO - 11:07:44: EPOCH 10: training on 240876 raw words (110005 effective words) took 0.6s, 177402 effective words/s\n",
            "INFO - 11:07:44: EPOCH 11: training on 240876 raw words (109750 effective words) took 0.6s, 172436 effective words/s\n",
            "INFO - 11:07:45: EPOCH 12: training on 240876 raw words (109487 effective words) took 0.6s, 173644 effective words/s\n",
            "INFO - 11:07:46: EPOCH 13: training on 240876 raw words (109643 effective words) took 0.6s, 174548 effective words/s\n",
            "INFO - 11:07:46: EPOCH 14: training on 240876 raw words (109800 effective words) took 0.6s, 179667 effective words/s\n",
            "INFO - 11:07:47: EPOCH 15: training on 240876 raw words (109509 effective words) took 0.6s, 169066 effective words/s\n",
            "INFO - 11:07:48: EPOCH 16: training on 240876 raw words (109630 effective words) took 0.6s, 174306 effective words/s\n",
            "INFO - 11:07:48: EPOCH 17: training on 240876 raw words (109922 effective words) took 0.6s, 177842 effective words/s\n",
            "INFO - 11:07:49: EPOCH 18: training on 240876 raw words (109701 effective words) took 0.6s, 177519 effective words/s\n",
            "INFO - 11:07:49: EPOCH 19: training on 240876 raw words (109674 effective words) took 0.7s, 168651 effective words/s\n",
            "INFO - 11:07:50: EPOCH 20: training on 240876 raw words (109773 effective words) took 0.6s, 174825 effective words/s\n",
            "INFO - 11:07:51: EPOCH 21: training on 240876 raw words (109560 effective words) took 0.6s, 171906 effective words/s\n",
            "INFO - 11:07:51: EPOCH 22: training on 240876 raw words (109523 effective words) took 0.6s, 175469 effective words/s\n",
            "INFO - 11:07:52: EPOCH 23: training on 240876 raw words (109800 effective words) took 0.6s, 173404 effective words/s\n",
            "INFO - 11:07:53: EPOCH 24: training on 240876 raw words (109642 effective words) took 0.6s, 179460 effective words/s\n",
            "INFO - 11:07:53: EPOCH 25: training on 240876 raw words (109817 effective words) took 0.6s, 175258 effective words/s\n",
            "INFO - 11:07:54: EPOCH 26: training on 240876 raw words (109417 effective words) took 0.6s, 177683 effective words/s\n",
            "INFO - 11:07:54: EPOCH 27: training on 240876 raw words (109589 effective words) took 0.6s, 173088 effective words/s\n",
            "INFO - 11:07:55: EPOCH 28: training on 240876 raw words (109881 effective words) took 0.6s, 183460 effective words/s\n",
            "INFO - 11:07:56: EPOCH 29: training on 240876 raw words (109726 effective words) took 0.6s, 179406 effective words/s\n",
            "INFO - 11:07:56: EPOCH 30: training on 240876 raw words (109718 effective words) took 0.6s, 178854 effective words/s\n",
            "INFO - 11:07:57: EPOCH 31: training on 240876 raw words (109866 effective words) took 0.6s, 181844 effective words/s\n",
            "INFO - 11:07:58: EPOCH 32: training on 240876 raw words (109663 effective words) took 0.6s, 175692 effective words/s\n",
            "INFO - 11:07:58: EPOCH 33: training on 240876 raw words (109841 effective words) took 0.6s, 180457 effective words/s\n",
            "INFO - 11:07:59: EPOCH 34: training on 240876 raw words (109591 effective words) took 0.7s, 161473 effective words/s\n",
            "INFO - 11:07:59: EPOCH 35: training on 240876 raw words (109537 effective words) took 0.6s, 176266 effective words/s\n",
            "INFO - 11:08:00: EPOCH 36: training on 240876 raw words (109639 effective words) took 0.6s, 177073 effective words/s\n",
            "INFO - 11:08:01: EPOCH 37: training on 240876 raw words (109840 effective words) took 0.6s, 175911 effective words/s\n",
            "INFO - 11:08:01: EPOCH 38: training on 240876 raw words (109865 effective words) took 0.6s, 175245 effective words/s\n",
            "INFO - 11:08:02: EPOCH 39: training on 240876 raw words (109579 effective words) took 0.6s, 176488 effective words/s\n",
            "INFO - 11:08:03: EPOCH 40: training on 240876 raw words (109535 effective words) took 0.6s, 179127 effective words/s\n",
            "INFO - 11:08:03: EPOCH 41: training on 240876 raw words (109464 effective words) took 0.6s, 177652 effective words/s\n",
            "INFO - 11:08:04: EPOCH 42: training on 240876 raw words (109596 effective words) took 0.6s, 179961 effective words/s\n",
            "INFO - 11:08:04: EPOCH 43: training on 240876 raw words (109997 effective words) took 0.6s, 180249 effective words/s\n",
            "INFO - 11:08:05: EPOCH 44: training on 240876 raw words (109502 effective words) took 0.6s, 179707 effective words/s\n",
            "INFO - 11:08:06: EPOCH 45: training on 240876 raw words (109441 effective words) took 0.6s, 179200 effective words/s\n",
            "INFO - 11:08:06: EPOCH 46: training on 240876 raw words (109817 effective words) took 0.6s, 183182 effective words/s\n",
            "INFO - 11:08:07: EPOCH 47: training on 240876 raw words (109818 effective words) took 0.6s, 183862 effective words/s\n",
            "INFO - 11:08:08: EPOCH 48: training on 240876 raw words (109597 effective words) took 0.6s, 181203 effective words/s\n",
            "INFO - 11:08:08: EPOCH 49: training on 240876 raw words (109272 effective words) took 0.6s, 181594 effective words/s\n",
            "INFO - 11:08:09: EPOCH 50: training on 240876 raw words (109775 effective words) took 0.6s, 178656 effective words/s\n",
            "INFO - 11:08:09: EPOCH 51: training on 240876 raw words (109478 effective words) took 0.6s, 182278 effective words/s\n",
            "INFO - 11:08:10: EPOCH 52: training on 240876 raw words (109540 effective words) took 0.6s, 181140 effective words/s\n",
            "INFO - 11:08:11: EPOCH 53: training on 240876 raw words (109705 effective words) took 0.6s, 177326 effective words/s\n",
            "INFO - 11:08:11: EPOCH 54: training on 240876 raw words (109581 effective words) took 0.6s, 180266 effective words/s\n",
            "INFO - 11:08:12: EPOCH 55: training on 240876 raw words (109477 effective words) took 0.6s, 180495 effective words/s\n",
            "INFO - 11:08:12: EPOCH 56: training on 240876 raw words (109650 effective words) took 0.6s, 172439 effective words/s\n",
            "INFO - 11:08:13: EPOCH 57: training on 240876 raw words (109873 effective words) took 0.6s, 176550 effective words/s\n",
            "INFO - 11:08:14: EPOCH 58: training on 240876 raw words (109580 effective words) took 0.6s, 179657 effective words/s\n",
            "INFO - 11:08:14: EPOCH 59: training on 240876 raw words (109590 effective words) took 0.6s, 180044 effective words/s\n",
            "INFO - 11:08:15: EPOCH 60: training on 240876 raw words (109447 effective words) took 0.6s, 181779 effective words/s\n",
            "INFO - 11:08:16: EPOCH 61: training on 240876 raw words (109662 effective words) took 0.6s, 183702 effective words/s\n",
            "INFO - 11:08:16: EPOCH 62: training on 240876 raw words (109966 effective words) took 0.6s, 186005 effective words/s\n",
            "INFO - 11:08:17: EPOCH 63: training on 240876 raw words (109611 effective words) took 0.6s, 182194 effective words/s\n",
            "INFO - 11:08:17: EPOCH 64: training on 240876 raw words (109599 effective words) took 0.6s, 185555 effective words/s\n",
            "INFO - 11:08:18: EPOCH 65: training on 240876 raw words (109788 effective words) took 0.6s, 184220 effective words/s\n",
            "INFO - 11:08:19: EPOCH 66: training on 240876 raw words (109378 effective words) took 0.6s, 180893 effective words/s\n",
            "INFO - 11:08:19: EPOCH 67: training on 240876 raw words (109554 effective words) took 0.6s, 180725 effective words/s\n",
            "INFO - 11:08:20: EPOCH 68: training on 240876 raw words (109630 effective words) took 0.7s, 163673 effective words/s\n",
            "INFO - 11:08:21: EPOCH 69: training on 240876 raw words (109498 effective words) took 0.7s, 165343 effective words/s\n",
            "INFO - 11:08:21: EPOCH 70: training on 240876 raw words (109563 effective words) took 0.6s, 172292 effective words/s\n",
            "INFO - 11:08:22: EPOCH 71: training on 240876 raw words (109559 effective words) took 0.6s, 179835 effective words/s\n",
            "INFO - 11:08:22: EPOCH 72: training on 240876 raw words (109967 effective words) took 0.6s, 179803 effective words/s\n",
            "INFO - 11:08:23: EPOCH 73: training on 240876 raw words (109619 effective words) took 0.6s, 178649 effective words/s\n",
            "INFO - 11:08:24: EPOCH 74: training on 240876 raw words (109742 effective words) took 0.7s, 156948 effective words/s\n",
            "INFO - 11:08:24: EPOCH 75: training on 240876 raw words (109589 effective words) took 0.6s, 170321 effective words/s\n",
            "INFO - 11:08:25: EPOCH 76: training on 240876 raw words (109426 effective words) took 0.6s, 174645 effective words/s\n",
            "INFO - 11:08:26: EPOCH 77: training on 240876 raw words (109588 effective words) took 0.6s, 192480 effective words/s\n",
            "INFO - 11:08:26: EPOCH 78: training on 240876 raw words (110075 effective words) took 0.6s, 178293 effective words/s\n",
            "INFO - 11:08:27: EPOCH 79: training on 240876 raw words (109495 effective words) took 0.7s, 163269 effective words/s\n",
            "INFO - 11:08:28: EPOCH 80: training on 240876 raw words (109894 effective words) took 0.8s, 132669 effective words/s\n",
            "INFO - 11:08:28: EPOCH 81: training on 240876 raw words (109767 effective words) took 0.7s, 158939 effective words/s\n",
            "INFO - 11:08:29: EPOCH 82: training on 240876 raw words (109707 effective words) took 0.7s, 167107 effective words/s\n",
            "INFO - 11:08:30: EPOCH 83: training on 240876 raw words (109769 effective words) took 0.7s, 153420 effective words/s\n",
            "INFO - 11:08:31: EPOCH 84: training on 240876 raw words (109517 effective words) took 0.8s, 145785 effective words/s\n",
            "INFO - 11:08:31: EPOCH 85: training on 240876 raw words (109367 effective words) took 0.6s, 168748 effective words/s\n",
            "INFO - 11:08:32: EPOCH 86: training on 240876 raw words (109798 effective words) took 0.7s, 164058 effective words/s\n",
            "INFO - 11:08:33: EPOCH 87: training on 240876 raw words (109758 effective words) took 0.7s, 167462 effective words/s\n",
            "INFO - 11:08:33: EPOCH 88: training on 240876 raw words (109546 effective words) took 0.6s, 175080 effective words/s\n",
            "INFO - 11:08:34: EPOCH 89: training on 240876 raw words (109742 effective words) took 0.7s, 162066 effective words/s\n",
            "INFO - 11:08:35: EPOCH 90: training on 240876 raw words (109704 effective words) took 0.7s, 164581 effective words/s\n",
            "INFO - 11:08:35: EPOCH 91: training on 240876 raw words (109834 effective words) took 0.6s, 171042 effective words/s\n",
            "INFO - 11:08:36: EPOCH 92: training on 240876 raw words (109676 effective words) took 0.6s, 173603 effective words/s\n",
            "INFO - 11:08:37: EPOCH 93: training on 240876 raw words (109604 effective words) took 0.7s, 165094 effective words/s\n",
            "INFO - 11:08:37: EPOCH 94: training on 240876 raw words (109642 effective words) took 0.6s, 171390 effective words/s\n",
            "INFO - 11:08:38: EPOCH 95: training on 240876 raw words (109764 effective words) took 0.6s, 169168 effective words/s\n",
            "INFO - 11:08:38: EPOCH 96: training on 240876 raw words (109491 effective words) took 0.6s, 171292 effective words/s\n",
            "INFO - 11:08:39: EPOCH 97: training on 240876 raw words (109769 effective words) took 0.6s, 169967 effective words/s\n",
            "INFO - 11:08:40: EPOCH 98: training on 240876 raw words (109454 effective words) took 0.6s, 170029 effective words/s\n",
            "INFO - 11:08:40: EPOCH 99: training on 240876 raw words (109873 effective words) took 0.7s, 156278 effective words/s\n",
            "INFO - 11:08:40: Word2Vec lifecycle event {'msg': 'training on 24087600 raw words (10966856 effective words) took 64.5s, 170133 effective words/s', 'datetime': '2023-11-13T11:08:40.969648', 'gensim': '4.3.2', 'python': '3.11.4 (tags/v3.11.4:d2340ef, Jun  7 2023, 05:45:37) [MSC v.1934 64 bit (AMD64)]', 'platform': 'Windows-10-10.0.22631-SP0', 'event': 'train'}\n"
          ]
        },
        {
          "data": {
            "text/plain": [
              "(10966856, 24087600)"
            ]
          },
          "execution_count": 12,
          "metadata": {},
          "output_type": "execute_result"
        }
      ],
      "source": [
        "w2v.train(corpus_iterable=new_lines,\n",
        "        epochs=100,\n",
        "        total_examples=w2v.corpus_count)"
      ]
    },
    {
      "cell_type": "code",
      "execution_count": 13,
      "id": "_K_W3cf_jEkz",
      "metadata": {
        "colab": {
          "base_uri": "https://localhost:8080/"
        },
        "id": "_K_W3cf_jEkz",
        "outputId": "dad8cf16-893e-43b1-9959-5d103b26236a"
      },
      "outputs": [
        {
          "name": "stderr",
          "output_type": "stream",
          "text": [
            "C:\\Users\\matem\\AppData\\Local\\Temp\\ipykernel_19832\\1570042141.py:1: DeprecationWarning: Call to deprecated `init_sims` (Gensim 4.0.0 implemented internal optimizations that make calls to init_sims() unnecessary. init_sims() is now obsoleted and will be completely removed in future versions. See https://github.com/RaRe-Technologies/gensim/wiki/Migrating-from-Gensim-3.x-to-4).\n",
            "  w2v.init_sims()\n"
          ]
        }
      ],
      "source": [
        "w2v.init_sims()"
      ]
    },
    {
      "cell_type": "markdown",
      "id": "a0c86f82",
      "metadata": {
        "id": "a0c86f82"
      },
      "source": [
        "### Subtask 3: Exploring the Model\n"
      ]
    },
    {
      "cell_type": "markdown",
      "id": "377e1f70",
      "metadata": {
        "id": "377e1f70"
      },
      "source": [
        "As mentioned in the lecture, word embeddings are suited for similarity and analogy tasks. Let's explore some of that with our dataset:\n",
        "\n",
        "We look for the most similar words to the name of the famous coffee shop where most of the episodes took place, namely `central_perk` and also one of the characters `joey`. If you have followed the exercise correctly until now, you should see that words like `laying` are similar to `central_perk` and the other main characters are also considered similar to `joey`.\n",
        "\n"
      ]
    },
    {
      "cell_type": "code",
      "execution_count": 14,
      "id": "2e66e435",
      "metadata": {
        "colab": {
          "base_uri": "https://localhost:8080/"
        },
        "id": "2e66e435",
        "outputId": "6a35b1c8-3cea-4dcc-9ec3-bf23d1e28f28",
        "scrolled": true
      },
      "outputs": [
        {
          "data": {
            "text/plain": [
              "[('conan', 0.6197614669799805),\n",
              " ('mitzi', 0.5023537874221802),\n",
              " ('aaah', 0.5016289353370667),\n",
              " ('sitting_couch', 0.4957396686077118),\n",
              " ('russ', 0.4778537154197693),\n",
              " ('hippity', 0.4706975221633911),\n",
              " ('laying', 0.46473607420921326),\n",
              " ('recliner', 0.4381493628025055),\n",
              " ('appartment', 0.43232887983322144),\n",
              " ('scene', 0.4299336373806)]"
            ]
          },
          "execution_count": 14,
          "metadata": {},
          "output_type": "execute_result"
        }
      ],
      "source": [
        "w2v.wv.most_similar(positive=[\"central_perk\"]) # should be similar to 'laying'"
      ]
    },
    {
      "cell_type": "code",
      "execution_count": 15,
      "id": "b7074ffa",
      "metadata": {
        "colab": {
          "base_uri": "https://localhost:8080/"
        },
        "id": "b7074ffa",
        "outputId": "d5cbd618-1fc5-4de4-b9bb-183349d43791",
        "scrolled": true
      },
      "outputs": [
        {
          "data": {
            "text/plain": [
              "[('chandler', 0.7712146043777466),\n",
              " ('monica', 0.6519720554351807),\n",
              " ('ross', 0.6477656960487366),\n",
              " ('rachel', 0.6465185284614563),\n",
              " ('phoebe', 0.6100163459777832),\n",
              " ('hey', 0.6064181327819824),\n",
              " ('looks', 0.5669312477111816),\n",
              " ('right', 0.5636717677116394),\n",
              " ('turns', 0.5419054627418518),\n",
              " ('look', 0.5014457106590271)]"
            ]
          },
          "execution_count": 15,
          "metadata": {},
          "output_type": "execute_result"
        }
      ],
      "source": [
        "w2v.wv.most_similar(positive=[\"joey\"]) # should be similar to other characters"
      ]
    },
    {
      "cell_type": "markdown",
      "id": "e3591274",
      "metadata": {
        "id": "e3591274"
      },
      "source": [
        "Look at the similarity of `green` to `rachel` (her lastname) and `ross`  and `spaceship` (urelated). The first one should have a high and the second a low score. Finally, look at the similarity of `smelly_cat` ( a song from pheobe) and `song` the similarity should be high."
      ]
    },
    {
      "cell_type": "code",
      "execution_count": 16,
      "id": "c5de6309",
      "metadata": {
        "colab": {
          "base_uri": "https://localhost:8080/"
        },
        "id": "c5de6309",
        "outputId": "3952c251-22b1-4566-872e-9be38e7c16f0"
      },
      "outputs": [
        {
          "data": {
            "text/plain": [
              "0.15675169"
            ]
          },
          "execution_count": 16,
          "metadata": {},
          "output_type": "execute_result"
        }
      ],
      "source": [
        "w2v.wv.similarity(w1=\"green\", w2=\"rachel\")"
      ]
    },
    {
      "cell_type": "code",
      "execution_count": 17,
      "id": "322d0605",
      "metadata": {
        "colab": {
          "base_uri": "https://localhost:8080/"
        },
        "id": "322d0605",
        "outputId": "3dc5e6e9-ecec-4feb-b515-03034028abaa"
      },
      "outputs": [
        {
          "data": {
            "text/plain": [
              "-0.13223185"
            ]
          },
          "execution_count": 17,
          "metadata": {},
          "output_type": "execute_result"
        }
      ],
      "source": [
        "w2v.wv.similarity(w1=\"ross\", w2=\"spaceship\")"
      ]
    },
    {
      "cell_type": "code",
      "execution_count": 18,
      "id": "f7a0a1f5",
      "metadata": {
        "colab": {
          "base_uri": "https://localhost:8080/"
        },
        "id": "f7a0a1f5",
        "outputId": "d97b0b2e-199d-41c3-8597-85fecd88fb8f",
        "scrolled": true
      },
      "outputs": [
        {
          "data": {
            "text/plain": [
              "0.451121"
            ]
          },
          "execution_count": 18,
          "metadata": {},
          "output_type": "execute_result"
        }
      ],
      "source": [
        "w2v.wv.similarity(w1=\"smelly_cat\", w2=\"song\")"
      ]
    },
    {
      "cell_type": "markdown",
      "id": "7343365d",
      "metadata": {
        "id": "7343365d"
      },
      "source": [
        "We can also ask our model to give us the word that does not belong to a list of words. Let's see from the list of all 5 characters which one is the most dissimilar?\n"
      ]
    },
    {
      "cell_type": "code",
      "execution_count": 19,
      "id": "37bff805",
      "metadata": {
        "id": "37bff805"
      },
      "outputs": [],
      "source": [
        "character_names= ['joey', 'rachel', 'phoebe','monica','chandler']"
      ]
    },
    {
      "cell_type": "code",
      "execution_count": 20,
      "id": "9020cd09",
      "metadata": {
        "colab": {
          "base_uri": "https://localhost:8080/",
          "height": 36
        },
        "id": "9020cd09",
        "outputId": "0d613c0f-698f-4175-e1ec-c7f46409f5c2",
        "scrolled": true
      },
      "outputs": [
        {
          "data": {
            "text/plain": [
              "'joey'"
            ]
          },
          "execution_count": 20,
          "metadata": {},
          "output_type": "execute_result"
        }
      ],
      "source": [
        "w2v.wv.doesnt_match(character_names)"
      ]
    },
    {
      "cell_type": "markdown",
      "id": "28abdaec",
      "metadata": {
        "id": "28abdaec"
      },
      "source": [
        "Based on the analogies, which word is to `monica` as `man` is to `women`? (print the top 3 words); you should get `chandler`among the answers."
      ]
    },
    {
      "cell_type": "code",
      "execution_count": 21,
      "id": "4a270c9b",
      "metadata": {
        "colab": {
          "base_uri": "https://localhost:8080/"
        },
        "id": "4a270c9b",
        "outputId": "7665d691-f195-4b2e-d7f7-b89d1e483cdc"
      },
      "outputs": [
        {
          "data": {
            "text/plain": [
              "[('chandler', 0.5998750329017639),\n",
              " ('ross', 0.5162608623504639),\n",
              " ('phoebe', 0.4796462953090668)]"
            ]
          },
          "execution_count": 21,
          "metadata": {},
          "output_type": "execute_result"
        }
      ],
      "source": [
        "w2v.wv.most_similar(positive=['monica', 'man'], negative=['women'], topn=3)"
      ]
    },
    {
      "cell_type": "markdown",
      "id": "1c97ae83",
      "metadata": {
        "id": "1c97ae83"
      },
      "source": [
        "Finally, lets use [t-SNE](https://www.jmlr.org/papers/volume9/vandermaaten08a/vandermaaten08a.pdf) to look at the distribution of our embeddings in the vector space for the character `joey`. Follow the instructions and fill in the blank in the `tsneplot` function."
      ]
    },
    {
      "cell_type": "code",
      "execution_count": 22,
      "id": "d0b8930e",
      "metadata": {
        "id": "d0b8930e"
      },
      "outputs": [],
      "source": [
        "import numpy as np\n",
        "import matplotlib.pyplot as plt\n",
        "%matplotlib inline\n",
        "import seaborn as sns\n",
        "import sys\n",
        "from sklearn.manifold import TSNE"
      ]
    },
    {
      "cell_type": "code",
      "execution_count": 23,
      "id": "faa51d9e",
      "metadata": {
        "id": "faa51d9e"
      },
      "outputs": [],
      "source": [
        "def tsneplot(model, word):\n",
        "    \"\"\" Plot in seaborn the results from the t-SNE dimensionality reduction for the top 10 most similar and dissimilar words\n",
        "    \"\"\"\n",
        "    embs = np.empty((0, 100), dtype='f')# to save all the embeddings\n",
        "    word_labels = [word]\n",
        "    color_list  = ['green']\n",
        "\n",
        "    # adds the vector of the query word\n",
        "    embs = np.append(embs, model.wv.__getitem__([word]), axis=0)\n",
        "\n",
        "    # gets list of most similar words\n",
        "    close_words = model.wv.most_similar([word])\n",
        "    all_sims = model.wv.most_similar([word], topn=sys.maxsize)\n",
        "    far_words = list(reversed(all_sims[-10:]))\n",
        "\n",
        "    # adds the vector for each of the closest words to the array\n",
        "    for wrd_score in close_words:\n",
        "        wrd_vector = model.wv.__getitem__([wrd_score[0]])\n",
        "        word_labels.append(wrd_score[0])\n",
        "        color_list.append('blue')\n",
        "        embs = np.append(embs, wrd_vector, axis=0)\n",
        "\n",
        "    # adds the vector for each of the furthest words to the array\n",
        "    for wrd_score in far_words:\n",
        "        wrd_vector = model.wv.__getitem__([wrd_score[0]])\n",
        "        word_labels.append(wrd_score[0])\n",
        "        color_list.append('red')\n",
        "        embs = np.append(embs, wrd_vector, axis=0)\n",
        "\n",
        "    np.set_printoptions(suppress=True)\n",
        "    Y = TSNE(n_components=2, random_state=110, perplexity=15).fit_transform(embs)\n",
        "\n",
        "    # sets everything up to plot\n",
        "    df = pd.DataFrame({'x': [x for x in Y[:, 0]],\n",
        "                       'y': [y for y in Y[:, 1]],\n",
        "                       'words': word_labels,\n",
        "                       'color': color_list})\n",
        "\n",
        "    fig, _ = plt.subplots()\n",
        "    fig.set_size_inches(10, 10)\n",
        "\n",
        "    # basic plot\n",
        "    p1 = sns.regplot(data=df,\n",
        "                     x=\"x\",\n",
        "                     y=\"y\",\n",
        "                     fit_reg=False,\n",
        "                     marker=\"o\",\n",
        "                     scatter_kws={'s': 40,\n",
        "                                  'facecolors': df['color']\n",
        "                                 }\n",
        "                    )\n",
        "\n",
        "    # adds annotations one by one with a loop\n",
        "    for line in range(0, df.shape[0]):\n",
        "         p1.text(df[\"x\"][line],\n",
        "                 df['y'][line],\n",
        "                 '  ' + df[\"words\"][line].title(),\n",
        "                 horizontalalignment='left',\n",
        "                 verticalalignment='bottom', size='medium',\n",
        "                 color=df['color'][line],\n",
        "                 weight='normal'\n",
        "                ).set_size(15)\n",
        "\n",
        "\n",
        "    plt.xlim(Y[:, 0].min()-1, Y[:, 0].max()+1)\n",
        "    plt.ylim(Y[:, 1].min()-1, Y[:, 1].max()+1)\n",
        "\n",
        "    plt.title('t-SNE visualization for {}'.format(word.title()))\n"
      ]
    },
    {
      "cell_type": "code",
      "execution_count": 24,
      "id": "3880bad8",
      "metadata": {
        "colab": {
          "base_uri": "https://localhost:8080/",
          "height": 872
        },
        "id": "3880bad8",
        "outputId": "afa16f99-4b72-4602-e26a-7ca9d37f3bf2",
        "scrolled": false
      },
      "outputs": [
        {
          "data": {
            "image/png": "[encoded data removed]",
            "text/plain": [
              "<Figure size 1000x1000 with 1 Axes>"
            ]
          },
          "metadata": {},
          "output_type": "display_data"
        }
      ],
      "source": [
        "tsneplot(w2v, 'joey')"
      ]
    },
    {
      "cell_type": "markdown",
      "id": "1ce2c270",
      "metadata": {
        "id": "1ce2c270"
      },
      "source": [
        "## **Task 2: Questions on the Conceptual Level (non-programming) (Grade (2 + 1 + 1 + 4) = 8)**"
      ]
    },
    {
      "cell_type": "markdown",
      "id": "c3fa409f",
      "metadata": {
        "id": "c3fa409f"
      },
      "source": [
        "Please answer the following questions in the notebook cells using markdown. Be precise and short."
      ]
    },
    {
      "cell_type": "markdown",
      "id": "1ec614b0",
      "metadata": {
        "id": "1ec614b0"
      },
      "source": [
        "### Subtask 1: For gradient descent, what advantage has a decaying learning rate?"
      ]
    },
    {
      "cell_type": "markdown",
      "id": "bec059fb",
      "metadata": {
        "id": "bec059fb"
      },
      "source": [
        "1. Faster initial convergence - thanks to the bigger learning rate at the beggining of training process, the function converges faster in the initial stages\n",
        "2. More precise minima searching - because the learning rate becomes smaller as the learning process advances, we lower the risk of overshooting and overlooking the minima\n",
        "3. Escaping local minima - bigger learning rate at the beggining of the training can help escape any potential local minimas\n",
        "4. Efficiency - as the algorithm gets closer to the solution, smaller steps are needed to reach it, so it more efficient to use smaller learning rate and not wander around the opitmal solution using too big steps"
      ]
    },
    {
      "cell_type": "markdown",
      "id": "0af2b619",
      "metadata": {
        "id": "0af2b619"
      },
      "source": [
        "### Subtask 2: Why is it easier to maximize the log likelihood instead of the \"normal\" likelihood?"
      ]
    },
    {
      "cell_type": "markdown",
      "id": "deb75406",
      "metadata": {
        "id": "deb75406"
      },
      "source": [
        "1. When using log likelihood, the products becomes sums, which are easier to compute\n",
        "2. Maximing the log likelihood is equalivent to maximizing the normal likelihood, as log is an increasing function\n",
        "3. Numerical stability - probabilities quite often become very small which may affect the computations - it is dealt with by applying the log function"
      ]
    },
    {
      "cell_type": "markdown",
      "id": "a9828a2f",
      "metadata": {
        "id": "a9828a2f"
      },
      "source": [
        "### Subtask 3: Name one advantage that fastText has over Word2Vec?"
      ]
    },
    {
      "cell_type": "markdown",
      "id": "6c7aeb3b",
      "metadata": {
        "id": "6c7aeb3b"
      },
      "source": [
        "It is better at handling unseen words that resemeble the known ones, or are compound words that consist of known words."
      ]
    },
    {
      "cell_type": "markdown",
      "id": "07634ed8",
      "metadata": {
        "id": "07634ed8"
      },
      "source": [
        "### Subtask 4: Compute the partial derivate of softmax loss for word2vec with\n",
        "\n",
        "---\n",
        "\n",
        "respect to the center word vector.\n",
        "$$ \\frac{\\partial J}{\\partial v_c} =\\frac{\\partial}{\\partial v_c}\\left[ -log \\left( \\frac{exp(u^T_o v_c)}{\\Sigma_{w \\in Vocab} exp(u^T_o v_c)} \\right)\\right] $$\n",
        "use $U$ to denote the matrix of all embeddings and $y$ for a one-hot vector with a 1 for the true outside word $o$, and $\\hat{y}$ for the predicted distribution $P(w|c)$."
      ]
    },
    {
      "cell_type": "markdown",
      "id": "baba8a44",
      "metadata": {
        "id": "baba8a44"
      },
      "source": [
        "There appears to be a mistake in the formula? $u_o$ in the denominator should be replaced with $u_w$ I believe.\n",
        "\n",
        "Simplyfying, we have:\n",
        "\n",
        "$$\\frac{\\partial J}{\\partial v_c} = - \\frac{\\partial}{\\partial v_c} \\left[ log(\\exp{u_o^Tv_c}) - log(exp(\\Sigma_{w \\in Vocab} exp(u^T_w v_c))) \\right]$$\n",
        "\n",
        "$$- \\frac{\\partial}{\\partial v_c} \\left[ u_o^Tv_c - log (\\Sigma_{w \\in Vocab} exp(u^T_w v_c) \\right])$$\n",
        "$$ - u_o^T + \\frac{\\partial}{\\partial v_c} log (\\Sigma_{w \\in Vocab} exp(u^T_w v_c) ) $$\n",
        "\n",
        "Applying chain rule to the right side of equation:\n",
        " $$ - u_o^T + \\frac{1}{\\Sigma_{w \\in Vocab} exp(u^T_w v_c)} + \\frac{\\partial}{\\partial v_c} (\\Sigma_{w \\in Vocab} exp(u^T_w v_c) )$$\n",
        "\n",
        " $$ - u_o^T + \\frac{1}{\\Sigma_{w \\in Vocab} exp(u^T_w v_c)}   \\Sigma_{w \\in Vocab} exp(u^T_w v_c) u^T_w $$\n",
        "\n",
        " which can be rewritten as:\n",
        " $$-U^Ty+U^T\\hat y$$\n",
        "\n",
        "\n",
        "\n"
      ]
    },
    {
      "cell_type": "markdown",
      "id": "8364e05b",
      "metadata": {
        "id": "8364e05b"
      },
      "source": [
        "## **Task 3: Auto-Complete Feature (Grade (2 + 6 + 4) = 12)**\n",
        "\n",
        "Let's get even more practical! In this problem set, you will build your own auto-completion system that you see every day while using search engines.\n",
        "\n",
        "[google]: https://www.thedad.com/wp-content/uploads/2018/05/screen-shot-2018-05-12-at-2-01-56-pm.png \"google auto complete\"\n",
        "\n",
        "![google]\n",
        "By the end of this assignment, you will develop a simple prototype of such a system using n-gram language model. At the heart of the system is a language model that assigns the probability to a sequence of words. We take advantage of this probability calculation to predict the next word.\n",
        "\n",
        "The problem set contains 3 main parts:\n",
        "\n",
        "1. Load and preprocess data (tokenize and split into train and test)\n",
        "2. Develop n-gram based language model by estimating the conditional probability of the next word.\n",
        "3. Evaluate the model by computing the perplexity score.\n"
      ]
    },
    {
      "cell_type": "markdown",
      "id": "c9d5f84e",
      "metadata": {
        "id": "c9d5f84e"
      },
      "source": [
        "### Subtask 1: Load and Preprocess Data\n",
        "We use a subset of English tweets to train our model. Run the cell below to load the data and observe a few lines of it. Notice that tweets are saved in a text file, where the individual tweets are separated by `\\n`"
      ]
    },
    {
      "cell_type": "code",
      "execution_count": 25,
      "id": "48fc8e51",
      "metadata": {
        "colab": {
          "base_uri": "https://localhost:8080/",
          "height": 245
        },
        "id": "48fc8e51",
        "outputId": "ed04e7f5-7708-4f66-b50b-9ea8cf483cb7"
      },
      "outputs": [
        {
          "name": "stdout",
          "output_type": "stream",
          "text": [
            "First 500 characters of the data:\n"
          ]
        },
        {
          "data": {
            "text/plain": [
              "\"How are you? Btw thanks for the RT. You gonna be in DC anytime soon? Love to see you. Been way, way too long.\\nWhen you meet someone special... you'll know. Your heart will beat more rapidly and you'll smile for no reason.\\nthey've decided its more fun if I don't.\\nSo Tired D; Played Lazer Tag & Ran A LOT D; Ughh Going To Sleep Like In 5 Minutes ;)\\nWords from a complete stranger! Made my birthday even better :)\\nFirst Cubs game ever! Wrigley field is gorgeous. This is perfect. Go Cubs Go!\\ni no! i ge\""
            ]
          },
          "metadata": {},
          "output_type": "display_data"
        },
        {
          "name": "stdout",
          "output_type": "stream",
          "text": [
            "-------\n"
          ]
        }
      ],
      "source": [
        "import spacy\n",
        "nlp = spacy.load(\"en_core_web_sm\", disable=[\"tagger\", \"parser\",\"ner\"])\n",
        "\n",
        "\n",
        "with open(\"./twitter.txt\", \"r\", encoding='utf-8') as f:\n",
        "    data = f.read()\n",
        "print(\"First 500 characters of the data:\")\n",
        "display(data[0:500])\n",
        "print(\"-------\")"
      ]
    },
    {
      "cell_type": "markdown",
      "id": "aa007e1d",
      "metadata": {
        "id": "aa007e1d"
      },
      "source": [
        "Now we need to separate the tweets and split them into train and test set. Apply the following pre-processing steps:\n",
        "\n",
        "1. Split data into sentences using \"\\n\" as the delimiter and remove the leading and trailing spaces (drop empty sentences)\n",
        "2. Tokenize the sentences into words using SpaCy and lowercase them. (notice that we do not remove stop words or punctuations.)\n",
        "3. Divide the sentences into 80 percent training and 20 percent test set. No validation set is required. Although in a real-world application it is best to set aside part of the data for hyperparameter tuning.\n",
        "4. To limit the vocabulary and remove potential spelling mistakes, make a vocabulary of the words that appear at least 2 times. The rest of the words will be replaced by the `<unk>` symbol. This is a crucial step since if your model encounters a word that it never saw during training, it won't have an input word that helps determining the next word for suggestion. We use the `<unk>` word for **out of Vocabulary (OOV)** words. Keep in mind that we built the vocabulary on the training data only."
      ]
    },
    {
      "cell_type": "code",
      "execution_count": 26,
      "id": "16d5b640",
      "metadata": {
        "id": "16d5b640"
      },
      "outputs": [],
      "source": [
        "sentences = data.split(\"\\n\")\n",
        "sentences = [s.strip() for s in sentences]\n",
        "sentences = [s for s in sentences if len(s) > 0]"
      ]
    },
    {
      "cell_type": "code",
      "execution_count": 27,
      "id": "2faabb7a",
      "metadata": {
        "id": "2faabb7a"
      },
      "outputs": [],
      "source": [
        "tokenized_corpus = []# list of list of the tokens in a sentence\n",
        "##Your Code###\n",
        "doc = nlp.pipe(sentences, n_process=-1)\n",
        "for sentence in doc:\n",
        "    tokens = [token.text.lower() for token in sentence]\n",
        "    tokenized_corpus.append(tokens)"
      ]
    },
    {
      "cell_type": "code",
      "execution_count": 28,
      "id": "235d1b53",
      "metadata": {
        "id": "235d1b53"
      },
      "outputs": [],
      "source": [
        "from random import Random\n",
        "Random(4).shuffle(tokenized_corpus)\n",
        "\n",
        "train = tokenized_corpus[:int(0.8*len(tokenized_corpus))]\n",
        "test = tokenized_corpus[int(0.8*len(tokenized_corpus)):]"
      ]
    },
    {
      "cell_type": "code",
      "execution_count": 29,
      "id": "2526e4b1",
      "metadata": {
        "id": "2526e4b1"
      },
      "outputs": [
        {
          "name": "stdout",
          "output_type": "stream",
          "text": [
            "14861\n"
          ]
        }
      ],
      "source": [
        "from collections import Counter\n",
        "flatten_corpus = [word for sentence in train for word in sentence]\n",
        "word_counts = dict(Counter(flatten_corpus))\n",
        "vocab = [word for word, count in word_counts.items() if count >= 2]\n",
        "\n",
        "### keep only the ones with frequency bigger than 2 ###\n",
        "print(len(vocab)) ### should be 14861 ###\n",
        "train_replaced = []\n",
        "test_replaced = []\n",
        "for sentence in train:\n",
        "    train_replaced.append([word if word in vocab else '<unk>' for word in sentence])\n",
        "for sentence in test:\n",
        "    test_replaced.append([word if word in vocab else '<unk>' for word in sentence])"
      ]
    },
    {
      "cell_type": "markdown",
      "id": "f447294a",
      "metadata": {
        "id": "f447294a"
      },
      "source": [
        "### Subtask 2: N-gram Based Language Model:\n",
        "In this section, you will develop an n-grams language model [**1. Large Language Models (LLMs), slide 1-24**]. We assume that the probability of the next word depends only on the previous n-gram or previous n words. We compute this probability by counting the occurrences in the corpus.\n",
        "The conditional probability for the word at position 't' in the sentence, given that the words preceding it are $w_{t-1}, w_{t-2} \\cdots w_{t-n}$ can be estimated as follows:\n",
        "\n",
        "$$ \\hat{P}(w_t | w_{t-1}\\dots w_{t-n}) = \\frac{C(w_{t-1}\\dots w_{t-n}, w_t)}{C(w_{t-1}\\dots w_{t-n})}  $$\n",
        "\n",
        "The numerator is the number of times word '$w_t$' appears after the n-gram, and the denominator is the number of times the n-gram occurs in the corpus, where $C(\\cdots)$ is a count function. Later, we add k-smoothing to avoid errors when any counts are zero."
      ]
    },
    {
      "cell_type": "markdown",
      "id": "7a590b34",
      "metadata": {
        "id": "7a590b34"
      },
      "source": [
        "To tackle the problem of probability estimation we divide the problem into 3 parts. In the following you will:\n",
        "1. Implement a function that computes the counts of n-grams for an arbitrary number n.\n",
        "2. Estimate the probability of a word given the prior n-words using the n-gram counts.\n",
        "3. Calculate probabilities for all possible words.\n",
        "The steps are detailed below."
      ]
    },
    {
      "cell_type": "markdown",
      "id": "8da09885",
      "metadata": {
        "id": "8da09885"
      },
      "source": [
        "Let's start by implementing a function that computes the counts of n-grams for an arbitrary number n.\n",
        "- Prepend necessary starting markers `<s>` to indicate the beginning of the sentence. In the case of a bi-gram model, you need to prepend two start tokens `<s><s>` to be able to predict the first word. \"hello world\"-> \"`<s><s>`hello world\".\n",
        "- Append an end token `<e>` so that the model can predict when to finish a sentence.\n",
        "- Create a dictionary to store all the n_gram counts."
      ]
    },
    {
      "cell_type": "code",
      "execution_count": 30,
      "id": "e8a98cee",
      "metadata": {
        "id": "e8a98cee"
      },
      "outputs": [],
      "source": [
        "def n_grams_counts(corpus, n):\n",
        "    \"\"\"\n",
        "    Count all n-grams in the corpus given the parameter n\n",
        "\n",
        "    data: List of lists of words (your tokenized corpus)\n",
        "    n: n in the n-gram\n",
        "\n",
        "    Returns: A dictionary that maps a tuple of n words to its frequency\n",
        "    \"\"\"\n",
        "    start_token='<s>'\n",
        "    end_token = '<e>'\n",
        "    n_grams = defaultdict(int)\n",
        "    for sentence in corpus:\n",
        "        sentence = [start_token] + sentence + [end_token]\n",
        "        # convert list to tuple so it can be used a the key in the dictionary\n",
        "        sentence = tuple(sentence)\n",
        "\n",
        "        ###iterate over the n-grams in the sentence, you can use the range() function, and increament the counts in the\n",
        "        for i in range(len(sentence) - n + 1):\n",
        "            n_gram= tuple(sentence[i:i + n])\n",
        "            n_grams[n_gram] += 1\n",
        "        ## n_grams dictionary, where the key is the n_gram and the value is count\n",
        "    return n_grams"
      ]
    },
    {
      "cell_type": "markdown",
      "id": "ba75f530",
      "metadata": {
        "id": "ba75f530"
      },
      "source": [
        "The next step is to estimate the probability of a word given the prior n words using the n-gram counts, based on the formula given at the beginning of this task. To deal with the problem of zero division we add k-smoothing. K-smoothing adds a positive constant $k$ to each numerator and $k \\times |vocabulary size|$ in the denominator. Below we will define a function that takes in a dictionary `n_gram_cnt`, where the key is the n-gram, and the value is the count of that n-gram, plus a dictionary for `plus_current_gram_cnt`, which you'll use to find the count for the previous n-gram plus the current word. Notice that these dictionaries are computed using the previous function `n_grams_counts`.\n"
      ]
    },
    {
      "cell_type": "code",
      "execution_count": 31,
      "id": "a2c6898d",
      "metadata": {
        "id": "a2c6898d"
      },
      "outputs": [],
      "source": [
        "def probability(word, prev_n_gram,\n",
        "                         n_gram_cnts, plus_current_gram_cnts, vocab_size):\n",
        "    \"\"\"\n",
        "    Estimate the probabilities of the next word using the n-gram counts with k-smoothing\n",
        "    word: next word\n",
        "    prev_n_gram: previous n gram\n",
        "    n_gram_cnts: dictionary of counts of n-grams\n",
        "    plus_current_gram_cnts: dictionary of counts of (n+1)-grams -> current word+ n-gram = (n+1)-gram\n",
        "    vocab_size: number of words in the vocabulary\n",
        "\n",
        "    Returns: A probability\n",
        "    \"\"\"\n",
        "    k=1.0\n",
        "    prev_n_gram = tuple(prev_n_gram)\n",
        "\n",
        "    prev_n_gram_cnt =  n_gram_cnts.get(prev_n_gram, 0) # get the previous n-gram count from the dictionary\n",
        "    denominator = prev_n_gram_cnt + k * vocab_size # denominator with the previous n-gram count and k-smoothing\n",
        "    plus_current_gram =  prev_n_gram + (word,)# add the current word to the n-gram\n",
        "    plus_current_gram_cnts =  plus_current_gram_cnts[plus_current_gram]# get the current n-gram count using the dictionary\n",
        "    numerator = plus_current_gram_cnts + k #calculate the numerator with k-smoothing\n",
        "    prob = (numerator/denominator)*100\n",
        "\n",
        "    return prob"
      ]
    },
    {
      "cell_type": "markdown",
      "id": "7803eb7c",
      "metadata": {
        "id": "7803eb7c"
      },
      "source": [
        "Let's use the functions we have defined to calculate probabilities for all possible words.\n"
      ]
    },
    {
      "cell_type": "code",
      "execution_count": 32,
      "id": "7157c4cb",
      "metadata": {
        "id": "7157c4cb"
      },
      "outputs": [],
      "source": [
        "def probabilities(prev_n_gram, n_gram_cnts, plus_current_gram_cnts, vocab):\n",
        "    \"\"\"\n",
        "    Estimate the probabilities for all the words in the vocabulary given the previous n-gram\n",
        "    prev_n_gram: previous n-gram\n",
        "    n_gram_cnts: dictionary of counts of n-grams\n",
        "    plus_current_gram_cntsplus_current_gram_cnt: dictionary of counts of (n+1)-grams -> current word+ n-gram = (n+1)-gram\n",
        "    vocab: List of words\n",
        "\n",
        "    Returns: A dictionary mapping from next words to the probability.\n",
        "    \"\"\"\n",
        "    prev_n_gram = tuple(prev_n_gram)\n",
        "\n",
        "    vocab =  vocab + [\"<e>\", \"<unk>\"] # add <e> <unk> to the vocabulary\n",
        "    vocabulary_size = len(vocab) #compute the size\n",
        "\n",
        "    probabilities = {}\n",
        "    for word in vocab:\n",
        "        probabilit = probability(word, prev_n_gram,n_gram_cnts, plus_current_gram_cnts, vocabulary_size)\n",
        "        probabilities[word] = probabilit ### compute the probability\n",
        "    return probabilities"
      ]
    },
    {
      "cell_type": "code",
      "execution_count": 33,
      "id": "88fea049",
      "metadata": {
        "id": "88fea049"
      },
      "outputs": [
        {
          "name": "stdout",
          "output_type": "stream",
          "text": [
            "The word 'moon' should have the highest probability, if it is not the case, re-visit your previous functions.\n"
          ]
        },
        {
          "data": {
            "text/plain": [
              "{'plants': 5.263157894736842,\n",
              " 'the': 5.263157894736842,\n",
              " 'plant': 5.263157894736842,\n",
              " 'are': 5.263157894736842,\n",
              " 'tonight': 5.263157894736842,\n",
              " 'stars': 5.263157894736842,\n",
              " 'shining': 5.263157894736842,\n",
              " 'and': 5.263157894736842,\n",
              " 'is': 5.263157894736842,\n",
              " 'bright': 5.263157894736842,\n",
              " 'shinnig': 5.263157894736842,\n",
              " 'mars': 5.263157894736842,\n",
              " 'moon': 21.052631578947366,\n",
              " 'a': 5.263157894736842,\n",
              " '<e>': 5.263157894736842,\n",
              " '<unk>': 5.263157894736842}"
            ]
          },
          "execution_count": 33,
          "metadata": {},
          "output_type": "execute_result"
        }
      ],
      "source": [
        "# Predict the probability of all possible words after the unigram \"the\"\n",
        "sentences = [['the', 'moon', 'and', 'stars', 'are','shining','bright'],\n",
        "             ['the', 'moon', 'is', 'shinnig','tonight'],\n",
        "             ['mars','and' ,'moon', 'are', 'plants'],\n",
        "             ['the' ,'moon', 'is','a', 'plant']]\n",
        "unique_words = list(set(sentences[0] + sentences[1] + sentences[2]+ sentences[3]))\n",
        "unigram_counts = n_grams_counts(sentences, 1)\n",
        "bigram_counts = n_grams_counts(sentences, 2)\n",
        "print(\"The word 'moon' should have the highest probability, if it is not the case, re-visit your previous functions.\")\n",
        "probabilities([\"the\"], unigram_counts, bigram_counts, unique_words)"
      ]
    },
    {
      "cell_type": "markdown",
      "id": "014a385f",
      "metadata": {
        "id": "014a385f"
      },
      "source": [
        "### Subtask 3: Evaluation"
      ]
    },
    {
      "cell_type": "markdown",
      "id": "90a4345f",
      "metadata": {
        "id": "90a4345f"
      },
      "source": [
        "In this part, we use the perplexity score to evaluate your model on the test set. The perplexity score of the test set on an n-gram model is defined as follows:\n",
        "\n",
        "$$ PP(W) =\\sqrt[N]{ \\prod_{t=n}^{N-1} \\frac{1}{P(w_t | w_{t-n} \\cdots w_{t-1})} } $$\n",
        "- where $N$ is the length of the sentence. ($N-1$ is used because in the code we start from the index 0).\n",
        "- $n$ is the number of words in the n-gram.\n",
        "- $W$ is the n-gram\n",
        "\n",
        "Notice that we have already computed this probability.\n",
        "\n",
        "The higher the probabilities are, the lower the perplexity will be."
      ]
    },
    {
      "cell_type": "code",
      "execution_count": 34,
      "id": "9644c33f",
      "metadata": {
        "id": "9644c33f"
      },
      "outputs": [],
      "source": [
        "def perplexity(sentence, n_gram_cnts, plus_current_gram_cnts, vocab_size, k=1.0):\n",
        "    \"\"\"\n",
        "    Calculate perplexity for a list of sentences\n",
        "    sentence: List of strings\n",
        "    n_gram_cnts: dictionary of counts of n-grams\n",
        "    plus_current_gram_cnts: dictionary of counts of (n+1)-grams -> current word+ n-gram = (n+1)-gram\n",
        "    vocab_size: number of unique words in the vocabulary\n",
        "    k: positive smoothing constant\n",
        "\n",
        "    Returns: Perplexity score for a single sentence\n",
        "    \"\"\"\n",
        "\n",
        "    n = len(list(n_gram_cnts.keys())[0])# get the number 'n' in  n-gram  from n_gram_cnts\n",
        "\n",
        "    sentence =  ['<s>']+ sentence + ['<e>']# prepend <s> and append <e>\n",
        "    sentence = tuple(sentence)\n",
        "    N = len(sentence)# length of sentence\n",
        "\n",
        "\n",
        "    product_pi = 1.0\n",
        "\n",
        "    ### Compute the product of probabilities ###\n",
        "\n",
        "    for t in range(n, N):\n",
        "        n_gram = sentence[t-n : t]# get the n-gram before the predicted word (n-gram before t )\n",
        "        word = sentence[t] # get the word to be predicted (position t)\n",
        "        prob = probability(word,n_gram, n_gram_cnts, plus_current_gram_cnts, vocab_size)# your code instead of ....\n",
        "        product_pi *= 1 / prob # Update the product of the probabilities\n",
        "\n",
        "    perplexity = product_pi**(1/float(N)) # Take the Nth root of the product\n",
        "    return perplexity"
      ]
    },
    {
      "cell_type": "markdown",
      "id": "8745e1bc",
      "metadata": {
        "id": "8745e1bc"
      },
      "source": [
        "Use `perplexity` function to find the perplexity of a bi-gram model on the first training sample and on the first test sample (first element of the set)."
      ]
    },
    {
      "cell_type": "code",
      "execution_count": 35,
      "id": "d857043a",
      "metadata": {
        "id": "d857043a"
      },
      "outputs": [
        {
          "name": "stdout",
          "output_type": "stream",
          "text": [
            "Perplexity for first train sample: 64.5743\n",
            "Perplexity for test sample: 110.7356\n"
          ]
        }
      ],
      "source": [
        "bigram_counts = n_grams_counts(sentences, 1) \n",
        "trigram_counts = n_grams_counts(sentences, 2)\n",
        "\n",
        "perplexity_train = perplexity(train_replaced[0],bigram_counts, trigram_counts,len(vocab))\n",
        "print(f\"Perplexity for first train sample: {perplexity_train:.4f}\")\n",
        "\n",
        "perplexity_test = perplexity(test_replaced[0],bigram_counts, trigram_counts,len(vocab))\n",
        "print(f\"Perplexity for test sample: {perplexity_test:.4f}\")# the perplexity for the train sample should be much lower"
      ]
    },
    {
      "cell_type": "markdown",
      "id": "7c697faa",
      "metadata": {
        "id": "7c697faa"
      },
      "source": [
        "Finally, let's use the model we created to generate an auto-complete system that makes suggestions."
      ]
    },
    {
      "cell_type": "code",
      "execution_count": 36,
      "id": "b6d6163b",
      "metadata": {
        "id": "b6d6163b"
      },
      "outputs": [],
      "source": [
        "def suggest_a_word(up_to_here, n_gram_cnts, plus_current_gram_cnts, vocab , start_with=None):\n",
        "    \"\"\"\n",
        "    Get suggestion for the next word\n",
        "    up_to_here: the sentence so far, must have length > n\n",
        "    n_gram_cnts: dictionary of counts of n-grams\n",
        "    plus_current_gram_cnts: dictionary of counts of (n+1)-grams -> current word+ n-gram = (n+1)-gram\n",
        "    vocab: List of words\n",
        "    start_with: If not None, specifies the first few letters of the next word\n",
        "\n",
        "    Returns: (most likely next word,  probability)\n",
        "    \"\"\"\n",
        "    n = len(list(n_gram_cnts.keys())[0]) # get the number 'n' in  n-gram  from n_gram_cnts\n",
        "    previous_n_gram = previous_tokens[-n:] # get the last 'n' words as the previous n-gram from the input sentenc\n",
        "    probabs = probabilities(previous_n_gram, n_gram_cnts, plus_current_gram_cnts, vocab)# Estimate the probabilities for each word in the vocabulary\n",
        "    sorted_probs = sorted(probabs.items(), key=lambda x: x[1], reverse=True)\n",
        "    if start_with is not None:\n",
        "        sorted_probs = [(word, prob) for word, prob in sorted_probs if word.startswith(start_with)]\n",
        "    if sorted_probs:\n",
        "        return sorted_probs[0]\n",
        "    else:\n",
        "        return None, 0.0"
      ]
    },
    {
      "cell_type": "markdown",
      "id": "f88f9abc",
      "metadata": {
        "id": "f88f9abc"
      },
      "source": [
        "Test your model based on the bi-gram model created on the training corpus."
      ]
    },
    {
      "cell_type": "code",
      "execution_count": 37,
      "id": "460dff09",
      "metadata": {
        "id": "460dff09"
      },
      "outputs": [
        {
          "data": {
            "text/plain": [
              "('be', 0.0067281168001076495)"
            ]
          },
          "execution_count": 37,
          "metadata": {},
          "output_type": "execute_result"
        }
      ],
      "source": [
        "previous_tokens=['i','like']\n",
        "start_with='b'\n",
        "suggestion = suggest_a_word(previous_tokens, bigram_counts,trigram_counts, list(vocab),start_with=start_with)\n",
        "suggestion"
      ]
    },
    {
      "cell_type": "code",
      "execution_count": 38,
      "id": "e68f730c",
      "metadata": {
        "id": "e68f730c"
      },
      "outputs": [
        {
          "data": {
            "text/plain": [
              "('be', 0.0067281168001076495)"
            ]
          },
          "execution_count": 38,
          "metadata": {},
          "output_type": "execute_result"
        }
      ],
      "source": [
        "previous_tokens=['i','like','to']\n",
        "start_with=None\n",
        "suggestion = suggest_a_word(previous_tokens, bigram_counts,trigram_counts, list(vocab),start_with=start_with)\n",
        "suggestion"
      ]
    },
    {
      "cell_type": "code",
      "execution_count": 39,
      "id": "001a7ff4",
      "metadata": {
        "id": "001a7ff4"
      },
      "outputs": [
        {
          "data": {
            "text/plain": [
              "('a', 0.013454423141607804)"
            ]
          },
          "execution_count": 39,
          "metadata": {},
          "output_type": "execute_result"
        }
      ],
      "source": [
        "previous_tokens=[\"hello\", \"my\", \"name\", \"is\"]\n",
        "start_with=None\n",
        "suggestion = suggest_a_word(previous_tokens, bigram_counts,trigram_counts, list(vocab),start_with=start_with)\n",
        "suggestion"
      ]
    },
    {
      "cell_type": "code",
      "execution_count": 40,
      "id": "c556e16f",
      "metadata": {
        "id": "c556e16f"
      },
      "outputs": [
        {
          "data": {
            "text/plain": [
              "('a', 0.013454423141607804)"
            ]
          },
          "execution_count": 40,
          "metadata": {},
          "output_type": "execute_result"
        }
      ],
      "source": [
        "previous_tokens=[\"hello\", \"my\", \"name\", \"is\"]\n",
        "start_with='a'\n",
        "suggestion = suggest_a_word(previous_tokens, bigram_counts,trigram_counts, list(vocab),start_with=start_with)\n",
        "suggestion"
      ]
    },
    {
      "cell_type": "markdown",
      "id": "b4a15ac8",
      "metadata": {
        "id": "b4a15ac8"
      },
      "source": [
        "## **Task 4: Understanding GloVe (Grade (2 + 4.25 + 4 + 1.75) = 12)**"
      ]
    },
    {
      "cell_type": "markdown",
      "id": "15e586ca",
      "metadata": {
        "id": "15e586ca"
      },
      "source": [
        "In this part, you will implement the [GloVe](https://nlp.stanford.edu/projects/glove/) model and train your own word vectors with gradient\n",
        "descent and numpy. GloVe stands for Global Vectors for word representation, which was developed by researchers at Stanford University to generate word embeddings from corpus statistics.\n",
        "The statistics of the corpus are represented by a co-occurrence matrix, indicating how often a particular word pair occurs together.\n",
        "GloVe is based on ratios of probabilities from this co-occurrence matrix, combining the intuitions of count-based models while also being similar to neural models like word2vec.\n",
        "From this matrix, one can compute the co-occurrence probabilities. We motivate this with an example:\n",
        "\n",
        "$P_{ik} = P(i,j (k?))$ -> co-occurrence probability or joint probability of words $i$ and $k$\n",
        "\n",
        "$P_{jk}$ ->co-occurrence probability of words $j$ and $k$\n",
        "\n",
        "$\\frac{P_{ik}}{P_{jk}}$-> corelation between $i$ and $j$ with the prob word $k$\n",
        "\n",
        "This ratio gives us some insight into the co-relation of the probe word $k$ with the words $i$ and $j$.\n",
        "An example is shown below for different prob words $k$, where $i$ and $j$ are `ice` and `steam`, respectively."
      ]
    },
    {
      "cell_type": "markdown",
      "id": "076234c5",
      "metadata": {
        "id": "076234c5"
      },
      "source": [
        "\n",
        "![glove](https://nlp.stanford.edu/projects/glove/images/table.png)\n"
      ]
    },
    {
      "cell_type": "markdown",
      "id": "3b933587",
      "metadata": {
        "id": "3b933587"
      },
      "source": [
        "Image taken from Stanford NLP."
      ]
    },
    {
      "cell_type": "markdown",
      "id": "76e8f6f0",
      "metadata": {
        "id": "76e8f6f0"
      },
      "source": [
        "Compared to the raw probabilities, the ratio of probabilities is better able to distinguish relevant words from irrelevant words. Consider the raw probabilities (the first two rows), the values are close to one another and not indicative of the relationships. However, the ratios have more distinct values.\n",
        "\n",
        "This ratio can be small, large, or equal to 1 depending on the prob word and their co-relation. In the example above, the ratio between ice and steam for `k=solid` is large and for `k=gas` is small, indicating that `solid` is related to ice but `gas` is irrelevant. On the other hand, `water` is not a discriminating element between them, and therefore the ratio is close to one. The same applies to an irrelevant word like `fashion`.\n",
        "\n",
        "The GloVe model is built on the idea that the \"ratio of conditional probabilities represents the word meanings\" and a neural model is trained to estimate this conditional probability.\n",
        "\n",
        "$F(w_i,w_j,\\tilde{w_k})=\\frac{P_ik}{P_jk}$ -> the right-hand side is computed from the corpus statistics, $w$ is the word vector and $\\tilde{w_k}$ is the context vector\n",
        "\n",
        "The GloVe model embeds the words in a vector space and claims that the difference between them (distinguishing factor) is hidden in the ratio of probabilities. In vector space, the best way to encode this is by vector differences.\n",
        "\n",
        "$F((w_i-w_j),\\tilde{w_k})=\\frac{P_ik}{P_jk}$\n",
        "\n",
        "At this point, the left-hand side is a vector and the right-hand side is a scalar showing the similarity of i and j with the context word k.\n",
        "For both sides to match and to encode the similarity in the vector space, the left-hand side becomes a dot product.\n",
        "\n",
        "$F((w_i-w_j)^{T}.\\tilde{w_k})=\\frac{P_ik}{P_jk}=\\frac{F(w_i.\\tilde{w_k})}{F(w_j.\\tilde{w_k})} $\n",
        "\n",
        "$F(w_i.\\tilde{w_k})=\\frac{X_{ik}}{X_{i}}$ -> where $X$ is drived from the co-occurrences matrix\n",
        "\n",
        "To satisfy a symmetrical relationship (a.k.a. relation(a, b) = relation(b, a)), $F$ is chosen to be an exponential function, $F(x)=exp(x)$. As a result:\n",
        "\n",
        "$w_i.\\tilde{w_k} = log(P_{ik} ) = log(X_{ik} ) − log(X_{i})$\n",
        "\n",
        "$log(X_{i})$ is independent of $k$ and can be absored into a bias term.\n",
        "\n",
        "$w_i.\\tilde{w_k} = log(P_{ik} ) + b_i +\\tilde{b_k} = log(X_{ik} )$\n",
        "\n",
        "After some weighting and alterations the final cost function, based on the weighted least squares regression model is as follows:\n",
        "\n",
        "$J= \\Sigma^{V}_{i,j=1} f(X_{ij})(w_i.w_j+ b_i +b_j)-log(X_{ik})$\n",
        "\n",
        "For a detailed overview refer to the original paper: https://nlp.stanford.edu/pubs/glove.pdf\n",
        "You need to read and understand the GloVe model to solve this exercise.\n"
      ]
    },
    {
      "cell_type": "markdown",
      "id": "0d71fbc8",
      "metadata": {
        "id": "0d71fbc8"
      },
      "source": [
        "### Subtask 1: Cost function"
      ]
    },
    {
      "cell_type": "markdown",
      "id": "174acc1f",
      "metadata": {
        "id": "174acc1f"
      },
      "source": [
        "Read the paper and describe the following, in your own words:\n",
        "\n",
        " 1. The intuition behind the weighting schema in the cost function.\n",
        "\n",
        " 2. How does the objective function of GloVe relate to the objective function of the (word2vec) skip-gram model?"
      ]
    },
    {
      "cell_type": "markdown",
      "id": "9dac9d93",
      "metadata": {
        "id": "9dac9d93"
      },
      "source": [
        "1. Authors of the paper propose to use weighted least squares as a cost function. They do it by creating a function f, by which the cost function (previously calculated) is multiplied (weighted). The aim to use the weighting function is to in some way scale the x values. Authors mention three problems, for which weighting function is of help:\n",
        "- in cases when x should be high (because it was too frequent), the weighting function should scale the values, so that this x in the co-occurrences matrix will not be overweighted,\n",
        "- also, f function should be non-decreasing; if it was, small x would be overweighten, because cost function includes multiplying by f, and we do not want overweighting any special corner cases.\n",
        "- authors also mention, that f(0) should equal to 0, as for really small x $lim_{x->0}f(x)log^2{x}$ should be finite."
      ]
    },
    {
      "cell_type": "markdown",
      "id": "d1e3887c",
      "metadata": {
        "id": "d1e3887c"
      },
      "source": [
        "2. The global objective function used for skip-gram model is as follows $$J=-\\sum_{i \\in corpus, j \\in context(i)}logQ_{ij}$$ where as $Q_{ij}$ they use softmax function. Authors of the GloVe paper show, how the sum in this equation can be calculated much faster, first by grouping together terms with same values of i and j. Later by using notation introduced by them previously ($X_i=\\sum_k X_{ik}$ and $P_{ij}=X_{ij}/X_i$) they transform the equation to the form of weighted sum of cross-entropy error. This means that the objective function of skip-gram is a weighted sum of certain distance measures between probability distributions. On the other hand, the objective for the GloVe method is also a weighting function, which is a variation of least squares - they use least squared error of logarithms of the unnormalized distributions. That is how the authors obtain GloVe objective function: $$\\hat{J}=\\sum_{i,j}f(X_{ij})(w_i^T \\widetilde{w}_j-logX_{ij})^2$$"
      ]
    },
    {
      "cell_type": "markdown",
      "id": "988ae19d",
      "metadata": {
        "id": "988ae19d"
      },
      "source": [
        "### Subtask 2: Build Co-occurence matrix\n"
      ]
    },
    {
      "cell_type": "markdown",
      "id": "edca833e",
      "metadata": {
        "id": "edca833e"
      },
      "source": [
        "We use the same dataset as the first task and use the `quotes` as the corpus to build the co-occurrences matrix. Similar to the first task we use the `phrases` to transform our input and extract the vocabulary."
      ]
    },
    {
      "cell_type": "code",
      "execution_count": 41,
      "id": "bca0b788",
      "metadata": {
        "id": "bca0b788"
      },
      "outputs": [],
      "source": [
        "import numpy as np\n",
        "from scipy import sparse\n",
        "from math import log\n",
        "from itertools import chain\n",
        "from collections import Counter\n",
        "from tqdm import tqdm"
      ]
    },
    {
      "cell_type": "markdown",
      "id": "dacc60e8",
      "metadata": {
        "id": "dacc60e8"
      },
      "source": [
        "Complete the function to create dictionaries used for mapping ids to words and words to ids, and a dictionary that counts the number of occurrences of each word. The first two dictionaries are used to map indices in vector space to words and back, and the third dictionary contains the counts of the corpus statistics."
      ]
    },
    {
      "cell_type": "code",
      "execution_count": 42,
      "id": "09dc3179",
      "metadata": {
        "id": "09dc3179"
      },
      "outputs": [],
      "source": [
        "def create_vocab(corpus):\n",
        "  \"\"\"\n",
        "  Build a vocabulary containing the frequencies\n",
        "  corpus: the list of tokenized lines form the corpus\n",
        "\n",
        "  Returns  dictionaries `word` -> (index or unique identified), frequency)`\n",
        "  and `word` -> (index or unique identified)\n",
        "  and index or unique identified -> `word`\n",
        "  and length of the vocab\n",
        "  \"\"\"\n",
        "\n",
        "  word_count_dict = {} # word id to the number of time it appears\n",
        "  id_to_word={} # mapping ids to words\n",
        "  word_to_id={} # mapping words to ids\n",
        "  ### you code goes here###\n",
        "\n",
        "  i=0\n",
        "  id_new=0\n",
        "  for line in new_lines:\n",
        "    i+=1\n",
        "    for word in line:\n",
        "      if word in word_to_id:\n",
        "        id=word_to_id[word]\n",
        "        word_count_dict[id]+=1\n",
        "      else:\n",
        "        word_to_id[word]=id_new\n",
        "        id_to_word[id_new]=word\n",
        "        word_count_dict[id_new]=1\n",
        "        id_new=id_new+1\n",
        "\n",
        "  return word_count_dict,id_to_word,word_to_id, len(word_count_dict)"
      ]
    },
    {
      "cell_type": "code",
      "execution_count": 43,
      "id": "9fb4ca54",
      "metadata": {
        "id": "9fb4ca54"
      },
      "outputs": [],
      "source": [
        "word_count_dict, id_to_word,word_to_id, vocab_size=create_vocab(new_lines)"
      ]
    },
    {
      "cell_type": "markdown",
      "id": "GlX4ugx88_v7",
      "metadata": {
        "id": "GlX4ugx88_v7"
      },
      "source": [
        "If you have done the exercise correctly, you have `15333` tokens in the vocabulary, and the number of occurrences for `joey` is `1951` and for `central_perk` is `36`"
      ]
    },
    {
      "cell_type": "code",
      "execution_count": 44,
      "id": "c8b31695",
      "metadata": {
        "colab": {
          "base_uri": "https://localhost:8080/"
        },
        "id": "c8b31695",
        "outputId": "6dc81f0e-85fb-4cea-fc1e-d4569a51375f"
      },
      "outputs": [
        {
          "name": "stdout",
          "output_type": "stream",
          "text": [
            "number of occurrences for joey: 1949\n",
            "number of occurrences for central perk: 36\n",
            "vocab size is: 15290\n"
          ]
        }
      ],
      "source": [
        "print(\"number of occurrences for joey:\",word_count_dict[word_to_id['joey']])\n",
        "print(\"number of occurrences for central perk:\",word_count_dict[word_to_id['central_perk']])\n",
        "print(\"vocab size is:\",vocab_size)"
      ]
    },
    {
      "cell_type": "code",
      "execution_count": 45,
      "id": "b027280a",
      "metadata": {
        "id": "b027280a"
      },
      "outputs": [],
      "source": [
        "def calculate_weight(cooccurrences, context_word_ids, center_word_id, side):\n",
        "    \"\"\"\n",
        "    Calculate the weight in the co-occurrence matrix based on the distance of a word\n",
        "    to the center word\n",
        "    sentence = [I, went, to , the, bank]\n",
        "    Let center word be \"to\" and window size =2\n",
        "    left_context =[I,went]\n",
        "    right_context = [the,bank]\n",
        "\n",
        "    Weights:\n",
        "    1/distance-> `went` and `the` have weight of 1 and `I` and `bank` have weight of 1/2\n",
        "    \"\"\"\n",
        "\n",
        "    if side != \"right_context\":\n",
        "        context_word_ids.reverse()\n",
        "\n",
        "      ## adjust the weight of the matrix to 1/distance between the center word and context word, where center word will act as the row and the context word is the column##\n",
        "    for id in range(len(context_word_ids)):\n",
        "      distance=id+1\n",
        "      cooccurrences[center_word_id, context_word_ids[id]] += 1/distance\n",
        "    return cooccurrences\n",
        "\n"
      ]
    },
    {
      "cell_type": "markdown",
      "id": "MUF8zXO59P3b",
      "metadata": {
        "id": "MUF8zXO59P3b"
      },
      "source": [
        "The weight of first to second element on the example matrix should be `1.0`."
      ]
    },
    {
      "cell_type": "code",
      "execution_count": 46,
      "id": "d7c32c0e",
      "metadata": {
        "colab": {
          "base_uri": "https://localhost:8080/"
        },
        "id": "d7c32c0e",
        "outputId": "79916981-7932-4008-c892-4e28324b966d"
      },
      "outputs": [
        {
          "name": "stdout",
          "output_type": "stream",
          "text": [
            "weight of id=0 to id=1 : 1.0\n"
          ]
        }
      ],
      "source": [
        "cooccurrences = sparse.lil_matrix((10, 10),dtype=np.float64)\n",
        "calculate_weight(cooccurrences, [1,3,5], 0, side=\"right_context\")\n",
        "print(\"weight of id=0 to id=1 :\",cooccurrences[0,1])"
      ]
    },
    {
      "cell_type": "markdown",
      "id": "0ede37e8",
      "metadata": {
        "id": "0ede37e8"
      },
      "source": [
        "We build co-occurrence as a sparse matrix to speed up the computation. The original matrix is a square matrix in the size of the vocabulary. However, many words do not co-occur with one another and we do not need to store those elements."
      ]
    },
    {
      "cell_type": "code",
      "execution_count": 47,
      "id": "d63f39e7",
      "metadata": {
        "id": "d63f39e7"
      },
      "outputs": [],
      "source": [
        "def build_cooccur(corpus, window_size=3, min_count=5):\n",
        "    \"\"\"\n",
        "    Create a coocurrance matrix given a corpus\n",
        "    corpus: the list of tokenized lines form the corpus\n",
        "    window_size: how many words to right and left to consider\n",
        "\n",
        "    Returns the co-oocurrance sparse matrix\n",
        "    \"\"\"\n",
        "    vocab, id_to_word,word_to_id, vocab_size= create_vocab(corpus)\n",
        "\n",
        "    #sparse lil_matrix is optimized to operate on matrix which mostly has zeros.\n",
        "    cooccurrences = sparse.lil_matrix((vocab_size, vocab_size),dtype=np.float64)\n",
        "\n",
        "    for i, line in enumerate(corpus):\n",
        "\n",
        "        #Get the ID of words from vocab dictionary\n",
        "        word_ids = [word_to_id[word] for word in line]\n",
        "\n",
        "        for i, center_word_id in enumerate(word_ids):\n",
        "          left_context_word_ids=word_ids[max(i-window_size,0):i]\n",
        "          right_context_word_ids=word_ids[(i+1):(i+window_size+1)]\n",
        "\n",
        "          ###update the matrix based on the distance weights on both sides###\n",
        "          calculate_weight(cooccurrences, right_context_word_ids, center_word_id, side=\"right_context\")\n",
        "          calculate_weight(cooccurrences, left_context_word_ids, center_word_id, side=\"left_context\")\n",
        "\n",
        "    # go into the LiL-matrix to quickly iterate through all nonzero cells and filter out the ones with minimum count\n",
        "    cooccurrences_tuples = []\n",
        "    for i, (row, data) in enumerate(zip(cooccurrences.rows,cooccurrences.data)):\n",
        "      for j in range(len(row)):\n",
        "        weight=data[j]\n",
        "        if weight>=min_count:\n",
        "          cooccurrences_tuples.append((i,j,weight))\n",
        "\n",
        "      ## check if the min_count condition is statisfied and then add the elements as the tuple of (i,j,weight)###\n",
        "    return cooccurrences_tuples\n"
      ]
    },
    {
      "cell_type": "markdown",
      "id": "f3aba5bd",
      "metadata": {
        "id": "f3aba5bd"
      },
      "source": [
        "Build a matrix with a window_size of 3 words, and the minimum number of times a word has to occur to be part of the matrix is 10."
      ]
    },
    {
      "cell_type": "code",
      "execution_count": 48,
      "id": "69c198e0",
      "metadata": {
        "colab": {
          "base_uri": "https://localhost:8080/"
        },
        "id": "69c198e0",
        "outputId": "c7ebac2e-4bea-4142-aa23-97ffde6e787f",
        "scrolled": true
      },
      "outputs": [
        {
          "data": {
            "text/plain": [
              "(2, 53, 23.0)"
            ]
          },
          "execution_count": 48,
          "metadata": {},
          "output_type": "execute_result"
        }
      ],
      "source": [
        "matrix=build_cooccur(new_lines, window_size=3, min_count=10)\n",
        "matrix[103]"
      ]
    },
    {
      "cell_type": "code",
      "execution_count": 49,
      "id": "laxawiHHELT5",
      "metadata": {
        "colab": {
          "base_uri": "https://localhost:8080/"
        },
        "id": "laxawiHHELT5",
        "outputId": "c80b1cdd-4aeb-413b-e0fb-c6213fa33f63"
      },
      "outputs": [
        {
          "data": {
            "text/plain": [
              "5125"
            ]
          },
          "execution_count": 49,
          "metadata": {},
          "output_type": "execute_result"
        }
      ],
      "source": [
        "len(matrix)"
      ]
    },
    {
      "cell_type": "markdown",
      "id": "82cc1256",
      "metadata": {
        "id": "82cc1256"
      },
      "source": [
        "### Subtask 3: Modelling and Training\n"
      ]
    },
    {
      "cell_type": "markdown",
      "id": "91764831",
      "metadata": {
        "id": "91764831"
      },
      "source": [
        "We initialize the weights for the context and center words and learn the vectors through backprop, using the GloVe cost function.\n",
        "Make sure you use the correct weighting schema."
      ]
    },
    {
      "cell_type": "code",
      "execution_count": 50,
      "id": "05251525",
      "metadata": {
        "id": "05251525"
      },
      "outputs": [],
      "source": [
        "# Random normal weights intialization\n",
        "np.random.seed(77)# we set a seed to have similar results\n",
        "def init_weights(vocab_size, hidden):\n",
        "    #Each word has a center word vector and a context vector.\n",
        "    W_center = np.random.randn(vocab_size,hidden)\n",
        "    b_center = np.random.randn(vocab_size)\n",
        "    W_context = np.random.randn(vocab_size,hidden)\n",
        "    b_context = np.random.randn(vocab_size)\n",
        "    return W_center, b_center, W_context, b_context"
      ]
    },
    {
      "cell_type": "markdown",
      "id": "y-mcYRis9wet",
      "metadata": {
        "id": "y-mcYRis9wet"
      },
      "source": [
        "keep track of `W_center[0,1]` as it should change based on backprop in the next cells."
      ]
    },
    {
      "cell_type": "code",
      "execution_count": 51,
      "id": "b2f31560",
      "metadata": {
        "colab": {
          "base_uri": "https://localhost:8080/"
        },
        "id": "b2f31560",
        "outputId": "555259b3-16dc-4084-8a67-f4c1fe3b7bc3"
      },
      "outputs": [
        {
          "name": "stdout",
          "output_type": "stream",
          "text": [
            "check the shapes to make sure the matrices have correct sizes:\n",
            "(100, 32)\n",
            "(100,)\n",
            "(100, 32)\n",
            "(100,)\n",
            "Look at the value of this element and how it changes with back prob:\n",
            "0.6615314728168009\n"
          ]
        }
      ],
      "source": [
        "W_center, b_center, W_context, b_context=init_weights(100, 32)\n",
        "print(\"check the shapes to make sure the matrices have correct sizes:\")\n",
        "print(W_center.shape)\n",
        "print(b_center.shape)\n",
        "print(W_context.shape)\n",
        "print(b_context.shape)\n",
        "print(\"Look at the value of this element and how it changes with back prob:\")\n",
        "print(W_center[0,1])"
      ]
    },
    {
      "cell_type": "markdown",
      "id": "gae189dl-ZZo",
      "metadata": {
        "id": "gae189dl-ZZo"
      },
      "source": [
        "Write a training script for the GloVe model that goes over the entire co-occurrence matrix given a number of epochs."
      ]
    },
    {
      "cell_type": "code",
      "execution_count": 52,
      "id": "8669b4fb",
      "metadata": {
        "id": "8669b4fb"
      },
      "outputs": [],
      "source": [
        "# Back Propagation\n",
        "def back_prop(W_center, b_center, W_context, b_context, matrix, x_max,  vocab_size, learning_rate, alpha=2):\n",
        "    \"\"\"\n",
        "    W_center, b_center: weight and bias of the center word\n",
        "    W_context, b_context: weight and bias of the context word\n",
        "    vocab_size: vocabulary size\n",
        "    x_max: define our weighting function when computing the cost for two word pairs; see the GloVe paper for more\n",
        "    details. => (x/x_max)^alpha or 1\n",
        "    matrix: coocurrance matrix\n",
        "    alpha: the power of x_max function\n",
        "    learning_rate: learning rate for gradient descent\n",
        "    \"\"\"\n",
        "    global_cost = 0\n",
        "    for i, j, cooccurrence in matrix:\n",
        "        weight = ((cooccurrence/x_max)**alpha if cooccurrence < x_max else 1)\n",
        "\n",
        "        # Compute inner component of cost function J' = w_i^Tw_j + b_i + b_j - log(X_{ij})\n",
        "        J_prime = np.dot(W_center[i], W_context[j]) + b_center[i] + b_context[j] - np.log(cooccurrence)\n",
        "\n",
        "        ##Compute cost J = f(X_{ij}) (J')^2##\n",
        "        J = weight * (J_prime ** 2)\n",
        "\n",
        "        ##Compute gradients for word vectors##\n",
        "        grad_center = 2 * weight * J_prime * W_context[j]\n",
        "        grad_context = 2 * weight * J_prime * W_center[i]\n",
        "\n",
        "        ##Compute gradients for bias terms##\n",
        "        grad_bias_center = 2 * weight * J_prime\n",
        "        grad_bias_context = 2 * weight * J_prime\n",
        "\n",
        "        ##update the weights##\n",
        "        W_center[i] -= learning_rate * grad_center\n",
        "        W_context[j] -= learning_rate * grad_context\n",
        "        b_center[i] -= learning_rate * grad_bias_center\n",
        "        b_context[j] -= learning_rate * grad_bias_context\n",
        "\n",
        "        global_cost += J\n",
        "\n",
        "    return W_center, b_center, W_context, b_context, global_cost"
      ]
    },
    {
      "cell_type": "markdown",
      "id": "sV9uZIgX95tZ",
      "metadata": {
        "id": "sV9uZIgX95tZ"
      },
      "source": [
        "Based on the random seed, the value of `W_center[0,1]` should have changed due to backpropagation.\n"
      ]
    },
    {
      "cell_type": "code",
      "execution_count": 53,
      "id": "84a467a0",
      "metadata": {
        "colab": {
          "base_uri": "https://localhost:8080/"
        },
        "id": "84a467a0",
        "outputId": "42ee8ed3-361f-4557-efc9-556c7ab8c1f5"
      },
      "outputs": [
        {
          "name": "stdout",
          "output_type": "stream",
          "text": [
            "cost: 0.20543643085435048\n",
            "changed value:\n",
            "0.6627431630212283\n"
          ]
        }
      ],
      "source": [
        "test_matrix=[(0,1,1),(0,2,0.4),(0,3,0.9),(0,4,0.4)]\n",
        "W_center, b_center, W_context, b_context, global_cost  =back_prop(W_center, b_center, W_context, b_context, test_matrix, x_max=10,  vocab_size=100, learning_rate=0.01)\n",
        "print(\"cost:\",global_cost)\n",
        "print(\"changed value:\")\n",
        "print(W_center[0,1])"
      ]
    },
    {
      "cell_type": "markdown",
      "id": "ULLmdXvC-QpX",
      "metadata": {
        "id": "ULLmdXvC-QpX"
      },
      "source": [
        "\n",
        "Write a training script for the GloVe model that goes over the entire co-occurrence matrix given a number of epochs."
      ]
    },
    {
      "cell_type": "code",
      "execution_count": 54,
      "id": "12dd535b",
      "metadata": {
        "id": "12dd535b"
      },
      "outputs": [],
      "source": [
        "def train_GloVe(matrix, vocab_size, epochs = 10, learning_rate = 0.0001, x_max = 10, hidden_dim=100):\n",
        "    \"\"\"\n",
        "    Train the glove model based the co-ocurrance matrix for a number of epochs\n",
        "    matrix: co-occcurance matrix\n",
        "    vocab_size: number of words in vocab\n",
        "    epochs: number of passes through the data\n",
        "    learning_rate: learning rate for back prop\n",
        "    x_max: parameter of the weighting function\n",
        "    hidden_dim: dimension of the vectors\n",
        "    \"\"\"\n",
        "    W_center, b_center, W_context, b_context = init_weights(vocab_size, hidden_dim)\n",
        "    for i in tqdm(range(epochs)):\n",
        "        ### perform backprop###\n",
        "        W_center, b_center, W_context, b_context, global_cost = back_prop(\n",
        "            W_center, b_center, W_context, b_context, matrix, x_max, vocab_size, learning_rate\n",
        "        )\n",
        "        print(global_cost)\n",
        "    return W_center, W_context"
      ]
    },
    {
      "cell_type": "markdown",
      "id": "e0116c62",
      "metadata": {
        "id": "e0116c62"
      },
      "source": [
        "Train the model with hidden dimension of `100` and learning rate of `0.001` for a `100` epochs."
      ]
    },
    {
      "cell_type": "code",
      "execution_count": 55,
      "id": "b2355c76",
      "metadata": {
        "colab": {
          "base_uri": "https://localhost:8080/"
        },
        "id": "b2355c76",
        "outputId": "630aff30-dc0e-47dc-e0ee-fb1b3429a324"
      },
      "outputs": [
        {
          "name": "stderr",
          "output_type": "stream",
          "text": [
            "  2%|▏         | 2/100 [00:00<00:15,  6.50it/s]"
          ]
        },
        {
          "name": "stdout",
          "output_type": "stream",
          "text": [
            "512873.29462390346\n",
            "166481.27663142822\n"
          ]
        },
        {
          "name": "stderr",
          "output_type": "stream",
          "text": [
            "  4%|▍         | 4/100 [00:00<00:15,  6.31it/s]"
          ]
        },
        {
          "name": "stdout",
          "output_type": "stream",
          "text": [
            "72901.90984934186\n",
            "37135.1859239496\n"
          ]
        },
        {
          "name": "stderr",
          "output_type": "stream",
          "text": [
            "  6%|▌         | 6/100 [00:00<00:15,  6.16it/s]"
          ]
        },
        {
          "name": "stdout",
          "output_type": "stream",
          "text": [
            "21061.89531692599\n",
            "12979.755543194398\n"
          ]
        },
        {
          "name": "stderr",
          "output_type": "stream",
          "text": [
            "  8%|▊         | 8/100 [00:01<00:15,  5.93it/s]"
          ]
        },
        {
          "name": "stdout",
          "output_type": "stream",
          "text": [
            "8541.686676387988\n",
            "5923.270686471369\n"
          ]
        },
        {
          "name": "stderr",
          "output_type": "stream",
          "text": [
            " 10%|█         | 10/100 [00:01<00:14,  6.06it/s]"
          ]
        },
        {
          "name": "stdout",
          "output_type": "stream",
          "text": [
            "4284.386915169601\n",
            "3207.401808808998\n"
          ]
        },
        {
          "name": "stderr",
          "output_type": "stream",
          "text": [
            " 11%|█         | 11/100 [00:01<00:14,  5.99it/s]"
          ]
        },
        {
          "name": "stdout",
          "output_type": "stream",
          "text": [
            "2470.6608134291105\n",
            "1949.6509256780491\n"
          ]
        },
        {
          "name": "stderr",
          "output_type": "stream",
          "text": [
            " 12%|█▏        | 12/100 [00:01<00:15,  5.84it/s]"
          ]
        },
        {
          "name": "stderr",
          "output_type": "stream",
          "text": [
            " 14%|█▍        | 14/100 [00:02<00:13,  6.49it/s]"
          ]
        },
        {
          "name": "stdout",
          "output_type": "stream",
          "text": [
            "1570.8827545922125\n",
            "1289.0730917140256\n"
          ]
        },
        {
          "name": "stderr",
          "output_type": "stream",
          "text": [
            " 16%|█▌        | 16/100 [00:02<00:11,  7.60it/s]"
          ]
        },
        {
          "name": "stdout",
          "output_type": "stream",
          "text": [
            "1075.2531208057294\n",
            "910.2760885415177\n"
          ]
        },
        {
          "name": "stderr",
          "output_type": "stream",
          "text": [
            " 18%|█▊        | 18/100 [00:02<00:11,  7.06it/s]"
          ]
        },
        {
          "name": "stdout",
          "output_type": "stream",
          "text": [
            "781.1222779369974\n",
            "678.7161546706517\n"
          ]
        },
        {
          "name": "stderr",
          "output_type": "stream",
          "text": [
            " 20%|██        | 20/100 [00:03<00:11,  6.83it/s]"
          ]
        },
        {
          "name": "stdout",
          "output_type": "stream",
          "text": [
            "596.5929925878346\n",
            "530.0595780096758\n"
          ]
        },
        {
          "name": "stderr",
          "output_type": "stream",
          "text": [
            " 22%|██▏       | 22/100 [00:03<00:11,  6.91it/s]"
          ]
        },
        {
          "name": "stdout",
          "output_type": "stream",
          "text": [
            "475.6514660748507\n",
            "430.7733792716949\n"
          ]
        },
        {
          "name": "stderr",
          "output_type": "stream",
          "text": [
            " 24%|██▍       | 24/100 [00:03<00:10,  7.58it/s]"
          ]
        },
        {
          "name": "stdout",
          "output_type": "stream",
          "text": [
            "393.4556758742606\n",
            "362.18613310435967\n"
          ]
        },
        {
          "name": "stderr",
          "output_type": "stream",
          "text": [
            " 26%|██▌       | 26/100 [00:03<00:09,  8.02it/s]"
          ]
        },
        {
          "name": "stdout",
          "output_type": "stream",
          "text": [
            "335.79166048375464\n",
            "313.35376964749435\n"
          ]
        },
        {
          "name": "stderr",
          "output_type": "stream",
          "text": [
            " 28%|██▊       | 28/100 [00:04<00:08,  8.33it/s]"
          ]
        },
        {
          "name": "stdout",
          "output_type": "stream",
          "text": [
            "294.14727836879257\n",
            "277.59527050312636\n"
          ]
        },
        {
          "name": "stderr",
          "output_type": "stream",
          "text": [
            " 29%|██▉       | 29/100 [00:04<00:08,  8.56it/s]"
          ]
        },
        {
          "name": "stdout",
          "output_type": "stream",
          "text": [
            "263.23560115450357\n",
            "250.6957146458846\n",
            "239.67352346499376\n"
          ]
        },
        {
          "name": "stderr",
          "output_type": "stream",
          "text": [
            " 34%|███▍      | 34/100 [00:04<00:06,  9.56it/s]"
          ]
        },
        {
          "name": "stdout",
          "output_type": "stream",
          "text": [
            "229.92275740784348\n",
            "221.2416445402324\n",
            "213.4640995750108\n"
          ]
        },
        {
          "name": "stderr",
          "output_type": "stream",
          "text": [
            " 36%|███▌      | 36/100 [00:04<00:06, 10.24it/s]"
          ]
        },
        {
          "name": "stdout",
          "output_type": "stream",
          "text": [
            "206.45281603980737\n",
            "200.0938157531713\n",
            "194.29212225182462\n"
          ]
        },
        {
          "name": "stderr",
          "output_type": "stream",
          "text": [
            " 40%|████      | 40/100 [00:05<00:05, 10.92it/s]"
          ]
        },
        {
          "name": "stdout",
          "output_type": "stream",
          "text": [
            "188.96830711082382\n",
            "184.05571856054635\n",
            "179.4982466294977\n"
          ]
        },
        {
          "name": "stderr",
          "output_type": "stream",
          "text": [
            " 42%|████▏     | 42/100 [00:05<00:05, 10.96it/s]"
          ]
        },
        {
          "name": "stdout",
          "output_type": "stream",
          "text": [
            "175.24851255585492\n",
            "171.26639546511998\n",
            "167.51782848102178\n"
          ]
        },
        {
          "name": "stderr",
          "output_type": "stream",
          "text": [
            " 44%|████▍     | 44/100 [00:05<00:05, 10.25it/s]"
          ]
        },
        {
          "name": "stdout",
          "output_type": "stream",
          "text": [
            "163.97381108703198\n",
            "160.60959582328596\n"
          ]
        },
        {
          "name": "stderr",
          "output_type": "stream",
          "text": [
            " 47%|████▋     | 47/100 [00:06<00:05,  9.16it/s]"
          ]
        },
        {
          "name": "stdout",
          "output_type": "stream",
          "text": [
            "157.404016120607\n",
            "154.33892885485716\n"
          ]
        },
        {
          "name": "stderr",
          "output_type": "stream",
          "text": [
            " 49%|████▉     | 49/100 [00:06<00:05,  8.87it/s]"
          ]
        },
        {
          "name": "stdout",
          "output_type": "stream",
          "text": [
            "151.3987505078586\n",
            "148.57006998859683\n"
          ]
        },
        {
          "name": "stderr",
          "output_type": "stream",
          "text": [
            " 51%|█████     | 51/100 [00:06<00:05,  8.88it/s]"
          ]
        },
        {
          "name": "stdout",
          "output_type": "stream",
          "text": [
            "145.84132445865833\n",
            "143.2025271148293\n"
          ]
        },
        {
          "name": "stderr",
          "output_type": "stream",
          "text": [
            " 54%|█████▍    | 54/100 [00:06<00:04,  9.33it/s]"
          ]
        },
        {
          "name": "stdout",
          "output_type": "stream",
          "text": [
            "140.64503795938234\n",
            "138.16137024954622\n",
            "135.7450266506009\n"
          ]
        },
        {
          "name": "stderr",
          "output_type": "stream",
          "text": [
            " 56%|█████▌    | 56/100 [00:07<00:04,  9.41it/s]"
          ]
        },
        {
          "name": "stdout",
          "output_type": "stream",
          "text": [
            "133.3903601907281\n",
            "131.09245598366516\n"
          ]
        },
        {
          "name": "stderr",
          "output_type": "stream",
          "text": [
            " 58%|█████▊    | 58/100 [00:07<00:04,  9.27it/s]"
          ]
        },
        {
          "name": "stdout",
          "output_type": "stream",
          "text": [
            "128.84703038912326\n",
            "126.6503448537304\n",
            "124.49913214297175\n"
          ]
        },
        {
          "name": "stderr",
          "output_type": "stream",
          "text": [
            " 62%|██████▏   | 62/100 [00:07<00:03,  9.62it/s]"
          ]
        },
        {
          "name": "stdout",
          "output_type": "stream",
          "text": [
            "122.39053305747993\n",
            "120.32204204159906\n",
            "118.2914603512699\n"
          ]
        },
        {
          "name": "stderr",
          "output_type": "stream",
          "text": [
            " 64%|██████▍   | 64/100 [00:07<00:03, 10.53it/s]"
          ]
        },
        {
          "name": "stdout",
          "output_type": "stream",
          "text": [
            "116.29685566230602\n",
            "114.33652717750512\n",
            "112.40897543830597\n"
          ]
        },
        {
          "name": "stderr",
          "output_type": "stream",
          "text": [
            " 68%|██████▊   | 68/100 [00:08<00:03, 10.30it/s]"
          ]
        },
        {
          "name": "stdout",
          "output_type": "stream",
          "text": [
            "110.51287616942149\n",
            "108.64705758728381\n",
            "106.81048068893183\n"
          ]
        },
        {
          "name": "stderr",
          "output_type": "stream",
          "text": [
            " 70%|███████   | 70/100 [00:08<00:02, 10.36it/s]"
          ]
        },
        {
          "name": "stdout",
          "output_type": "stream",
          "text": [
            "105.00222210989111\n",
            "103.22145920013399\n",
            "101.46745701825947\n"
          ]
        },
        {
          "name": "stderr",
          "output_type": "stream",
          "text": [
            " 74%|███████▍  | 74/100 [00:08<00:02, 10.72it/s]"
          ]
        },
        {
          "name": "stdout",
          "output_type": "stream",
          "text": [
            "99.73955698709662\n",
            "98.03716699048319\n",
            "96.35975272192641\n"
          ]
        },
        {
          "name": "stderr",
          "output_type": "stream",
          "text": [
            " 76%|███████▌  | 76/100 [00:08<00:02, 10.94it/s]"
          ]
        },
        {
          "name": "stdout",
          "output_type": "stream",
          "text": [
            "94.70683012220549\n",
            "93.07795876540372\n",
            "91.47273607201446\n"
          ]
        },
        {
          "name": "stderr",
          "output_type": "stream",
          "text": [
            " 80%|████████  | 80/100 [00:09<00:01, 10.75it/s]"
          ]
        },
        {
          "name": "stdout",
          "output_type": "stream",
          "text": [
            "89.8907922441616\n",
            "88.33178583197271\n",
            "86.79539985222434\n"
          ]
        },
        {
          "name": "stderr",
          "output_type": "stream",
          "text": [
            " 82%|████████▏ | 82/100 [00:09<00:01, 10.10it/s]"
          ]
        },
        {
          "name": "stdout",
          "output_type": "stream",
          "text": [
            "85.28133839070259\n",
            "83.78932362863925\n"
          ]
        },
        {
          "name": "stderr",
          "output_type": "stream",
          "text": [
            " 84%|████████▍ | 84/100 [00:09<00:01, 10.28it/s]"
          ]
        },
        {
          "name": "stdout",
          "output_type": "stream",
          "text": [
            "82.31909324127896\n",
            "80.87039812325861\n",
            "79.44300040122461\n"
          ]
        },
        {
          "name": "stderr",
          "output_type": "stream",
          "text": [
            " 88%|████████▊ | 88/100 [00:10<00:01, 10.29it/s]"
          ]
        },
        {
          "name": "stdout",
          "output_type": "stream",
          "text": [
            "78.0366716990869\n",
            "76.6511916256086\n",
            "75.28634645779904\n"
          ]
        },
        {
          "name": "stderr",
          "output_type": "stream",
          "text": [
            " 90%|█████████ | 90/100 [00:10<00:00, 10.11it/s]"
          ]
        },
        {
          "name": "stdout",
          "output_type": "stream",
          "text": [
            "73.94192799680316\n",
            "72.61773257583998\n"
          ]
        },
        {
          "name": "stderr",
          "output_type": "stream",
          "text": [
            " 92%|█████████▏| 92/100 [00:10<00:00,  9.56it/s]"
          ]
        },
        {
          "name": "stdout",
          "output_type": "stream",
          "text": [
            "71.31356020219305\n",
            "70.02921381744127\n"
          ]
        },
        {
          "name": "stderr",
          "output_type": "stream",
          "text": [
            " 94%|█████████▍| 94/100 [00:10<00:00,  9.02it/s]"
          ]
        },
        {
          "name": "stdout",
          "output_type": "stream",
          "text": [
            "68.76449866196297\n",
            "67.51922173142935\n"
          ]
        },
        {
          "name": "stderr",
          "output_type": "stream",
          "text": [
            " 97%|█████████▋| 97/100 [00:11<00:00,  9.24it/s]"
          ]
        },
        {
          "name": "stdout",
          "output_type": "stream",
          "text": [
            "66.29319131443269\n",
            "65.08621660165313\n",
            "63.8981073580965\n"
          ]
        },
        {
          "name": "stderr",
          "output_type": "stream",
          "text": [
            "100%|██████████| 100/100 [00:11<00:00,  9.33it/s]"
          ]
        },
        {
          "name": "stdout",
          "output_type": "stream",
          "text": [
            "62.728673650892524\n",
            "61.577725626014384\n",
            "60.445073328032684\n"
          ]
        },
        {
          "name": "stderr",
          "output_type": "stream",
          "text": [
            "100%|██████████| 100/100 [00:11<00:00,  8.75it/s]\n"
          ]
        }
      ],
      "source": [
        "W_center, W_context = train_GloVe(matrix, vocab_size, epochs=100, learning_rate=0.001, hidden_dim=100)"
      ]
    },
    {
      "cell_type": "markdown",
      "id": "770701f4",
      "metadata": {
        "id": "770701f4"
      },
      "source": [
        "As you can see by looking at the loss, the model still needs more time to converge to a minimum.\n",
        "However, we keep the training short and keeping in mind that the vectors can improve we look at some examples.\n",
        "Take the average, transpose, and normalize the matrix."
      ]
    },
    {
      "cell_type": "code",
      "execution_count": 56,
      "id": "b272ab8a",
      "metadata": {
        "id": "b272ab8a"
      },
      "outputs": [],
      "source": [
        "from numpy.linalg import norm\n",
        "# take the average of the learned vector as the final vector\n",
        "W = np.add(W_center, W_context)/2\n",
        "W = W.T\n",
        "W = W/norm(W)"
      ]
    },
    {
      "cell_type": "code",
      "execution_count": 57,
      "id": "334aff38",
      "metadata": {
        "colab": {
          "base_uri": "https://localhost:8080/"
        },
        "id": "334aff38",
        "outputId": "8c1f03a7-09a6-4700-c959-d1412df2529b"
      },
      "outputs": [
        {
          "data": {
            "text/plain": [
              "(100, 15290)"
            ]
          },
          "execution_count": 57,
          "metadata": {},
          "output_type": "execute_result"
        }
      ],
      "source": [
        "W.shape"
      ]
    },
    {
      "cell_type": "markdown",
      "id": "d106c990",
      "metadata": {
        "id": "d106c990"
      },
      "source": [
        "Lets create a dictionary that points from a word to its vector."
      ]
    },
    {
      "cell_type": "code",
      "execution_count": 58,
      "id": "db81b66e",
      "metadata": {
        "id": "db81b66e"
      },
      "outputs": [],
      "source": [
        "# Generates word to word embedding dictionary\n",
        "word_to_vector = {}\n",
        "for word in word_to_id.keys():\n",
        "    word_to_vector[word] = W[:, word_to_id[word]]"
      ]
    },
    {
      "cell_type": "markdown",
      "id": "11c86eeb",
      "metadata": {
        "id": "11c86eeb"
      },
      "source": [
        "### Subtask 4: Compare to Skip-gram\n"
      ]
    },
    {
      "cell_type": "markdown",
      "id": "e8fd8763",
      "metadata": {
        "id": "e8fd8763"
      },
      "source": [
        "Let's compute the similarities for the same words in Task 1 to compare the results with word2vec. This time you need to implement the similarity function, based on the dot product. To get to the topk you need to sort the elements based on their similarity.\n",
        "\n"
      ]
    },
    {
      "cell_type": "code",
      "execution_count": 59,
      "id": "a2f3f722",
      "metadata": {
        "id": "a2f3f722"
      },
      "outputs": [],
      "source": [
        "from numpy import dot\n",
        "\n",
        "def most_similar(word_vector,all_vectors,id_to_word, topk):\n",
        "    \"\"\"\n",
        "    function to find the topk most similar words to a word vector\n",
        "    word_vector: vector of the search word\n",
        "    all_vectors: all word vectors\n",
        "    id_to_word: dictionary from id to words\n",
        "    topk: number of elements to return\n",
        "    \"\"\"\n",
        "    ### find the topk most similar words to a given word vector ##\n",
        "\n",
        "    similarity = dot(word_vector, all_vectors) / (np.linalg.norm(word_vector) * np.linalg.norm(all_vectors, axis=0))\n",
        "    indices_similarities = np.argsort(similarity)\n",
        "    top_k=indices_similarities[-topk:][::-1]\n",
        "    words = []\n",
        "    for id in top_k:\n",
        "      words.append((id_to_word[id], similarity[id]))\n",
        "    return words"
      ]
    },
    {
      "cell_type": "code",
      "execution_count": 60,
      "id": "53c1a84a",
      "metadata": {
        "colab": {
          "base_uri": "https://localhost:8080/"
        },
        "id": "53c1a84a",
        "outputId": "26cde340-48ec-4dda-86ef-0e2561bec7df"
      },
      "outputs": [
        {
          "data": {
            "text/plain": [
              "[('central_perk', 1.0000000000000002),\n",
              " ('popes', 0.3859876007059505),\n",
              " ('fianc', 0.3680620754910133),\n",
              " ('country', 0.3407446593034346),\n",
              " ('sarcasticly', 0.3401210044568115)]"
            ]
          },
          "execution_count": 60,
          "metadata": {},
          "output_type": "execute_result"
        }
      ],
      "source": [
        "most_similar(word_to_vector[\"central_perk\"],W,id_to_word,5)"
      ]
    },
    {
      "cell_type": "code",
      "execution_count": 61,
      "id": "2c8e8519",
      "metadata": {
        "colab": {
          "base_uri": "https://localhost:8080/"
        },
        "id": "2c8e8519",
        "outputId": "e16079c6-fe81-4883-bd58-783b0f96bea0"
      },
      "outputs": [
        {
          "data": {
            "text/plain": [
              "[('joey', 0.9999999999999998),\n",
              " ('teen', 0.3849899852831298),\n",
              " ('ello', 0.35839194288807813),\n",
              " ('millners', 0.3507044247529439),\n",
              " ('ant', 0.3326616427234226)]"
            ]
          },
          "execution_count": 61,
          "metadata": {},
          "output_type": "execute_result"
        }
      ],
      "source": [
        "most_similar(word_to_vector[\"joey\"],W,id_to_word,5)"
      ]
    },
    {
      "cell_type": "markdown",
      "id": "6bdcd5f5",
      "metadata": {
        "id": "6bdcd5f5"
      },
      "source": [
        "Compute the similarity between the `('rachel', 'mrs_green')`, `('smelly_cat', 'song')` and `('ross', 'spaceship')`."
      ]
    },
    {
      "cell_type": "code",
      "execution_count": 62,
      "id": "e77f01a5",
      "metadata": {
        "colab": {
          "base_uri": "https://localhost:8080/"
        },
        "id": "e77f01a5",
        "outputId": "f8fa6378-7bc5-4242-a02c-7d1a1667b067"
      },
      "outputs": [
        {
          "data": {
            "text/plain": [
              "0.03239934159098237"
            ]
          },
          "execution_count": 62,
          "metadata": {},
          "output_type": "execute_result"
        }
      ],
      "source": [
        "## your code ##\n",
        "W_transp=W.T\n",
        "\n",
        "word_1='rachel'\n",
        "word_2='mrs_green'\n",
        "id_of_word_1=word_to_id[word_1]\n",
        "id_of_word_2=word_to_id[word_2]\n",
        "similarity=dot(word_to_vector[word_1], W_transp[id_of_word_2]) / (np.linalg.norm(word_to_vector[word_1]) * np.linalg.norm(W_transp[id_of_word_2]))\n",
        "similarity"
      ]
    },
    {
      "cell_type": "code",
      "execution_count": 63,
      "id": "d1def847",
      "metadata": {
        "colab": {
          "base_uri": "https://localhost:8080/"
        },
        "id": "d1def847",
        "outputId": "33144c4b-976d-4d40-8a0d-dfd45da4d11c"
      },
      "outputs": [
        {
          "data": {
            "text/plain": [
              "-0.014392707018762073"
            ]
          },
          "execution_count": 63,
          "metadata": {},
          "output_type": "execute_result"
        }
      ],
      "source": [
        "## your code ##\n",
        "\n",
        "word_1='smelly_cat'\n",
        "word_2='song'\n",
        "id_of_word_1=word_to_id[word_1]\n",
        "id_of_word_2=word_to_id[word_2]\n",
        "similarity=dot(word_to_vector[word_1], W_transp[id_of_word_2]) / (np.linalg.norm(word_to_vector[word_1]) * np.linalg.norm(W_transp[id_of_word_2]))\n",
        "similarity"
      ]
    },
    {
      "cell_type": "code",
      "execution_count": 64,
      "id": "933ca3ac",
      "metadata": {
        "colab": {
          "base_uri": "https://localhost:8080/"
        },
        "id": "933ca3ac",
        "outputId": "f5b1f724-e64c-4088-a088-089b7da101ca"
      },
      "outputs": [
        {
          "data": {
            "text/plain": [
              "-0.027217026510916367"
            ]
          },
          "execution_count": 64,
          "metadata": {},
          "output_type": "execute_result"
        }
      ],
      "source": [
        "## your code ##\n",
        "\n",
        "word_1='ross'\n",
        "word_2='spaceship'\n",
        "id_of_word_1=word_to_id[word_1]\n",
        "id_of_word_2=word_to_id[word_2]\n",
        "similarity=dot(word_to_vector[word_1], W_transp[id_of_word_2]) / (np.linalg.norm(word_to_vector[word_1]) * np.linalg.norm(W_transp[id_of_word_2]))\n",
        "similarity"
      ]
    },
    {
      "cell_type": "markdown",
      "id": "ecace919",
      "metadata": {
        "id": "ecace919"
      },
      "source": [
        "If you see your results are not as meaningful as the gensim model, do not be discouraged. With better optimization and longer training the results should improve. If you have time play around a bit more with your model and see if you can generate more meaningful vectors."
      ]
    }
  ],
  "metadata": {
    "colab": {
      "collapsed_sections": [
        "1ce2c270",
        "1ec614b0",
        "0af2b619",
        "8364e05b",
        "c9d5f84e",
        "f447294a",
        "014a385f"
      ],
      "provenance": []
    },
    "kernelspec": {
      "display_name": "Python 3",
      "name": "python3"
    },
    "language_info": {
      "codemirror_mode": {
        "name": "ipython",
        "version": 3
      },
      "file_extension": ".py",
      "mimetype": "text/x-python",
      "name": "python",
      "nbconvert_exporter": "python",
      "pygments_lexer": "ipython3",
      "version": "3.11.4"
    }
  },
  "nbformat": 4,
  "nbformat_minor": 5
}
