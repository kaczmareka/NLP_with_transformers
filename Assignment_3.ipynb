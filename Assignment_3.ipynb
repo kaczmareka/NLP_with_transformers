{
 "cells": [
  {
   "cell_type": "markdown",
   "id": "2676c7e5",
   "metadata": {},
   "source": [
    "Pranjal Sharma,Agata Kaczmarek, Jan Smoleń, Mateusz Stączek"
   ]
  },
  {
   "cell_type": "markdown",
   "id": "be9f7653",
   "metadata": {
    "id": "be9f7653"
   },
   "source": [
    "**Heidelberg University**\n",
    "\n",
    "**Data Science  Group**\n",
    "    \n",
    "Prof. Dr. Michael Gertz  \n",
    "\n",
    "Ashish Chouhan, Satya Almasian, John Ziegler, Jayson Salazar, Nicolas Reuter\n",
    "    \n",
    "December 4, 2023\n",
    "    \n",
    "Natural Language Processing with Transformers\n",
    "\n",
    "Winter Semster 2023/2024     \n",
    "***"
   ]
  },
  {
   "cell_type": "markdown",
   "id": "258e9648",
   "metadata": {
    "id": "258e9648"
   },
   "source": [
    "# **Assignment 3: “Transformers”**\n",
    "**Due**: Monday, January 8, 2024, 2pm, via [Moodle](https://moodle.uni-heidelberg.de/course/view.php?id=19251)\n",
    "\n"
   ]
  },
  {
   "cell_type": "markdown",
   "id": "fc27ad9e",
   "metadata": {
    "id": "fc27ad9e"
   },
   "source": [
    "### **Submission Guidelines**\n",
    "\n",
    "- Solutions need to be uploaded as a **single** Jupyter notebook. You will find several pre-filled code segments in the notebook, your task is to fill in the missing cells.\n",
    "- For the written solution, use LaTeX in markdown inside the same notebook. Do **not** hand in a separate file for it.\n",
    "- Download the .zip file containing the dataset but do **not** upload it with your solution.\n",
    "- It is sufficient if one person per group uploads the solution to Moodle, but make sure that the full names of all team members are given in the notebook.\n",
    "\n",
    "***"
   ]
  },
  {
   "cell_type": "markdown",
   "id": "HETm7VsBkmLq",
   "metadata": {
    "id": "HETm7VsBkmLq"
   },
   "source": [
    "## **Task 1: Diving into Attention** (3 + 4 + 4 + 1 = 12 points)"
   ]
  },
  {
   "cell_type": "markdown",
   "id": "0ODkKBIRkrfe",
   "metadata": {
    "id": "0ODkKBIRkrfe"
   },
   "source": [
    "In this task, you work with self-attention equations and find out why multi-head attention is preferable to single-head attention.\n",
    "\n",
    "Recall the equation of attention on slide 5-9 to compute self-attention on a series of input tokens. We simplify the formula by focusing on a single query vector $q \\in R^d$, value vectors ($\\{ v_1,v_2,...,v_i \\},v_i \\in R^d$), and key vectors ($\\{ k_1,k_2,...,k_i \\},k_i \\in R^d$). We then have\n",
    "\n",
    "$$\n",
    "a_i=\\frac{exp(q^Tk_i)}{\\Sigma^n_{j=1}exp(q^Tk_j)}\n",
    "$$\n",
    "\n",
    "$$\n",
    " o= \\Sigma^n_{i=1} a_i v_i\n",
    "$$\n",
    "\n",
    "with $a_i$ being the attention weight for query $q$ with respect to key $k_i$. Then the output $o$ is the new representation for the query token as a weighted average of value vectors with weights $a=\\{ a_1,a_2,...,a_i \\},a_i \\in R^d$.\n",
    "Answer the following questions with the help of the equations and the intuition behind attention that you learned in the class:\n",
    "\n"
   ]
  },
  {
   "cell_type": "markdown",
   "id": "MRwxqsMVodDt",
   "metadata": {
    "id": "MRwxqsMVodDt"
   },
   "source": [
    "### Subtask 1: Copying  \n",
    "\n",
    "1.   Explain why $a$ can be interpreted as a categorical distribution.\n",
    "2.   This distribution is typically diffuse, where the mass is spread out between different values of $a_i$. Describe a scenario in which the categorical distribution puts all the weight on a single element, e.g., $a_j \\gg \\Sigma_{j\\neq i}a_i$. What are the conditions on key and/or query for this to happen?\n",
    "3. In this case of a single large $a$, what would the output $c$ look like and what it means intuitively?\n",
    "\n",
    "In attention, it is easy to **copy** a value vector $v_i$ to the output $o$.\n",
    "\n",
    "\n",
    "\n"
   ]
  },
  {
   "cell_type": "markdown",
   "id": "Km0X1VPoqgrt",
   "metadata": {
    "id": "Km0X1VPoqgrt"
   },
   "source": [
    "**Answer**"
   ]
  },
  {
   "cell_type": "markdown",
   "id": "ZcLTljmmqhIM",
   "metadata": {
    "id": "ZcLTljmmqhIM"
   },
   "source": [
    "\n",
    "\n",
    "\n",
    "1. A categorical distribution is categorisation of probabilities assigned to a set of discrete categories and same is $a$. we would take a different approach here i.e. using behaviour of categorical distribution:\n",
    "a. Discrete sample space: $a$ also have discrete sample space\n",
    "b. Non-Ordered categories: probabilities might not be ordered in categorical distribution as when calculation $ai$ but $ai$ denotes the weight of vectors on basis of which we further focus on elements of the vector.\n",
    "c. Sum of probabilities is 1: softmax function converts the dot product into probabilites where the sum is 1\n",
    "d. No correlation: attention is distributed and does not depend on the other probabilities\n",
    "\n",
    "2. The weight of a single element can be significantly higher in the case where model heavily focuses on a single element of input sequence. dot product \n",
    "$exp(q^T.k_j)$ is much larger than the dot products $exp(q^T.k_i) for i ≠ j$, the softmax function will magnify this difference, assigning a high probability to $a_j$. \n",
    "\n",
    "3. in this output O will be very close to $v_j$, suggesting that the query vector has a significant similarity with the key vector and high attention weight for the jth element. this intitutively means the element has unique features not available in other elements and rare usage. so when this word is used in input query it is highly distinguishable.\n",
    "\n",
    "Ex. Spam filter\n",
    "\n",
    "\n"
   ]
  },
  {
   "cell_type": "markdown",
   "id": "NK-2Scv8qqYV",
   "metadata": {
    "id": "NK-2Scv8qqYV"
   },
   "source": [
    "#### ${\\color{red}{Comments\\ 1.1}}$\n",
    "\n",
    "${\\color{red}{⚠️Comments\\ begin⚠️}}$\n",
    "\n",
    "\n",
    "```\n",
    "cross-feedback comment section\n",
    "```\n",
    "\n",
    "\n",
    "${\\color{red}{⚠️Comments\\ end⚠️}}$"
   ]
  },
  {
   "cell_type": "markdown",
   "id": "YmWxycPF15kM",
   "metadata": {
    "id": "YmWxycPF15kM"
   },
   "source": [
    "### Subtask 2: Averaging\n"
   ]
  },
  {
   "cell_type": "markdown",
   "id": "WFKra56Q15mq",
   "metadata": {
    "id": "WFKra56Q15mq"
   },
   "source": [
    "Instead of focusing on just one value vector $v_j$, the Transformer model can incorporate information from multiple inputs. Consider the situation where we want to incorporate information from two value vectors $v_b$ and $v_c$ with keys $k_b$ and $k_c$. In machine learning one of the ways to combine this information is through averaging of vectors $o= \\frac{1}{2}(v_b+v_c)$.  It might seem hard to extract information about the original vectors $v_b$ and $v_c$ from the resulting average. But under certain conditions, one can do so. In this subtask, we look at the following cases:\n",
    "\n",
    "1. Suppose we know the following:\n",
    "\n",
    "\n",
    "* $v_b$ lies in a subspace $B$ formed by the $m$ basis vectors $\\{b_1, b_2, .. , b_m\\}$, while $v_c$ lies in a subspace $C$ formed by the $p$ basis vectors $\\{c_1, c_2, . . . , c_p\\}$ (This means that any $v_b$ and $v_c$ can be expressed as a linear combination of their basis vectors).\n",
    "*   All basis vectors have the norm 1 and are orthogonal to each other.\n",
    "*   The two subspaces $B$ and $C$ are orthogonal, meaning $b_j^Tc_k=0$ for all $j$ and $k$.\n",
    "* Given that $\\{b_1, b_2, .. , b_m\\}$ are both orthogonal and form a basis for $v_b$, we know that there exists some $d_1, ..., d_m$ such that $v_b=d_1 b_1+d_2 b_2+...+d_m b_m$. Use these $d\\text{s}$ to solve this task.\n",
    "\n",
    "Using the basis vectors $\\{b_1, b_2, .. , b_m\\}$, construct a matrix $M$ such that for arbitrary vectors $v_b$ and $v_c$ with the given conditions, we can use $M$ to extract $v_b$ from the sum of the vector $s = v_b + v_c$. In other words, construct an $M$ such that  $ Ms = v_b$ holds.\n",
    "\n",
    "\n",
    "2. If we assume that\n",
    "* all key vectors are orthogonal, i.e., $k_i^Tk_j=0$ for all $i \\neq j$, and\n",
    "* all key vectors have the norm 1.\n",
    "\n",
    "Find an expression for the query vector $q$ such that $o \\approx \\frac{1}{2}(v_b+v_c)$. Justify your answer.\n",
    "\n",
    "**Hint:** Use your finding in subtask 1 to solve part 2.\n",
    "\n",
    "**Hint:** If the norm of a vector $x$ is 1, then $x^Tx=1$\n",
    "\n",
    "**Hint:** Start with writing $v_b$ and $v_c$ as the linear combination of the bases.\n"
   ]
  },
  {
   "cell_type": "markdown",
   "id": "UdPaWhCzTxKT",
   "metadata": {
    "id": "UdPaWhCzTxKT"
   },
   "source": [
    "**Answer**"
   ]
  },
  {
   "cell_type": "markdown",
   "id": "uDB4aKn0Us4H",
   "metadata": {
    "id": "uDB4aKn0Us4H"
   },
   "source": [
    "\n",
    "1. \n",
    "\n",
    "Given that, $v_b={d_1 b_1+d_2 b_2+...+d_m b_m}$\n",
    "\n",
    "Also, $s = v_b + v_c$\n",
    "\n",
    "substituting $v_b$ in the equation\n",
    "\n",
    "$s = d_1 b_1+d_2 b_2+...+d_m b_m + v_c$\n",
    "\n",
    "$M$ is a basis vectors $\\{b_1, b_2, .. , b_m\\}$ and multiplying $M$ with $s$\n",
    "\n",
    "M s = $\\{b_1, b_2, .. , b_m\\} s $\n",
    "\n",
    "$={b_1(d_1 b_1+d_2 b_2+...+d_m b_m)+b_2(d_1 b_1+d_2 b_2+...+d_m b_m)+...+b_m(d_1 b_1+d_2 b_2+...+d_m b_m)}$\n",
    "\n",
    "$= d_1 b_1+d_2 b_2+...+d_m b_m + v_c = v_b$ \n",
    "\n",
    "So, the matrix $M$ is constructed such that multiplying it by the sum vector $s$ allows us to extract the original vector ${𝑣_𝑏}$.\n",
    "\n",
    "\n",
    "2. \n",
    "\n",
    "$M s = v_b$\n",
    "\n",
    "substituting $s$\n",
    "\n",
    "$M(v_b + v_c) = v_b$\n",
    "\n",
    "$Mv_b + Mv_c = v_b$\n",
    "\n",
    "$Mv_b = v_b - Mv_c$\n",
    "\n",
    "using the orthogonal properti of basis vectors and find speciifc form of $M$:\n",
    "\n",
    "$k_i^Tk_j = 0 \\qquad \\text{for } i \\neq j$\n",
    "\n",
    "$k_i^Tk_i = 1 \\qquad \\text{for all } i$\n",
    "\n",
    "$c_i^Tc_j = 1 \\qquad \\text{for } i=j$\n",
    "\n",
    "$c_i^Tc_k = 0 \\qquad \\text{for } i \\neq k$\n",
    "\n",
    "$k_i^Tc_k = 0 \\qquad \\text{for all } i,k$\n",
    "\n",
    "\n",
    "$M$ = \\begin{pmatrix}\n",
    "2k_1^Tk_1 & k_1^Tk_2 & \\dots & k_1^Tk_m \\\\\n",
    "k_2^Tk_1 & 2k_2^Tk_2 & \\dots & k_2^Tk_m \\\\\n",
    "\\vdots & \\vdots & \\ddots & \\vdots \\\\\n",
    "k_m^Tk_1 & k_m^Tk_2 & \\dots & 2k_m^Tk_m\n",
    "\\end{pmatrix}\n",
    "\n",
    "\n",
    "We have this, \n",
    "\n",
    "$o = \\frac{1}{2}(v_b + v_c)$\n",
    "\n",
    "Also,  $s = v_b + v_c$\n",
    "\n",
    "$\\therefore $ $o = \\frac{1}{2}(s)$\n",
    "\n",
    "Further we can say,\n",
    "$\\frac{1}{2}Ms = \\frac{1}{2}M(v_b + v_c) = \\frac{1}{2}v_b$\n",
    "\n"
   ]
  },
  {
   "cell_type": "markdown",
   "id": "5poTWvSxUoc3",
   "metadata": {
    "id": "5poTWvSxUoc3"
   },
   "source": [
    "#### ${\\color{red}{Comments\\ 1.2}}$\n",
    "\n",
    "${\\color{red}{⚠️Comments\\ begin⚠️}}$\n",
    "\n",
    "\n",
    "```\n",
    "cross-feedback comment section\n",
    "```\n",
    "\n",
    "\n",
    "${\\color{red}{⚠️Comments\\ end⚠️}}$"
   ]
  },
  {
   "cell_type": "markdown",
   "id": "imqOTai0bxuA",
   "metadata": {
    "id": "imqOTai0bxuA"
   },
   "source": [
    "### Subtask 3: Drawbacks of Single-head Attention"
   ]
  },
  {
   "cell_type": "markdown",
   "id": "0lObCVx7bx3q",
   "metadata": {
    "id": "0lObCVx7bx3q"
   },
   "source": [
    "You might have wondered why we need multi-heads for attention. In this subtask, we look at some of the drawbacks of having a single head attention. As shown in the previous subtask, it is possible for single head attention to focus equally on two values. The same can apply to any subset of values, which therefor can become problematic.\n",
    "\n",
    "Consider a set of key vectors $\\{ k_1,k_2,...,k_n \\}$, randomly sampled from a normal distribution with a known mean value of $\\mu_i \\in R^d$ and unknown covariance $Σ_i, i \\in \\{1, \\ldots, n\\}$, where\n",
    "\n",
    "\n",
    "*   $\\mu_i\\text{s}$ are all orthogonal $\\mu_i^T\\mu_j=0$ if $i \\neq j$.\n",
    "*   $\\mu_i\\text{s}$ all have unit norm $||\\mu_i||=1$.\n",
    "\n",
    "1. For a vanishingly small $\\alpha$ (not to be confused with attention weights), the covariance matrices are  $Σ_i=\\alpha I, \\forall i  \\in \\{1,2,..,n\\}$, design a query $q$ in terms of the $\\mu_i$ such that as before, $o= \\frac{1}{2}(v_b+v_c)$ and describe why it works.\n",
    "\n",
    "2.  Large perturbations in key value might cause problems for single head attention.  Specifically, in some cases, one key vector $k_b$ may be larger or smaller in norm than the others, while still pointing in the same direction as $\\mu_b$. As an example of such a case,\n",
    "consider a covariance matrix for item $b$ for vanishingly small $\\alpha$ as $Σ_b=\\alpha I + \\frac{1}{2}(\\mu_b^T\\mu_b)$. This causes $k_a$ to point to roughly the same direction as $\\mu_b$ but with large differences in magnitude, while for other items. Further, let $Σ_i=\\alpha I\\  \\forall_i i \\neq b$. When you sample multiple keys from the distribution $\\{ k_1,k_2,...,k_n \\}$ and use the $q$ vector from the pervious part, what do you expect vector $o$ to look like? Explain why this shows the drawback of single-head attention.\n",
    "\n",
    "**Hint:**\n",
    "Think about how it differs from pervious part and how $o$'s variance would be affected by the change in $Σ_b$.\n",
    "\n",
    "**Hint:** Considering that $\\mu_b^T\\mu_b=1$, think of what are the ranges $Σ_b$ can take and how does that effect a sampled $k_b$ value.\n",
    "\n",
    "**Hint:** $\\frac{exp(b)}{exp(b)+exp(c)}=\\frac{exp(b)}{exp(b)+exp(c)}\\frac{exp(-b)}{exp(-b)}= \\frac{1}{1+exp(c-b)}$"
   ]
  },
  {
   "cell_type": "markdown",
   "id": "PFkzZv9NcCpZ",
   "metadata": {
    "id": "PFkzZv9NcCpZ"
   },
   "source": [
    "**Answer:**"
   ]
  },
  {
   "cell_type": "markdown",
   "id": "1yhrRv0rTww2",
   "metadata": {
    "id": "1yhrRv0rTww2"
   },
   "source": [
    "\n",
    "1. For a vanishing small $\\alpha$ covariance matrices are approx. dialgonal therefore, query can be focused on two key vectors at the same time even if they are orthogonal.\n",
    "\n",
    "$ q = \\frac{1}{\\sqrt{n}} \\sum_{i=1}^n \\mu_i $\n",
    "\n",
    "The term $ q = \\frac{1}{\\sqrt{n}} $ ensures that the magnitude of the query vector remains normalized (unit norm) even when summing over all orthogonal vectors.\n",
    "\n",
    " $Σ_i=\\alpha I $\n",
    "\n",
    "The covariance matrices $Σ_i=\\alpha I $ imply that the covariance between different components of the vectors is zero. Therefore, the mean vectors $\\mu_i$ are effectively independent.\n",
    "\n",
    "This query is a weighted sum of the key vectors, with each key vector being weighted equally. This means that the query will focus equally on all of the key vectors, regardless of their orthogonality.\n",
    "\n",
    "2. $k_b$ varies between $(\\alpha + 0.5)\\mu_b$ and $(\\alpha + 1.5)\\mu_b$ because $\\mu_b^T\\mu_b=1$. Thus: $k_b \\approx \\lambda\\mu_b$ where $\\lambda \\in [0.5, 1.5]$.\n",
    "\n",
    "   $\\alpha$ being vanishingly small, we can again assume that $k_i \\approx \\mu_i$ for all $i \\neq b$. Since $\\mu_i^T\\mu_j=0$ for all $i \\neq j$, dot product between $q$ and any key vector except $k_b$ and $k_c$ is $0$. For $k_b$ and $k_c$ the following happens:\n",
    "\n",
    "    $k_b^Tq = \\lambda\\mu_b^T\\beta(\\mu_b + \\mu_c)= \\lambda \\beta$\n",
    "\n",
    "    $k_c^Tq = \\mu_c^T\\beta(\\mu_b + \\mu_c)= \\beta$\n",
    "    \n",
    "    We can now compute the attention weights $a_b$ and $a_c$:\n",
    "\n",
    "    $a_b = \\frac{exp(\\lambda\\beta)}{n-2+exp(\\lambda\\beta)+exp(\\beta)} \\approx \\frac{exp(\\lambda\\beta)}{exp(\\lambda\\beta)+exp(\\beta)} \\approx \\frac{1}{1+exp(\\beta(1-\\lambda))}$\n",
    "\n",
    "    $a_c = \\frac{exp(\\beta)}{n-2+exp(\\lambda\\beta)+exp(\\beta)} \\approx \\frac{exp(\\beta)}{exp(\\lambda\\beta)+exp(\\beta)} \\approx \\frac{1}{1+exp(\\beta(\\lambda - 1))}$\n",
    "\n",
    "    All other attention weights are close to zero, so we can ignore their influence on the output.\n",
    "\n",
    "    When $\\lambda = 0.5$, then $a_b \\approx 0$ and $a_c \\approx 1$. In this case, the output $o \\approx v_c$.\n",
    "    \n",
    "    When $\\lambda = 1.5$, then $a_b \\approx 1$ and $a_c \\approx 0$. Here the output is $o \\approx v_b$.\n",
    "\n",
    "     $o$ oscillates between $v_b$ and $v_c$.\n",
    "\n",
    "\n",
    "\n",
    " These effects can be seen as drawbacks of single-head attention.\n",
    "\n",
    "a. The output vector o will be dominated by the contribution of the key k. This can make it difficult for the model to learn about the other key vectors.\n",
    "\n",
    "b. The model may be more sensitive to noise in the key vectors. This is because small changes in the norm of k will have a large impact on the attention weights.\n",
    "\n"
   ]
  },
  {
   "cell_type": "markdown",
   "id": "j0r37mi5cC1B",
   "metadata": {
    "id": "j0r37mi5cC1B"
   },
   "source": [
    "#### ${\\color{red}{Comments\\ 1.3}}$\n",
    "\n",
    "${\\color{red}{⚠️Comments\\ begin⚠️}}$\n",
    "\n",
    "\n",
    "```\n",
    "cross-feedback comment section\n",
    "```\n",
    "\n",
    "\n",
    "${\\color{red}{⚠️Comments\\ end⚠️}}$"
   ]
  },
  {
   "cell_type": "markdown",
   "id": "_qxdcrolx48r",
   "metadata": {
    "id": "_qxdcrolx48r"
   },
   "source": [
    "### Subtask 4: Model Size  \n",
    "1. Imagine you have an input sequence of  $l$ tokens, how much memory is required and what time complexity do we have for a single self-attention layer? (give your answer in terms of $l$)\n",
    "2. If you have $N$ layers of self-attention, how  would the memory requirements and the time complexity change? (give your answer in terms of $l$ and $N$)\n",
    "3. If you have $l=10,000$ and $10$ layers, with the ability to perform $10M$ operations per second, how long would it take to compute the attention output?\n"
   ]
  },
  {
   "cell_type": "markdown",
   "id": "s35qnPU4yoYD",
   "metadata": {
    "id": "s35qnPU4yoYD"
   },
   "source": [
    "**Answer**"
   ]
  },
  {
   "cell_type": "markdown",
   "id": "LzlVLskKzBXq",
   "metadata": {
    "id": "LzlVLskKzBXq"
   },
   "source": [
    "\n",
    "1. The memory required for the input sequence of l tokens where the dimension of input vector is one - \n",
    "### l * l * 1 \n",
    "because each attention head needs to be stored into a matrix of size l*l\n",
    "\n",
    "Time complexity of this would be - \n",
    "### O(l*l)\n",
    "\n",
    "2. The memory required for the input sequence of l tokens for N layers of self attention where the dimension of input vector is one -\n",
    "### N* l* l* 1\n",
    "which is still proportional to l*l\n",
    "\n",
    "Time complexity of this would be -\n",
    "### O(N* l* l)\n",
    "\n",
    "3. l = 10000 and N=10 \n",
    "Number of operations per second 10M = 10^7\n",
    "\n",
    "Time required, O(l * l * N) = 10^4 * 10^4 * 10 /10^7 = 100seconds "
   ]
  },
  {
   "cell_type": "markdown",
   "id": "n2UFNSuozvNd",
   "metadata": {
    "id": "n2UFNSuozvNd"
   },
   "source": [
    "#### ${\\color{red}{Comments\\ 1.4}}$\n",
    "\n",
    "${\\color{red}{⚠️Comments\\ begin⚠️}}$\n",
    "\n",
    "\n",
    "```\n",
    "cross-feedback comment section\n",
    "```\n",
    "\n",
    "\n",
    "${\\color{red}{⚠️Comments\\ end⚠️}}$"
   ]
  },
  {
   "cell_type": "markdown",
   "id": "Av_GjYokHmGo",
   "metadata": {
    "id": "Av_GjYokHmGo"
   },
   "source": [
    "## **Task 2: Multiple Choice Question Answering** (4 + 3 + 5 + 2 = 14 points)"
   ]
  },
  {
   "cell_type": "markdown",
   "id": "hypnmNp2yeNz",
   "metadata": {
    "id": "hypnmNp2yeNz"
   },
   "source": [
    "In this task, you will fine-tune a transformer model on a multiple-choice task, which is the task of selecting the most plausible inputs in a given selection. The dataset used here is [SWAG](https://www.aclweb.org/anthology/D18-1009/), which is available via the Hugging Face [hub](https://huggingface.co/datasets/swag). Check the link for an overview of the dataset. SWAG is a dataset about commonsense reasoning, where each example describes a situation and then proposes four options that could apply for it.\n",
    "Let's start by installing the necessary packages."
   ]
  },
  {
   "cell_type": "code",
   "execution_count": null,
   "id": "RYb57u4CHnZ7",
   "metadata": {
    "colab": {
     "base_uri": "https://localhost:8080/"
    },
    "id": "RYb57u4CHnZ7",
    "outputId": "a53ed7e3-2766-4210-f100-3ed5ddbfd6ff"
   },
   "outputs": [
    {
     "name": "stdout",
     "output_type": "stream",
     "text": [
      "Requirement already satisfied: transformers in /usr/local/lib/python3.10/dist-packages (4.35.2)\n",
      "Requirement already satisfied: filelock in /usr/local/lib/python3.10/dist-packages (from transformers) (3.13.1)\n",
      "Requirement already satisfied: huggingface-hub<1.0,>=0.16.4 in /usr/local/lib/python3.10/dist-packages (from transformers) (0.20.1)\n",
      "Requirement already satisfied: numpy>=1.17 in /usr/local/lib/python3.10/dist-packages (from transformers) (1.23.5)\n",
      "Requirement already satisfied: packaging>=20.0 in /usr/local/lib/python3.10/dist-packages (from transformers) (23.2)\n",
      "Requirement already satisfied: pyyaml>=5.1 in /usr/local/lib/python3.10/dist-packages (from transformers) (6.0.1)\n",
      "Requirement already satisfied: regex!=2019.12.17 in /usr/local/lib/python3.10/dist-packages (from transformers) (2023.6.3)\n",
      "Requirement already satisfied: requests in /usr/local/lib/python3.10/dist-packages (from transformers) (2.31.0)\n",
      "Requirement already satisfied: tokenizers<0.19,>=0.14 in /usr/local/lib/python3.10/dist-packages (from transformers) (0.15.0)\n",
      "Requirement already satisfied: safetensors>=0.3.1 in /usr/local/lib/python3.10/dist-packages (from transformers) (0.4.1)\n",
      "Requirement already satisfied: tqdm>=4.27 in /usr/local/lib/python3.10/dist-packages (from transformers) (4.66.1)\n",
      "Requirement already satisfied: fsspec>=2023.5.0 in /usr/local/lib/python3.10/dist-packages (from huggingface-hub<1.0,>=0.16.4->transformers) (2023.6.0)\n",
      "Requirement already satisfied: typing-extensions>=3.7.4.3 in /usr/local/lib/python3.10/dist-packages (from huggingface-hub<1.0,>=0.16.4->transformers) (4.5.0)\n",
      "Requirement already satisfied: charset-normalizer<4,>=2 in /usr/local/lib/python3.10/dist-packages (from requests->transformers) (3.3.2)\n",
      "Requirement already satisfied: idna<4,>=2.5 in /usr/local/lib/python3.10/dist-packages (from requests->transformers) (3.6)\n",
      "Requirement already satisfied: urllib3<3,>=1.21.1 in /usr/local/lib/python3.10/dist-packages (from requests->transformers) (2.0.7)\n",
      "Requirement already satisfied: certifi>=2017.4.17 in /usr/local/lib/python3.10/dist-packages (from requests->transformers) (2023.11.17)\n",
      "Collecting datasets\n",
      "  Downloading datasets-2.16.1-py3-none-any.whl (507 kB)\n",
      "\u001b[2K     \u001b[90m━━━━━━━━━━━━━━━━━━━━━━━━━━━━━━━━━━━━━━━━\u001b[0m \u001b[32m507.1/507.1 kB\u001b[0m \u001b[31m5.1 MB/s\u001b[0m eta \u001b[36m0:00:00\u001b[0m\n",
      "\u001b[?25hRequirement already satisfied: filelock in /usr/local/lib/python3.10/dist-packages (from datasets) (3.13.1)\n",
      "Requirement already satisfied: numpy>=1.17 in /usr/local/lib/python3.10/dist-packages (from datasets) (1.23.5)\n",
      "Requirement already satisfied: pyarrow>=8.0.0 in /usr/local/lib/python3.10/dist-packages (from datasets) (10.0.1)\n",
      "Collecting pyarrow-hotfix (from datasets)\n",
      "  Downloading pyarrow_hotfix-0.6-py3-none-any.whl (7.9 kB)\n",
      "Collecting dill<0.3.8,>=0.3.0 (from datasets)\n",
      "  Downloading dill-0.3.7-py3-none-any.whl (115 kB)\n",
      "\u001b[2K     \u001b[90m━━━━━━━━━━━━━━━━━━━━━━━━━━━━━━━━━━━━━━━━\u001b[0m \u001b[32m115.3/115.3 kB\u001b[0m \u001b[31m6.5 MB/s\u001b[0m eta \u001b[36m0:00:00\u001b[0m\n",
      "\u001b[?25hRequirement already satisfied: pandas in /usr/local/lib/python3.10/dist-packages (from datasets) (1.5.3)\n",
      "Requirement already satisfied: requests>=2.19.0 in /usr/local/lib/python3.10/dist-packages (from datasets) (2.31.0)\n",
      "Requirement already satisfied: tqdm>=4.62.1 in /usr/local/lib/python3.10/dist-packages (from datasets) (4.66.1)\n",
      "Requirement already satisfied: xxhash in /usr/local/lib/python3.10/dist-packages (from datasets) (3.4.1)\n",
      "Collecting multiprocess (from datasets)\n",
      "  Downloading multiprocess-0.70.15-py310-none-any.whl (134 kB)\n",
      "\u001b[2K     \u001b[90m━━━━━━━━━━━━━━━━━━━━━━━━━━━━━━━━━━━━━━━━\u001b[0m \u001b[32m134.8/134.8 kB\u001b[0m \u001b[31m11.7 MB/s\u001b[0m eta \u001b[36m0:00:00\u001b[0m\n",
      "\u001b[?25hRequirement already satisfied: fsspec[http]<=2023.10.0,>=2023.1.0 in /usr/local/lib/python3.10/dist-packages (from datasets) (2023.6.0)\n",
      "Requirement already satisfied: aiohttp in /usr/local/lib/python3.10/dist-packages (from datasets) (3.9.1)\n",
      "Requirement already satisfied: huggingface-hub>=0.19.4 in /usr/local/lib/python3.10/dist-packages (from datasets) (0.20.1)\n",
      "Requirement already satisfied: packaging in /usr/local/lib/python3.10/dist-packages (from datasets) (23.2)\n",
      "Requirement already satisfied: pyyaml>=5.1 in /usr/local/lib/python3.10/dist-packages (from datasets) (6.0.1)\n",
      "Requirement already satisfied: attrs>=17.3.0 in /usr/local/lib/python3.10/dist-packages (from aiohttp->datasets) (23.1.0)\n",
      "Requirement already satisfied: multidict<7.0,>=4.5 in /usr/local/lib/python3.10/dist-packages (from aiohttp->datasets) (6.0.4)\n",
      "Requirement already satisfied: yarl<2.0,>=1.0 in /usr/local/lib/python3.10/dist-packages (from aiohttp->datasets) (1.9.4)\n",
      "Requirement already satisfied: frozenlist>=1.1.1 in /usr/local/lib/python3.10/dist-packages (from aiohttp->datasets) (1.4.1)\n",
      "Requirement already satisfied: aiosignal>=1.1.2 in /usr/local/lib/python3.10/dist-packages (from aiohttp->datasets) (1.3.1)\n",
      "Requirement already satisfied: async-timeout<5.0,>=4.0 in /usr/local/lib/python3.10/dist-packages (from aiohttp->datasets) (4.0.3)\n",
      "Requirement already satisfied: typing-extensions>=3.7.4.3 in /usr/local/lib/python3.10/dist-packages (from huggingface-hub>=0.19.4->datasets) (4.5.0)\n",
      "Requirement already satisfied: charset-normalizer<4,>=2 in /usr/local/lib/python3.10/dist-packages (from requests>=2.19.0->datasets) (3.3.2)\n",
      "Requirement already satisfied: idna<4,>=2.5 in /usr/local/lib/python3.10/dist-packages (from requests>=2.19.0->datasets) (3.6)\n",
      "Requirement already satisfied: urllib3<3,>=1.21.1 in /usr/local/lib/python3.10/dist-packages (from requests>=2.19.0->datasets) (2.0.7)\n",
      "Requirement already satisfied: certifi>=2017.4.17 in /usr/local/lib/python3.10/dist-packages (from requests>=2.19.0->datasets) (2023.11.17)\n",
      "Requirement already satisfied: python-dateutil>=2.8.1 in /usr/local/lib/python3.10/dist-packages (from pandas->datasets) (2.8.2)\n",
      "Requirement already satisfied: pytz>=2020.1 in /usr/local/lib/python3.10/dist-packages (from pandas->datasets) (2023.3.post1)\n",
      "Requirement already satisfied: six>=1.5 in /usr/local/lib/python3.10/dist-packages (from python-dateutil>=2.8.1->pandas->datasets) (1.16.0)\n",
      "Installing collected packages: pyarrow-hotfix, dill, multiprocess, datasets\n",
      "Successfully installed datasets-2.16.1 dill-0.3.7 multiprocess-0.70.15 pyarrow-hotfix-0.6\n",
      "Collecting evaluate\n",
      "  Downloading evaluate-0.4.1-py3-none-any.whl (84 kB)\n",
      "\u001b[2K     \u001b[90m━━━━━━━━━━━━━━━━━━━━━━━━━━━━━━━━━━━━━━━━\u001b[0m \u001b[32m84.1/84.1 kB\u001b[0m \u001b[31m2.2 MB/s\u001b[0m eta \u001b[36m0:00:00\u001b[0m\n",
      "\u001b[?25hRequirement already satisfied: datasets>=2.0.0 in /usr/local/lib/python3.10/dist-packages (from evaluate) (2.16.1)\n",
      "Requirement already satisfied: numpy>=1.17 in /usr/local/lib/python3.10/dist-packages (from evaluate) (1.23.5)\n",
      "Requirement already satisfied: dill in /usr/local/lib/python3.10/dist-packages (from evaluate) (0.3.7)\n",
      "Requirement already satisfied: pandas in /usr/local/lib/python3.10/dist-packages (from evaluate) (1.5.3)\n",
      "Requirement already satisfied: requests>=2.19.0 in /usr/local/lib/python3.10/dist-packages (from evaluate) (2.31.0)\n",
      "Requirement already satisfied: tqdm>=4.62.1 in /usr/local/lib/python3.10/dist-packages (from evaluate) (4.66.1)\n",
      "Requirement already satisfied: xxhash in /usr/local/lib/python3.10/dist-packages (from evaluate) (3.4.1)\n",
      "Requirement already satisfied: multiprocess in /usr/local/lib/python3.10/dist-packages (from evaluate) (0.70.15)\n",
      "Requirement already satisfied: fsspec[http]>=2021.05.0 in /usr/local/lib/python3.10/dist-packages (from evaluate) (2023.6.0)\n",
      "Requirement already satisfied: huggingface-hub>=0.7.0 in /usr/local/lib/python3.10/dist-packages (from evaluate) (0.20.1)\n",
      "Requirement already satisfied: packaging in /usr/local/lib/python3.10/dist-packages (from evaluate) (23.2)\n",
      "Collecting responses<0.19 (from evaluate)\n",
      "  Downloading responses-0.18.0-py3-none-any.whl (38 kB)\n",
      "Requirement already satisfied: filelock in /usr/local/lib/python3.10/dist-packages (from datasets>=2.0.0->evaluate) (3.13.1)\n",
      "Requirement already satisfied: pyarrow>=8.0.0 in /usr/local/lib/python3.10/dist-packages (from datasets>=2.0.0->evaluate) (10.0.1)\n",
      "Requirement already satisfied: pyarrow-hotfix in /usr/local/lib/python3.10/dist-packages (from datasets>=2.0.0->evaluate) (0.6)\n",
      "Requirement already satisfied: aiohttp in /usr/local/lib/python3.10/dist-packages (from datasets>=2.0.0->evaluate) (3.9.1)\n",
      "Requirement already satisfied: pyyaml>=5.1 in /usr/local/lib/python3.10/dist-packages (from datasets>=2.0.0->evaluate) (6.0.1)\n",
      "Requirement already satisfied: typing-extensions>=3.7.4.3 in /usr/local/lib/python3.10/dist-packages (from huggingface-hub>=0.7.0->evaluate) (4.5.0)\n",
      "Requirement already satisfied: charset-normalizer<4,>=2 in /usr/local/lib/python3.10/dist-packages (from requests>=2.19.0->evaluate) (3.3.2)\n",
      "Requirement already satisfied: idna<4,>=2.5 in /usr/local/lib/python3.10/dist-packages (from requests>=2.19.0->evaluate) (3.6)\n",
      "Requirement already satisfied: urllib3<3,>=1.21.1 in /usr/local/lib/python3.10/dist-packages (from requests>=2.19.0->evaluate) (2.0.7)\n",
      "Requirement already satisfied: certifi>=2017.4.17 in /usr/local/lib/python3.10/dist-packages (from requests>=2.19.0->evaluate) (2023.11.17)\n",
      "Requirement already satisfied: python-dateutil>=2.8.1 in /usr/local/lib/python3.10/dist-packages (from pandas->evaluate) (2.8.2)\n",
      "Requirement already satisfied: pytz>=2020.1 in /usr/local/lib/python3.10/dist-packages (from pandas->evaluate) (2023.3.post1)\n",
      "Requirement already satisfied: attrs>=17.3.0 in /usr/local/lib/python3.10/dist-packages (from aiohttp->datasets>=2.0.0->evaluate) (23.1.0)\n",
      "Requirement already satisfied: multidict<7.0,>=4.5 in /usr/local/lib/python3.10/dist-packages (from aiohttp->datasets>=2.0.0->evaluate) (6.0.4)\n",
      "Requirement already satisfied: yarl<2.0,>=1.0 in /usr/local/lib/python3.10/dist-packages (from aiohttp->datasets>=2.0.0->evaluate) (1.9.4)\n",
      "Requirement already satisfied: frozenlist>=1.1.1 in /usr/local/lib/python3.10/dist-packages (from aiohttp->datasets>=2.0.0->evaluate) (1.4.1)\n",
      "Requirement already satisfied: aiosignal>=1.1.2 in /usr/local/lib/python3.10/dist-packages (from aiohttp->datasets>=2.0.0->evaluate) (1.3.1)\n",
      "Requirement already satisfied: async-timeout<5.0,>=4.0 in /usr/local/lib/python3.10/dist-packages (from aiohttp->datasets>=2.0.0->evaluate) (4.0.3)\n",
      "Requirement already satisfied: six>=1.5 in /usr/local/lib/python3.10/dist-packages (from python-dateutil>=2.8.1->pandas->evaluate) (1.16.0)\n",
      "Installing collected packages: responses, evaluate\n",
      "Successfully installed evaluate-0.4.1 responses-0.18.0\n",
      "Collecting accelerate\n",
      "  Downloading accelerate-0.25.0-py3-none-any.whl (265 kB)\n",
      "\u001b[2K     \u001b[90m━━━━━━━━━━━━━━━━━━━━━━━━━━━━━━━━━━━━━━━━\u001b[0m \u001b[32m265.7/265.7 kB\u001b[0m \u001b[31m5.4 MB/s\u001b[0m eta \u001b[36m0:00:00\u001b[0m\n",
      "\u001b[?25hRequirement already satisfied: numpy>=1.17 in /usr/local/lib/python3.10/dist-packages (from accelerate) (1.23.5)\n",
      "Requirement already satisfied: packaging>=20.0 in /usr/local/lib/python3.10/dist-packages (from accelerate) (23.2)\n",
      "Requirement already satisfied: psutil in /usr/local/lib/python3.10/dist-packages (from accelerate) (5.9.5)\n",
      "Requirement already satisfied: pyyaml in /usr/local/lib/python3.10/dist-packages (from accelerate) (6.0.1)\n",
      "Requirement already satisfied: torch>=1.10.0 in /usr/local/lib/python3.10/dist-packages (from accelerate) (2.1.0+cu121)\n",
      "Requirement already satisfied: huggingface-hub in /usr/local/lib/python3.10/dist-packages (from accelerate) (0.20.1)\n",
      "Requirement already satisfied: safetensors>=0.3.1 in /usr/local/lib/python3.10/dist-packages (from accelerate) (0.4.1)\n",
      "Requirement already satisfied: filelock in /usr/local/lib/python3.10/dist-packages (from torch>=1.10.0->accelerate) (3.13.1)\n",
      "Requirement already satisfied: typing-extensions in /usr/local/lib/python3.10/dist-packages (from torch>=1.10.0->accelerate) (4.5.0)\n",
      "Requirement already satisfied: sympy in /usr/local/lib/python3.10/dist-packages (from torch>=1.10.0->accelerate) (1.12)\n",
      "Requirement already satisfied: networkx in /usr/local/lib/python3.10/dist-packages (from torch>=1.10.0->accelerate) (3.2.1)\n",
      "Requirement already satisfied: jinja2 in /usr/local/lib/python3.10/dist-packages (from torch>=1.10.0->accelerate) (3.1.2)\n",
      "Requirement already satisfied: fsspec in /usr/local/lib/python3.10/dist-packages (from torch>=1.10.0->accelerate) (2023.6.0)\n",
      "Requirement already satisfied: triton==2.1.0 in /usr/local/lib/python3.10/dist-packages (from torch>=1.10.0->accelerate) (2.1.0)\n",
      "Requirement already satisfied: requests in /usr/local/lib/python3.10/dist-packages (from huggingface-hub->accelerate) (2.31.0)\n",
      "Requirement already satisfied: tqdm>=4.42.1 in /usr/local/lib/python3.10/dist-packages (from huggingface-hub->accelerate) (4.66.1)\n",
      "Requirement already satisfied: MarkupSafe>=2.0 in /usr/local/lib/python3.10/dist-packages (from jinja2->torch>=1.10.0->accelerate) (2.1.3)\n",
      "Requirement already satisfied: charset-normalizer<4,>=2 in /usr/local/lib/python3.10/dist-packages (from requests->huggingface-hub->accelerate) (3.3.2)\n",
      "Requirement already satisfied: idna<4,>=2.5 in /usr/local/lib/python3.10/dist-packages (from requests->huggingface-hub->accelerate) (3.6)\n",
      "Requirement already satisfied: urllib3<3,>=1.21.1 in /usr/local/lib/python3.10/dist-packages (from requests->huggingface-hub->accelerate) (2.0.7)\n",
      "Requirement already satisfied: certifi>=2017.4.17 in /usr/local/lib/python3.10/dist-packages (from requests->huggingface-hub->accelerate) (2023.11.17)\n",
      "Requirement already satisfied: mpmath>=0.19 in /usr/local/lib/python3.10/dist-packages (from sympy->torch>=1.10.0->accelerate) (1.3.0)\n",
      "Installing collected packages: accelerate\n",
      "Successfully installed accelerate-0.25.0\n",
      "Collecting sentencepiece\n",
      "  Downloading sentencepiece-0.1.99-cp310-cp310-manylinux_2_17_x86_64.manylinux2014_x86_64.whl (1.3 MB)\n",
      "\u001b[2K     \u001b[90m━━━━━━━━━━━━━━━━━━━━━━━━━━━━━━━━━━━━━━━━\u001b[0m \u001b[32m1.3/1.3 MB\u001b[0m \u001b[31m9.2 MB/s\u001b[0m eta \u001b[36m0:00:00\u001b[0m\n",
      "\u001b[?25hInstalling collected packages: sentencepiece\n",
      "Successfully installed sentencepiece-0.1.99\n"
     ]
    }
   ],
   "source": [
    "%pip install transformers\n",
    "%pip install datasets\n",
    "%pip install evaluate\n",
    "%pip install accelerate -U\n",
    "%pip install sentencepiece"
   ]
  },
  {
   "cell_type": "markdown",
   "id": "oLwC5naF8KzV",
   "metadata": {
    "id": "oLwC5naF8KzV"
   },
   "source": [
    "In this task, you will use a BERT model with a `MultipleChoice` head from the Hugging Face library and then create your custom model.   Recall from the class that the BERT model has an auxiliary next sentence prediction task, in which two sentences are given to BERT separated by a `[SEP]` token and a classifier head decides if the second sentence logically follows the first one. Hugging Face has\n",
    " a `*ForMultipleChoice` architecture that uses the representation of the `[CLS]` token and a linear layer to classify if one sentence follows the other. We first start with this default architecture and then build a more complicated one in a later subtask."
   ]
  },
  {
   "cell_type": "markdown",
   "id": "FJ7H6SSk1DqI",
   "metadata": {
    "id": "FJ7H6SSk1DqI"
   },
   "source": [
    "### Subtask 1: Loading and Processing the Data"
   ]
  },
  {
   "cell_type": "markdown",
   "id": "KvvYhCtW1kI3",
   "metadata": {
    "id": "KvvYhCtW1kI3"
   },
   "source": [
    "We use the `dataset` library to download the SWAG dataset, which already contains train, validation, and test splits."
   ]
  },
  {
   "cell_type": "code",
   "execution_count": null,
   "id": "-cLxQBhq0Rmo",
   "metadata": {
    "colab": {
     "base_uri": "https://localhost:8080/",
     "height": 794,
     "referenced_widgets": [
      "8d5d48239bb1476fbc50814ca56fe095",
      "21cedfbdf50d463986db43a4f1989ede",
      "5caadc2c1dc14eb89d03a1f665c74712",
      "bd9d49c4b09a4160ba0c9feabe71e5b7",
      "eb291653521a482991461ee9efc1a622",
      "83403591e7eb4223ba680d369509f9ac",
      "c3116cbff21e45d89abf76206bb3c73d",
      "997fde08f57a43c5a32f3cd10cd84ed3",
      "ea79aec13a2f4a9babb02190e6ca2fbb",
      "12af9ff80b2244748fe27b4b568653ba",
      "97e1a160f4674385aa526b3dcd558d91",
      "24ffe801eb1e4be5adf79ba94da22881",
      "e9d816c0371c4da78b28d31e6ff89a24",
      "2e536a58503a4df8abeb7f1c0e926fca",
      "51df4446154240a4877b86c271189147",
      "358a5eae46fa458eb675721ab8022074",
      "587469972a054fd8b50b8b9b36495bd4",
      "e6cb76b02cb643ff89f2308b80f1a786",
      "ec9bd01cdbfd4a82a60744bc80b4fb8c",
      "dfdd4f96d77b421b81d3f77f3d875e80",
      "d5fdcfd56c304acaacc838ba19c9ad7a",
      "f94d50d0c62b4270a62fae4ec4440373",
      "1ec1f2a04df547bd9ccec0ec7d8937f6",
      "bc7fb01539824ed3b40e6a64bd49f170",
      "0e1bb3abb9e8467294d92997ffc3b235",
      "87332969216d41d092d1afcf7964bbda",
      "2461654950274c559132dec03a83ba9b",
      "88efedc4d7ec4874a6e6c33c64bb7f6b",
      "a3a73c274cb646b1a0b4285822ab5fea",
      "ebaaa2c7b7c04f429234adbe5a103942",
      "a27aeffc9b2b4ef0ba8f6fa38ef2befc",
      "b0ed226340f94336b3b549da1afb53b1",
      "1abe242703ee42688df0bd1ed7f469b0",
      "bfc99b64273744c0a7f08c239468898d",
      "815f804fd31e423a90db7bc18a2f5120",
      "2adb91dfc6ca4ce5b4bdd38612220c34",
      "bcc36c197907483481148a33e69a7df1",
      "a9698b33acaa4f4292a6ba8cf50b69e6",
      "7decff89d35b40ad913d7378e6263b6e",
      "f15db3e2f67e44019e2bfac1e44cfaea",
      "509a143ae4b54d26ae2ecc0ae144bd78",
      "4ecb642c30504ee8bd5e5696b932947f",
      "4694593f86fc407fb074c7398764cb0b",
      "6fd7ed6eb8be4ab4ba10a530c85bda53",
      "5db18b2d18dd4d6d835a8afe4a41c73c",
      "ad4c32922c3045ac9bdcf31ef92b8a83",
      "65f5a1243674464ca264bb3767490172",
      "9c2bd398f48246488af3feb9bcd3e756",
      "e205e40b0612405c983e2b81dadaad6a",
      "1f5bc081d7d947e4869981edd4c31b3f",
      "5b8977136c3948a5995b42315458f063",
      "cee4c7551a784b9b9cb5bc5554078677",
      "0a41b77eec4f4c2f89defc9b30bc0db7",
      "4772752233cd4f488a850d916444adee",
      "34dcb70d1d9f4db09df62407e93311f2",
      "468b5b8421004daf899f5e2417e5dcf3",
      "c1d8ea98ec5e4b12b3c80af5b30265d6",
      "c75bd14a421041eab0404fa5bd148a7b",
      "d71c646c38514dd7a9ebf7674160fc38",
      "93569f4ecc13472d9ced935b623d0acd",
      "048ede0b4f744550a81b0b8d6d62dc7a",
      "b2135ca6b2154776ab74e327b1b4cc12",
      "e4771723405b4c58b78c4d91cabf7478",
      "5e7ceed356c541c18b9f73fb99bc2dd8",
      "ca62dbfc3bfe4414b1e218c05ddbd25f",
      "d05ef6e8c22e4969a33d272608d64c87",
      "78d9123b0e8740caba6a1a90bf6cbc6a",
      "13098064db8842549703ae7db31b4106",
      "70a93bba207842318cac6d88c089d561",
      "909f15e9bdd94e478112512eb102e816",
      "ccf3b25064e84028a56fa72def598730",
      "efaba3679f6846e5929bdb5e3e95eb26",
      "720b23703a25411281b134535cd95991",
      "d9c93a96706f4faab788fc9ee49298d4",
      "a308fe18eedc48caac625b48b80ea2cd",
      "6a89a1747ed3417bb67ae9e5f14b6686",
      "aca78660175a4fd99c860cc12b144db4",
      "430727c7ae86427ab6a50f421208f7a1",
      "e3fe174194ae414ca3454e47bf9a334f",
      "37c85d09a87c4afd8b41b174e5ed9cb9",
      "8a0d9badbf3a4198adf0b07e06d68fb8",
      "1bea4ccc9a464b16810cf8d4ff3328d3",
      "42c61c3c747c4240afab1d6979c9714e",
      "58f7e282bcfd4abd99423e3591e6aa09",
      "9881018a76fe4f14ad5b6ab0f50f205d",
      "6efee356a9c745418b6a110e2b099de6",
      "b2a04283433a41f8b243fda2e16927fd",
      "bcccef360d3a48b48a8fd5267e2cbac1",
      "e8da71681472490c841abfcf723e022c",
      "4c313c6acb684eb6bf042a051b8b77c3",
      "22c5e03baaae4de18526423f2bced1e9",
      "958378588fa1429dbf1ffc5c9f04db1c",
      "3446a39ca0374e3fb984fee8f379a6d2",
      "807f90b58f124c648b4a5aab7054ce58",
      "a5750f202cf342b18f60ae6b4c8960aa",
      "343f76291e1545b089ec4f202196af05",
      "cf46307de9864d73bdb1a7706b5c21b1",
      "269525fa309a4c0f95b89baf5fbd7ad6",
      "3bc1a9e5e5e6412fa26e118cb3c18e7b"
     ]
    },
    "id": "-cLxQBhq0Rmo",
    "outputId": "6c411e83-10f2-47cd-c596-54c04b3abfce"
   },
   "outputs": [
    {
     "name": "stderr",
     "output_type": "stream",
     "text": [
      "/usr/local/lib/python3.10/dist-packages/huggingface_hub/utils/_token.py:72: UserWarning: \n",
      "The secret `HF_TOKEN` does not exist in your Colab secrets.\n",
      "To authenticate with the Hugging Face Hub, create a token in your settings tab (https://huggingface.co/settings/tokens), set it as secret in your Google Colab and restart your session.\n",
      "You will be able to reuse this secret in all of your notebooks.\n",
      "Please note that authentication is recommended but still optional to access public models or datasets.\n",
      "  warnings.warn(\n",
      "/usr/local/lib/python3.10/dist-packages/datasets/load.py:1429: FutureWarning: The repository for swag contains custom code which must be executed to correctly load the dataset. You can inspect the repository content at https://hf.co/datasets/swag\n",
      "You can avoid this message in future by passing the argument `trust_remote_code=True`.\n",
      "Passing `trust_remote_code=True` will be mandatory to load this dataset from the next major release of `datasets`.\n",
      "  warnings.warn(\n"
     ]
    },
    {
     "data": {
      "application/vnd.jupyter.widget-view+json": {
       "model_id": "8d5d48239bb1476fbc50814ca56fe095",
       "version_major": 2,
       "version_minor": 0
      },
      "text/plain": [
       "Downloading builder script:   0%|          | 0.00/7.97k [00:00<?, ?B/s]"
      ]
     },
     "metadata": {},
     "output_type": "display_data"
    },
    {
     "data": {
      "application/vnd.jupyter.widget-view+json": {
       "model_id": "24ffe801eb1e4be5adf79ba94da22881",
       "version_major": 2,
       "version_minor": 0
      },
      "text/plain": [
       "Downloading metadata:   0%|          | 0.00/7.10k [00:00<?, ?B/s]"
      ]
     },
     "metadata": {},
     "output_type": "display_data"
    },
    {
     "data": {
      "application/vnd.jupyter.widget-view+json": {
       "model_id": "1ec1f2a04df547bd9ccec0ec7d8937f6",
       "version_major": 2,
       "version_minor": 0
      },
      "text/plain": [
       "Downloading readme:   0%|          | 0.00/8.88k [00:00<?, ?B/s]"
      ]
     },
     "metadata": {},
     "output_type": "display_data"
    },
    {
     "data": {
      "application/vnd.jupyter.widget-view+json": {
       "model_id": "bfc99b64273744c0a7f08c239468898d",
       "version_major": 2,
       "version_minor": 0
      },
      "text/plain": [
       "Downloading data:   0%|          | 0.00/6.71M [00:00<?, ?B/s]"
      ]
     },
     "metadata": {},
     "output_type": "display_data"
    },
    {
     "data": {
      "application/vnd.jupyter.widget-view+json": {
       "model_id": "5db18b2d18dd4d6d835a8afe4a41c73c",
       "version_major": 2,
       "version_minor": 0
      },
      "text/plain": [
       "Downloading data:   0%|          | 0.00/2.24M [00:00<?, ?B/s]"
      ]
     },
     "metadata": {},
     "output_type": "display_data"
    },
    {
     "data": {
      "application/vnd.jupyter.widget-view+json": {
       "model_id": "468b5b8421004daf899f5e2417e5dcf3",
       "version_major": 2,
       "version_minor": 0
      },
      "text/plain": [
       "Downloading data:   0%|          | 0.00/2.21M [00:00<?, ?B/s]"
      ]
     },
     "metadata": {},
     "output_type": "display_data"
    },
    {
     "data": {
      "application/vnd.jupyter.widget-view+json": {
       "model_id": "78d9123b0e8740caba6a1a90bf6cbc6a",
       "version_major": 2,
       "version_minor": 0
      },
      "text/plain": [
       "Generating train split:   0%|          | 0/73546 [00:00<?, ? examples/s]"
      ]
     },
     "metadata": {},
     "output_type": "display_data"
    },
    {
     "data": {
      "application/vnd.jupyter.widget-view+json": {
       "model_id": "430727c7ae86427ab6a50f421208f7a1",
       "version_major": 2,
       "version_minor": 0
      },
      "text/plain": [
       "Generating validation split:   0%|          | 0/20006 [00:00<?, ? examples/s]"
      ]
     },
     "metadata": {},
     "output_type": "display_data"
    },
    {
     "data": {
      "application/vnd.jupyter.widget-view+json": {
       "model_id": "e8da71681472490c841abfcf723e022c",
       "version_major": 2,
       "version_minor": 0
      },
      "text/plain": [
       "Generating test split:   0%|          | 0/20005 [00:00<?, ? examples/s]"
      ]
     },
     "metadata": {},
     "output_type": "display_data"
    },
    {
     "data": {
      "text/plain": [
       "DatasetDict({\n",
       "    train: Dataset({\n",
       "        features: ['video-id', 'fold-ind', 'startphrase', 'sent1', 'sent2', 'gold-source', 'ending0', 'ending1', 'ending2', 'ending3', 'label'],\n",
       "        num_rows: 73546\n",
       "    })\n",
       "    validation: Dataset({\n",
       "        features: ['video-id', 'fold-ind', 'startphrase', 'sent1', 'sent2', 'gold-source', 'ending0', 'ending1', 'ending2', 'ending3', 'label'],\n",
       "        num_rows: 20006\n",
       "    })\n",
       "    test: Dataset({\n",
       "        features: ['video-id', 'fold-ind', 'startphrase', 'sent1', 'sent2', 'gold-source', 'ending0', 'ending1', 'ending2', 'ending3', 'label'],\n",
       "        num_rows: 20005\n",
       "    })\n",
       "})"
      ]
     },
     "execution_count": 2,
     "metadata": {},
     "output_type": "execute_result"
    }
   ],
   "source": [
    "import os\n",
    "os.environ['CUDA_LAUNCH_BLOCKING'] = \"1\"\n",
    "from datasets import load_dataset, load_metric\n",
    "datasets = load_dataset(\"swag\", \"regular\")\n",
    "datasets"
   ]
  },
  {
   "cell_type": "markdown",
   "id": "DHkkMD3v4bs3",
   "metadata": {
    "id": "DHkkMD3v4bs3"
   },
   "source": [
    "Lets look at the first item to see how the data looks like:"
   ]
  },
  {
   "cell_type": "code",
   "execution_count": null,
   "id": "vN6p1Mt84ZW_",
   "metadata": {
    "colab": {
     "base_uri": "https://localhost:8080/"
    },
    "id": "vN6p1Mt84ZW_",
    "outputId": "b5977be1-9db9-4554-9ebd-138bab3b2036"
   },
   "outputs": [
    {
     "data": {
      "text/plain": [
       "{'video-id': 'anetv_jkn6uvmqwh4',\n",
       " 'fold-ind': '3416',\n",
       " 'startphrase': 'Members of the procession walk down the street holding small horn brass instruments. A drum line',\n",
       " 'sent1': 'Members of the procession walk down the street holding small horn brass instruments.',\n",
       " 'sent2': 'A drum line',\n",
       " 'gold-source': 'gold',\n",
       " 'ending0': 'passes by walking down the street playing their instruments.',\n",
       " 'ending1': 'has heard approaching them.',\n",
       " 'ending2': \"arrives and they're outside dancing and asleep.\",\n",
       " 'ending3': 'turns the lead singer watches the performance.',\n",
       " 'label': 0}"
      ]
     },
     "execution_count": 3,
     "metadata": {},
     "output_type": "execute_result"
    }
   ],
   "source": [
    "datasets[\"train\"][0]"
   ]
  },
  {
   "cell_type": "markdown",
   "id": "xOxxXEdbTF8l",
   "metadata": {
    "id": "xOxxXEdbTF8l"
   },
   "source": [
    "**Question:**\n",
    "Look at the dataset card on the Hugging Face hub and define what each of these fields means, with respect to the task:\n",
    "\n",
    "*   `sent1`:\n",
    "*   `sent2`:\n",
    "*    `ending0`, `ending1`, `ending2` and `ending3`:\n",
    "*   `label`:\n",
    "\n",
    "\n"
   ]
  },
  {
   "cell_type": "markdown",
   "id": "2FfOTODlURAY",
   "metadata": {
    "id": "2FfOTODlURAY"
   },
   "source": [
    "**Answer**\n",
    "\n",
    "*   `sent1`: is the first sentence that is given to the model\n",
    "*   `sent2`: is the beginning of the second sentence, which should be filled\n",
    "*    `ending0`, `ending1`, `ending2` and `ending3`: propositions of the endings of the second sentence, one of them is correct\n",
    "*   `label`: information which of the above endings is correct\n"
   ]
  },
  {
   "cell_type": "markdown",
   "id": "D9TcSWfiU2m-",
   "metadata": {
    "id": "D9TcSWfiU2m-"
   },
   "source": [
    "Write a function that displays the context and each of the four choices, following the format\n",
    "\n",
    "\n",
    "```\n",
    "Context:...\n",
    "A-\n",
    "B-\n",
    "C-\n",
    "D-\n",
    "Ground truth: option ...\n",
    "```\n",
    "\n",
    "How you display the results is not important. You should be able to extract different parts of the data correctly and know what each field represents."
   ]
  },
  {
   "cell_type": "code",
   "execution_count": null,
   "id": "jVOf4b2r4gDq",
   "metadata": {
    "id": "jVOf4b2r4gDq"
   },
   "outputs": [],
   "source": [
    "def explain_example(example):\n",
    "  ### your code ###\n",
    "  print(f\"Context: {example['startphrase']} \\n A- {example['ending0']} \\n B- {example['ending1']} \\n C- {example['ending2']} \\n D- {example['ending3']} \\n Ground truth: option {example['label']}.\")\n",
    "\n",
    "  ### your code ###"
   ]
  },
  {
   "cell_type": "code",
   "execution_count": null,
   "id": "BlTFSjmR5QrP",
   "metadata": {
    "colab": {
     "base_uri": "https://localhost:8080/"
    },
    "id": "BlTFSjmR5QrP",
    "outputId": "4b740148-1429-4258-9c05-ace6f87ba696"
   },
   "outputs": [
    {
     "name": "stdout",
     "output_type": "stream",
     "text": [
      "Context: Members of the procession walk down the street holding small horn brass instruments. A drum line \n",
      " A- passes by walking down the street playing their instruments. \n",
      " B- has heard approaching them. \n",
      " C- arrives and they're outside dancing and asleep. \n",
      " D- turns the lead singer watches the performance. \n",
      " Ground truth: option 0.\n"
     ]
    }
   ],
   "source": [
    "explain_example(datasets[\"train\"][0])"
   ]
  },
  {
   "cell_type": "markdown",
   "id": "lXnX0E915qbb",
   "metadata": {
    "id": "lXnX0E915qbb"
   },
   "source": [
    "Before feeding the data into the model, we need to preprocess the text using `Tokenizer` to tokenize the inputs into tokens and put it in a format that the model expects. The tokenizer specific to the model we want to use for this task is `distilbert-base-uncased`. Complete the code below to load a fast tokenizer for this model. DistilBERT is similar to the BERT model, and we only use this particular architecture for faster training.\n"
   ]
  },
  {
   "cell_type": "code",
   "execution_count": null,
   "id": "fd4BkVDc5RdO",
   "metadata": {
    "colab": {
     "base_uri": "https://localhost:8080/",
     "height": 269,
     "referenced_widgets": [
      "03a9645929fd43d6b37e9731987a9109",
      "215311ecfa904c39bfd1ce974bb1100f",
      "f9630bea6c2c4b668598141bdd0415a6",
      "02523804dc1743089250e8acdc5dfaff",
      "109387d465f74f6f9bc752454eb6f63a",
      "0f7554f6da6a423680cda700ba494f0b",
      "af97df78e97444489071f13a2c58df63",
      "3eeaa28683b849bcb7ce1ce9bf9b48a9",
      "4c798b0711134919835c7ede3ef2a248",
      "fd6adea302814be1b5bb006dfcbc6918",
      "b534e765aaac4030b5131e1c983d9d18",
      "cc70c22a09aa4e9bb59a44fc13e1b704",
      "88cabdcb414d41b8b98cad547cc6f4e1",
      "6e14eb0e362549e5ab0666a4115a3320",
      "89b90efa2aa04be5aade9d8da2743ae9",
      "756cfdb7d7834909a5e627ca92587fe6",
      "40819e81486f4200ac2ea939f6757f32",
      "7d69998e049d493ab673a092e599ec78",
      "92f4a47cb0c24a36a0843938cf316b42",
      "ff7cd05bb15e495087cfeeccdcf7dcde",
      "80cd0c92994f4640a089da0eb29194d1",
      "b78743182b2a48cfbb55493659d13eda",
      "7d0d384471254ac69783d4f3a71067e0",
      "a25c327d9b124737871c532334c6da94",
      "a6f806b31c8c4978a5371965bd55b5ff",
      "1f6e8d885b3d4881bb5a9324a2742a10",
      "dc9fda7e6f684aceb3439da5f018c6a5",
      "b3ef303f06c240e7adfa15a74c331bd1",
      "363d12f6d6fb4f8c936d66115f611e65",
      "d0c28eeb77784a7ca259e99b769305b7",
      "0836a45def1c404cb4c62cc3d904d292",
      "b8e356e097d4456d87efbc400c38d903",
      "b69dee3ad0e24e41901375bf7e975374",
      "a3a9d448674140adbd549b1a886b54e9",
      "3438dab2fc324fe99ed3738c359cc42b",
      "a958a5fa76a645718fb7b7773912b1d2",
      "1087550602604bda836023861d9e759a",
      "63d5742dd76b4af9bcf0cc1e4e4051dc",
      "ea5b4bca494a433db37536c58a0ef3ac",
      "c4fd4aeab87a4f249385f5d7ad1365ed",
      "ad8087d44f8848719f9805d2a03ae7e5",
      "82aef36d130f4dc2a97c40b7fcb76bb1",
      "973d6e436a3f4df79962105e5772d9d7",
      "ab33369b9374406c8b2f638691140d47"
     ]
    },
    "id": "fd4BkVDc5RdO",
    "outputId": "300434ea-bf22-4d98-accb-d64dd8cd89fb"
   },
   "outputs": [
    {
     "name": "stderr",
     "output_type": "stream",
     "text": [
      "/usr/local/lib/python3.10/dist-packages/huggingface_hub/utils/_token.py:72: UserWarning: \n",
      "The secret `HF_TOKEN` does not exist in your Colab secrets.\n",
      "To authenticate with the Hugging Face Hub, create a token in your settings tab (https://huggingface.co/settings/tokens), set it as secret in your Google Colab and restart your session.\n",
      "You will be able to reuse this secret in all of your notebooks.\n",
      "Please note that authentication is recommended but still optional to access public models or datasets.\n",
      "  warnings.warn(\n"
     ]
    },
    {
     "data": {
      "application/vnd.jupyter.widget-view+json": {
       "model_id": "03a9645929fd43d6b37e9731987a9109",
       "version_major": 2,
       "version_minor": 0
      },
      "text/plain": [
       "tokenizer_config.json:   0%|          | 0.00/28.0 [00:00<?, ?B/s]"
      ]
     },
     "metadata": {},
     "output_type": "display_data"
    },
    {
     "data": {
      "application/vnd.jupyter.widget-view+json": {
       "model_id": "cc70c22a09aa4e9bb59a44fc13e1b704",
       "version_major": 2,
       "version_minor": 0
      },
      "text/plain": [
       "config.json:   0%|          | 0.00/483 [00:00<?, ?B/s]"
      ]
     },
     "metadata": {},
     "output_type": "display_data"
    },
    {
     "data": {
      "application/vnd.jupyter.widget-view+json": {
       "model_id": "7d0d384471254ac69783d4f3a71067e0",
       "version_major": 2,
       "version_minor": 0
      },
      "text/plain": [
       "vocab.txt:   0%|          | 0.00/232k [00:00<?, ?B/s]"
      ]
     },
     "metadata": {},
     "output_type": "display_data"
    },
    {
     "data": {
      "application/vnd.jupyter.widget-view+json": {
       "model_id": "a3a9d448674140adbd549b1a886b54e9",
       "version_major": 2,
       "version_minor": 0
      },
      "text/plain": [
       "tokenizer.json:   0%|          | 0.00/466k [00:00<?, ?B/s]"
      ]
     },
     "metadata": {},
     "output_type": "display_data"
    }
   ],
   "source": [
    "from transformers import AutoTokenizer\n",
    "\n",
    "###your code###\n",
    "tokenizer = AutoTokenizer.from_pretrained('distilbert-base-uncased')\n",
    "###your code###"
   ]
  },
  {
   "cell_type": "code",
   "execution_count": null,
   "id": "BbtOfQ4T7AQV",
   "metadata": {
    "colab": {
     "base_uri": "https://localhost:8080/"
    },
    "id": "BbtOfQ4T7AQV",
    "outputId": "ff12c59e-eba2-4639-cd16-98f7359163d5"
   },
   "outputs": [
    {
     "data": {
      "text/plain": [
       "{'input_ids': [101, 2023, 2003, 1996, 2034, 6251, 999, 102, 1998, 2023, 2003, 1996, 2117, 2028, 1012, 102], 'attention_mask': [1, 1, 1, 1, 1, 1, 1, 1, 1, 1, 1, 1, 1, 1, 1, 1]}"
      ]
     },
     "execution_count": 7,
     "metadata": {},
     "output_type": "execute_result"
    }
   ],
   "source": [
    "tokenizer(\"This is the first sentence!\", \"And this is the second one.\")"
   ]
  },
  {
   "cell_type": "markdown",
   "id": "4LMdG45b7Yop",
   "metadata": {
    "id": "4LMdG45b7Yop"
   },
   "source": [
    "Write a function that preprocesses the samples.\n",
    "The tricky part is to put all the possible pairs of sentences in two big lists before passing them to the tokenizer.\n",
    "Each **first** sentence has to be repeated 4 times to go with different ending options.\n",
    "There should be a separator token between the first and second sentence, to follow the BERT input logic.\n",
    "The final output is a list of 4 elements, one for each choice, where the input is transformed by the tokenizer.\n",
    "For example, with a list of 2 training examples, the output includes 2 lists, where each contains 4 elements. Each of those elements is the converted input ID of the first sentence followed by the second sentence with different endings.\n",
    "When calling the `tokenizer`, we use the argument `truncation=True`. This will ensure that an input longer than what the model selected can handle will be truncated to the maximum length accepted by the model.\n",
    "\n",
    "**Hint:** Flatten the lists (all choices are flattened into a single list) before feeding them into the tokenizer and unflatten them once again for the final output."
   ]
  },
  {
   "cell_type": "code",
   "execution_count": null,
   "id": "uEBvuUSm7FD_",
   "metadata": {
    "id": "uEBvuUSm7FD_"
   },
   "outputs": [],
   "source": [
    "### your code ###\n",
    "ending_names =['ending0', 'ending1', 'ending2', 'ending3']\n",
    "### your code ###\n",
    "def preprocess_function(examples):\n",
    "  ### your code ###\n",
    "    # repeat each first sentence four times\n",
    "    first_sentences = [[examples['startphrase'][i] for _ in range(4) ]for i in range(len(examples['sent1']))]\n",
    "    # second sentences possible are combination of header and ending\n",
    "    question_headers =[[f\"{inner} [SEP]\" for inner in first_sent] for first_sent in first_sentences]\n",
    "    helping = [[examples[ending][i] for ending in ending_names ]for i in range(len(examples['sent1']))]\n",
    "    second_sentences=[[help + \" \" + end for help, end in zip(sublist1, sublist2)] for sublist1, sublist2 in zip(question_headers, helping)]\n",
    "\n",
    "    # flatten everything\n",
    "    flattened=[item for sublist in second_sentences for item in sublist]\n",
    "\n",
    "    # tokenize\n",
    "    inputs=tokenizer(flattened, truncation=True)\n",
    "    # un-flatten\n",
    "    num=len(ending_names)\n",
    "    inputs_end={input_ids: [value[i:i+num] for i in range(0, len(value), num)] for input_ids, value in inputs.items()}\n",
    "\n",
    "    return inputs_end\n",
    "    ### your code ###"
   ]
  },
  {
   "cell_type": "code",
   "execution_count": null,
   "id": "9Q25z-jQ-rMu",
   "metadata": {
    "colab": {
     "base_uri": "https://localhost:8080/"
    },
    "id": "9Q25z-jQ-rMu",
    "outputId": "91574037-622e-4d48-e17f-3e24de6d26d1"
   },
   "outputs": [
    {
     "name": "stdout",
     "output_type": "stream",
     "text": [
      "{'video-id': ['anetv_jkn6uvmqwh4', 'anetv_jkn6uvmqwh4'], 'fold-ind': ['3416', '3417'], 'startphrase': ['Members of the procession walk down the street holding small horn brass instruments. A drum line', 'A drum line passes by walking down the street playing their instruments. Members of the procession'], 'sent1': ['Members of the procession walk down the street holding small horn brass instruments.', 'A drum line passes by walking down the street playing their instruments.'], 'sent2': ['A drum line', 'Members of the procession'], 'gold-source': ['gold', 'gen'], 'ending0': ['passes by walking down the street playing their instruments.', 'are playing ping pong and celebrating one left each in quick.'], 'ending1': ['has heard approaching them.', 'wait slowly towards the cadets.'], 'ending2': [\"arrives and they're outside dancing and asleep.\", 'continues to play as well along the crowd along with the band being interviewed.'], 'ending3': ['turns the lead singer watches the performance.', 'continue to play marching, interspersed.'], 'label': [0, 3]}\n",
      "2 4 [30, 25, 30, 28]\n"
     ]
    }
   ],
   "source": [
    "examples = datasets[\"train\"][:2]\n",
    "print(examples)\n",
    "features = preprocess_function(examples)\n",
    "print(len(features[\"input_ids\"]), len(features[\"input_ids\"][0]), [len(x) for x in features[\"input_ids\"][0]])# output should be 2 4 [30, 25, 30, 28]"
   ]
  },
  {
   "cell_type": "markdown",
   "id": "hKizHUiGXgj-",
   "metadata": {
    "id": "hKizHUiGXgj-"
   },
   "source": [
    "We can now apply our function to all the examples in the dataset. We use the `map` method to apply the function on all the elements of all the splits in the dataset (training, validation, and testing).\n",
    "Note that we passed `batched=True` to leverage the fast tokenizer and use multi-threading to process the texts in batches concurrently."
   ]
  },
  {
   "cell_type": "code",
   "execution_count": null,
   "id": "9Wau4GZsXcvE",
   "metadata": {
    "colab": {
     "base_uri": "https://localhost:8080/",
     "height": 113,
     "referenced_widgets": [
      "44f28a7c4f794adc861d1b01e368d938",
      "8215fc1ba89546e0b012a3dac799dda7",
      "5477a6551991492f826ed16527736824",
      "dd32ad5b086248ccb70ae17f539fcdb6",
      "6dba9531349841449a5cedb2a9838e6b",
      "ecf42f8c8da8499cae056ec5d23b58bc",
      "d7f74ea302c24594945a792671147e83",
      "8897874572204f869cb49e6d747b3caf",
      "acdbed58732d413ebfe865ac899bae03",
      "d5ec3b3f1a004067b03a38ab891e7a4f",
      "ad64b9007f56409fa3f947ffeadabf41",
      "647b6f067eb8494c8c64be3dc86e4fd0",
      "c3d5368f656d4991b90f588858492641",
      "5761e91d768f4f979370d742bda342a3",
      "0f1baa399d6a43389fd1280032012269",
      "a6bad5a1f39047bb99782ef46ba8352c",
      "038fcd59bf3a47a4b3769952847063e9",
      "72393d1c834f4d6ab21bcc63e9803275",
      "14d9e9e935814bcb845442492785d551",
      "76f3250ba01a4cdd8f8d69baceb3eb38",
      "964fc8371f0946f28a531765caec7398",
      "2d087e5e30d94a0eba7449795d623b7b",
      "ec23d7709b7a41379e154041fa0ca02c",
      "f88ba27419874c3787e48539662f9ea6",
      "46525fb99558434ca43a31517c8125be",
      "b0edc6aad13c497a8744d5e353bf665c",
      "a857a6a343b342988f876d759532c5bf",
      "d91659f703304535ba1892cc1ecc7638",
      "510c26ba61b841979edfba382b1e6091",
      "e1c2b68a0ba841bea1c7e43243e2f2fe",
      "b5acf7ea2b5a47e28b60da7ebfd2a559",
      "35a4f58a8a594045941130da378a70b0",
      "7c0495114d8c4c5396771284e146f8aa"
     ]
    },
    "id": "9Wau4GZsXcvE",
    "outputId": "17d6711b-3106-4f8e-904b-014ee7092c33"
   },
   "outputs": [
    {
     "data": {
      "application/vnd.jupyter.widget-view+json": {
       "model_id": "44f28a7c4f794adc861d1b01e368d938",
       "version_major": 2,
       "version_minor": 0
      },
      "text/plain": [
       "Map:   0%|          | 0/73546 [00:00<?, ? examples/s]"
      ]
     },
     "metadata": {},
     "output_type": "display_data"
    },
    {
     "data": {
      "application/vnd.jupyter.widget-view+json": {
       "model_id": "647b6f067eb8494c8c64be3dc86e4fd0",
       "version_major": 2,
       "version_minor": 0
      },
      "text/plain": [
       "Map:   0%|          | 0/20006 [00:00<?, ? examples/s]"
      ]
     },
     "metadata": {},
     "output_type": "display_data"
    },
    {
     "data": {
      "application/vnd.jupyter.widget-view+json": {
       "model_id": "ec23d7709b7a41379e154041fa0ca02c",
       "version_major": 2,
       "version_minor": 0
      },
      "text/plain": [
       "Map:   0%|          | 0/20005 [00:00<?, ? examples/s]"
      ]
     },
     "metadata": {},
     "output_type": "display_data"
    }
   ],
   "source": [
    "encoded_datasets = datasets.map(preprocess_function, batched=True)"
   ]
  },
  {
   "cell_type": "markdown",
   "id": "G69L2vtPR8uV",
   "metadata": {
    "id": "G69L2vtPR8uV"
   },
   "source": [
    "Our dataset is still not converted to tensors and not padded. This is the job of the `data collator`. A data collator takes a list of examples and converts them to a batch.\n",
    "There is no data collator in the Hugging Face default library that works on our specific problem. We thus need to write our own one. In this collator:\n",
    "\n",
    "*  All the inputs/attention masks are flattened.\n",
    "* A flattened list is passed to the `tokenizer.pad ` method to apply dynamic padding to pad inputs to the maximum length in the batch. Output will be the size of `(batch_size * 4) x seq_length`.\n",
    "* Everything needs to be unflattened for the output of the data collator.\n",
    "* `input_ids` and `labels` should be returned as tensors.\n",
    "* The output is a dictionary called `batch` that contains features needed for training (`input_ids`, `attention_mask`, `label`).\n",
    "\n"
   ]
  },
  {
   "cell_type": "code",
   "execution_count": null,
   "id": "r_3SvkBOSgZx",
   "metadata": {
    "id": "r_3SvkBOSgZx"
   },
   "outputs": [],
   "source": [
    "from dataclasses import dataclass\n",
    "from transformers.tokenization_utils_base import PreTrainedTokenizerBase, PaddingStrategy\n",
    "from typing import Optional, Union\n",
    "import torch\n",
    "\n",
    "@dataclass\n",
    "class MultipleChoiceDataCollator:\n",
    "    tokenizer: PreTrainedTokenizerBase\n",
    "    padding: Union[bool, str, PaddingStrategy] = True\n",
    "    max_length: Optional[int] = None\n",
    "    pad_to_multiple_of: Optional[int] = None\n",
    "\n",
    "    def __call__(self, features):\n",
    "        accepted_keys = [\"input_ids\", \"attention_mask\", \"label\"]\n",
    "        if len(features[0])>len(accepted_keys):\n",
    "          features=[{k: v for k, v in i.items() if k in accepted_keys} for i in features]\n",
    "      ### your code ###\n",
    "\n",
    "        labels =[feature['label'] for feature in features]\n",
    "        # flatten\n",
    "        flattened_features = {key: [item for sublist in [feature[key] for feature in features]\n",
    "                              for item in sublist] for key in accepted_keys[:-1]}\n",
    "\n",
    "        # use the tokenizer and attributes from the class to pad the input\n",
    "        batch = self.tokenizer.pad(\n",
    "            flattened_features,\n",
    "            padding=self.padding,\n",
    "            max_length=self.max_length,\n",
    "            pad_to_multiple_of = self.pad_to_multiple_of,\n",
    "            return_tensors=\"pt\"\n",
    "        )\n",
    "\n",
    "        # un-flatten\n",
    "        num=len(features[0][\"input_ids\"])\n",
    "        batch_1 = {key: value.clone().detach() for key, value in batch.items()}\n",
    "        batch = {}\n",
    "        for key, value in batch_1.items():\n",
    "          grouped_values = [value[i:i+4] for i in range(0, len(value), 4)]\n",
    "          batch[key] = torch.stack(grouped_values)\n",
    "        batch[\"labels\"]=torch.tensor(labels)\n",
    "\n",
    "        ### your code ###\n",
    "        return batch"
   ]
  },
  {
   "cell_type": "code",
   "execution_count": null,
   "id": "-oKeJUr_UBUV",
   "metadata": {
    "colab": {
     "base_uri": "https://localhost:8080/"
    },
    "id": "-oKeJUr_UBUV",
    "outputId": "e18b6d31-7e9c-4a3c-ebd4-01a89abb54bf"
   },
   "outputs": [
    {
     "name": "stderr",
     "output_type": "stream",
     "text": [
      "You're using a DistilBertTokenizerFast tokenizer. Please note that with a fast tokenizer, using the `__call__` method is faster than using a method to encode the text followed by a call to the `pad` method to get a padded encoding.\n"
     ]
    },
    {
     "name": "stdout",
     "output_type": "stream",
     "text": [
      "torch.Size([10, 4, 40])\n",
      "torch.Size([10, 4, 40])\n",
      "torch.Size([10])\n"
     ]
    }
   ],
   "source": [
    "accepted_keys = [\"input_ids\", \"attention_mask\", \"label\"]\n",
    "features = [{k: v for k, v in encoded_datasets[\"train\"][i].items() if k in accepted_keys} for i in range(10)]\n",
    "batch=MultipleChoiceDataCollator(tokenizer)(features)\n",
    "print(batch[\"input_ids\"].shape)\n",
    "print(batch[\"attention_mask\"].shape)\n",
    "print(batch[\"labels\"].shape)"
   ]
  },
  {
   "cell_type": "code",
   "execution_count": null,
   "id": "e4QOVIuKHEe8",
   "metadata": {
    "id": "e4QOVIuKHEe8"
   },
   "outputs": [],
   "source": [
    "labels =[feature['label'] for feature in features]\n",
    "# flatten\n",
    "flattened_features = {key: [item for sublist in [feature[key] for feature in features]\n",
    "                      for item in sublist] for key in accepted_keys[:-1]}"
   ]
  },
  {
   "cell_type": "code",
   "execution_count": null,
   "id": "glDO1KfaVXoX",
   "metadata": {
    "colab": {
     "base_uri": "https://localhost:8080/"
    },
    "id": "glDO1KfaVXoX",
    "outputId": "2499abb9-9f6a-4a88-ca31-6cebc9a746e9"
   },
   "outputs": [
    {
     "name": "stdout",
     "output_type": "stream",
     "text": [
      "tensor([  101,  2372,  1997,  1996, 14385,  3328,  2091,  1996,  2395,  3173,\n",
      "         2235,  7109,  8782,  5693,  1012,  1037,  6943,  2240,   102,  5235,\n",
      "         2011,  3788,  2091,  1996,  2395,  2652,  2037,  5693,  1012,   102,\n",
      "            0,     0,     0,     0,     0,     0,     0,     0,     0,     0])\n",
      "[CLS] members of the procession walk down the street holding small horn brass instruments. a drum line [SEP] passes by walking down the street playing their instruments. [SEP] [PAD] [PAD] [PAD] [PAD] [PAD] [PAD] [PAD] [PAD] [PAD] [PAD]\n",
      "tensor([  101,  2372,  1997,  1996, 14385,  3328,  2091,  1996,  2395,  3173,\n",
      "         2235,  7109,  8782,  5693,  1012,  1037,  6943,  2240,   102,  2038,\n",
      "         2657,  8455,  2068,  1012,   102,     0,     0,     0,     0,     0,\n",
      "            0,     0,     0,     0,     0,     0,     0,     0,     0,     0])\n",
      "[CLS] members of the procession walk down the street holding small horn brass instruments. a drum line [SEP] has heard approaching them. [SEP] [PAD] [PAD] [PAD] [PAD] [PAD] [PAD] [PAD] [PAD] [PAD] [PAD] [PAD] [PAD] [PAD] [PAD] [PAD]\n",
      "tensor([  101,  2372,  1997,  1996, 14385,  3328,  2091,  1996,  2395,  3173,\n",
      "         2235,  7109,  8782,  5693,  1012,  1037,  6943,  2240,   102,  8480,\n",
      "         1998,  2027,  1005,  2128,  2648,  5613,  1998,  6680,  1012,   102,\n",
      "            0,     0,     0,     0,     0,     0,     0,     0,     0,     0])\n",
      "[CLS] members of the procession walk down the street holding small horn brass instruments. a drum line [SEP] arrives and they're outside dancing and asleep. [SEP] [PAD] [PAD] [PAD] [PAD] [PAD] [PAD] [PAD] [PAD] [PAD] [PAD]\n",
      "tensor([  101,  2372,  1997,  1996, 14385,  3328,  2091,  1996,  2395,  3173,\n",
      "         2235,  7109,  8782,  5693,  1012,  1037,  6943,  2240,   102,  4332,\n",
      "         1996,  2599,  3220, 12197,  1996,  2836,  1012,   102,     0,     0,\n",
      "            0,     0,     0,     0,     0,     0,     0,     0,     0,     0])\n",
      "[CLS] members of the procession walk down the street holding small horn brass instruments. a drum line [SEP] turns the lead singer watches the performance. [SEP] [PAD] [PAD] [PAD] [PAD] [PAD] [PAD] [PAD] [PAD] [PAD] [PAD] [PAD] [PAD]\n"
     ]
    }
   ],
   "source": [
    "for i in range(4):\n",
    "  print(batch[\"input_ids\"][0][i])\n",
    "  print(tokenizer.decode(batch[\"input_ids\"][0][i]))"
   ]
  },
  {
   "cell_type": "markdown",
   "id": "WD4IjgtLYCLa",
   "metadata": {
    "id": "WD4IjgtLYCLa"
   },
   "source": [
    "#### ${\\color{red}{Comments\\ 2.1}}$\n",
    "\n",
    "${\\color{red}{⚠️Comments\\ begin⚠️}}$\n",
    "\n",
    "\n",
    "```\n",
    "cross-feedback comment section\n",
    "```\n",
    "\n",
    "\n",
    "${\\color{red}{⚠️Comments\\ end⚠️}}$"
   ]
  },
  {
   "cell_type": "markdown",
   "id": "mZZDaB9LXSB4",
   "metadata": {
    "id": "mZZDaB9LXSB4"
   },
   "source": [
    "### Subtask 2: Fine-tuning a Hugging Face Model"
   ]
  },
  {
   "cell_type": "markdown",
   "id": "toXHZtX7XSEs",
   "metadata": {
    "id": "toXHZtX7XSEs"
   },
   "source": [
    "To fine-tune our model, we first need to download the correct architecture from Hugging Face. Import the correct class for this task and download the pre-trained checkpoint for the base class from `distilbert-base-uncased`. Note that the weights in the classification head are initialized at random."
   ]
  },
  {
   "cell_type": "code",
   "execution_count": null,
   "id": "NONtYIrE-w6p",
   "metadata": {
    "colab": {
     "base_uri": "https://localhost:8080/",
     "height": 208,
     "referenced_widgets": [
      "aeca97b9d8bd49dc8c94434a70437d46",
      "029e291d10f94ad799fd57da7824a117",
      "74ce21dcf2a0433185e56fee6b02d4ef",
      "b66d2831fe8c45fc95db7114086100d6",
      "9af113bec4724983a414e9f0416ba4f2",
      "c317e32e45804f119446664a8e7995f3",
      "065c7cb934cb4c42872da3c607dc765a",
      "c0e77899d77644f4bc49d9bc520a1060",
      "4387ecc630454c5495a309efa1d6c250",
      "c53c949e6a294018b461b4c203ec59c6",
      "f0471b7a29ce48a3a53e20b837f8edc5"
     ]
    },
    "id": "NONtYIrE-w6p",
    "outputId": "ffa423ff-7c53-4ef4-c9df-fdba172d41b5"
   },
   "outputs": [
    {
     "name": "stderr",
     "output_type": "stream",
     "text": [
      "/usr/local/lib/python3.10/dist-packages/huggingface_hub/utils/_token.py:72: UserWarning: \n",
      "The secret `HF_TOKEN` does not exist in your Colab secrets.\n",
      "To authenticate with the Hugging Face Hub, create a token in your settings tab (https://huggingface.co/settings/tokens), set it as secret in your Google Colab and restart your session.\n",
      "You will be able to reuse this secret in all of your notebooks.\n",
      "Please note that authentication is recommended but still optional to access public models or datasets.\n",
      "  warnings.warn(\n"
     ]
    },
    {
     "data": {
      "application/vnd.jupyter.widget-view+json": {
       "model_id": "aeca97b9d8bd49dc8c94434a70437d46",
       "version_major": 2,
       "version_minor": 0
      },
      "text/plain": [
       "model.safetensors:   0%|          | 0.00/268M [00:00<?, ?B/s]"
      ]
     },
     "metadata": {},
     "output_type": "display_data"
    },
    {
     "name": "stderr",
     "output_type": "stream",
     "text": [
      "Some weights of DistilBertForMultipleChoice were not initialized from the model checkpoint at distilbert-base-uncased and are newly initialized: ['pre_classifier.bias', 'classifier.weight', 'pre_classifier.weight', 'classifier.bias']\n",
      "You should probably TRAIN this model on a down-stream task to be able to use it for predictions and inference.\n"
     ]
    }
   ],
   "source": [
    "### your code ###\n",
    "from transformers import AutoModelForMultipleChoice, DistilBertConfig\n",
    "model_name = \"distilbert-base-uncased\"\n",
    "config = DistilBertConfig.from_pretrained(model_name)\n",
    "model_hf = AutoModelForMultipleChoice.from_pretrained(model_name, config=config)\n",
    "\n",
    "### your code ###"
   ]
  },
  {
   "cell_type": "markdown",
   "id": "f4C8rBosXSVi",
   "metadata": {
    "id": "f4C8rBosXSVi"
   },
   "source": [
    "Next, we need to define our `Trainer` and pass in the correct `TrainingArguments` (a class that contains all the attributes to customize the training). Define a `TrainingArguments` that\n",
    "\n",
    "\n",
    "* creates an output directory `distilbert-base-uncased-swag` to save the checkpoints and logs.\n",
    "*   evaluates the model on the validation set after the `300` steps.\n",
    "* a checkpoint should be saved after each `600` step and no more than 2 checkpoints should be saved in total.\n",
    "* the random seed for training is `77`.\n",
    "* batch size for training and evaluation: `48` (if you are running out of memory, feel free to change this setting but indicate it as a comment in your notebook, on a T4 GPU from google colab this takes about `13.2GB` of `15.0GB`).\n",
    "* train for `1800` steps with a learning rate of `5e-5`, and add weight decay of `0.01` to the optimizer.\n",
    "* the trainer should remove the columns from the data that are not used by the model.\n",
    "* The final checkpoint should be the checkpoint that had the best overall validation metric not necessarily the last checkpoint.\n",
    "\n",
    "**Note:** Please use GPU for to train your model. If on colab, you can use T4 GPU for free."
   ]
  },
  {
   "cell_type": "code",
   "execution_count": null,
   "id": "DXLTm2Ed-1CI",
   "metadata": {
    "id": "DXLTm2Ed-1CI"
   },
   "outputs": [],
   "source": [
    "from transformers import TrainingArguments, Trainer\n",
    "### your code ###\n",
    "training_args = TrainingArguments(\n",
    "    output_dir=\"./distilbert-base-uncased-swag\",\n",
    "    evaluation_strategy=\"steps\",\n",
    "    eval_steps=300,\n",
    "    save_strategy=\"steps\",\n",
    "    save_steps=600,\n",
    "    save_total_limit=2,\n",
    "    seed=77,\n",
    "    per_device_train_batch_size=48,\n",
    "    per_device_eval_batch_size=48,\n",
    "    max_steps=1800,\n",
    "    learning_rate=5e-5,\n",
    "    weight_decay=0.01,\n",
    "    remove_unused_columns=True,\n",
    "    load_best_model_at_end=True,\n",
    ")\n",
    "\n",
    "### your code ###\n"
   ]
  },
  {
   "cell_type": "markdown",
   "id": "8w1tE975ZGS9",
   "metadata": {
    "id": "8w1tE975ZGS9"
   },
   "source": [
    "Before we initialize the `Trainer`, we create a function that tells the trainer how to compute the metrics from the predictions. Fill the `compute_metrics` function to compute the accuracy based on the `predictions`. This object contains the prediction of the model, as well as the ground truth labels.\n",
    "\n",
    "**Hint 1:** Keep in mind that the output of this function should be a dictionary containing the metric name and value.\n",
    "\n",
    "**Hint 2:** Consider the shape of the example input. This is similar to the logits produced by the model."
   ]
  },
  {
   "cell_type": "code",
   "execution_count": null,
   "id": "gilWMRNJXsBq",
   "metadata": {
    "id": "gilWMRNJXsBq"
   },
   "outputs": [],
   "source": [
    "import numpy as np\n",
    "def compute_metrics(predictions):\n",
    "   ### your code ###\n",
    "   preds, label_ids = predictions\n",
    "   predicted_labels=np.argmax(preds, axis=1)\n",
    "   acc=sum(label_ids==predicted_labels)/len(label_ids)\n",
    "   return_dict={\"accuracy\": acc}\n",
    "   ### your code ###\n",
    "   return return_dict"
   ]
  },
  {
   "cell_type": "code",
   "execution_count": null,
   "id": "SAC4DktAAt8y",
   "metadata": {
    "colab": {
     "base_uri": "https://localhost:8080/"
    },
    "id": "SAC4DktAAt8y",
    "outputId": "cc82cf31-afc0-438c-8186-60c97a428f61"
   },
   "outputs": [
    {
     "data": {
      "text/plain": [
       "{'accuracy': 0.8}"
      ]
     },
     "execution_count": 18,
     "metadata": {},
     "output_type": "execute_result"
    }
   ],
   "source": [
    "preds=np.array([[0.9,0.2,0,0],\n",
    "                [0.2,0.2,0.9,0.1],\n",
    "                [0.2,0.9,0,0],\n",
    "                [0.2,0.1,0.8,0],\n",
    "                [0.9,0.1,0.8,0],\n",
    "                [0.2,1,0.4,0],\n",
    "                [0.2,1,0.4,0.9],\n",
    "                [1,0.1,0.4,0.3],\n",
    "                [0.1,0.1,0.9,0.3],\n",
    "                [0.1,0.1,0.2,1]])\n",
    "label_ids=np.array([0,3,1,2,0,1,3,0,2,3])\n",
    "compute_metrics((preds,label_ids))"
   ]
  },
  {
   "cell_type": "markdown",
   "id": "koPEX6UmAvTp",
   "metadata": {
    "id": "koPEX6UmAvTp"
   },
   "source": [
    "Now it's time to pass everything to a `Trainer` object to start the training process. Initialize a `Trainer` object and pass all the necessary information, keep in mind that we also have the optional metric computation and that we tend to run an evaluation on the validation set during training. The training should take around 30 min on Google Colab T4 GPU."
   ]
  },
  {
   "cell_type": "code",
   "execution_count": null,
   "id": "38Xrwx4OSUIe",
   "metadata": {
    "colab": {
     "base_uri": "https://localhost:8080/"
    },
    "id": "38Xrwx4OSUIe",
    "outputId": "ee887fb9-2d3d-45fc-f809-2b7a30e91ea4"
   },
   "outputs": [
    {
     "data": {
      "text/plain": [
       "device(type='cuda')"
      ]
     },
     "execution_count": 19,
     "metadata": {},
     "output_type": "execute_result"
    }
   ],
   "source": [
    "device = torch.device(\"cuda\") if torch.cuda.is_available() else torch.device(\"cpu\")\n",
    "device"
   ]
  },
  {
   "cell_type": "code",
   "execution_count": null,
   "id": "ybmjWr1gFoR9",
   "metadata": {
    "id": "ybmjWr1gFoR9"
   },
   "outputs": [],
   "source": [
    "### your code ###\n",
    "trainer = Trainer(\n",
    "    model = model_hf,\n",
    "    args = training_args,\n",
    "    train_dataset = encoded_datasets['train'],\n",
    "    eval_dataset = encoded_datasets['validation'],\n",
    "    tokenizer = tokenizer,\n",
    "    data_collator = MultipleChoiceDataCollator(tokenizer),\n",
    "    compute_metrics = compute_metrics\n",
    ")\n",
    "### your code ###"
   ]
  },
  {
   "cell_type": "code",
   "execution_count": null,
   "id": "UFcB9_hCF8Kx",
   "metadata": {
    "colab": {
     "base_uri": "https://localhost:8080/",
     "height": 298
    },
    "id": "UFcB9_hCF8Kx",
    "outputId": "b196c01c-5fef-423b-cb92-f5c511214c94"
   },
   "outputs": [
    {
     "data": {
      "text/html": [
       "\n",
       "    <div>\n",
       "      \n",
       "      <progress value='1800' max='1800' style='width:300px; height:20px; vertical-align: middle;'></progress>\n",
       "      [1800/1800 41:27, Epoch 1/2]\n",
       "    </div>\n",
       "    <table border=\"1\" class=\"dataframe\">\n",
       "  <thead>\n",
       " <tr style=\"text-align: left;\">\n",
       "      <th>Step</th>\n",
       "      <th>Training Loss</th>\n",
       "      <th>Validation Loss</th>\n",
       "      <th>Accuracy</th>\n",
       "    </tr>\n",
       "  </thead>\n",
       "  <tbody>\n",
       "    <tr>\n",
       "      <td>300</td>\n",
       "      <td>No log</td>\n",
       "      <td>0.896284</td>\n",
       "      <td>0.631611</td>\n",
       "    </tr>\n",
       "    <tr>\n",
       "      <td>600</td>\n",
       "      <td>1.050200</td>\n",
       "      <td>0.855140</td>\n",
       "      <td>0.652004</td>\n",
       "    </tr>\n",
       "    <tr>\n",
       "      <td>900</td>\n",
       "      <td>1.050200</td>\n",
       "      <td>0.786005</td>\n",
       "      <td>0.678946</td>\n",
       "    </tr>\n",
       "    <tr>\n",
       "      <td>1200</td>\n",
       "      <td>0.922000</td>\n",
       "      <td>0.762282</td>\n",
       "      <td>0.695141</td>\n",
       "    </tr>\n",
       "    <tr>\n",
       "      <td>1500</td>\n",
       "      <td>0.875300</td>\n",
       "      <td>0.732258</td>\n",
       "      <td>0.707338</td>\n",
       "    </tr>\n",
       "    <tr>\n",
       "      <td>1800</td>\n",
       "      <td>0.875300</td>\n",
       "      <td>0.728845</td>\n",
       "      <td>0.714086</td>\n",
       "    </tr>\n",
       "  </tbody>\n",
       "</table><p>"
      ],
      "text/plain": [
       "<IPython.core.display.HTML object>"
      ]
     },
     "metadata": {},
     "output_type": "display_data"
    },
    {
     "data": {
      "text/plain": [
       "TrainOutput(global_step=1800, training_loss=0.9015062459309896, metrics={'train_runtime': 2490.0644, 'train_samples_per_second': 34.698, 'train_steps_per_second': 0.723, 'total_flos': 5678117920017504.0, 'train_loss': 0.9015062459309896, 'epoch': 1.17})"
      ]
     },
     "execution_count": 21,
     "metadata": {},
     "output_type": "execute_result"
    }
   ],
   "source": [
    "trainer.train()# should take around 30 min on Google Colab T4 GPU"
   ]
  },
  {
   "cell_type": "markdown",
   "id": "nLXcPADKi73j",
   "metadata": {
    "id": "nLXcPADKi73j"
   },
   "source": [
    "Save the model in `distilbert-base-uncased-swag/final_model`."
   ]
  },
  {
   "cell_type": "code",
   "execution_count": null,
   "id": "tlHd67J2qBdA",
   "metadata": {
    "id": "tlHd67J2qBdA"
   },
   "outputs": [],
   "source": [
    "### your code ###\n",
    "trainer.save_model(\"./distilbert-base-uncased-swag/final_model\")\n",
    "### your code ###"
   ]
  },
  {
   "cell_type": "markdown",
   "id": "of7b-SkFne_J",
   "metadata": {
    "id": "of7b-SkFne_J"
   },
   "source": [
    "Look at the saved files and answer the following questions (it is possible to answer these questions by writing some code, but we want you to explore the saved files):\n",
    "\n",
    "**Question:**\n",
    "\n",
    "\n",
    "1.   What is the vocabulary id for the `[CLS]` and `[MASK]` tokens?\n",
    "2.   What is the dropout probability for the attention layer?\n",
    "\n",
    "**Dropout:** With dropout, certain nodes are set to the value zero in a training run, i.e. removed from the network. Thus, they have no influence on the prediction and also in the backpropagation. Thus, a new, slightly modified network architecture is built in each run and the network learns to produce good predictions without certain inputs. Read more [here](https://databasecamp.de/en/ml/dropout-layer-en).\n",
    "\n"
   ]
  },
  {
   "cell_type": "markdown",
   "id": "eZ74Uaouno6L",
   "metadata": {
    "id": "eZ74Uaouno6L"
   },
   "source": [
    "**Answer**\n",
    "\n",
    "\n",
    "1. [CLS] is 102, [MASK] is 104\n",
    "2. attention_dropout is 0.1\n"
   ]
  },
  {
   "cell_type": "markdown",
   "id": "Auvva-EkGcRR",
   "metadata": {
    "id": "Auvva-EkGcRR"
   },
   "source": [
    "#### ${\\color{red}{Comments\\ 2.2}}$\n",
    "\n",
    "${\\color{red}{⚠️Comments\\ begin⚠️}}$\n",
    "\n",
    "\n",
    "```\n",
    "cross-feedback comment section\n",
    "```\n",
    "\n",
    "\n",
    "${\\color{red}{⚠️Comments\\ end⚠️}}$"
   ]
  },
  {
   "cell_type": "markdown",
   "id": "vAcJQfpHAvbR",
   "metadata": {
    "id": "vAcJQfpHAvbR"
   },
   "source": [
    "### Subtask 3: Fine-tune a Custom Model\n"
   ]
  },
  {
   "cell_type": "markdown",
   "id": "QT3cbQO-wnio",
   "metadata": {
    "id": "QT3cbQO-wnio"
   },
   "source": [
    "In this case, we were lucky that Hugging Face had a pre-implemented architecture available for us to use. However, that is not always the case. Moreover, we might want to experiment beyond the default architectures to find a suitable one for a task. Therefore, it is important to learn to extend the Hugging Face models and train a custom model. The good news is that except for the model architecture the rest of the code can remain as it is."
   ]
  },
  {
   "cell_type": "markdown",
   "id": "G2RtNQewxG2O",
   "metadata": {
    "id": "G2RtNQewxG2O"
   },
   "source": [
    "Design a model for multiple choice model as follows:\n",
    "\n",
    "\n",
    "1.   the config file for a feature extractor (must be a distilbert type) is  passed during initialization. The config file determines which model is used for feature extraction.\n",
    "2.   From the `last_hidden_state` of the feature extractor, choose the `[CLS]` embedding (first one). This embedding is used as the compressed representation of first and second sentences. During pre-training it is used  for classifying whether these two sentences follow one another, making it a good candidate for our task.\n",
    "3. `[CLS]` embedding is passed through a linear layer **that does not change the size of the embedding** and is passed through a tanh nonlinearity.\n",
    "4. The output of tanh is passed through a dropout layer, where the dropout probability is the same as the dropout probability used for the `distilbert` model used as feature extractor.\n",
    "5. The output of the previous stage is fed into another linear layer that shrinks the size of the embedding dimension to a quarter of the original size, e.g., if the embedding size is 12, the new embedding dimension is 3.\n",
    "6. The output is followed by another dropout layer (you can use the one from stage 4).\n",
    "7. Finally, a binary classifier is applied to determine the probability of sentence 1 being followed by sentence 2.\n",
    "8. the cross-entropy loss is used to compute the loss.\n",
    "\n",
    "**Hint:** Keep in mind that for a 4 choice system, you classify each of the four solutions independently. However, the final output should group the four logits together. For example, if input ids have the shape `[2, 4, 35]` (batch size=2, num choices=4, seq len=35), then the logits have the `[2, 4]` and labels have the dimension `[2, 1]`.\n",
    "\n"
   ]
  },
  {
   "cell_type": "code",
   "execution_count": null,
   "id": "KUZOp8o1Pb9X",
   "metadata": {
    "id": "KUZOp8o1Pb9X"
   },
   "outputs": [],
   "source": [
    "from transformers import DistilBertModel,BertConfig,DistilBertConfig,PretrainedConfig,PreTrainedModel,DistilBertPreTrainedModel\n",
    "from torch import nn\n",
    "\n",
    "class CustomMultipleChoice(DistilBertPreTrainedModel):\n",
    "    def __init__(self, config: PretrainedConfig):\n",
    "        super().__init__(config)\n",
    "        ###your code ###\n",
    "        self.distilbert = DistilBertModel(config)\n",
    "        self.dense = nn.Linear(config.hidden_size, config.hidden_size)\n",
    "        self.activation = nn.Tanh()\n",
    "        self.dropout = nn.Dropout(config.seq_classif_dropout)\n",
    "        self.dense2 = nn.Linear(config.hidden_size, config.hidden_size // 4)\n",
    "        self.classifier = nn.Linear(config.hidden_size // 4, 1)\n",
    "        ###your code ###\n",
    "\n",
    "\n",
    "    def forward(\n",
    "        self,\n",
    "        input_ids: Optional[torch.Tensor] = None,\n",
    "        attention_mask: Optional[torch.Tensor] = None,\n",
    "        labels: Optional[torch.Tensor] = None,\n",
    "    ):\n",
    "        \"\"\"\n",
    "        input_ids: input sentences converted to ids\n",
    "        attention_mask: the attention mask\n",
    "        labels:  Labels for computing the multiple choice classification loss. Indices should be in `[0, ...,num_choices-1]` where `num_choices` is the size of the second dimension of the input tensors.\n",
    "        \"\"\"\n",
    "\n",
    "        num_choices = input_ids.shape[1]\n",
    "\n",
    "        ###your code ###\n",
    "\n",
    "        # flatten input to be able to go through model\n",
    "        input_ids = input_ids.view(-1, input_ids.size(-1))\n",
    "        attention_mask = attention_mask.view(-1, attention_mask.size(-1))\n",
    "\n",
    "        # get last_hidden_state\n",
    "        dbert_output = self.distilbert(input_ids = input_ids, attention_mask = attention_mask)\n",
    "        last_hidden_state = dbert_output.last_hidden_state\n",
    "\n",
    "        # CLS\n",
    "        cls_emb = last_hidden_state[:, 0, :]\n",
    "\n",
    "        # layers\n",
    "        # first linear + activation + dropout\n",
    "        data = self.dropout(self.activation(self.dense(cls_emb)))\n",
    "\n",
    "        # second\n",
    "        data = self.dropout(self.dense2(data))\n",
    "\n",
    "        # classifier and reshape\n",
    "        reshaped_logits = self.classifier(data).view(-1, num_choices)\n",
    "\n",
    "        loss = None\n",
    "        if labels is not None:\n",
    "          loss_actual = nn.CrossEntropyLoss()\n",
    "          loss = loss_actual(reshaped_logits, labels.view(-1))\n",
    "\n",
    "        ###your code ###\n",
    "        return {\"loss\":loss,\"logits\":reshaped_logits}\n"
   ]
  },
  {
   "cell_type": "markdown",
   "id": "IXFcGJQPgjil",
   "metadata": {
    "id": "IXFcGJQPgjil"
   },
   "source": [
    "Initialize the feature extractor with `distilbert-base-uncased` and create your custome model."
   ]
  },
  {
   "cell_type": "code",
   "execution_count": null,
   "id": "GHCT0HdYKk5p",
   "metadata": {
    "colab": {
     "base_uri": "https://localhost:8080/"
    },
    "id": "GHCT0HdYKk5p",
    "outputId": "51a7253b-6849-4479-e63e-9d9b12e7abb1"
   },
   "outputs": [
    {
     "name": "stderr",
     "output_type": "stream",
     "text": [
      "/usr/local/lib/python3.10/dist-packages/huggingface_hub/utils/_token.py:72: UserWarning: \n",
      "The secret `HF_TOKEN` does not exist in your Colab secrets.\n",
      "To authenticate with the Hugging Face Hub, create a token in your settings tab (https://huggingface.co/settings/tokens), set it as secret in your Google Colab and restart your session.\n",
      "You will be able to reuse this secret in all of your notebooks.\n",
      "Please note that authentication is recommended but still optional to access public models or datasets.\n",
      "  warnings.warn(\n"
     ]
    }
   ],
   "source": [
    "from transformers import AutoConfig\n",
    "###your code ###\n",
    "config = AutoConfig.from_pretrained(\"distilbert-base-uncased\")\n",
    "model_custom = CustomMultipleChoice(config)\n",
    "###your code ###"
   ]
  },
  {
   "cell_type": "code",
   "execution_count": null,
   "id": "_genDEZbgsJd",
   "metadata": {
    "colab": {
     "base_uri": "https://localhost:8080/"
    },
    "id": "_genDEZbgsJd",
    "outputId": "684182d7-a78e-4194-c9fa-da8405b9ba32"
   },
   "outputs": [
    {
     "name": "stdout",
     "output_type": "stream",
     "text": [
      "dense.weight torch.Size([768, 768])\n",
      "dense.bias torch.Size([768])\n",
      "dense2.weight torch.Size([192, 768])\n",
      "dense2.bias torch.Size([192])\n",
      "classifier.weight torch.Size([1, 192])\n",
      "classifier.bias torch.Size([1])\n"
     ]
    }
   ],
   "source": [
    "for name, param in model_custom.named_parameters():\n",
    "    if param.requires_grad and not name.startswith(\"distilbert.\"):\n",
    "        print(name, param.data.shape)"
   ]
  },
  {
   "cell_type": "markdown",
   "id": "yyD-ivMzh5P7",
   "metadata": {
    "id": "yyD-ivMzh5P7"
   },
   "source": [
    "We keep the same training arguments but change the directory in which we save the model logs, the directory in which we save the model output and the name of the run, to `custom_model`.\n",
    "\n"
   ]
  },
  {
   "cell_type": "code",
   "execution_count": null,
   "id": "aX5Jw-Eubo56",
   "metadata": {
    "id": "aX5Jw-Eubo56"
   },
   "outputs": [],
   "source": [
    "### your code ###\n",
    "training_args_custom = TrainingArguments(\n",
    "    output_dir=\"./custom_model\",\n",
    "    evaluation_strategy=\"steps\",\n",
    "    eval_steps=300,\n",
    "    save_strategy=\"steps\",\n",
    "    save_steps=600,\n",
    "    save_total_limit=2,\n",
    "    seed=77,\n",
    "    per_device_train_batch_size=48,\n",
    "    per_device_eval_batch_size=48,\n",
    "    max_steps=1800,\n",
    "    learning_rate=5e-5,\n",
    "    weight_decay=0.01,\n",
    "    remove_unused_columns=True,\n",
    "    load_best_model_at_end=True,\n",
    ")\n",
    "\n",
    "### your code ###"
   ]
  },
  {
   "cell_type": "markdown",
   "id": "0sCoDrINiO0j",
   "metadata": {
    "id": "0sCoDrINiO0j"
   },
   "source": [
    "Initialize the trainer for training the custom model.The training should take around 30 min on Google Colab T4 GPU.\n"
   ]
  },
  {
   "cell_type": "code",
   "execution_count": null,
   "id": "s1_2hwKabo8p",
   "metadata": {
    "id": "s1_2hwKabo8p"
   },
   "outputs": [],
   "source": [
    "### your code ###\n",
    "trainer_custom = Trainer(\n",
    "    model = model_custom,\n",
    "    args = training_args_custom,\n",
    "    train_dataset = encoded_datasets['train'],\n",
    "    eval_dataset = encoded_datasets['validation'],\n",
    "    tokenizer = tokenizer,\n",
    "    data_collator = MultipleChoiceDataCollator(tokenizer),\n",
    "    compute_metrics = compute_metrics\n",
    ")\n",
    "### your code ###"
   ]
  },
  {
   "cell_type": "code",
   "execution_count": null,
   "id": "btobBRSZbo_O",
   "metadata": {
    "colab": {
     "base_uri": "https://localhost:8080/",
     "height": 298
    },
    "id": "btobBRSZbo_O",
    "outputId": "39b35089-df16-49bb-b0d9-9be0c04891f5"
   },
   "outputs": [
    {
     "data": {
      "text/html": [
       "\n",
       "    <div>\n",
       "      \n",
       "      <progress value='1800' max='1800' style='width:300px; height:20px; vertical-align: middle;'></progress>\n",
       "      [1800/1800 41:31, Epoch 1/2]\n",
       "    </div>\n",
       "    <table border=\"1\" class=\"dataframe\">\n",
       "  <thead>\n",
       " <tr style=\"text-align: left;\">\n",
       "      <th>Step</th>\n",
       "      <th>Training Loss</th>\n",
       "      <th>Validation Loss</th>\n",
       "      <th>Accuracy</th>\n",
       "    </tr>\n",
       "  </thead>\n",
       "  <tbody>\n",
       "    <tr>\n",
       "      <td>300</td>\n",
       "      <td>No log</td>\n",
       "      <td>1.384169</td>\n",
       "      <td>0.273768</td>\n",
       "    </tr>\n",
       "    <tr>\n",
       "      <td>600</td>\n",
       "      <td>1.384900</td>\n",
       "      <td>1.386601</td>\n",
       "      <td>0.271718</td>\n",
       "    </tr>\n",
       "    <tr>\n",
       "      <td>900</td>\n",
       "      <td>1.384900</td>\n",
       "      <td>1.391539</td>\n",
       "      <td>0.272918</td>\n",
       "    </tr>\n",
       "    <tr>\n",
       "      <td>1200</td>\n",
       "      <td>1.373900</td>\n",
       "      <td>1.398718</td>\n",
       "      <td>0.272968</td>\n",
       "    </tr>\n",
       "    <tr>\n",
       "      <td>1500</td>\n",
       "      <td>1.366100</td>\n",
       "      <td>1.389685</td>\n",
       "      <td>0.274018</td>\n",
       "    </tr>\n",
       "    <tr>\n",
       "      <td>1800</td>\n",
       "      <td>1.366100</td>\n",
       "      <td>1.404837</td>\n",
       "      <td>0.277667</td>\n",
       "    </tr>\n",
       "  </tbody>\n",
       "</table><p>"
      ],
      "text/plain": [
       "<IPython.core.display.HTML object>"
      ]
     },
     "metadata": {},
     "output_type": "display_data"
    },
    {
     "data": {
      "text/plain": [
       "TrainOutput(global_step=1800, training_loss=1.3690565490722657, metrics={'train_runtime': 2492.151, 'train_samples_per_second': 34.669, 'train_steps_per_second': 0.722, 'total_flos': 5697484563348576.0, 'train_loss': 1.3690565490722657, 'epoch': 1.17})"
      ]
     },
     "execution_count": 39,
     "metadata": {},
     "output_type": "execute_result"
    }
   ],
   "source": [
    "trainer_custom.train()# should take around 30 min on Colab T4 GPU"
   ]
  },
  {
   "cell_type": "markdown",
   "id": "B9Fi0ZZYjIdJ",
   "metadata": {
    "id": "B9Fi0ZZYjIdJ"
   },
   "source": [
    "Save the model in `custom_model/final_model`. Note that with the custom model, you need to save it without the help of the trainer. The trainer would save the configuration but since this model is not a registered Hugging Face model only the base model would be saved. Loading the model weights is also effected by this."
   ]
  },
  {
   "cell_type": "code",
   "execution_count": null,
   "id": "rvb3xo-ibpB9",
   "metadata": {
    "id": "rvb3xo-ibpB9"
   },
   "outputs": [],
   "source": [
    "###your code ###\n",
    "path_custom=\"./custom_model/final_model\"\n",
    "model_custom.save_pretrained(path_custom)\n",
    "###your code ###"
   ]
  },
  {
   "cell_type": "markdown",
   "id": "UxU3fivlihOX",
   "metadata": {
    "id": "UxU3fivlihOX"
   },
   "source": [
    "#### ${\\color{red}{Comments\\ 2.3}}$\n",
    "\n",
    "${\\color{red}{⚠️Comments\\ begin⚠️}}$\n",
    "\n",
    "\n",
    "```\n",
    "cross-feedback comment section\n",
    "```\n",
    "\n",
    "\n",
    "${\\color{red}{⚠️Comments\\ end⚠️}}$"
   ]
  },
  {
   "cell_type": "markdown",
   "id": "A_M4MSb0kcBP",
   "metadata": {
    "id": "A_M4MSb0kcBP"
   },
   "source": [
    "### Subtask 4: Evaluation and Model Comparison"
   ]
  },
  {
   "cell_type": "markdown",
   "id": "4oO0XKbbmzzW",
   "metadata": {
    "id": "4oO0XKbbmzzW"
   },
   "source": [
    "Many times you do not perform the final evaluation right after training, but load the checkpoints and evaluate them on the fly. To this end, load the two models from  disk."
   ]
  },
  {
   "cell_type": "code",
   "execution_count": null,
   "id": "ptE1gxKwa843",
   "metadata": {
    "id": "ptE1gxKwa843"
   },
   "outputs": [],
   "source": [
    "from transformers import AutoModelForMultipleChoice,AutoConfig\n",
    "### your code ###\n",
    "model_hf = AutoModelForMultipleChoice.from_pretrained(\"./distilbert-base-uncased-swag/final_model\")\n",
    "model_custom = CustomMultipleChoice.from_pretrained(\"./custom_model/final_model\")\n",
    "### your code ###"
   ]
  },
  {
   "cell_type": "markdown",
   "id": "Am9mUOXHbwC9",
   "metadata": {
    "id": "Am9mUOXHbwC9"
   },
   "source": [
    "To evaluate the data we load the validation split using a data loader and our previously defined data collator. Note that although we had a test split we cannot use it, since there are no labels available for this split (you can check the data to confirm this)."
   ]
  },
  {
   "cell_type": "code",
   "execution_count": null,
   "id": "jhBq38xadGvA",
   "metadata": {
    "id": "jhBq38xadGvA"
   },
   "outputs": [],
   "source": [
    "from torch.utils.data import DataLoader\n",
    "import evaluate\n",
    "\n",
    "eval_dataloader = DataLoader(encoded_datasets[\"validation\"], batch_size=64, collate_fn=MultipleChoiceDataCollator(tokenizer))"
   ]
  },
  {
   "cell_type": "markdown",
   "id": "ctcpVXXrl8Wd",
   "metadata": {
    "id": "ctcpVXXrl8Wd"
   },
   "source": [
    "To make things easier, let's use the `evaluate` library from Hugging Face to compute the accuracy metric. Here we load `accuracy` from the `evaluate` library two times, one for the custom model and one for the Hugging Face model. Further, we put the models on eval mode. Complete the code for evaluation using the capabilities of the `evaluate` library to simultaneously compute the metric for both models.\n"
   ]
  },
  {
   "cell_type": "code",
   "execution_count": 43,
   "id": "1AZcv5RQbfwq",
   "metadata": {
    "colab": {
     "base_uri": "https://localhost:8080/"
    },
    "id": "1AZcv5RQbfwq",
    "outputId": "05bf3b01-fd39-4bbe-cca8-99ba1ffa2ac4"
   },
   "outputs": [
    {
     "name": "stderr",
     "output_type": "stream",
     "text": [
      "100%|██████████| 313/313 [04:41<00:00,  1.11it/s]"
     ]
    },
    {
     "name": "stdout",
     "output_type": "stream",
     "text": [
      "Hugging Face Model : {'accuracy': 0.7140857742677197}\n",
      "Custom Model : {'accuracy': 0.2717184844546636}\n"
     ]
    },
    {
     "name": "stderr",
     "output_type": "stream",
     "text": [
      "\n"
     ]
    }
   ],
   "source": [
    "from tqdm import tqdm\n",
    "device = torch.device(\"cuda\") if torch.cuda.is_available() else torch.device(\"cpu\")\n",
    "metric_dict={\"custom\":evaluate.load(\"accuracy\"),\"hf\":evaluate.load(\"accuracy\")} #use to compute accuracy\n",
    "models_dict= {\"custom\": model_custom, \"hf\":model_hf}# use to access models\n",
    "\n",
    "for name, model in models_dict.items():\n",
    "  model.to(device)\n",
    "  model.eval()\n",
    "\n",
    "for i,batch in tqdm(enumerate(eval_dataloader), total=len(eval_dataloader)):\n",
    "  ### your code ###\n",
    "  #evaluate on both model on each batch\n",
    "  input_ids = batch[\"input_ids\"].to(device)\n",
    "  attention_mask = batch[\"attention_mask\"].to(device)\n",
    "  labels = batch[\"labels\"].to(device)\n",
    "\n",
    "  #evaluate first model - Hugging Face\n",
    "  with torch.no_grad():\n",
    "    output_hf = model_hf(input_ids, attention_mask = attention_mask, labels = labels)\n",
    "    logits_hf = output_hf.logits\n",
    "    predictions_hf = torch.argmax(logits_hf, dim=1)\n",
    "\n",
    "  #evaluate second model - custom\n",
    "  with torch.no_grad():\n",
    "    output_custom = model_custom(input_ids, attention_mask = attention_mask, labels = labels)\n",
    "    logits_custom = output_custom[\"logits\"]\n",
    "  predictions_custom = torch.argmax(logits_custom, dim=1)\n",
    "\n",
    "  #update metrics\n",
    "  metric_dict[\"custom\"].add_batch(predictions=predictions_custom, references = labels)\n",
    "  metric_dict[\"hf\"].add_batch(predictions=predictions_hf, references = labels)\n",
    "\n",
    "acc_hf = metric_dict[\"hf\"].compute()\n",
    "acc_custom = metric_dict[\"custom\"].compute()\n",
    "  ### your code ###\n",
    "print(\"Hugging Face Model :\",acc_hf)\n",
    "print(\"Custom Model :\",acc_custom)"
   ]
  },
  {
   "cell_type": "markdown",
   "id": "HQC6grKnuSgZ",
   "metadata": {
    "id": "HQC6grKnuSgZ"
   },
   "source": [
    "#### ${\\color{red}{Comments\\ 2.4}}$\n",
    "\n",
    "${\\color{red}{⚠️Comments\\ begin⚠️}}$\n",
    "\n",
    "\n",
    "```\n",
    "cross-feedback comment section\n",
    "```\n",
    "\n",
    "\n",
    "${\\color{red}{⚠️Comments\\ end⚠️}}$"
   ]
  },
  {
   "cell_type": "markdown",
   "id": "_sO-H1PVMSsp",
   "metadata": {
    "id": "_sO-H1PVMSsp"
   },
   "source": [
    "## **Task 3: Encoder-Decoder Architecture** (5 + 2 + 2 + 5 = 14 points)"
   ]
  },
  {
   "cell_type": "markdown",
   "id": "W42O89DrMZNj",
   "metadata": {
    "id": "W42O89DrMZNj"
   },
   "source": [
    "We explored an encoder-based model (BERT) in the previous exercise. In this task, we look at another family of transformer architectures, the encoder-decoder. We use the [T5](https://arxiv.org/pdf/1910.10683.pdf) model, presented by Raffel et al.  T5 is an encoder-decoder architecture pre-trained on a multi-task mixture of unsupervised and supervised tasks. In this task, we set up a fine-tuning example for question answering using the [SQUAD](https://huggingface.co/datasets/squad) dataset. Since the actual fine-tuning is time-consuming and computational intensive for inference, we use an already pre-trained model. The main goal is to introduce you to the structure of the fine-tuning and its simplicity with the Hugging Face framework."
   ]
  },
  {
   "cell_type": "markdown",
   "id": "c-oSCvS6wwef",
   "metadata": {
    "id": "c-oSCvS6wwef"
   },
   "source": [
    "To fine-tune the BERT-based models, we usually add a task-specific head. On the other hand, T5 converts all NLP problems into a text-to-text format.  \n",
    "It is trained using teacher forcing, meaning that we require an input sequence and a corresponding target sequence.\n",
    "\n",
    "\n",
    "1.   The input sequence is fed to the model using `input_ids` from the tokenizer.\n",
    "2.   The target sequence is shifted to the right, i.e., prepended by a start-sequence token and fed to the decoder using the `decoder_input_ids` (input_ids of the encoded target sequence). The target sequence is appended by EOS (end of the sentence) to denote the end of a generation and corresponds to the `labels`.\n",
    "3. The task prefix defines what task is expected of T5. For example, we prepend the input sequence with `translate English to German: ` before encoding the input to tell the model to translate. T5 already has a set of pre-defined task prefixes, and it is best to stick to those since they were used during pre-training. With enough training data, you can also introduce your own custom task.\n"
   ]
  },
  {
   "cell_type": "markdown",
   "id": "sg6jO_SeznX3",
   "metadata": {
    "id": "sg6jO_SeznX3"
   },
   "source": [
    "In contrast to the encoder model, where only a single `max_length` is required, for encoder-decoder architectures, one typically defines a `max_source_length` and `max_target_length`, which determine the maximum length of the input and output sequences, respectively. We must also ensure that the padding ID of the `labels` is not taken into account by the loss function. This can be done by replacing them with `-100`, which is the `ignore_index` of the `CrossEntropyLoss`."
   ]
  },
  {
   "cell_type": "markdown",
   "id": "0zLQjAxlNzJ_",
   "metadata": {
    "id": "0zLQjAxlNzJ_"
   },
   "source": [
    "### Subtask 1: Data Processing"
   ]
  },
  {
   "cell_type": "markdown",
   "id": "7hx8LCNjBlvi",
   "metadata": {
    "id": "7hx8LCNjBlvi"
   },
   "source": [
    "We first start by loading the dataset from Hugging Face hub:"
   ]
  },
  {
   "cell_type": "code",
   "execution_count": null,
   "id": "FjujP1xsuQGX",
   "metadata": {
    "colab": {
     "base_uri": "https://localhost:8080/"
    },
    "id": "FjujP1xsuQGX",
    "outputId": "50dba5df-1ba4-483d-af86-e12745e219e8"
   },
   "outputs": [
    {
     "data": {
      "text/plain": [
       "DatasetDict({\n",
       "    train: Dataset({\n",
       "        features: ['id', 'title', 'context', 'question', 'answers'],\n",
       "        num_rows: 87599\n",
       "    })\n",
       "    validation: Dataset({\n",
       "        features: ['id', 'title', 'context', 'question', 'answers'],\n",
       "        num_rows: 10570\n",
       "    })\n",
       "})"
      ]
     },
     "execution_count": 7,
     "metadata": {},
     "output_type": "execute_result"
    }
   ],
   "source": [
    "from datasets import load_dataset\n",
    "\n",
    "datasets_squad = load_dataset(\"squad\")\n",
    "datasets_squad"
   ]
  },
  {
   "cell_type": "code",
   "execution_count": null,
   "id": "x7VEY66uEEeY",
   "metadata": {
    "colab": {
     "base_uri": "https://localhost:8080/"
    },
    "id": "x7VEY66uEEeY",
    "outputId": "19dca0f3-031a-418b-c705-af43574222f5"
   },
   "outputs": [
    {
     "name": "stdout",
     "output_type": "stream",
     "text": [
      "context ----> Architecturally, the school has a Catholic character. Atop the Main Building's gold dome is a golden statue of the Virgin Mary. Immediately in front of the Main Building and facing it, is a copper statue of Christ with arms upraised with the legend \"Venite Ad Me Omnes\". Next to the Main Building is the Basilica of the Sacred Heart. Immediately behind the basilica is the Grotto, a Marian place of prayer and reflection. It is a replica of the grotto at Lourdes, France where the Virgin Mary reputedly appeared to Saint Bernadette Soubirous in 1858. At the end of the main drive (and in a direct line that connects through 3 statues and the Gold Dome), is a simple, modern stone statue of Mary.\n",
      "question ----> To whom did the Virgin Mary allegedly appear in 1858 in Lourdes France?\n",
      "answers ----> {'text': ['Saint Bernadette Soubirous'], 'answer_start': [515]}\n"
     ]
    }
   ],
   "source": [
    "print(\"context ---->\" ,datasets_squad[\"train\"][0][\"context\"])\n",
    "print(\"question ---->\",datasets_squad[\"train\"][0][\"question\"])\n",
    "print(\"answers ---->\",datasets_squad[\"train\"][0][\"answers\"])"
   ]
  },
  {
   "cell_type": "markdown",
   "id": "5OrYB9xBByvj",
   "metadata": {
    "id": "5OrYB9xBByvj"
   },
   "source": [
    "Now let's load the needed pre-trained tokenizer for `t5-small`, which is the smallest T5 model. Set the maximum sequence length to `512`."
   ]
  },
  {
   "cell_type": "code",
   "execution_count": null,
   "id": "WwYjYXASMg_z",
   "metadata": {
    "id": "WwYjYXASMg_z"
   },
   "outputs": [],
   "source": [
    "import torch\n",
    "### your code ###\n",
    "from transformers import T5TokenizerFast\n",
    "t5_tokenizer = T5TokenizerFast.from_pretrained(\"t5-small\", model_max_length=512)\n",
    "### your code ###"
   ]
  },
  {
   "cell_type": "markdown",
   "id": "FvN50codiJXR",
   "metadata": {
    "id": "FvN50codiJXR"
   },
   "source": [
    "The next step is to pre-process the dataset using the tokenizer to convert the sequences to IDs and add the special tokens.\n",
    "T5 is based on the SentencePiece tokenizer, and the end of sentence token is denoted by `</s>`.\n",
    "Complete the function `add_eos_to_examples` to format the input and target sequence. Your input as `input_text` should have the format `question:{question_text} context:{context_text} <EOS_Token>` and your target as `target_text` should have the format `{answer_text} <EOS_Token>`."
   ]
  },
  {
   "cell_type": "code",
   "execution_count": null,
   "id": "xbisNi2-MYC2",
   "metadata": {
    "id": "xbisNi2-MYC2"
   },
   "outputs": [],
   "source": [
    "def add_eos_to_examples(example):\n",
    "    ### your code ###\n",
    "    example['input_text'] = f\"question: {example['question']}  context: {example['context']} </s>\"\n",
    "    example['target_text'] = f\"{example['answers']['text'][0]} </s>\"\n",
    "    ### your code ###\n",
    "    return example"
   ]
  },
  {
   "cell_type": "markdown",
   "id": "l1cI8qcCIcXM",
   "metadata": {
    "id": "l1cI8qcCIcXM"
   },
   "source": [
    "Use the `map` function to process the data, and do not set the `batched` argument."
   ]
  },
  {
   "cell_type": "code",
   "execution_count": null,
   "id": "Z7Q2TH_AIJDp",
   "metadata": {
    "colab": {
     "base_uri": "https://localhost:8080/",
     "height": 81,
     "referenced_widgets": [
      "7e02c46dda6340788b75ad4506d40125",
      "8fd3852b1a0148acb28eeaee7f2d8a56",
      "9a105ee2d89e40f8ac2834977da92bdc",
      "a39dfe0360884e3a80ca326b523e92e7",
      "4c9979aaebb44255b19eb66716e98b75",
      "34484b96de404b54b0f441aba39fcf06",
      "17509a6425984b35a4239b8e6e9a4cf6",
      "d7e2e58ac55040be95093b4c7bc6661d",
      "a955cbf014654a5f98fa2c57be0930ee",
      "def60e8dc5b24452a95746baebf5aa50",
      "4314ff831ed642e88cde59d59b2f9d74",
      "3a8eb873cb984773ade5839f1679c156",
      "012ac3ffbf204f4282cdadbb55113d93",
      "4ae8d7ba47ae42f69c0eddb37e447d24",
      "f0bfc40291814b9a856cf747104d2f17",
      "115778270cef497a86e72666a5ca0651",
      "4926233149354d2990b54b9ad256ead7",
      "612e6dcf087b43a2b906540b5263604a",
      "fb9d3bb6ec56489cb574b0ee6c07381d",
      "0932eb0f67554d838e5222d22504f4d0",
      "02039e015a404bee8f57035773b1641f",
      "38c40e48f351453baa54da4dfe2abbeb"
     ]
    },
    "id": "Z7Q2TH_AIJDp",
    "outputId": "1b37ded0-c865-4502-ddc8-00bef790aec7"
   },
   "outputs": [
    {
     "data": {
      "application/vnd.jupyter.widget-view+json": {
       "model_id": "7e02c46dda6340788b75ad4506d40125",
       "version_major": 2,
       "version_minor": 0
      },
      "text/plain": [
       "Map:   0%|          | 0/87599 [00:00<?, ? examples/s]"
      ]
     },
     "metadata": {},
     "output_type": "display_data"
    },
    {
     "data": {
      "application/vnd.jupyter.widget-view+json": {
       "model_id": "3a8eb873cb984773ade5839f1679c156",
       "version_major": 2,
       "version_minor": 0
      },
      "text/plain": [
       "Map:   0%|          | 0/10570 [00:00<?, ? examples/s]"
      ]
     },
     "metadata": {},
     "output_type": "display_data"
    }
   ],
   "source": [
    "### your code ###\n",
    "encoded_squad = datasets_squad.map(add_eos_to_examples)\n",
    "### your code ###"
   ]
  },
  {
   "cell_type": "code",
   "execution_count": null,
   "id": "FgqckdGNDWNp",
   "metadata": {
    "colab": {
     "base_uri": "https://localhost:8080/"
    },
    "id": "FgqckdGNDWNp",
    "outputId": "6c3d2018-9ae3-441c-a57d-5d5c38f89c31"
   },
   "outputs": [
    {
     "name": "stdout",
     "output_type": "stream",
     "text": [
      "question: To whom did the Virgin Mary allegedly appear in 1858 in Lourdes France?  context: Architecturally, the school has a Catholic character. Atop the Main Building's gold dome is a golden statue of the Virgin Mary. Immediately in front of the Main Building and facing it, is a copper statue of Christ with arms upraised with the legend \"Venite Ad Me Omnes\". Next to the Main Building is the Basilica of the Sacred Heart. Immediately behind the basilica is the Grotto, a Marian place of prayer and reflection. It is a replica of the grotto at Lourdes, France where the Virgin Mary reputedly appeared to Saint Bernadette Soubirous in 1858. At the end of the main drive (and in a direct line that connects through 3 statues and the Gold Dome), is a simple, modern stone statue of Mary. </s>\n",
      "Saint Bernadette Soubirous </s>\n"
     ]
    }
   ],
   "source": [
    "print(encoded_squad[\"train\"][0][\"input_text\"])\n",
    "print(encoded_squad[\"train\"][0][\"target_text\"])"
   ]
  },
  {
   "cell_type": "markdown",
   "id": "UqK9_TtLFZrU",
   "metadata": {
    "id": "UqK9_TtLFZrU"
   },
   "source": [
    "Complete the function `convert_to_features` that takes in the examples from the dataset and tokenizes them using the T5 tokenizer. However, our answers in this dataset are relatively short and do not require `512` tokens, in contrast to the input sequence which is a combination of question and context paragraphs and is usually long. To this end, we want to truncate the input sequence at `512` and the target sequence at `16`. If any input or target is smaller than the specified length, make sure you pad them. Finally, convert everything to PyTorch tensors to be easily used by the data collator and place them in the dictionary `encodings`."
   ]
  },
  {
   "cell_type": "code",
   "execution_count": null,
   "id": "4yPglRvTEg_p",
   "metadata": {
    "id": "4yPglRvTEg_p"
   },
   "outputs": [],
   "source": [
    "def convert_to_features(examples):\n",
    "    ### your code ###\n",
    "    input_encodings = t5_tokenizer(examples[\"input_text\"], padding=\"max_length\", truncation=True, max_length=512)\n",
    "    target_encodings = t5_tokenizer(examples[\"target_text\"], padding=\"max_length\", truncation=True, max_length=16)\n",
    "\n",
    "    encodings = {\n",
    "        'input_ids': input_encodings['input_ids'],\n",
    "        'attention_mask': input_encodings['attention_mask'],\n",
    "        'target_ids': target_encodings['input_ids'],\n",
    "        'target_attention_mask': target_encodings['attention_mask']\n",
    "    }\n",
    "    ### your code ###\n",
    "    return encodings"
   ]
  },
  {
   "cell_type": "markdown",
   "id": "UI_tQfeNIgi7",
   "metadata": {
    "id": "UI_tQfeNIgi7"
   },
   "source": [
    "Use the `map` function to process the data."
   ]
  },
  {
   "cell_type": "code",
   "execution_count": null,
   "id": "gYm6RZGF19xY",
   "metadata": {
    "colab": {
     "base_uri": "https://localhost:8080/",
     "height": 81,
     "referenced_widgets": [
      "b683ec446cc043259624b964b7838a1c",
      "8202ec8d045d453f9f05fec0673c40d2",
      "d2376ab63b6645398c1ac39e623cfe54",
      "656cbb0ed91c4c52be75ae501fd287a9",
      "527907647a8b43d2a3be5e2f9d8717d5",
      "19d665a27bdd4bb3b9427c1786466c38",
      "030317354e9b48c4bf736c9638f0569c",
      "5e48169a17d74e18aca086d3111c5dee",
      "e1a9f5d12c114b818423799ab22f4e5b",
      "07898e1872574546aaf1d121c3790567",
      "e8de69966d184a49bdef89857f4dbe05",
      "5513e5758b9d45198803fc072f55697e",
      "c1e3da2dd94745e3877fe4dbb54710b9",
      "c0c3ffacde344ac7a02b65c0ca3b8dd1",
      "11208256e3e9406db7e023ed99a730b5",
      "443e8a4037c54a4ba5280febe06cf0fd",
      "9b25f1c8b2be434ca60c2be8342d9ad2",
      "bedc32911c004e3cb3e969cc737bc218",
      "09fd3705aa0541e19a9ec7ad6d97fb39",
      "e7f0db8ca4324963845a9fe2813da142",
      "ab522895804f4693a949c05a206151f5",
      "9bbefbc31f4f4384bca26ee3e8c730a3"
     ]
    },
    "id": "gYm6RZGF19xY",
    "outputId": "7d9eff56-5464-419c-b13f-271de1b50748"
   },
   "outputs": [
    {
     "data": {
      "application/vnd.jupyter.widget-view+json": {
       "model_id": "b683ec446cc043259624b964b7838a1c",
       "version_major": 2,
       "version_minor": 0
      },
      "text/plain": [
       "Map:   0%|          | 0/87599 [00:00<?, ? examples/s]"
      ]
     },
     "metadata": {},
     "output_type": "display_data"
    },
    {
     "data": {
      "application/vnd.jupyter.widget-view+json": {
       "model_id": "5513e5758b9d45198803fc072f55697e",
       "version_major": 2,
       "version_minor": 0
      },
      "text/plain": [
       "Map:   0%|          | 0/10570 [00:00<?, ? examples/s]"
      ]
     },
     "metadata": {},
     "output_type": "display_data"
    }
   ],
   "source": [
    "### your code ###\n",
    "encoded_squad = encoded_squad.map(convert_to_features, batched=True)\n",
    "### your code ###"
   ]
  },
  {
   "cell_type": "code",
   "execution_count": null,
   "id": "gaIppB0A2sxX",
   "metadata": {
    "colab": {
     "base_uri": "https://localhost:8080/"
    },
    "id": "gaIppB0A2sxX",
    "outputId": "11dff1b5-72c1-49d2-b287-6e6b9a5e5b4d"
   },
   "outputs": [
    {
     "data": {
      "text/plain": [
       "DatasetDict({\n",
       "    train: Dataset({\n",
       "        features: ['id', 'title', 'context', 'question', 'answers', 'input_text', 'target_text', 'input_ids', 'attention_mask', 'target_ids', 'target_attention_mask'],\n",
       "        num_rows: 87599\n",
       "    })\n",
       "    validation: Dataset({\n",
       "        features: ['id', 'title', 'context', 'question', 'answers', 'input_text', 'target_text', 'input_ids', 'attention_mask', 'target_ids', 'target_attention_mask'],\n",
       "        num_rows: 10570\n",
       "    })\n",
       "})"
      ]
     },
     "execution_count": 16,
     "metadata": {},
     "output_type": "execute_result"
    }
   ],
   "source": [
    "encoded_squad #new columns are added"
   ]
  },
  {
   "cell_type": "markdown",
   "id": "iMhQ6_vpIlUC",
   "metadata": {
    "id": "iMhQ6_vpIlUC"
   },
   "source": [
    "Interestingly, although we specified PyTorch tensors as output, the type of the `input_ids` is still a list. To remedy this problem, you need to explicitly set the type of the column that contains PyTorch tensors."
   ]
  },
  {
   "cell_type": "code",
   "execution_count": null,
   "id": "gaU31GYeIlsH",
   "metadata": {
    "colab": {
     "base_uri": "https://localhost:8080/"
    },
    "id": "gaU31GYeIlsH",
    "outputId": "eb4f56ab-3413-415d-9523-f9297a34110d"
   },
   "outputs": [
    {
     "data": {
      "text/plain": [
       "list"
      ]
     },
     "execution_count": 17,
     "metadata": {},
     "output_type": "execute_result"
    }
   ],
   "source": [
    "type(encoded_squad[\"train\"][0][\"input_ids\"])"
   ]
  },
  {
   "cell_type": "code",
   "execution_count": null,
   "id": "depIPwgSIntY",
   "metadata": {
    "colab": {
     "base_uri": "https://localhost:8080/"
    },
    "id": "depIPwgSIntY",
    "outputId": "b156d31b-08f9-4dab-ed46-300878e8ea11"
   },
   "outputs": [
    {
     "data": {
      "text/plain": [
       "torch.Tensor"
      ]
     },
     "execution_count": 18,
     "metadata": {},
     "output_type": "execute_result"
    }
   ],
   "source": [
    "### your code ###\n",
    "columns = ['input_ids', 'target_ids', 'attention_mask', 'target_attention_mask']\n",
    "encoded_squad.set_format(type='torch', columns=columns)\n",
    "### your code ###\n",
    "type(encoded_squad[\"train\"][0][\"input_ids\"])"
   ]
  },
  {
   "cell_type": "code",
   "execution_count": null,
   "id": "kcZ1Jg8kI9UN",
   "metadata": {
    "colab": {
     "base_uri": "https://localhost:8080/"
    },
    "id": "kcZ1Jg8kI9UN",
    "outputId": "331fccca-7b14-45e8-a4e5-9ed78ba93a13"
   },
   "outputs": [
    {
     "name": "stdout",
     "output_type": "stream",
     "text": [
      "Shape of the input_ids: torch.Size([512])\n",
      "Shape of the target_ids: torch.Size([16])\n"
     ]
    }
   ],
   "source": [
    "print(\"Shape of the input_ids:\",encoded_squad[\"train\"][0][\"input_ids\"].shape)\n",
    "print(\"Shape of the target_ids:\",encoded_squad[\"train\"][0][\"target_ids\"].shape)"
   ]
  },
  {
   "cell_type": "markdown",
   "id": "XpYHaNlpOCMd",
   "metadata": {
    "id": "XpYHaNlpOCMd"
   },
   "source": [
    "The final step in the data processing is the creation of the data collator to\n",
    "prepare `labels` from `target_ids` and return examples with keys as expected by the forward method of T5.\n",
    "This is necessary because the trainer directly passes this dict as argument to the model so you need to check the input of T5 and rename the column based on that.\n",
    "`input_ids`, `target_ids`, `attention_mask`, and `target_attention_mask` need to be stacked in a batch and the pad tokens in the target need to be set to `-100` to avoid loss computation."
   ]
  },
  {
   "cell_type": "code",
   "execution_count": null,
   "id": "RQzQ50R326cL",
   "metadata": {
    "id": "RQzQ50R326cL"
   },
   "outputs": [],
   "source": [
    "# The final step in the data processing is the creation of the data collator to\n",
    "# prepare `labels` from `target_ids` and return examples with keys as expected by the forward method of T5.\n",
    "# This is necessary because the trainer directly passes this dict as argument to the model so you need to check the input of T5 and rename the column based on that.\n",
    "# `input_ids`, `target_ids`, `attention_mask`, and `target_attention_mask` need to be stacked in a batch and the pad tokens in the target need to be set to `-100` to avoid loss computation.\n",
    "\n",
    "from dataclasses import dataclass\n",
    "from transformers import DataCollator\n",
    "from transformers.tokenization_utils_base import PreTrainedTokenizerBase, PaddingStrategy\n",
    "from typing import Optional, Union\n",
    "@dataclass\n",
    "class T2TDataCollator:\n",
    "    tokenizer: PreTrainedTokenizerBase\n",
    "    padding: Union[bool, str, PaddingStrategy] = True\n",
    "    max_length: Optional[int] = None\n",
    "    pad_to_multiple_of: Optional[int] = None\n",
    "    def __call__(self, batch):\n",
    "\n",
    "      ### your code ###\n",
    "        input_ids = torch.stack([example['input_ids'] for example in batch])\n",
    "        attention_mask = torch.stack([example['attention_mask'] for example in batch])\n",
    "\n",
    "        target_ids = torch.stack([example['target_ids'] for example in batch])\n",
    "        target_ids[target_ids[:, :] == self.tokenizer.pad_token_id] = -100\n",
    "        target_attention_mask = torch.stack([example['target_attention_mask'] for example in batch])\n",
    "\n",
    "        feature_dict = {\n",
    "            'input_ids': input_ids,\n",
    "            'attention_mask': attention_mask,\n",
    "            'labels': target_ids,\n",
    "            'decoder_attention_mask': target_attention_mask\n",
    "        }\n",
    "\n",
    "        return feature_dict\n",
    "      ### your code ###\n"
   ]
  },
  {
   "cell_type": "code",
   "execution_count": null,
   "id": "zXOwBe1bPCRJ",
   "metadata": {
    "colab": {
     "base_uri": "https://localhost:8080/"
    },
    "id": "zXOwBe1bPCRJ",
    "outputId": "cfcc54d6-0589-4018-cb06-00b1b6da569a"
   },
   "outputs": [
    {
     "name": "stdout",
     "output_type": "stream",
     "text": [
      "torch.Size([2, 512])\n",
      "torch.Size([2, 512])\n",
      "torch.Size([2, 16])\n"
     ]
    }
   ],
   "source": [
    "accepted_keys = ['input_text', 'target_text', 'input_ids', 'attention_mask', 'target_ids', 'target_attention_mask']\n",
    "features = [{k: v for k, v in encoded_squad[\"train\"][i].items() if k in accepted_keys} for i in range(2)]\n",
    "batch=T2TDataCollator(t5_tokenizer)(features)\n",
    "print(batch[\"input_ids\"].shape)\n",
    "print(batch[\"attention_mask\"].shape)\n",
    "print(batch[\"labels\"].shape)"
   ]
  },
  {
   "cell_type": "markdown",
   "id": "gb9KZjhsu_5N",
   "metadata": {
    "id": "gb9KZjhsu_5N"
   },
   "source": [
    "#### ${\\color{red}{Comments\\ 3.1}}$\n",
    "\n",
    "${\\color{red}{⚠️Comments\\ begin⚠️}}$\n",
    "\n",
    "\n",
    "```\n",
    "cross-feedback comment section\n",
    "```\n",
    "\n",
    "\n",
    "${\\color{red}{⚠️Comments\\ end⚠️}}$"
   ]
  },
  {
   "cell_type": "markdown",
   "id": "ktvtcVh1N6l0",
   "metadata": {
    "id": "ktvtcVh1N6l0"
   },
   "source": [
    "### Subtask 2: Training"
   ]
  },
  {
   "cell_type": "markdown",
   "id": "mnMvSwtbV2GC",
   "metadata": {
    "id": "mnMvSwtbV2GC"
   },
   "source": [
    "For training and inference, we can use `T5ForConditionalGeneration`, which includes the language modeling head on top of the decoder. Load the `t5-small` model."
   ]
  },
  {
   "cell_type": "code",
   "execution_count": null,
   "id": "aO4NNyEFKXap",
   "metadata": {
    "id": "aO4NNyEFKXap"
   },
   "outputs": [],
   "source": [
    "### your code ###\n",
    "from transformers import T5ForConditionalGeneration\n",
    "t5 = T5ForConditionalGeneration.from_pretrained(\"t5-small\")\n",
    "### your code ###"
   ]
  },
  {
   "cell_type": "markdown",
   "id": "rE9j5o_iBLOL",
   "metadata": {
    "id": "rE9j5o_iBLOL"
   },
   "source": [
    "Next, similar to the previous task we initiate training arguments. Note that this time we are using a `Seq2SeqTrainingArguments` for a `Seq2SeqTrainer`. Set the parameters for training as follows:\n",
    "\n",
    "\n",
    "*   T5 doesn't support GPU and TPU evaluation for now, so we only focus on training. You do not need to pass any parameters for evaluation setup.\n",
    "*   The output directory should be named `t5-squad`.\n",
    "* The T5 models need a slightly higher learning rate than the default one set in the `Trainer` when using the `AdamW` optimizer. Set the learning rate to `1e-4` and the regularization parameter to `0.01`.\n",
    "* Random seed should be `77`, and we train for a maximum of `200` steps and save a checkpoint every `100` steps. A complete training of the T5 model requires far more than `200` steps, however, that is beyond the scope of this assignment.\n",
    "* T5 models require a large batch size. The default model was trained with a batch size of `128`. However, we cannot fit that into a single GPU, therefore we use gradient accumulation. Set the batch size to `32` and choose the gradient accumulation step to reach the effective batch size of `128`.\n",
    "* Make sure that your trainer does not remove unused columns during training, as this will cause a runtime error later on.\n",
    "\n",
    "\n",
    "**Gradient accumulation:** is a technique that simulates a larger batch size by accumulating gradients from multiple small batches before performing a weight update.\n",
    "\n"
   ]
  },
  {
   "cell_type": "code",
   "execution_count": null,
   "id": "UiWbhXjk5Mr0",
   "metadata": {
    "id": "UiWbhXjk5Mr0"
   },
   "outputs": [],
   "source": [
    "from transformers import Seq2SeqTrainingArguments\n",
    "\n",
    "### your code ###\n",
    "training_args = Seq2SeqTrainingArguments(\n",
    "    do_train=True,                  # do training\n",
    "    output_dir=\"./t5-squad\",        # output directory\n",
    "    learning_rate=1e-4,             # learning rate\n",
    "    weight_decay=0.01,              # regularization parameter\n",
    "    seed=77,                        # seed\n",
    "    data_seed=77,                   # data seed\n",
    "    max_steps=200,                  # max training steps\n",
    "    save_steps=100,                 # save every 100 steps\n",
    "    per_device_train_batch_size=32, # batch size\n",
    "    gradient_accumulation_steps=4,  # gradient accumulation steps\n",
    "    remove_unused_columns=False     # do not remove unused columns\n",
    ")\n",
    "    ### your code ###\n"
   ]
  },
  {
   "cell_type": "markdown",
   "id": "AEOvujcduYjG",
   "metadata": {
    "id": "AEOvujcduYjG"
   },
   "source": [
    "Once again make sure that you are using GPU before running the cell below.\n",
    "Initilize your `Seq2SeqTrainer` with inputs necessary for training. The training should take around 15 min on Google Colab T4 GPU.\n"
   ]
  },
  {
   "cell_type": "code",
   "execution_count": null,
   "id": "J_Vb3za_4kBo",
   "metadata": {
    "id": "J_Vb3za_4kBo"
   },
   "outputs": [],
   "source": [
    "# Initialize our Trainer\n",
    "from transformers import Seq2SeqTrainer\n",
    "### your code ###\n",
    "trainer = Seq2SeqTrainer(\n",
    "    model=t5,\n",
    "    args=training_args,\n",
    "    data_collator=T2TDataCollator(t5_tokenizer),\n",
    "    train_dataset=encoded_squad[\"train\"]            # only training, no eval\n",
    ")\n",
    "    ### your code ###\n"
   ]
  },
  {
   "cell_type": "code",
   "execution_count": null,
   "id": "8GDPeyPiBIEX",
   "metadata": {
    "colab": {
     "base_uri": "https://localhost:8080/",
     "height": 127
    },
    "id": "8GDPeyPiBIEX",
    "outputId": "e970029f-42c4-406c-8eed-b2d16edb5009"
   },
   "outputs": [
    {
     "data": {
      "text/html": [
       "\n",
       "    <div>\n",
       "      \n",
       "      <progress value='200' max='200' style='width:300px; height:20px; vertical-align: middle;'></progress>\n",
       "      [200/200 13:04, Epoch 0/1]\n",
       "    </div>\n",
       "    <table border=\"1\" class=\"dataframe\">\n",
       "  <thead>\n",
       " <tr style=\"text-align: left;\">\n",
       "      <th>Step</th>\n",
       "      <th>Training Loss</th>\n",
       "    </tr>\n",
       "  </thead>\n",
       "  <tbody>\n",
       "  </tbody>\n",
       "</table><p>"
      ],
      "text/plain": [
       "<IPython.core.display.HTML object>"
      ]
     },
     "metadata": {},
     "output_type": "display_data"
    },
    {
     "data": {
      "text/plain": [
       "TrainOutput(global_step=200, training_loss=0.40351577758789064, metrics={'train_runtime': 789.1399, 'train_samples_per_second': 32.44, 'train_steps_per_second': 0.253, 'total_flos': 3464750117683200.0, 'train_loss': 0.40351577758789064, 'epoch': 0.29})"
      ]
     },
     "execution_count": 29,
     "metadata": {},
     "output_type": "execute_result"
    }
   ],
   "source": [
    "trainer.train()"
   ]
  },
  {
   "cell_type": "markdown",
   "id": "1-gKhqSpu7Uz",
   "metadata": {
    "id": "1-gKhqSpu7Uz"
   },
   "source": [
    "#### ${\\color{red}{Comments\\ 3.2}}$\n",
    "\n",
    "${\\color{red}{⚠️Comments\\ begin⚠️}}$\n",
    "\n",
    "\n",
    "```\n",
    "cross-feedback comment section\n",
    "```\n",
    "\n",
    "\n",
    "${\\color{red}{⚠️Comments\\ end⚠️}}$"
   ]
  },
  {
   "cell_type": "markdown",
   "id": "AQ9jj65UvER1",
   "metadata": {
    "id": "AQ9jj65UvER1"
   },
   "source": [
    "### Subtask 3: Inference"
   ]
  },
  {
   "cell_type": "markdown",
   "id": "bkDgQponWOs4",
   "metadata": {
    "id": "bkDgQponWOs4"
   },
   "source": [
    "Our trained model has seen far too few instances to make a coherent prediction. To this end, we load an already trained checkpoint from Hugging Face and perform inference. Load this [model](https://huggingface.co/mrm8488/t5-base-finetuned-squadv2) and the respective tokenizer. Note that we are loading a `base` model that is slightly larger than `t5-small`."
   ]
  },
  {
   "cell_type": "code",
   "execution_count": null,
   "id": "lW8Wss36vV20",
   "metadata": {
    "colab": {
     "base_uri": "https://localhost:8080/"
    },
    "id": "lW8Wss36vV20",
    "outputId": "008fdaea-ff3f-40d5-afb5-6d7895e36edf"
   },
   "outputs": [
    {
     "name": "stderr",
     "output_type": "stream",
     "text": [
      "The `xla_device` argument has been deprecated in v4.4.0 of Transformers. It is ignored and you can safely remove it from your `config.json` file.\n",
      "The `xla_device` argument has been deprecated in v4.4.0 of Transformers. It is ignored and you can safely remove it from your `config.json` file.\n",
      "The `xla_device` argument has been deprecated in v4.4.0 of Transformers. It is ignored and you can safely remove it from your `config.json` file.\n",
      "The `xla_device` argument has been deprecated in v4.4.0 of Transformers. It is ignored and you can safely remove it from your `config.json` file.\n"
     ]
    }
   ],
   "source": [
    "from transformers import AutoModelForSeq2SeqLM, AutoTokenizer\n",
    "### your code ###\n",
    "t5_tokenizer = AutoTokenizer.from_pretrained(\"mrm8488/t5-base-finetuned-squadv2\")\n",
    "t5_model = AutoModelForSeq2SeqLM.from_pretrained(\"mrm8488/t5-base-finetuned-squadv2\")\n",
    "### your code ###"
   ]
  },
  {
   "cell_type": "markdown",
   "id": "azC95xxzxj84",
   "metadata": {
    "id": "azC95xxzxj84"
   },
   "source": [
    "At inference time for T5, it is recommended to use the `generate()` function. This auto-regressively generates the decoder output. Complete the code for the `get_answer` function, which gives a model, a tokenizer, and a question and context pair, and generates the answer from the context given. The output should be the answer to the given question in natural text (without the special tokens).\n",
    "\n",
    "**Hint:** Many of the steps are similar to how you prepared your input data for the model."
   ]
  },
  {
   "cell_type": "code",
   "execution_count": null,
   "id": "_Run50fvWPcv",
   "metadata": {
    "id": "_Run50fvWPcv"
   },
   "outputs": [],
   "source": [
    "def get_answer(tokenizer,model, question, context):\n",
    "    ### your code ###\n",
    "    input_text = f\"question: {question}  context: {context} </s>\"\n",
    "    features = tokenizer([input_text], return_tensors='pt', max_length=512, truncation=True, padding=\"max_length\")\n",
    "\n",
    "    answers_encoded = model.generate(input_ids=features['input_ids'],\n",
    "                                     attention_mask=features['attention_mask'],\n",
    "                                     max_length=16)\n",
    "    answer = tokenizer.decode(answers_encoded[0], skip_special_tokens=True)\n",
    "    ### your code ###\n",
    "    return answer"
   ]
  },
  {
   "cell_type": "markdown",
   "id": "F6Fq37I3yMeQ",
   "metadata": {
    "id": "F6Fq37I3yMeQ"
   },
   "source": [
    "Let's try it with an example."
   ]
  },
  {
   "cell_type": "code",
   "execution_count": null,
   "id": "09znSykkdkk0",
   "metadata": {
    "colab": {
     "base_uri": "https://localhost:8080/",
     "height": 36
    },
    "id": "09znSykkdkk0",
    "outputId": "01131f22-954a-4435-a9d8-5d8a2f4d5c6e"
   },
   "outputs": [
    {
     "data": {
      "application/vnd.google.colaboratory.intrinsic+json": {
       "type": "string"
      },
      "text/plain": [
       "'Harry'"
      ]
     },
     "execution_count": 39,
     "metadata": {},
     "output_type": "execute_result"
    }
   ],
   "source": [
    "context = \"Sarah has joined NLP for transformers class and is working on her research project with the support of Harry.\"\n",
    "question = \"Who is supporting Sarah?\"\n",
    "\n",
    "get_answer(t5_tokenizer,t5_model,question, context)###your answer should be \"Harry\""
   ]
  },
  {
   "cell_type": "code",
   "execution_count": null,
   "id": "LQNpgTyazjge",
   "metadata": {
    "colab": {
     "base_uri": "https://localhost:8080/",
     "height": 36
    },
    "id": "LQNpgTyazjge",
    "outputId": "3b2895da-f1c8-4630-8b95-ee702178a699"
   },
   "outputs": [
    {
     "data": {
      "application/vnd.google.colaboratory.intrinsic+json": {
       "type": "string"
      },
      "text/plain": [
       "'power efficient'"
      ]
     },
     "execution_count": 40,
     "metadata": {},
     "output_type": "execute_result"
    }
   ],
   "source": [
    "context = \"TPUs are more power efficient in comparison to GPUs making them a better choice for machine learning projects.\"\n",
    "question = \"What is better for machine learning projects?\"\n",
    "\n",
    "get_answer(t5_tokenizer,t5_model,question, context)###your answer should be \"TPUs\""
   ]
  },
  {
   "cell_type": "markdown",
   "id": "sIz0JuwzGEFN",
   "metadata": {
    "id": "sIz0JuwzGEFN"
   },
   "source": [
    "#### ${\\color{red}{Comments\\ 3.3}}$\n",
    "\n",
    "${\\color{red}{⚠️Comments\\ begin⚠️}}$\n",
    "\n",
    "\n",
    "```\n",
    "cross-feedback comment section\n",
    "```\n",
    "\n",
    "\n",
    "${\\color{red}{⚠️Comments\\ end⚠️}}$"
   ]
  },
  {
   "cell_type": "markdown",
   "id": "i9LfBp2eKqYc",
   "metadata": {
    "id": "i9LfBp2eKqYc"
   },
   "source": [
    "### Subtask 4: T5 Paper"
   ]
  },
  {
   "cell_type": "markdown",
   "id": "NRVp_0KaKvN4",
   "metadata": {
    "id": "NRVp_0KaKvN4"
   },
   "source": [
    "To answer questions of the final subtask you need to have a general overview of the [T5 paper](https://arxiv.org/pdf/1910.10683.pdf)."
   ]
  },
  {
   "cell_type": "markdown",
   "id": "EwoEHJ1eMSVr",
   "metadata": {
    "id": "EwoEHJ1eMSVr"
   },
   "source": [
    "\n",
    "\n",
    "1.   Describe what a “text-to-text format\" is and how T5 processes input and output for text classification tasks? What are the possible complications with a predefined set of classes?\n",
    "2.   Describe the \"masked language modeling\" and \"word dropout\" unsupervised objective with sentinel tokens. Give an example of how this would look in a single sentence.\n",
    "3. Explain \"fully-visible\", \"causal\" and \"causal masking with prefix\" masking.\n",
    "4. Briefly describe \"adapter layers\" and \"gradual unfreezing\" as methods for fine-tuning on fewer parameters.\n",
    "\n"
   ]
  },
  {
   "cell_type": "markdown",
   "id": "9bb6b346",
   "metadata": {
    "id": "9bb6b346"
   },
   "source": [
    "**Answer**\n",
    "\n",
    "```\n",
    "1.1 - What is a \"Text-to-text format\"?\n",
    "\n",
    "\"Text-to-text format\" is about treating \"every text processing problem as (...) taking text as input and producing new text as output\". In other words, the authors came up with an idea to reformulate different text-related tasks (question answering, summarization and others) into text-to-text task which allowed them to unify the model, training, decoding etc.\n",
    "\n",
    "1.2 - How T5 processes input and output?\n",
    "\n",
    "T5 has a quite symmetrical architecture consisting of an encoder and decoder. To tell the model what the current task is, each input begins with predefined prefix such as \"summarize: \" or \"translate English to German: \". This prefix is in natural language and is not treated separately from the rest of the input. Number of these prefixes was fixed during training. For text classification in particular, the model has to predict \"a single word corresponding to the target label\".\n",
    "\n",
    "1.3 - What are the possible complications with a predefined set of classes?\n",
    "\n",
    "Model might be unable to generalize to arbitrary tasks which were not present during trainig. Additionally, the paper says that only specific languages are supported by the vocabulary which suggests that changing the language of the objective might also negatively impact model behavior.\n",
    "```"
   ]
  },
  {
   "cell_type": "markdown",
   "id": "4985144f",
   "metadata": {
    "id": "4985144f"
   },
   "source": [
    "**Answer**\n",
    "\n",
    "```\n",
    "2.1 - Describe the \"masked language modeling\" and \"word dropout\" unsupervised objective with sentinel tokens.\n",
    "\n",
    "The authors desribe it as inspired by BERT and Bowman et al. (2015). In this objective, in general some tokens are removed and the target is to recreate the original input.\n",
    "\n",
    "In more details, the procedure is described as follows:\n",
    "- randomly sample and drop 15% of tokens in the input sequence\n",
    "- replace all consecutive spans of dropped-out tokens with a single sentinel token\n",
    "- assign a unique token ID to each sentinel token (sentinel token IDs are special - they are added to the vocabulary but do not correspond to any wordpiece)\n",
    "- the target is to recreate the original input with all dropped-out spans of tokens delimited by the same sentinel tokens used in the input sequence plus a final sentinel token to mark the end of the target sequence.\n",
    "\n",
    "Additionally, in a later part, the authors mention that in their training procedure masked language modelling \"takes a span of text and corrupts 15% of the tokens. 90% of the corrupted tokens are replaced with a special mask token and 10% are replaced with a random token.\" This would suggest that not all masked tokens are replaced with sentinel tokens, if my understanding is correct.\n",
    "\n",
    "\n",
    "2.2 - Give an example of how this would look in a single sentence.\n",
    "\n",
    "My sample sentence has 20 tokens (here, I treat words as tokens), so I should only mask 15% of them which is 3. To make the example more meaningful, I will mask more tokens and replace them with sentinel tokens. I will not replace 10% of masked tokens with a random token as the authors did during training. Based on my understanding presented above and taking the following sentence as an example (for readability, each word here will be treated as a single token).\n",
    "\n",
    "Original:\n",
    "\n",
    "\"My name is John and I am a student at the old University of Heidelberg which is located in Germany\"\n",
    "\n",
    "Modified:\n",
    "\n",
    "\"My name is [SENTINEL ID 1] student at the old [SENTINEL ID 2] of Heidelberg which is located in Germany [FINAL SENTINEL TOKEN]\"\n",
    "\n",
    "The target would be to recreate, that:\n",
    "- [SENTINEL ID 1] stands for: \"John and I am a\" (here, a whole span of consecutive tokens is replaced with a single sentinel token)\n",
    "- [SENTINEL ID 2] stands for: \"University\" (but a single dropped-out word is treated the same)\n",
    "- [FINAL SENTINEL TOKEN] marks the end of the target sequence\n",
    "```"
   ]
  },
  {
   "cell_type": "markdown",
   "id": "2a31df81",
   "metadata": {
    "id": "2a31df81"
   },
   "source": [
    "**Answer**\n",
    "\n",
    "```\n",
    "3 - Explain \"fully-visible\", \"causal\" and \"causal masking with prefix\" masking.\n",
    "\n",
    "These are different attention mask patterns, as the Figure 3 nicely visualized.\n",
    "\n",
    "- Fully-visible masking scheme does not mask anything and \"allows the self-attention mechanism to attend to the full input at every output timestep\".\n",
    "\n",
    "- A causal mask is such that it prevents the self-attention mechanism from attending to any tokens that occur after the current output timestep (prevents 'looking into the future').\n",
    "\n",
    "- Causal masking with prefix is a combination of the two above - first few tokens from the input (a prefix) are visible all the time (even for the first few output timesteps) and the rest of the input is masked (as in causal masking). A good example would be with “translate English to German: That is good. target: Das ist gut.\", where the last \"Das ist gut.\" would be masked with casual masking and the first part would be a fully visible prefix.\n",
    "```"
   ]
  },
  {
   "cell_type": "markdown",
   "id": "70c431ce",
   "metadata": {
    "id": "70c431ce"
   },
   "source": [
    "**Answer**\n",
    "\n",
    "```\n",
    "4 - Briefly describe \"adapter layers\" and \"gradual unfreezing\" as methods for fine-tuning on fewer parameters.\n",
    "\n",
    "- \"adapter layers\" approach is about inserting additional small neural networks (dense-ReLU-dense blocks with size d as hyperparameter) with same input and output sizes \"after each of the preexisting feed-forward networks in each block of the Transformer.\" During finetuning, only these small networks are trained, while the rest of the model is frozen.\n",
    "\n",
    "- \"gradual unfreezing\" is about starting finetuning of the model by finetuning only the last layer and, later, gradually unfreezing additional layers (going from the last layer to the first one). The authors used an encoder-decoder model and they were unfreezing layers in the encoder and decoder in parallel (from the top in both cases).\n",
    "```"
   ]
  },
  {
   "cell_type": "markdown",
   "id": "WiYns91wr2P5",
   "metadata": {
    "id": "WiYns91wr2P5"
   },
   "source": [
    "#### ${\\color{red}{Comments\\ 3.4}}$\n",
    "\n",
    "${\\color{red}{⚠️Comments\\ begin⚠️}}$\n",
    "\n",
    "\n",
    "```\n",
    "cross-feedback comment section\n",
    "```\n",
    "\n",
    "\n",
    "${\\color{red}{⚠️Comments\\ end⚠️}}$"
   ]
  }
 ],
 "metadata": {
  "accelerator": "GPU",
  "colab": {
   "collapsed_sections": [
    "HETm7VsBkmLq",
    "_sO-H1PVMSsp"
   ],
   "gpuType": "T4",
   "provenance": []
  },
  "kernelspec": {
   "display_name": "Python 3 (ipykernel)",
   "language": "python",
   "name": "python3"
  },
  "language_info": {
   "codemirror_mode": {
    "name": "ipython",
    "version": 3
   },
   "file_extension": ".py",
   "mimetype": "text/x-python",
   "name": "python",
   "nbconvert_exporter": "python",
   "pygments_lexer": "ipython3",
   "version": "3.9.18"
  },
  "widgets": {
   "application/vnd.jupyter.widget-state+json": {
    "012ac3ffbf204f4282cdadbb55113d93": {
     "model_module": "@jupyter-widgets/controls",
     "model_module_version": "1.5.0",
     "model_name": "HTMLModel",
     "state": {
      "_dom_classes": [],
      "_model_module": "@jupyter-widgets/controls",
      "_model_module_version": "1.5.0",
      "_model_name": "HTMLModel",
      "_view_count": null,
      "_view_module": "@jupyter-widgets/controls",
      "_view_module_version": "1.5.0",
      "_view_name": "HTMLView",
      "description": "",
      "description_tooltip": null,
      "layout": "IPY_MODEL_4926233149354d2990b54b9ad256ead7",
      "placeholder": "​",
      "style": "IPY_MODEL_612e6dcf087b43a2b906540b5263604a",
      "value": "Map: 100%"
     }
    },
    "02039e015a404bee8f57035773b1641f": {
     "model_module": "@jupyter-widgets/base",
     "model_module_version": "1.2.0",
     "model_name": "LayoutModel",
     "state": {
      "_model_module": "@jupyter-widgets/base",
      "_model_module_version": "1.2.0",
      "_model_name": "LayoutModel",
      "_view_count": null,
      "_view_module": "@jupyter-widgets/base",
      "_view_module_version": "1.2.0",
      "_view_name": "LayoutView",
      "align_content": null,
      "align_items": null,
      "align_self": null,
      "border": null,
      "bottom": null,
      "display": null,
      "flex": null,
      "flex_flow": null,
      "grid_area": null,
      "grid_auto_columns": null,
      "grid_auto_flow": null,
      "grid_auto_rows": null,
      "grid_column": null,
      "grid_gap": null,
      "grid_row": null,
      "grid_template_areas": null,
      "grid_template_columns": null,
      "grid_template_rows": null,
      "height": null,
      "justify_content": null,
      "justify_items": null,
      "left": null,
      "margin": null,
      "max_height": null,
      "max_width": null,
      "min_height": null,
      "min_width": null,
      "object_fit": null,
      "object_position": null,
      "order": null,
      "overflow": null,
      "overflow_x": null,
      "overflow_y": null,
      "padding": null,
      "right": null,
      "top": null,
      "visibility": null,
      "width": null
     }
    },
    "02523804dc1743089250e8acdc5dfaff": {
     "model_module": "@jupyter-widgets/controls",
     "model_module_version": "1.5.0",
     "model_name": "HTMLModel",
     "state": {
      "_dom_classes": [],
      "_model_module": "@jupyter-widgets/controls",
      "_model_module_version": "1.5.0",
      "_model_name": "HTMLModel",
      "_view_count": null,
      "_view_module": "@jupyter-widgets/controls",
      "_view_module_version": "1.5.0",
      "_view_name": "HTMLView",
      "description": "",
      "description_tooltip": null,
      "layout": "IPY_MODEL_fd6adea302814be1b5bb006dfcbc6918",
      "placeholder": "​",
      "style": "IPY_MODEL_b534e765aaac4030b5131e1c983d9d18",
      "value": " 28.0/28.0 [00:00&lt;00:00, 772B/s]"
     }
    },
    "029e291d10f94ad799fd57da7824a117": {
     "model_module": "@jupyter-widgets/controls",
     "model_module_version": "1.5.0",
     "model_name": "HTMLModel",
     "state": {
      "_dom_classes": [],
      "_model_module": "@jupyter-widgets/controls",
      "_model_module_version": "1.5.0",
      "_model_name": "HTMLModel",
      "_view_count": null,
      "_view_module": "@jupyter-widgets/controls",
      "_view_module_version": "1.5.0",
      "_view_name": "HTMLView",
      "description": "",
      "description_tooltip": null,
      "layout": "IPY_MODEL_c317e32e45804f119446664a8e7995f3",
      "placeholder": "​",
      "style": "IPY_MODEL_065c7cb934cb4c42872da3c607dc765a",
      "value": "model.safetensors: 100%"
     }
    },
    "030317354e9b48c4bf736c9638f0569c": {
     "model_module": "@jupyter-widgets/controls",
     "model_module_version": "1.5.0",
     "model_name": "DescriptionStyleModel",
     "state": {
      "_model_module": "@jupyter-widgets/controls",
      "_model_module_version": "1.5.0",
      "_model_name": "DescriptionStyleModel",
      "_view_count": null,
      "_view_module": "@jupyter-widgets/base",
      "_view_module_version": "1.2.0",
      "_view_name": "StyleView",
      "description_width": ""
     }
    },
    "038fcd59bf3a47a4b3769952847063e9": {
     "model_module": "@jupyter-widgets/base",
     "model_module_version": "1.2.0",
     "model_name": "LayoutModel",
     "state": {
      "_model_module": "@jupyter-widgets/base",
      "_model_module_version": "1.2.0",
      "_model_name": "LayoutModel",
      "_view_count": null,
      "_view_module": "@jupyter-widgets/base",
      "_view_module_version": "1.2.0",
      "_view_name": "LayoutView",
      "align_content": null,
      "align_items": null,
      "align_self": null,
      "border": null,
      "bottom": null,
      "display": null,
      "flex": null,
      "flex_flow": null,
      "grid_area": null,
      "grid_auto_columns": null,
      "grid_auto_flow": null,
      "grid_auto_rows": null,
      "grid_column": null,
      "grid_gap": null,
      "grid_row": null,
      "grid_template_areas": null,
      "grid_template_columns": null,
      "grid_template_rows": null,
      "height": null,
      "justify_content": null,
      "justify_items": null,
      "left": null,
      "margin": null,
      "max_height": null,
      "max_width": null,
      "min_height": null,
      "min_width": null,
      "object_fit": null,
      "object_position": null,
      "order": null,
      "overflow": null,
      "overflow_x": null,
      "overflow_y": null,
      "padding": null,
      "right": null,
      "top": null,
      "visibility": null,
      "width": null
     }
    },
    "03a9645929fd43d6b37e9731987a9109": {
     "model_module": "@jupyter-widgets/controls",
     "model_module_version": "1.5.0",
     "model_name": "HBoxModel",
     "state": {
      "_dom_classes": [],
      "_model_module": "@jupyter-widgets/controls",
      "_model_module_version": "1.5.0",
      "_model_name": "HBoxModel",
      "_view_count": null,
      "_view_module": "@jupyter-widgets/controls",
      "_view_module_version": "1.5.0",
      "_view_name": "HBoxView",
      "box_style": "",
      "children": [
       "IPY_MODEL_215311ecfa904c39bfd1ce974bb1100f",
       "IPY_MODEL_f9630bea6c2c4b668598141bdd0415a6",
       "IPY_MODEL_02523804dc1743089250e8acdc5dfaff"
      ],
      "layout": "IPY_MODEL_109387d465f74f6f9bc752454eb6f63a"
     }
    },
    "048ede0b4f744550a81b0b8d6d62dc7a": {
     "model_module": "@jupyter-widgets/base",
     "model_module_version": "1.2.0",
     "model_name": "LayoutModel",
     "state": {
      "_model_module": "@jupyter-widgets/base",
      "_model_module_version": "1.2.0",
      "_model_name": "LayoutModel",
      "_view_count": null,
      "_view_module": "@jupyter-widgets/base",
      "_view_module_version": "1.2.0",
      "_view_name": "LayoutView",
      "align_content": null,
      "align_items": null,
      "align_self": null,
      "border": null,
      "bottom": null,
      "display": null,
      "flex": null,
      "flex_flow": null,
      "grid_area": null,
      "grid_auto_columns": null,
      "grid_auto_flow": null,
      "grid_auto_rows": null,
      "grid_column": null,
      "grid_gap": null,
      "grid_row": null,
      "grid_template_areas": null,
      "grid_template_columns": null,
      "grid_template_rows": null,
      "height": null,
      "justify_content": null,
      "justify_items": null,
      "left": null,
      "margin": null,
      "max_height": null,
      "max_width": null,
      "min_height": null,
      "min_width": null,
      "object_fit": null,
      "object_position": null,
      "order": null,
      "overflow": null,
      "overflow_x": null,
      "overflow_y": null,
      "padding": null,
      "right": null,
      "top": null,
      "visibility": null,
      "width": null
     }
    },
    "065c7cb934cb4c42872da3c607dc765a": {
     "model_module": "@jupyter-widgets/controls",
     "model_module_version": "1.5.0",
     "model_name": "DescriptionStyleModel",
     "state": {
      "_model_module": "@jupyter-widgets/controls",
      "_model_module_version": "1.5.0",
      "_model_name": "DescriptionStyleModel",
      "_view_count": null,
      "_view_module": "@jupyter-widgets/base",
      "_view_module_version": "1.2.0",
      "_view_name": "StyleView",
      "description_width": ""
     }
    },
    "07898e1872574546aaf1d121c3790567": {
     "model_module": "@jupyter-widgets/base",
     "model_module_version": "1.2.0",
     "model_name": "LayoutModel",
     "state": {
      "_model_module": "@jupyter-widgets/base",
      "_model_module_version": "1.2.0",
      "_model_name": "LayoutModel",
      "_view_count": null,
      "_view_module": "@jupyter-widgets/base",
      "_view_module_version": "1.2.0",
      "_view_name": "LayoutView",
      "align_content": null,
      "align_items": null,
      "align_self": null,
      "border": null,
      "bottom": null,
      "display": null,
      "flex": null,
      "flex_flow": null,
      "grid_area": null,
      "grid_auto_columns": null,
      "grid_auto_flow": null,
      "grid_auto_rows": null,
      "grid_column": null,
      "grid_gap": null,
      "grid_row": null,
      "grid_template_areas": null,
      "grid_template_columns": null,
      "grid_template_rows": null,
      "height": null,
      "justify_content": null,
      "justify_items": null,
      "left": null,
      "margin": null,
      "max_height": null,
      "max_width": null,
      "min_height": null,
      "min_width": null,
      "object_fit": null,
      "object_position": null,
      "order": null,
      "overflow": null,
      "overflow_x": null,
      "overflow_y": null,
      "padding": null,
      "right": null,
      "top": null,
      "visibility": null,
      "width": null
     }
    },
    "0836a45def1c404cb4c62cc3d904d292": {
     "model_module": "@jupyter-widgets/controls",
     "model_module_version": "1.5.0",
     "model_name": "ProgressStyleModel",
     "state": {
      "_model_module": "@jupyter-widgets/controls",
      "_model_module_version": "1.5.0",
      "_model_name": "ProgressStyleModel",
      "_view_count": null,
      "_view_module": "@jupyter-widgets/base",
      "_view_module_version": "1.2.0",
      "_view_name": "StyleView",
      "bar_color": null,
      "description_width": ""
     }
    },
    "0932eb0f67554d838e5222d22504f4d0": {
     "model_module": "@jupyter-widgets/controls",
     "model_module_version": "1.5.0",
     "model_name": "ProgressStyleModel",
     "state": {
      "_model_module": "@jupyter-widgets/controls",
      "_model_module_version": "1.5.0",
      "_model_name": "ProgressStyleModel",
      "_view_count": null,
      "_view_module": "@jupyter-widgets/base",
      "_view_module_version": "1.2.0",
      "_view_name": "StyleView",
      "bar_color": null,
      "description_width": ""
     }
    },
    "09fd3705aa0541e19a9ec7ad6d97fb39": {
     "model_module": "@jupyter-widgets/base",
     "model_module_version": "1.2.0",
     "model_name": "LayoutModel",
     "state": {
      "_model_module": "@jupyter-widgets/base",
      "_model_module_version": "1.2.0",
      "_model_name": "LayoutModel",
      "_view_count": null,
      "_view_module": "@jupyter-widgets/base",
      "_view_module_version": "1.2.0",
      "_view_name": "LayoutView",
      "align_content": null,
      "align_items": null,
      "align_self": null,
      "border": null,
      "bottom": null,
      "display": null,
      "flex": null,
      "flex_flow": null,
      "grid_area": null,
      "grid_auto_columns": null,
      "grid_auto_flow": null,
      "grid_auto_rows": null,
      "grid_column": null,
      "grid_gap": null,
      "grid_row": null,
      "grid_template_areas": null,
      "grid_template_columns": null,
      "grid_template_rows": null,
      "height": null,
      "justify_content": null,
      "justify_items": null,
      "left": null,
      "margin": null,
      "max_height": null,
      "max_width": null,
      "min_height": null,
      "min_width": null,
      "object_fit": null,
      "object_position": null,
      "order": null,
      "overflow": null,
      "overflow_x": null,
      "overflow_y": null,
      "padding": null,
      "right": null,
      "top": null,
      "visibility": null,
      "width": null
     }
    },
    "0a41b77eec4f4c2f89defc9b30bc0db7": {
     "model_module": "@jupyter-widgets/controls",
     "model_module_version": "1.5.0",
     "model_name": "ProgressStyleModel",
     "state": {
      "_model_module": "@jupyter-widgets/controls",
      "_model_module_version": "1.5.0",
      "_model_name": "ProgressStyleModel",
      "_view_count": null,
      "_view_module": "@jupyter-widgets/base",
      "_view_module_version": "1.2.0",
      "_view_name": "StyleView",
      "bar_color": null,
      "description_width": ""
     }
    },
    "0e1bb3abb9e8467294d92997ffc3b235": {
     "model_module": "@jupyter-widgets/controls",
     "model_module_version": "1.5.0",
     "model_name": "FloatProgressModel",
     "state": {
      "_dom_classes": [],
      "_model_module": "@jupyter-widgets/controls",
      "_model_module_version": "1.5.0",
      "_model_name": "FloatProgressModel",
      "_view_count": null,
      "_view_module": "@jupyter-widgets/controls",
      "_view_module_version": "1.5.0",
      "_view_name": "ProgressView",
      "bar_style": "success",
      "description": "",
      "description_tooltip": null,
      "layout": "IPY_MODEL_ebaaa2c7b7c04f429234adbe5a103942",
      "max": 8880,
      "min": 0,
      "orientation": "horizontal",
      "style": "IPY_MODEL_a27aeffc9b2b4ef0ba8f6fa38ef2befc",
      "value": 8880
     }
    },
    "0f1baa399d6a43389fd1280032012269": {
     "model_module": "@jupyter-widgets/controls",
     "model_module_version": "1.5.0",
     "model_name": "HTMLModel",
     "state": {
      "_dom_classes": [],
      "_model_module": "@jupyter-widgets/controls",
      "_model_module_version": "1.5.0",
      "_model_name": "HTMLModel",
      "_view_count": null,
      "_view_module": "@jupyter-widgets/controls",
      "_view_module_version": "1.5.0",
      "_view_name": "HTMLView",
      "description": "",
      "description_tooltip": null,
      "layout": "IPY_MODEL_964fc8371f0946f28a531765caec7398",
      "placeholder": "​",
      "style": "IPY_MODEL_2d087e5e30d94a0eba7449795d623b7b",
      "value": " 20006/20006 [00:10&lt;00:00, 2103.94 examples/s]"
     }
    },
    "0f7554f6da6a423680cda700ba494f0b": {
     "model_module": "@jupyter-widgets/base",
     "model_module_version": "1.2.0",
     "model_name": "LayoutModel",
     "state": {
      "_model_module": "@jupyter-widgets/base",
      "_model_module_version": "1.2.0",
      "_model_name": "LayoutModel",
      "_view_count": null,
      "_view_module": "@jupyter-widgets/base",
      "_view_module_version": "1.2.0",
      "_view_name": "LayoutView",
      "align_content": null,
      "align_items": null,
      "align_self": null,
      "border": null,
      "bottom": null,
      "display": null,
      "flex": null,
      "flex_flow": null,
      "grid_area": null,
      "grid_auto_columns": null,
      "grid_auto_flow": null,
      "grid_auto_rows": null,
      "grid_column": null,
      "grid_gap": null,
      "grid_row": null,
      "grid_template_areas": null,
      "grid_template_columns": null,
      "grid_template_rows": null,
      "height": null,
      "justify_content": null,
      "justify_items": null,
      "left": null,
      "margin": null,
      "max_height": null,
      "max_width": null,
      "min_height": null,
      "min_width": null,
      "object_fit": null,
      "object_position": null,
      "order": null,
      "overflow": null,
      "overflow_x": null,
      "overflow_y": null,
      "padding": null,
      "right": null,
      "top": null,
      "visibility": null,
      "width": null
     }
    },
    "1087550602604bda836023861d9e759a": {
     "model_module": "@jupyter-widgets/controls",
     "model_module_version": "1.5.0",
     "model_name": "HTMLModel",
     "state": {
      "_dom_classes": [],
      "_model_module": "@jupyter-widgets/controls",
      "_model_module_version": "1.5.0",
      "_model_name": "HTMLModel",
      "_view_count": null,
      "_view_module": "@jupyter-widgets/controls",
      "_view_module_version": "1.5.0",
      "_view_name": "HTMLView",
      "description": "",
      "description_tooltip": null,
      "layout": "IPY_MODEL_973d6e436a3f4df79962105e5772d9d7",
      "placeholder": "​",
      "style": "IPY_MODEL_ab33369b9374406c8b2f638691140d47",
      "value": " 466k/466k [00:00&lt;00:00, 10.4MB/s]"
     }
    },
    "109387d465f74f6f9bc752454eb6f63a": {
     "model_module": "@jupyter-widgets/base",
     "model_module_version": "1.2.0",
     "model_name": "LayoutModel",
     "state": {
      "_model_module": "@jupyter-widgets/base",
      "_model_module_version": "1.2.0",
      "_model_name": "LayoutModel",
      "_view_count": null,
      "_view_module": "@jupyter-widgets/base",
      "_view_module_version": "1.2.0",
      "_view_name": "LayoutView",
      "align_content": null,
      "align_items": null,
      "align_self": null,
      "border": null,
      "bottom": null,
      "display": null,
      "flex": null,
      "flex_flow": null,
      "grid_area": null,
      "grid_auto_columns": null,
      "grid_auto_flow": null,
      "grid_auto_rows": null,
      "grid_column": null,
      "grid_gap": null,
      "grid_row": null,
      "grid_template_areas": null,
      "grid_template_columns": null,
      "grid_template_rows": null,
      "height": null,
      "justify_content": null,
      "justify_items": null,
      "left": null,
      "margin": null,
      "max_height": null,
      "max_width": null,
      "min_height": null,
      "min_width": null,
      "object_fit": null,
      "object_position": null,
      "order": null,
      "overflow": null,
      "overflow_x": null,
      "overflow_y": null,
      "padding": null,
      "right": null,
      "top": null,
      "visibility": null,
      "width": null
     }
    },
    "11208256e3e9406db7e023ed99a730b5": {
     "model_module": "@jupyter-widgets/controls",
     "model_module_version": "1.5.0",
     "model_name": "HTMLModel",
     "state": {
      "_dom_classes": [],
      "_model_module": "@jupyter-widgets/controls",
      "_model_module_version": "1.5.0",
      "_model_name": "HTMLModel",
      "_view_count": null,
      "_view_module": "@jupyter-widgets/controls",
      "_view_module_version": "1.5.0",
      "_view_name": "HTMLView",
      "description": "",
      "description_tooltip": null,
      "layout": "IPY_MODEL_ab522895804f4693a949c05a206151f5",
      "placeholder": "​",
      "style": "IPY_MODEL_9bbefbc31f4f4384bca26ee3e8c730a3",
      "value": " 10570/10570 [00:09&lt;00:00, 1275.30 examples/s]"
     }
    },
    "115778270cef497a86e72666a5ca0651": {
     "model_module": "@jupyter-widgets/base",
     "model_module_version": "1.2.0",
     "model_name": "LayoutModel",
     "state": {
      "_model_module": "@jupyter-widgets/base",
      "_model_module_version": "1.2.0",
      "_model_name": "LayoutModel",
      "_view_count": null,
      "_view_module": "@jupyter-widgets/base",
      "_view_module_version": "1.2.0",
      "_view_name": "LayoutView",
      "align_content": null,
      "align_items": null,
      "align_self": null,
      "border": null,
      "bottom": null,
      "display": null,
      "flex": null,
      "flex_flow": null,
      "grid_area": null,
      "grid_auto_columns": null,
      "grid_auto_flow": null,
      "grid_auto_rows": null,
      "grid_column": null,
      "grid_gap": null,
      "grid_row": null,
      "grid_template_areas": null,
      "grid_template_columns": null,
      "grid_template_rows": null,
      "height": null,
      "justify_content": null,
      "justify_items": null,
      "left": null,
      "margin": null,
      "max_height": null,
      "max_width": null,
      "min_height": null,
      "min_width": null,
      "object_fit": null,
      "object_position": null,
      "order": null,
      "overflow": null,
      "overflow_x": null,
      "overflow_y": null,
      "padding": null,
      "right": null,
      "top": null,
      "visibility": null,
      "width": null
     }
    },
    "12af9ff80b2244748fe27b4b568653ba": {
     "model_module": "@jupyter-widgets/base",
     "model_module_version": "1.2.0",
     "model_name": "LayoutModel",
     "state": {
      "_model_module": "@jupyter-widgets/base",
      "_model_module_version": "1.2.0",
      "_model_name": "LayoutModel",
      "_view_count": null,
      "_view_module": "@jupyter-widgets/base",
      "_view_module_version": "1.2.0",
      "_view_name": "LayoutView",
      "align_content": null,
      "align_items": null,
      "align_self": null,
      "border": null,
      "bottom": null,
      "display": null,
      "flex": null,
      "flex_flow": null,
      "grid_area": null,
      "grid_auto_columns": null,
      "grid_auto_flow": null,
      "grid_auto_rows": null,
      "grid_column": null,
      "grid_gap": null,
      "grid_row": null,
      "grid_template_areas": null,
      "grid_template_columns": null,
      "grid_template_rows": null,
      "height": null,
      "justify_content": null,
      "justify_items": null,
      "left": null,
      "margin": null,
      "max_height": null,
      "max_width": null,
      "min_height": null,
      "min_width": null,
      "object_fit": null,
      "object_position": null,
      "order": null,
      "overflow": null,
      "overflow_x": null,
      "overflow_y": null,
      "padding": null,
      "right": null,
      "top": null,
      "visibility": null,
      "width": null
     }
    },
    "13098064db8842549703ae7db31b4106": {
     "model_module": "@jupyter-widgets/controls",
     "model_module_version": "1.5.0",
     "model_name": "HTMLModel",
     "state": {
      "_dom_classes": [],
      "_model_module": "@jupyter-widgets/controls",
      "_model_module_version": "1.5.0",
      "_model_name": "HTMLModel",
      "_view_count": null,
      "_view_module": "@jupyter-widgets/controls",
      "_view_module_version": "1.5.0",
      "_view_name": "HTMLView",
      "description": "",
      "description_tooltip": null,
      "layout": "IPY_MODEL_efaba3679f6846e5929bdb5e3e95eb26",
      "placeholder": "​",
      "style": "IPY_MODEL_720b23703a25411281b134535cd95991",
      "value": "Generating train split: 100%"
     }
    },
    "14d9e9e935814bcb845442492785d551": {
     "model_module": "@jupyter-widgets/base",
     "model_module_version": "1.2.0",
     "model_name": "LayoutModel",
     "state": {
      "_model_module": "@jupyter-widgets/base",
      "_model_module_version": "1.2.0",
      "_model_name": "LayoutModel",
      "_view_count": null,
      "_view_module": "@jupyter-widgets/base",
      "_view_module_version": "1.2.0",
      "_view_name": "LayoutView",
      "align_content": null,
      "align_items": null,
      "align_self": null,
      "border": null,
      "bottom": null,
      "display": null,
      "flex": null,
      "flex_flow": null,
      "grid_area": null,
      "grid_auto_columns": null,
      "grid_auto_flow": null,
      "grid_auto_rows": null,
      "grid_column": null,
      "grid_gap": null,
      "grid_row": null,
      "grid_template_areas": null,
      "grid_template_columns": null,
      "grid_template_rows": null,
      "height": null,
      "justify_content": null,
      "justify_items": null,
      "left": null,
      "margin": null,
      "max_height": null,
      "max_width": null,
      "min_height": null,
      "min_width": null,
      "object_fit": null,
      "object_position": null,
      "order": null,
      "overflow": null,
      "overflow_x": null,
      "overflow_y": null,
      "padding": null,
      "right": null,
      "top": null,
      "visibility": null,
      "width": null
     }
    },
    "17509a6425984b35a4239b8e6e9a4cf6": {
     "model_module": "@jupyter-widgets/controls",
     "model_module_version": "1.5.0",
     "model_name": "DescriptionStyleModel",
     "state": {
      "_model_module": "@jupyter-widgets/controls",
      "_model_module_version": "1.5.0",
      "_model_name": "DescriptionStyleModel",
      "_view_count": null,
      "_view_module": "@jupyter-widgets/base",
      "_view_module_version": "1.2.0",
      "_view_name": "StyleView",
      "description_width": ""
     }
    },
    "19d665a27bdd4bb3b9427c1786466c38": {
     "model_module": "@jupyter-widgets/base",
     "model_module_version": "1.2.0",
     "model_name": "LayoutModel",
     "state": {
      "_model_module": "@jupyter-widgets/base",
      "_model_module_version": "1.2.0",
      "_model_name": "LayoutModel",
      "_view_count": null,
      "_view_module": "@jupyter-widgets/base",
      "_view_module_version": "1.2.0",
      "_view_name": "LayoutView",
      "align_content": null,
      "align_items": null,
      "align_self": null,
      "border": null,
      "bottom": null,
      "display": null,
      "flex": null,
      "flex_flow": null,
      "grid_area": null,
      "grid_auto_columns": null,
      "grid_auto_flow": null,
      "grid_auto_rows": null,
      "grid_column": null,
      "grid_gap": null,
      "grid_row": null,
      "grid_template_areas": null,
      "grid_template_columns": null,
      "grid_template_rows": null,
      "height": null,
      "justify_content": null,
      "justify_items": null,
      "left": null,
      "margin": null,
      "max_height": null,
      "max_width": null,
      "min_height": null,
      "min_width": null,
      "object_fit": null,
      "object_position": null,
      "order": null,
      "overflow": null,
      "overflow_x": null,
      "overflow_y": null,
      "padding": null,
      "right": null,
      "top": null,
      "visibility": null,
      "width": null
     }
    },
    "1abe242703ee42688df0bd1ed7f469b0": {
     "model_module": "@jupyter-widgets/controls",
     "model_module_version": "1.5.0",
     "model_name": "DescriptionStyleModel",
     "state": {
      "_model_module": "@jupyter-widgets/controls",
      "_model_module_version": "1.5.0",
      "_model_name": "DescriptionStyleModel",
      "_view_count": null,
      "_view_module": "@jupyter-widgets/base",
      "_view_module_version": "1.2.0",
      "_view_name": "StyleView",
      "description_width": ""
     }
    },
    "1bea4ccc9a464b16810cf8d4ff3328d3": {
     "model_module": "@jupyter-widgets/base",
     "model_module_version": "1.2.0",
     "model_name": "LayoutModel",
     "state": {
      "_model_module": "@jupyter-widgets/base",
      "_model_module_version": "1.2.0",
      "_model_name": "LayoutModel",
      "_view_count": null,
      "_view_module": "@jupyter-widgets/base",
      "_view_module_version": "1.2.0",
      "_view_name": "LayoutView",
      "align_content": null,
      "align_items": null,
      "align_self": null,
      "border": null,
      "bottom": null,
      "display": null,
      "flex": null,
      "flex_flow": null,
      "grid_area": null,
      "grid_auto_columns": null,
      "grid_auto_flow": null,
      "grid_auto_rows": null,
      "grid_column": null,
      "grid_gap": null,
      "grid_row": null,
      "grid_template_areas": null,
      "grid_template_columns": null,
      "grid_template_rows": null,
      "height": null,
      "justify_content": null,
      "justify_items": null,
      "left": null,
      "margin": null,
      "max_height": null,
      "max_width": null,
      "min_height": null,
      "min_width": null,
      "object_fit": null,
      "object_position": null,
      "order": null,
      "overflow": null,
      "overflow_x": null,
      "overflow_y": null,
      "padding": null,
      "right": null,
      "top": null,
      "visibility": null,
      "width": null
     }
    },
    "1ec1f2a04df547bd9ccec0ec7d8937f6": {
     "model_module": "@jupyter-widgets/controls",
     "model_module_version": "1.5.0",
     "model_name": "HBoxModel",
     "state": {
      "_dom_classes": [],
      "_model_module": "@jupyter-widgets/controls",
      "_model_module_version": "1.5.0",
      "_model_name": "HBoxModel",
      "_view_count": null,
      "_view_module": "@jupyter-widgets/controls",
      "_view_module_version": "1.5.0",
      "_view_name": "HBoxView",
      "box_style": "",
      "children": [
       "IPY_MODEL_bc7fb01539824ed3b40e6a64bd49f170",
       "IPY_MODEL_0e1bb3abb9e8467294d92997ffc3b235",
       "IPY_MODEL_87332969216d41d092d1afcf7964bbda"
      ],
      "layout": "IPY_MODEL_2461654950274c559132dec03a83ba9b"
     }
    },
    "1f5bc081d7d947e4869981edd4c31b3f": {
     "model_module": "@jupyter-widgets/base",
     "model_module_version": "1.2.0",
     "model_name": "LayoutModel",
     "state": {
      "_model_module": "@jupyter-widgets/base",
      "_model_module_version": "1.2.0",
      "_model_name": "LayoutModel",
      "_view_count": null,
      "_view_module": "@jupyter-widgets/base",
      "_view_module_version": "1.2.0",
      "_view_name": "LayoutView",
      "align_content": null,
      "align_items": null,
      "align_self": null,
      "border": null,
      "bottom": null,
      "display": null,
      "flex": null,
      "flex_flow": null,
      "grid_area": null,
      "grid_auto_columns": null,
      "grid_auto_flow": null,
      "grid_auto_rows": null,
      "grid_column": null,
      "grid_gap": null,
      "grid_row": null,
      "grid_template_areas": null,
      "grid_template_columns": null,
      "grid_template_rows": null,
      "height": null,
      "justify_content": null,
      "justify_items": null,
      "left": null,
      "margin": null,
      "max_height": null,
      "max_width": null,
      "min_height": null,
      "min_width": null,
      "object_fit": null,
      "object_position": null,
      "order": null,
      "overflow": null,
      "overflow_x": null,
      "overflow_y": null,
      "padding": null,
      "right": null,
      "top": null,
      "visibility": null,
      "width": null
     }
    },
    "1f6e8d885b3d4881bb5a9324a2742a10": {
     "model_module": "@jupyter-widgets/controls",
     "model_module_version": "1.5.0",
     "model_name": "HTMLModel",
     "state": {
      "_dom_classes": [],
      "_model_module": "@jupyter-widgets/controls",
      "_model_module_version": "1.5.0",
      "_model_name": "HTMLModel",
      "_view_count": null,
      "_view_module": "@jupyter-widgets/controls",
      "_view_module_version": "1.5.0",
      "_view_name": "HTMLView",
      "description": "",
      "description_tooltip": null,
      "layout": "IPY_MODEL_b8e356e097d4456d87efbc400c38d903",
      "placeholder": "​",
      "style": "IPY_MODEL_b69dee3ad0e24e41901375bf7e975374",
      "value": " 232k/232k [00:00&lt;00:00, 1.68MB/s]"
     }
    },
    "215311ecfa904c39bfd1ce974bb1100f": {
     "model_module": "@jupyter-widgets/controls",
     "model_module_version": "1.5.0",
     "model_name": "HTMLModel",
     "state": {
      "_dom_classes": [],
      "_model_module": "@jupyter-widgets/controls",
      "_model_module_version": "1.5.0",
      "_model_name": "HTMLModel",
      "_view_count": null,
      "_view_module": "@jupyter-widgets/controls",
      "_view_module_version": "1.5.0",
      "_view_name": "HTMLView",
      "description": "",
      "description_tooltip": null,
      "layout": "IPY_MODEL_0f7554f6da6a423680cda700ba494f0b",
      "placeholder": "​",
      "style": "IPY_MODEL_af97df78e97444489071f13a2c58df63",
      "value": "tokenizer_config.json: 100%"
     }
    },
    "21cedfbdf50d463986db43a4f1989ede": {
     "model_module": "@jupyter-widgets/controls",
     "model_module_version": "1.5.0",
     "model_name": "HTMLModel",
     "state": {
      "_dom_classes": [],
      "_model_module": "@jupyter-widgets/controls",
      "_model_module_version": "1.5.0",
      "_model_name": "HTMLModel",
      "_view_count": null,
      "_view_module": "@jupyter-widgets/controls",
      "_view_module_version": "1.5.0",
      "_view_name": "HTMLView",
      "description": "",
      "description_tooltip": null,
      "layout": "IPY_MODEL_83403591e7eb4223ba680d369509f9ac",
      "placeholder": "​",
      "style": "IPY_MODEL_c3116cbff21e45d89abf76206bb3c73d",
      "value": "Downloading builder script: 100%"
     }
    },
    "22c5e03baaae4de18526423f2bced1e9": {
     "model_module": "@jupyter-widgets/controls",
     "model_module_version": "1.5.0",
     "model_name": "FloatProgressModel",
     "state": {
      "_dom_classes": [],
      "_model_module": "@jupyter-widgets/controls",
      "_model_module_version": "1.5.0",
      "_model_name": "FloatProgressModel",
      "_view_count": null,
      "_view_module": "@jupyter-widgets/controls",
      "_view_module_version": "1.5.0",
      "_view_name": "ProgressView",
      "bar_style": "success",
      "description": "",
      "description_tooltip": null,
      "layout": "IPY_MODEL_343f76291e1545b089ec4f202196af05",
      "max": 20005,
      "min": 0,
      "orientation": "horizontal",
      "style": "IPY_MODEL_cf46307de9864d73bdb1a7706b5c21b1",
      "value": 20005
     }
    },
    "2461654950274c559132dec03a83ba9b": {
     "model_module": "@jupyter-widgets/base",
     "model_module_version": "1.2.0",
     "model_name": "LayoutModel",
     "state": {
      "_model_module": "@jupyter-widgets/base",
      "_model_module_version": "1.2.0",
      "_model_name": "LayoutModel",
      "_view_count": null,
      "_view_module": "@jupyter-widgets/base",
      "_view_module_version": "1.2.0",
      "_view_name": "LayoutView",
      "align_content": null,
      "align_items": null,
      "align_self": null,
      "border": null,
      "bottom": null,
      "display": null,
      "flex": null,
      "flex_flow": null,
      "grid_area": null,
      "grid_auto_columns": null,
      "grid_auto_flow": null,
      "grid_auto_rows": null,
      "grid_column": null,
      "grid_gap": null,
      "grid_row": null,
      "grid_template_areas": null,
      "grid_template_columns": null,
      "grid_template_rows": null,
      "height": null,
      "justify_content": null,
      "justify_items": null,
      "left": null,
      "margin": null,
      "max_height": null,
      "max_width": null,
      "min_height": null,
      "min_width": null,
      "object_fit": null,
      "object_position": null,
      "order": null,
      "overflow": null,
      "overflow_x": null,
      "overflow_y": null,
      "padding": null,
      "right": null,
      "top": null,
      "visibility": null,
      "width": null
     }
    },
    "24ffe801eb1e4be5adf79ba94da22881": {
     "model_module": "@jupyter-widgets/controls",
     "model_module_version": "1.5.0",
     "model_name": "HBoxModel",
     "state": {
      "_dom_classes": [],
      "_model_module": "@jupyter-widgets/controls",
      "_model_module_version": "1.5.0",
      "_model_name": "HBoxModel",
      "_view_count": null,
      "_view_module": "@jupyter-widgets/controls",
      "_view_module_version": "1.5.0",
      "_view_name": "HBoxView",
      "box_style": "",
      "children": [
       "IPY_MODEL_e9d816c0371c4da78b28d31e6ff89a24",
       "IPY_MODEL_2e536a58503a4df8abeb7f1c0e926fca",
       "IPY_MODEL_51df4446154240a4877b86c271189147"
      ],
      "layout": "IPY_MODEL_358a5eae46fa458eb675721ab8022074"
     }
    },
    "269525fa309a4c0f95b89baf5fbd7ad6": {
     "model_module": "@jupyter-widgets/base",
     "model_module_version": "1.2.0",
     "model_name": "LayoutModel",
     "state": {
      "_model_module": "@jupyter-widgets/base",
      "_model_module_version": "1.2.0",
      "_model_name": "LayoutModel",
      "_view_count": null,
      "_view_module": "@jupyter-widgets/base",
      "_view_module_version": "1.2.0",
      "_view_name": "LayoutView",
      "align_content": null,
      "align_items": null,
      "align_self": null,
      "border": null,
      "bottom": null,
      "display": null,
      "flex": null,
      "flex_flow": null,
      "grid_area": null,
      "grid_auto_columns": null,
      "grid_auto_flow": null,
      "grid_auto_rows": null,
      "grid_column": null,
      "grid_gap": null,
      "grid_row": null,
      "grid_template_areas": null,
      "grid_template_columns": null,
      "grid_template_rows": null,
      "height": null,
      "justify_content": null,
      "justify_items": null,
      "left": null,
      "margin": null,
      "max_height": null,
      "max_width": null,
      "min_height": null,
      "min_width": null,
      "object_fit": null,
      "object_position": null,
      "order": null,
      "overflow": null,
      "overflow_x": null,
      "overflow_y": null,
      "padding": null,
      "right": null,
      "top": null,
      "visibility": null,
      "width": null
     }
    },
    "2adb91dfc6ca4ce5b4bdd38612220c34": {
     "model_module": "@jupyter-widgets/controls",
     "model_module_version": "1.5.0",
     "model_name": "FloatProgressModel",
     "state": {
      "_dom_classes": [],
      "_model_module": "@jupyter-widgets/controls",
      "_model_module_version": "1.5.0",
      "_model_name": "FloatProgressModel",
      "_view_count": null,
      "_view_module": "@jupyter-widgets/controls",
      "_view_module_version": "1.5.0",
      "_view_name": "ProgressView",
      "bar_style": "success",
      "description": "",
      "description_tooltip": null,
      "layout": "IPY_MODEL_509a143ae4b54d26ae2ecc0ae144bd78",
      "max": 6710578,
      "min": 0,
      "orientation": "horizontal",
      "style": "IPY_MODEL_4ecb642c30504ee8bd5e5696b932947f",
      "value": 6710578
     }
    },
    "2d087e5e30d94a0eba7449795d623b7b": {
     "model_module": "@jupyter-widgets/controls",
     "model_module_version": "1.5.0",
     "model_name": "DescriptionStyleModel",
     "state": {
      "_model_module": "@jupyter-widgets/controls",
      "_model_module_version": "1.5.0",
      "_model_name": "DescriptionStyleModel",
      "_view_count": null,
      "_view_module": "@jupyter-widgets/base",
      "_view_module_version": "1.2.0",
      "_view_name": "StyleView",
      "description_width": ""
     }
    },
    "2e536a58503a4df8abeb7f1c0e926fca": {
     "model_module": "@jupyter-widgets/controls",
     "model_module_version": "1.5.0",
     "model_name": "FloatProgressModel",
     "state": {
      "_dom_classes": [],
      "_model_module": "@jupyter-widgets/controls",
      "_model_module_version": "1.5.0",
      "_model_name": "FloatProgressModel",
      "_view_count": null,
      "_view_module": "@jupyter-widgets/controls",
      "_view_module_version": "1.5.0",
      "_view_name": "ProgressView",
      "bar_style": "success",
      "description": "",
      "description_tooltip": null,
      "layout": "IPY_MODEL_ec9bd01cdbfd4a82a60744bc80b4fb8c",
      "max": 7100,
      "min": 0,
      "orientation": "horizontal",
      "style": "IPY_MODEL_dfdd4f96d77b421b81d3f77f3d875e80",
      "value": 7100
     }
    },
    "3438dab2fc324fe99ed3738c359cc42b": {
     "model_module": "@jupyter-widgets/controls",
     "model_module_version": "1.5.0",
     "model_name": "HTMLModel",
     "state": {
      "_dom_classes": [],
      "_model_module": "@jupyter-widgets/controls",
      "_model_module_version": "1.5.0",
      "_model_name": "HTMLModel",
      "_view_count": null,
      "_view_module": "@jupyter-widgets/controls",
      "_view_module_version": "1.5.0",
      "_view_name": "HTMLView",
      "description": "",
      "description_tooltip": null,
      "layout": "IPY_MODEL_ea5b4bca494a433db37536c58a0ef3ac",
      "placeholder": "​",
      "style": "IPY_MODEL_c4fd4aeab87a4f249385f5d7ad1365ed",
      "value": "tokenizer.json: 100%"
     }
    },
    "343f76291e1545b089ec4f202196af05": {
     "model_module": "@jupyter-widgets/base",
     "model_module_version": "1.2.0",
     "model_name": "LayoutModel",
     "state": {
      "_model_module": "@jupyter-widgets/base",
      "_model_module_version": "1.2.0",
      "_model_name": "LayoutModel",
      "_view_count": null,
      "_view_module": "@jupyter-widgets/base",
      "_view_module_version": "1.2.0",
      "_view_name": "LayoutView",
      "align_content": null,
      "align_items": null,
      "align_self": null,
      "border": null,
      "bottom": null,
      "display": null,
      "flex": null,
      "flex_flow": null,
      "grid_area": null,
      "grid_auto_columns": null,
      "grid_auto_flow": null,
      "grid_auto_rows": null,
      "grid_column": null,
      "grid_gap": null,
      "grid_row": null,
      "grid_template_areas": null,
      "grid_template_columns": null,
      "grid_template_rows": null,
      "height": null,
      "justify_content": null,
      "justify_items": null,
      "left": null,
      "margin": null,
      "max_height": null,
      "max_width": null,
      "min_height": null,
      "min_width": null,
      "object_fit": null,
      "object_position": null,
      "order": null,
      "overflow": null,
      "overflow_x": null,
      "overflow_y": null,
      "padding": null,
      "right": null,
      "top": null,
      "visibility": null,
      "width": null
     }
    },
    "3446a39ca0374e3fb984fee8f379a6d2": {
     "model_module": "@jupyter-widgets/base",
     "model_module_version": "1.2.0",
     "model_name": "LayoutModel",
     "state": {
      "_model_module": "@jupyter-widgets/base",
      "_model_module_version": "1.2.0",
      "_model_name": "LayoutModel",
      "_view_count": null,
      "_view_module": "@jupyter-widgets/base",
      "_view_module_version": "1.2.0",
      "_view_name": "LayoutView",
      "align_content": null,
      "align_items": null,
      "align_self": null,
      "border": null,
      "bottom": null,
      "display": null,
      "flex": null,
      "flex_flow": null,
      "grid_area": null,
      "grid_auto_columns": null,
      "grid_auto_flow": null,
      "grid_auto_rows": null,
      "grid_column": null,
      "grid_gap": null,
      "grid_row": null,
      "grid_template_areas": null,
      "grid_template_columns": null,
      "grid_template_rows": null,
      "height": null,
      "justify_content": null,
      "justify_items": null,
      "left": null,
      "margin": null,
      "max_height": null,
      "max_width": null,
      "min_height": null,
      "min_width": null,
      "object_fit": null,
      "object_position": null,
      "order": null,
      "overflow": null,
      "overflow_x": null,
      "overflow_y": null,
      "padding": null,
      "right": null,
      "top": null,
      "visibility": null,
      "width": null
     }
    },
    "34484b96de404b54b0f441aba39fcf06": {
     "model_module": "@jupyter-widgets/base",
     "model_module_version": "1.2.0",
     "model_name": "LayoutModel",
     "state": {
      "_model_module": "@jupyter-widgets/base",
      "_model_module_version": "1.2.0",
      "_model_name": "LayoutModel",
      "_view_count": null,
      "_view_module": "@jupyter-widgets/base",
      "_view_module_version": "1.2.0",
      "_view_name": "LayoutView",
      "align_content": null,
      "align_items": null,
      "align_self": null,
      "border": null,
      "bottom": null,
      "display": null,
      "flex": null,
      "flex_flow": null,
      "grid_area": null,
      "grid_auto_columns": null,
      "grid_auto_flow": null,
      "grid_auto_rows": null,
      "grid_column": null,
      "grid_gap": null,
      "grid_row": null,
      "grid_template_areas": null,
      "grid_template_columns": null,
      "grid_template_rows": null,
      "height": null,
      "justify_content": null,
      "justify_items": null,
      "left": null,
      "margin": null,
      "max_height": null,
      "max_width": null,
      "min_height": null,
      "min_width": null,
      "object_fit": null,
      "object_position": null,
      "order": null,
      "overflow": null,
      "overflow_x": null,
      "overflow_y": null,
      "padding": null,
      "right": null,
      "top": null,
      "visibility": null,
      "width": null
     }
    },
    "34dcb70d1d9f4db09df62407e93311f2": {
     "model_module": "@jupyter-widgets/controls",
     "model_module_version": "1.5.0",
     "model_name": "DescriptionStyleModel",
     "state": {
      "_model_module": "@jupyter-widgets/controls",
      "_model_module_version": "1.5.0",
      "_model_name": "DescriptionStyleModel",
      "_view_count": null,
      "_view_module": "@jupyter-widgets/base",
      "_view_module_version": "1.2.0",
      "_view_name": "StyleView",
      "description_width": ""
     }
    },
    "358a5eae46fa458eb675721ab8022074": {
     "model_module": "@jupyter-widgets/base",
     "model_module_version": "1.2.0",
     "model_name": "LayoutModel",
     "state": {
      "_model_module": "@jupyter-widgets/base",
      "_model_module_version": "1.2.0",
      "_model_name": "LayoutModel",
      "_view_count": null,
      "_view_module": "@jupyter-widgets/base",
      "_view_module_version": "1.2.0",
      "_view_name": "LayoutView",
      "align_content": null,
      "align_items": null,
      "align_self": null,
      "border": null,
      "bottom": null,
      "display": null,
      "flex": null,
      "flex_flow": null,
      "grid_area": null,
      "grid_auto_columns": null,
      "grid_auto_flow": null,
      "grid_auto_rows": null,
      "grid_column": null,
      "grid_gap": null,
      "grid_row": null,
      "grid_template_areas": null,
      "grid_template_columns": null,
      "grid_template_rows": null,
      "height": null,
      "justify_content": null,
      "justify_items": null,
      "left": null,
      "margin": null,
      "max_height": null,
      "max_width": null,
      "min_height": null,
      "min_width": null,
      "object_fit": null,
      "object_position": null,
      "order": null,
      "overflow": null,
      "overflow_x": null,
      "overflow_y": null,
      "padding": null,
      "right": null,
      "top": null,
      "visibility": null,
      "width": null
     }
    },
    "35a4f58a8a594045941130da378a70b0": {
     "model_module": "@jupyter-widgets/base",
     "model_module_version": "1.2.0",
     "model_name": "LayoutModel",
     "state": {
      "_model_module": "@jupyter-widgets/base",
      "_model_module_version": "1.2.0",
      "_model_name": "LayoutModel",
      "_view_count": null,
      "_view_module": "@jupyter-widgets/base",
      "_view_module_version": "1.2.0",
      "_view_name": "LayoutView",
      "align_content": null,
      "align_items": null,
      "align_self": null,
      "border": null,
      "bottom": null,
      "display": null,
      "flex": null,
      "flex_flow": null,
      "grid_area": null,
      "grid_auto_columns": null,
      "grid_auto_flow": null,
      "grid_auto_rows": null,
      "grid_column": null,
      "grid_gap": null,
      "grid_row": null,
      "grid_template_areas": null,
      "grid_template_columns": null,
      "grid_template_rows": null,
      "height": null,
      "justify_content": null,
      "justify_items": null,
      "left": null,
      "margin": null,
      "max_height": null,
      "max_width": null,
      "min_height": null,
      "min_width": null,
      "object_fit": null,
      "object_position": null,
      "order": null,
      "overflow": null,
      "overflow_x": null,
      "overflow_y": null,
      "padding": null,
      "right": null,
      "top": null,
      "visibility": null,
      "width": null
     }
    },
    "363d12f6d6fb4f8c936d66115f611e65": {
     "model_module": "@jupyter-widgets/controls",
     "model_module_version": "1.5.0",
     "model_name": "DescriptionStyleModel",
     "state": {
      "_model_module": "@jupyter-widgets/controls",
      "_model_module_version": "1.5.0",
      "_model_name": "DescriptionStyleModel",
      "_view_count": null,
      "_view_module": "@jupyter-widgets/base",
      "_view_module_version": "1.2.0",
      "_view_name": "StyleView",
      "description_width": ""
     }
    },
    "37c85d09a87c4afd8b41b174e5ed9cb9": {
     "model_module": "@jupyter-widgets/controls",
     "model_module_version": "1.5.0",
     "model_name": "FloatProgressModel",
     "state": {
      "_dom_classes": [],
      "_model_module": "@jupyter-widgets/controls",
      "_model_module_version": "1.5.0",
      "_model_name": "FloatProgressModel",
      "_view_count": null,
      "_view_module": "@jupyter-widgets/controls",
      "_view_module_version": "1.5.0",
      "_view_name": "ProgressView",
      "bar_style": "success",
      "description": "",
      "description_tooltip": null,
      "layout": "IPY_MODEL_9881018a76fe4f14ad5b6ab0f50f205d",
      "max": 20006,
      "min": 0,
      "orientation": "horizontal",
      "style": "IPY_MODEL_6efee356a9c745418b6a110e2b099de6",
      "value": 20006
     }
    },
    "38c40e48f351453baa54da4dfe2abbeb": {
     "model_module": "@jupyter-widgets/controls",
     "model_module_version": "1.5.0",
     "model_name": "DescriptionStyleModel",
     "state": {
      "_model_module": "@jupyter-widgets/controls",
      "_model_module_version": "1.5.0",
      "_model_name": "DescriptionStyleModel",
      "_view_count": null,
      "_view_module": "@jupyter-widgets/base",
      "_view_module_version": "1.2.0",
      "_view_name": "StyleView",
      "description_width": ""
     }
    },
    "3a8eb873cb984773ade5839f1679c156": {
     "model_module": "@jupyter-widgets/controls",
     "model_module_version": "1.5.0",
     "model_name": "HBoxModel",
     "state": {
      "_dom_classes": [],
      "_model_module": "@jupyter-widgets/controls",
      "_model_module_version": "1.5.0",
      "_model_name": "HBoxModel",
      "_view_count": null,
      "_view_module": "@jupyter-widgets/controls",
      "_view_module_version": "1.5.0",
      "_view_name": "HBoxView",
      "box_style": "",
      "children": [
       "IPY_MODEL_012ac3ffbf204f4282cdadbb55113d93",
       "IPY_MODEL_4ae8d7ba47ae42f69c0eddb37e447d24",
       "IPY_MODEL_f0bfc40291814b9a856cf747104d2f17"
      ],
      "layout": "IPY_MODEL_115778270cef497a86e72666a5ca0651"
     }
    },
    "3bc1a9e5e5e6412fa26e118cb3c18e7b": {
     "model_module": "@jupyter-widgets/controls",
     "model_module_version": "1.5.0",
     "model_name": "DescriptionStyleModel",
     "state": {
      "_model_module": "@jupyter-widgets/controls",
      "_model_module_version": "1.5.0",
      "_model_name": "DescriptionStyleModel",
      "_view_count": null,
      "_view_module": "@jupyter-widgets/base",
      "_view_module_version": "1.2.0",
      "_view_name": "StyleView",
      "description_width": ""
     }
    },
    "3eeaa28683b849bcb7ce1ce9bf9b48a9": {
     "model_module": "@jupyter-widgets/base",
     "model_module_version": "1.2.0",
     "model_name": "LayoutModel",
     "state": {
      "_model_module": "@jupyter-widgets/base",
      "_model_module_version": "1.2.0",
      "_model_name": "LayoutModel",
      "_view_count": null,
      "_view_module": "@jupyter-widgets/base",
      "_view_module_version": "1.2.0",
      "_view_name": "LayoutView",
      "align_content": null,
      "align_items": null,
      "align_self": null,
      "border": null,
      "bottom": null,
      "display": null,
      "flex": null,
      "flex_flow": null,
      "grid_area": null,
      "grid_auto_columns": null,
      "grid_auto_flow": null,
      "grid_auto_rows": null,
      "grid_column": null,
      "grid_gap": null,
      "grid_row": null,
      "grid_template_areas": null,
      "grid_template_columns": null,
      "grid_template_rows": null,
      "height": null,
      "justify_content": null,
      "justify_items": null,
      "left": null,
      "margin": null,
      "max_height": null,
      "max_width": null,
      "min_height": null,
      "min_width": null,
      "object_fit": null,
      "object_position": null,
      "order": null,
      "overflow": null,
      "overflow_x": null,
      "overflow_y": null,
      "padding": null,
      "right": null,
      "top": null,
      "visibility": null,
      "width": null
     }
    },
    "40819e81486f4200ac2ea939f6757f32": {
     "model_module": "@jupyter-widgets/base",
     "model_module_version": "1.2.0",
     "model_name": "LayoutModel",
     "state": {
      "_model_module": "@jupyter-widgets/base",
      "_model_module_version": "1.2.0",
      "_model_name": "LayoutModel",
      "_view_count": null,
      "_view_module": "@jupyter-widgets/base",
      "_view_module_version": "1.2.0",
      "_view_name": "LayoutView",
      "align_content": null,
      "align_items": null,
      "align_self": null,
      "border": null,
      "bottom": null,
      "display": null,
      "flex": null,
      "flex_flow": null,
      "grid_area": null,
      "grid_auto_columns": null,
      "grid_auto_flow": null,
      "grid_auto_rows": null,
      "grid_column": null,
      "grid_gap": null,
      "grid_row": null,
      "grid_template_areas": null,
      "grid_template_columns": null,
      "grid_template_rows": null,
      "height": null,
      "justify_content": null,
      "justify_items": null,
      "left": null,
      "margin": null,
      "max_height": null,
      "max_width": null,
      "min_height": null,
      "min_width": null,
      "object_fit": null,
      "object_position": null,
      "order": null,
      "overflow": null,
      "overflow_x": null,
      "overflow_y": null,
      "padding": null,
      "right": null,
      "top": null,
      "visibility": null,
      "width": null
     }
    },
    "42c61c3c747c4240afab1d6979c9714e": {
     "model_module": "@jupyter-widgets/base",
     "model_module_version": "1.2.0",
     "model_name": "LayoutModel",
     "state": {
      "_model_module": "@jupyter-widgets/base",
      "_model_module_version": "1.2.0",
      "_model_name": "LayoutModel",
      "_view_count": null,
      "_view_module": "@jupyter-widgets/base",
      "_view_module_version": "1.2.0",
      "_view_name": "LayoutView",
      "align_content": null,
      "align_items": null,
      "align_self": null,
      "border": null,
      "bottom": null,
      "display": null,
      "flex": null,
      "flex_flow": null,
      "grid_area": null,
      "grid_auto_columns": null,
      "grid_auto_flow": null,
      "grid_auto_rows": null,
      "grid_column": null,
      "grid_gap": null,
      "grid_row": null,
      "grid_template_areas": null,
      "grid_template_columns": null,
      "grid_template_rows": null,
      "height": null,
      "justify_content": null,
      "justify_items": null,
      "left": null,
      "margin": null,
      "max_height": null,
      "max_width": null,
      "min_height": null,
      "min_width": null,
      "object_fit": null,
      "object_position": null,
      "order": null,
      "overflow": null,
      "overflow_x": null,
      "overflow_y": null,
      "padding": null,
      "right": null,
      "top": null,
      "visibility": null,
      "width": null
     }
    },
    "430727c7ae86427ab6a50f421208f7a1": {
     "model_module": "@jupyter-widgets/controls",
     "model_module_version": "1.5.0",
     "model_name": "HBoxModel",
     "state": {
      "_dom_classes": [],
      "_model_module": "@jupyter-widgets/controls",
      "_model_module_version": "1.5.0",
      "_model_name": "HBoxModel",
      "_view_count": null,
      "_view_module": "@jupyter-widgets/controls",
      "_view_module_version": "1.5.0",
      "_view_name": "HBoxView",
      "box_style": "",
      "children": [
       "IPY_MODEL_e3fe174194ae414ca3454e47bf9a334f",
       "IPY_MODEL_37c85d09a87c4afd8b41b174e5ed9cb9",
       "IPY_MODEL_8a0d9badbf3a4198adf0b07e06d68fb8"
      ],
      "layout": "IPY_MODEL_1bea4ccc9a464b16810cf8d4ff3328d3"
     }
    },
    "4314ff831ed642e88cde59d59b2f9d74": {
     "model_module": "@jupyter-widgets/controls",
     "model_module_version": "1.5.0",
     "model_name": "DescriptionStyleModel",
     "state": {
      "_model_module": "@jupyter-widgets/controls",
      "_model_module_version": "1.5.0",
      "_model_name": "DescriptionStyleModel",
      "_view_count": null,
      "_view_module": "@jupyter-widgets/base",
      "_view_module_version": "1.2.0",
      "_view_name": "StyleView",
      "description_width": ""
     }
    },
    "4387ecc630454c5495a309efa1d6c250": {
     "model_module": "@jupyter-widgets/controls",
     "model_module_version": "1.5.0",
     "model_name": "ProgressStyleModel",
     "state": {
      "_model_module": "@jupyter-widgets/controls",
      "_model_module_version": "1.5.0",
      "_model_name": "ProgressStyleModel",
      "_view_count": null,
      "_view_module": "@jupyter-widgets/base",
      "_view_module_version": "1.2.0",
      "_view_name": "StyleView",
      "bar_color": null,
      "description_width": ""
     }
    },
    "443e8a4037c54a4ba5280febe06cf0fd": {
     "model_module": "@jupyter-widgets/base",
     "model_module_version": "1.2.0",
     "model_name": "LayoutModel",
     "state": {
      "_model_module": "@jupyter-widgets/base",
      "_model_module_version": "1.2.0",
      "_model_name": "LayoutModel",
      "_view_count": null,
      "_view_module": "@jupyter-widgets/base",
      "_view_module_version": "1.2.0",
      "_view_name": "LayoutView",
      "align_content": null,
      "align_items": null,
      "align_self": null,
      "border": null,
      "bottom": null,
      "display": null,
      "flex": null,
      "flex_flow": null,
      "grid_area": null,
      "grid_auto_columns": null,
      "grid_auto_flow": null,
      "grid_auto_rows": null,
      "grid_column": null,
      "grid_gap": null,
      "grid_row": null,
      "grid_template_areas": null,
      "grid_template_columns": null,
      "grid_template_rows": null,
      "height": null,
      "justify_content": null,
      "justify_items": null,
      "left": null,
      "margin": null,
      "max_height": null,
      "max_width": null,
      "min_height": null,
      "min_width": null,
      "object_fit": null,
      "object_position": null,
      "order": null,
      "overflow": null,
      "overflow_x": null,
      "overflow_y": null,
      "padding": null,
      "right": null,
      "top": null,
      "visibility": null,
      "width": null
     }
    },
    "44f28a7c4f794adc861d1b01e368d938": {
     "model_module": "@jupyter-widgets/controls",
     "model_module_version": "1.5.0",
     "model_name": "HBoxModel",
     "state": {
      "_dom_classes": [],
      "_model_module": "@jupyter-widgets/controls",
      "_model_module_version": "1.5.0",
      "_model_name": "HBoxModel",
      "_view_count": null,
      "_view_module": "@jupyter-widgets/controls",
      "_view_module_version": "1.5.0",
      "_view_name": "HBoxView",
      "box_style": "",
      "children": [
       "IPY_MODEL_8215fc1ba89546e0b012a3dac799dda7",
       "IPY_MODEL_5477a6551991492f826ed16527736824",
       "IPY_MODEL_dd32ad5b086248ccb70ae17f539fcdb6"
      ],
      "layout": "IPY_MODEL_6dba9531349841449a5cedb2a9838e6b"
     }
    },
    "46525fb99558434ca43a31517c8125be": {
     "model_module": "@jupyter-widgets/controls",
     "model_module_version": "1.5.0",
     "model_name": "FloatProgressModel",
     "state": {
      "_dom_classes": [],
      "_model_module": "@jupyter-widgets/controls",
      "_model_module_version": "1.5.0",
      "_model_name": "FloatProgressModel",
      "_view_count": null,
      "_view_module": "@jupyter-widgets/controls",
      "_view_module_version": "1.5.0",
      "_view_name": "ProgressView",
      "bar_style": "success",
      "description": "",
      "description_tooltip": null,
      "layout": "IPY_MODEL_e1c2b68a0ba841bea1c7e43243e2f2fe",
      "max": 20005,
      "min": 0,
      "orientation": "horizontal",
      "style": "IPY_MODEL_b5acf7ea2b5a47e28b60da7ebfd2a559",
      "value": 20005
     }
    },
    "468b5b8421004daf899f5e2417e5dcf3": {
     "model_module": "@jupyter-widgets/controls",
     "model_module_version": "1.5.0",
     "model_name": "HBoxModel",
     "state": {
      "_dom_classes": [],
      "_model_module": "@jupyter-widgets/controls",
      "_model_module_version": "1.5.0",
      "_model_name": "HBoxModel",
      "_view_count": null,
      "_view_module": "@jupyter-widgets/controls",
      "_view_module_version": "1.5.0",
      "_view_name": "HBoxView",
      "box_style": "",
      "children": [
       "IPY_MODEL_c1d8ea98ec5e4b12b3c80af5b30265d6",
       "IPY_MODEL_c75bd14a421041eab0404fa5bd148a7b",
       "IPY_MODEL_d71c646c38514dd7a9ebf7674160fc38"
      ],
      "layout": "IPY_MODEL_93569f4ecc13472d9ced935b623d0acd"
     }
    },
    "4694593f86fc407fb074c7398764cb0b": {
     "model_module": "@jupyter-widgets/base",
     "model_module_version": "1.2.0",
     "model_name": "LayoutModel",
     "state": {
      "_model_module": "@jupyter-widgets/base",
      "_model_module_version": "1.2.0",
      "_model_name": "LayoutModel",
      "_view_count": null,
      "_view_module": "@jupyter-widgets/base",
      "_view_module_version": "1.2.0",
      "_view_name": "LayoutView",
      "align_content": null,
      "align_items": null,
      "align_self": null,
      "border": null,
      "bottom": null,
      "display": null,
      "flex": null,
      "flex_flow": null,
      "grid_area": null,
      "grid_auto_columns": null,
      "grid_auto_flow": null,
      "grid_auto_rows": null,
      "grid_column": null,
      "grid_gap": null,
      "grid_row": null,
      "grid_template_areas": null,
      "grid_template_columns": null,
      "grid_template_rows": null,
      "height": null,
      "justify_content": null,
      "justify_items": null,
      "left": null,
      "margin": null,
      "max_height": null,
      "max_width": null,
      "min_height": null,
      "min_width": null,
      "object_fit": null,
      "object_position": null,
      "order": null,
      "overflow": null,
      "overflow_x": null,
      "overflow_y": null,
      "padding": null,
      "right": null,
      "top": null,
      "visibility": null,
      "width": null
     }
    },
    "4772752233cd4f488a850d916444adee": {
     "model_module": "@jupyter-widgets/base",
     "model_module_version": "1.2.0",
     "model_name": "LayoutModel",
     "state": {
      "_model_module": "@jupyter-widgets/base",
      "_model_module_version": "1.2.0",
      "_model_name": "LayoutModel",
      "_view_count": null,
      "_view_module": "@jupyter-widgets/base",
      "_view_module_version": "1.2.0",
      "_view_name": "LayoutView",
      "align_content": null,
      "align_items": null,
      "align_self": null,
      "border": null,
      "bottom": null,
      "display": null,
      "flex": null,
      "flex_flow": null,
      "grid_area": null,
      "grid_auto_columns": null,
      "grid_auto_flow": null,
      "grid_auto_rows": null,
      "grid_column": null,
      "grid_gap": null,
      "grid_row": null,
      "grid_template_areas": null,
      "grid_template_columns": null,
      "grid_template_rows": null,
      "height": null,
      "justify_content": null,
      "justify_items": null,
      "left": null,
      "margin": null,
      "max_height": null,
      "max_width": null,
      "min_height": null,
      "min_width": null,
      "object_fit": null,
      "object_position": null,
      "order": null,
      "overflow": null,
      "overflow_x": null,
      "overflow_y": null,
      "padding": null,
      "right": null,
      "top": null,
      "visibility": null,
      "width": null
     }
    },
    "4926233149354d2990b54b9ad256ead7": {
     "model_module": "@jupyter-widgets/base",
     "model_module_version": "1.2.0",
     "model_name": "LayoutModel",
     "state": {
      "_model_module": "@jupyter-widgets/base",
      "_model_module_version": "1.2.0",
      "_model_name": "LayoutModel",
      "_view_count": null,
      "_view_module": "@jupyter-widgets/base",
      "_view_module_version": "1.2.0",
      "_view_name": "LayoutView",
      "align_content": null,
      "align_items": null,
      "align_self": null,
      "border": null,
      "bottom": null,
      "display": null,
      "flex": null,
      "flex_flow": null,
      "grid_area": null,
      "grid_auto_columns": null,
      "grid_auto_flow": null,
      "grid_auto_rows": null,
      "grid_column": null,
      "grid_gap": null,
      "grid_row": null,
      "grid_template_areas": null,
      "grid_template_columns": null,
      "grid_template_rows": null,
      "height": null,
      "justify_content": null,
      "justify_items": null,
      "left": null,
      "margin": null,
      "max_height": null,
      "max_width": null,
      "min_height": null,
      "min_width": null,
      "object_fit": null,
      "object_position": null,
      "order": null,
      "overflow": null,
      "overflow_x": null,
      "overflow_y": null,
      "padding": null,
      "right": null,
      "top": null,
      "visibility": null,
      "width": null
     }
    },
    "4ae8d7ba47ae42f69c0eddb37e447d24": {
     "model_module": "@jupyter-widgets/controls",
     "model_module_version": "1.5.0",
     "model_name": "FloatProgressModel",
     "state": {
      "_dom_classes": [],
      "_model_module": "@jupyter-widgets/controls",
      "_model_module_version": "1.5.0",
      "_model_name": "FloatProgressModel",
      "_view_count": null,
      "_view_module": "@jupyter-widgets/controls",
      "_view_module_version": "1.5.0",
      "_view_name": "ProgressView",
      "bar_style": "success",
      "description": "",
      "description_tooltip": null,
      "layout": "IPY_MODEL_fb9d3bb6ec56489cb574b0ee6c07381d",
      "max": 10570,
      "min": 0,
      "orientation": "horizontal",
      "style": "IPY_MODEL_0932eb0f67554d838e5222d22504f4d0",
      "value": 10570
     }
    },
    "4c313c6acb684eb6bf042a051b8b77c3": {
     "model_module": "@jupyter-widgets/controls",
     "model_module_version": "1.5.0",
     "model_name": "HTMLModel",
     "state": {
      "_dom_classes": [],
      "_model_module": "@jupyter-widgets/controls",
      "_model_module_version": "1.5.0",
      "_model_name": "HTMLModel",
      "_view_count": null,
      "_view_module": "@jupyter-widgets/controls",
      "_view_module_version": "1.5.0",
      "_view_name": "HTMLView",
      "description": "",
      "description_tooltip": null,
      "layout": "IPY_MODEL_807f90b58f124c648b4a5aab7054ce58",
      "placeholder": "​",
      "style": "IPY_MODEL_a5750f202cf342b18f60ae6b4c8960aa",
      "value": "Generating test split: 100%"
     }
    },
    "4c798b0711134919835c7ede3ef2a248": {
     "model_module": "@jupyter-widgets/controls",
     "model_module_version": "1.5.0",
     "model_name": "ProgressStyleModel",
     "state": {
      "_model_module": "@jupyter-widgets/controls",
      "_model_module_version": "1.5.0",
      "_model_name": "ProgressStyleModel",
      "_view_count": null,
      "_view_module": "@jupyter-widgets/base",
      "_view_module_version": "1.2.0",
      "_view_name": "StyleView",
      "bar_color": null,
      "description_width": ""
     }
    },
    "4c9979aaebb44255b19eb66716e98b75": {
     "model_module": "@jupyter-widgets/base",
     "model_module_version": "1.2.0",
     "model_name": "LayoutModel",
     "state": {
      "_model_module": "@jupyter-widgets/base",
      "_model_module_version": "1.2.0",
      "_model_name": "LayoutModel",
      "_view_count": null,
      "_view_module": "@jupyter-widgets/base",
      "_view_module_version": "1.2.0",
      "_view_name": "LayoutView",
      "align_content": null,
      "align_items": null,
      "align_self": null,
      "border": null,
      "bottom": null,
      "display": null,
      "flex": null,
      "flex_flow": null,
      "grid_area": null,
      "grid_auto_columns": null,
      "grid_auto_flow": null,
      "grid_auto_rows": null,
      "grid_column": null,
      "grid_gap": null,
      "grid_row": null,
      "grid_template_areas": null,
      "grid_template_columns": null,
      "grid_template_rows": null,
      "height": null,
      "justify_content": null,
      "justify_items": null,
      "left": null,
      "margin": null,
      "max_height": null,
      "max_width": null,
      "min_height": null,
      "min_width": null,
      "object_fit": null,
      "object_position": null,
      "order": null,
      "overflow": null,
      "overflow_x": null,
      "overflow_y": null,
      "padding": null,
      "right": null,
      "top": null,
      "visibility": null,
      "width": null
     }
    },
    "4ecb642c30504ee8bd5e5696b932947f": {
     "model_module": "@jupyter-widgets/controls",
     "model_module_version": "1.5.0",
     "model_name": "ProgressStyleModel",
     "state": {
      "_model_module": "@jupyter-widgets/controls",
      "_model_module_version": "1.5.0",
      "_model_name": "ProgressStyleModel",
      "_view_count": null,
      "_view_module": "@jupyter-widgets/base",
      "_view_module_version": "1.2.0",
      "_view_name": "StyleView",
      "bar_color": null,
      "description_width": ""
     }
    },
    "509a143ae4b54d26ae2ecc0ae144bd78": {
     "model_module": "@jupyter-widgets/base",
     "model_module_version": "1.2.0",
     "model_name": "LayoutModel",
     "state": {
      "_model_module": "@jupyter-widgets/base",
      "_model_module_version": "1.2.0",
      "_model_name": "LayoutModel",
      "_view_count": null,
      "_view_module": "@jupyter-widgets/base",
      "_view_module_version": "1.2.0",
      "_view_name": "LayoutView",
      "align_content": null,
      "align_items": null,
      "align_self": null,
      "border": null,
      "bottom": null,
      "display": null,
      "flex": null,
      "flex_flow": null,
      "grid_area": null,
      "grid_auto_columns": null,
      "grid_auto_flow": null,
      "grid_auto_rows": null,
      "grid_column": null,
      "grid_gap": null,
      "grid_row": null,
      "grid_template_areas": null,
      "grid_template_columns": null,
      "grid_template_rows": null,
      "height": null,
      "justify_content": null,
      "justify_items": null,
      "left": null,
      "margin": null,
      "max_height": null,
      "max_width": null,
      "min_height": null,
      "min_width": null,
      "object_fit": null,
      "object_position": null,
      "order": null,
      "overflow": null,
      "overflow_x": null,
      "overflow_y": null,
      "padding": null,
      "right": null,
      "top": null,
      "visibility": null,
      "width": null
     }
    },
    "510c26ba61b841979edfba382b1e6091": {
     "model_module": "@jupyter-widgets/controls",
     "model_module_version": "1.5.0",
     "model_name": "DescriptionStyleModel",
     "state": {
      "_model_module": "@jupyter-widgets/controls",
      "_model_module_version": "1.5.0",
      "_model_name": "DescriptionStyleModel",
      "_view_count": null,
      "_view_module": "@jupyter-widgets/base",
      "_view_module_version": "1.2.0",
      "_view_name": "StyleView",
      "description_width": ""
     }
    },
    "51df4446154240a4877b86c271189147": {
     "model_module": "@jupyter-widgets/controls",
     "model_module_version": "1.5.0",
     "model_name": "HTMLModel",
     "state": {
      "_dom_classes": [],
      "_model_module": "@jupyter-widgets/controls",
      "_model_module_version": "1.5.0",
      "_model_name": "HTMLModel",
      "_view_count": null,
      "_view_module": "@jupyter-widgets/controls",
      "_view_module_version": "1.5.0",
      "_view_name": "HTMLView",
      "description": "",
      "description_tooltip": null,
      "layout": "IPY_MODEL_d5fdcfd56c304acaacc838ba19c9ad7a",
      "placeholder": "​",
      "style": "IPY_MODEL_f94d50d0c62b4270a62fae4ec4440373",
      "value": " 7.10k/7.10k [00:00&lt;00:00, 194kB/s]"
     }
    },
    "527907647a8b43d2a3be5e2f9d8717d5": {
     "model_module": "@jupyter-widgets/base",
     "model_module_version": "1.2.0",
     "model_name": "LayoutModel",
     "state": {
      "_model_module": "@jupyter-widgets/base",
      "_model_module_version": "1.2.0",
      "_model_name": "LayoutModel",
      "_view_count": null,
      "_view_module": "@jupyter-widgets/base",
      "_view_module_version": "1.2.0",
      "_view_name": "LayoutView",
      "align_content": null,
      "align_items": null,
      "align_self": null,
      "border": null,
      "bottom": null,
      "display": null,
      "flex": null,
      "flex_flow": null,
      "grid_area": null,
      "grid_auto_columns": null,
      "grid_auto_flow": null,
      "grid_auto_rows": null,
      "grid_column": null,
      "grid_gap": null,
      "grid_row": null,
      "grid_template_areas": null,
      "grid_template_columns": null,
      "grid_template_rows": null,
      "height": null,
      "justify_content": null,
      "justify_items": null,
      "left": null,
      "margin": null,
      "max_height": null,
      "max_width": null,
      "min_height": null,
      "min_width": null,
      "object_fit": null,
      "object_position": null,
      "order": null,
      "overflow": null,
      "overflow_x": null,
      "overflow_y": null,
      "padding": null,
      "right": null,
      "top": null,
      "visibility": null,
      "width": null
     }
    },
    "5477a6551991492f826ed16527736824": {
     "model_module": "@jupyter-widgets/controls",
     "model_module_version": "1.5.0",
     "model_name": "FloatProgressModel",
     "state": {
      "_dom_classes": [],
      "_model_module": "@jupyter-widgets/controls",
      "_model_module_version": "1.5.0",
      "_model_name": "FloatProgressModel",
      "_view_count": null,
      "_view_module": "@jupyter-widgets/controls",
      "_view_module_version": "1.5.0",
      "_view_name": "ProgressView",
      "bar_style": "success",
      "description": "",
      "description_tooltip": null,
      "layout": "IPY_MODEL_8897874572204f869cb49e6d747b3caf",
      "max": 73546,
      "min": 0,
      "orientation": "horizontal",
      "style": "IPY_MODEL_acdbed58732d413ebfe865ac899bae03",
      "value": 73546
     }
    },
    "5513e5758b9d45198803fc072f55697e": {
     "model_module": "@jupyter-widgets/controls",
     "model_module_version": "1.5.0",
     "model_name": "HBoxModel",
     "state": {
      "_dom_classes": [],
      "_model_module": "@jupyter-widgets/controls",
      "_model_module_version": "1.5.0",
      "_model_name": "HBoxModel",
      "_view_count": null,
      "_view_module": "@jupyter-widgets/controls",
      "_view_module_version": "1.5.0",
      "_view_name": "HBoxView",
      "box_style": "",
      "children": [
       "IPY_MODEL_c1e3da2dd94745e3877fe4dbb54710b9",
       "IPY_MODEL_c0c3ffacde344ac7a02b65c0ca3b8dd1",
       "IPY_MODEL_11208256e3e9406db7e023ed99a730b5"
      ],
      "layout": "IPY_MODEL_443e8a4037c54a4ba5280febe06cf0fd"
     }
    },
    "5761e91d768f4f979370d742bda342a3": {
     "model_module": "@jupyter-widgets/controls",
     "model_module_version": "1.5.0",
     "model_name": "FloatProgressModel",
     "state": {
      "_dom_classes": [],
      "_model_module": "@jupyter-widgets/controls",
      "_model_module_version": "1.5.0",
      "_model_name": "FloatProgressModel",
      "_view_count": null,
      "_view_module": "@jupyter-widgets/controls",
      "_view_module_version": "1.5.0",
      "_view_name": "ProgressView",
      "bar_style": "success",
      "description": "",
      "description_tooltip": null,
      "layout": "IPY_MODEL_14d9e9e935814bcb845442492785d551",
      "max": 20006,
      "min": 0,
      "orientation": "horizontal",
      "style": "IPY_MODEL_76f3250ba01a4cdd8f8d69baceb3eb38",
      "value": 20006
     }
    },
    "587469972a054fd8b50b8b9b36495bd4": {
     "model_module": "@jupyter-widgets/base",
     "model_module_version": "1.2.0",
     "model_name": "LayoutModel",
     "state": {
      "_model_module": "@jupyter-widgets/base",
      "_model_module_version": "1.2.0",
      "_model_name": "LayoutModel",
      "_view_count": null,
      "_view_module": "@jupyter-widgets/base",
      "_view_module_version": "1.2.0",
      "_view_name": "LayoutView",
      "align_content": null,
      "align_items": null,
      "align_self": null,
      "border": null,
      "bottom": null,
      "display": null,
      "flex": null,
      "flex_flow": null,
      "grid_area": null,
      "grid_auto_columns": null,
      "grid_auto_flow": null,
      "grid_auto_rows": null,
      "grid_column": null,
      "grid_gap": null,
      "grid_row": null,
      "grid_template_areas": null,
      "grid_template_columns": null,
      "grid_template_rows": null,
      "height": null,
      "justify_content": null,
      "justify_items": null,
      "left": null,
      "margin": null,
      "max_height": null,
      "max_width": null,
      "min_height": null,
      "min_width": null,
      "object_fit": null,
      "object_position": null,
      "order": null,
      "overflow": null,
      "overflow_x": null,
      "overflow_y": null,
      "padding": null,
      "right": null,
      "top": null,
      "visibility": null,
      "width": null
     }
    },
    "58f7e282bcfd4abd99423e3591e6aa09": {
     "model_module": "@jupyter-widgets/controls",
     "model_module_version": "1.5.0",
     "model_name": "DescriptionStyleModel",
     "state": {
      "_model_module": "@jupyter-widgets/controls",
      "_model_module_version": "1.5.0",
      "_model_name": "DescriptionStyleModel",
      "_view_count": null,
      "_view_module": "@jupyter-widgets/base",
      "_view_module_version": "1.2.0",
      "_view_name": "StyleView",
      "description_width": ""
     }
    },
    "5b8977136c3948a5995b42315458f063": {
     "model_module": "@jupyter-widgets/controls",
     "model_module_version": "1.5.0",
     "model_name": "DescriptionStyleModel",
     "state": {
      "_model_module": "@jupyter-widgets/controls",
      "_model_module_version": "1.5.0",
      "_model_name": "DescriptionStyleModel",
      "_view_count": null,
      "_view_module": "@jupyter-widgets/base",
      "_view_module_version": "1.2.0",
      "_view_name": "StyleView",
      "description_width": ""
     }
    },
    "5caadc2c1dc14eb89d03a1f665c74712": {
     "model_module": "@jupyter-widgets/controls",
     "model_module_version": "1.5.0",
     "model_name": "FloatProgressModel",
     "state": {
      "_dom_classes": [],
      "_model_module": "@jupyter-widgets/controls",
      "_model_module_version": "1.5.0",
      "_model_name": "FloatProgressModel",
      "_view_count": null,
      "_view_module": "@jupyter-widgets/controls",
      "_view_module_version": "1.5.0",
      "_view_name": "ProgressView",
      "bar_style": "success",
      "description": "",
      "description_tooltip": null,
      "layout": "IPY_MODEL_997fde08f57a43c5a32f3cd10cd84ed3",
      "max": 7967,
      "min": 0,
      "orientation": "horizontal",
      "style": "IPY_MODEL_ea79aec13a2f4a9babb02190e6ca2fbb",
      "value": 7967
     }
    },
    "5db18b2d18dd4d6d835a8afe4a41c73c": {
     "model_module": "@jupyter-widgets/controls",
     "model_module_version": "1.5.0",
     "model_name": "HBoxModel",
     "state": {
      "_dom_classes": [],
      "_model_module": "@jupyter-widgets/controls",
      "_model_module_version": "1.5.0",
      "_model_name": "HBoxModel",
      "_view_count": null,
      "_view_module": "@jupyter-widgets/controls",
      "_view_module_version": "1.5.0",
      "_view_name": "HBoxView",
      "box_style": "",
      "children": [
       "IPY_MODEL_ad4c32922c3045ac9bdcf31ef92b8a83",
       "IPY_MODEL_65f5a1243674464ca264bb3767490172",
       "IPY_MODEL_9c2bd398f48246488af3feb9bcd3e756"
      ],
      "layout": "IPY_MODEL_e205e40b0612405c983e2b81dadaad6a"
     }
    },
    "5e48169a17d74e18aca086d3111c5dee": {
     "model_module": "@jupyter-widgets/base",
     "model_module_version": "1.2.0",
     "model_name": "LayoutModel",
     "state": {
      "_model_module": "@jupyter-widgets/base",
      "_model_module_version": "1.2.0",
      "_model_name": "LayoutModel",
      "_view_count": null,
      "_view_module": "@jupyter-widgets/base",
      "_view_module_version": "1.2.0",
      "_view_name": "LayoutView",
      "align_content": null,
      "align_items": null,
      "align_self": null,
      "border": null,
      "bottom": null,
      "display": null,
      "flex": null,
      "flex_flow": null,
      "grid_area": null,
      "grid_auto_columns": null,
      "grid_auto_flow": null,
      "grid_auto_rows": null,
      "grid_column": null,
      "grid_gap": null,
      "grid_row": null,
      "grid_template_areas": null,
      "grid_template_columns": null,
      "grid_template_rows": null,
      "height": null,
      "justify_content": null,
      "justify_items": null,
      "left": null,
      "margin": null,
      "max_height": null,
      "max_width": null,
      "min_height": null,
      "min_width": null,
      "object_fit": null,
      "object_position": null,
      "order": null,
      "overflow": null,
      "overflow_x": null,
      "overflow_y": null,
      "padding": null,
      "right": null,
      "top": null,
      "visibility": null,
      "width": null
     }
    },
    "5e7ceed356c541c18b9f73fb99bc2dd8": {
     "model_module": "@jupyter-widgets/controls",
     "model_module_version": "1.5.0",
     "model_name": "ProgressStyleModel",
     "state": {
      "_model_module": "@jupyter-widgets/controls",
      "_model_module_version": "1.5.0",
      "_model_name": "ProgressStyleModel",
      "_view_count": null,
      "_view_module": "@jupyter-widgets/base",
      "_view_module_version": "1.2.0",
      "_view_name": "StyleView",
      "bar_color": null,
      "description_width": ""
     }
    },
    "612e6dcf087b43a2b906540b5263604a": {
     "model_module": "@jupyter-widgets/controls",
     "model_module_version": "1.5.0",
     "model_name": "DescriptionStyleModel",
     "state": {
      "_model_module": "@jupyter-widgets/controls",
      "_model_module_version": "1.5.0",
      "_model_name": "DescriptionStyleModel",
      "_view_count": null,
      "_view_module": "@jupyter-widgets/base",
      "_view_module_version": "1.2.0",
      "_view_name": "StyleView",
      "description_width": ""
     }
    },
    "63d5742dd76b4af9bcf0cc1e4e4051dc": {
     "model_module": "@jupyter-widgets/base",
     "model_module_version": "1.2.0",
     "model_name": "LayoutModel",
     "state": {
      "_model_module": "@jupyter-widgets/base",
      "_model_module_version": "1.2.0",
      "_model_name": "LayoutModel",
      "_view_count": null,
      "_view_module": "@jupyter-widgets/base",
      "_view_module_version": "1.2.0",
      "_view_name": "LayoutView",
      "align_content": null,
      "align_items": null,
      "align_self": null,
      "border": null,
      "bottom": null,
      "display": null,
      "flex": null,
      "flex_flow": null,
      "grid_area": null,
      "grid_auto_columns": null,
      "grid_auto_flow": null,
      "grid_auto_rows": null,
      "grid_column": null,
      "grid_gap": null,
      "grid_row": null,
      "grid_template_areas": null,
      "grid_template_columns": null,
      "grid_template_rows": null,
      "height": null,
      "justify_content": null,
      "justify_items": null,
      "left": null,
      "margin": null,
      "max_height": null,
      "max_width": null,
      "min_height": null,
      "min_width": null,
      "object_fit": null,
      "object_position": null,
      "order": null,
      "overflow": null,
      "overflow_x": null,
      "overflow_y": null,
      "padding": null,
      "right": null,
      "top": null,
      "visibility": null,
      "width": null
     }
    },
    "647b6f067eb8494c8c64be3dc86e4fd0": {
     "model_module": "@jupyter-widgets/controls",
     "model_module_version": "1.5.0",
     "model_name": "HBoxModel",
     "state": {
      "_dom_classes": [],
      "_model_module": "@jupyter-widgets/controls",
      "_model_module_version": "1.5.0",
      "_model_name": "HBoxModel",
      "_view_count": null,
      "_view_module": "@jupyter-widgets/controls",
      "_view_module_version": "1.5.0",
      "_view_name": "HBoxView",
      "box_style": "",
      "children": [
       "IPY_MODEL_c3d5368f656d4991b90f588858492641",
       "IPY_MODEL_5761e91d768f4f979370d742bda342a3",
       "IPY_MODEL_0f1baa399d6a43389fd1280032012269"
      ],
      "layout": "IPY_MODEL_a6bad5a1f39047bb99782ef46ba8352c"
     }
    },
    "656cbb0ed91c4c52be75ae501fd287a9": {
     "model_module": "@jupyter-widgets/controls",
     "model_module_version": "1.5.0",
     "model_name": "HTMLModel",
     "state": {
      "_dom_classes": [],
      "_model_module": "@jupyter-widgets/controls",
      "_model_module_version": "1.5.0",
      "_model_name": "HTMLModel",
      "_view_count": null,
      "_view_module": "@jupyter-widgets/controls",
      "_view_module_version": "1.5.0",
      "_view_name": "HTMLView",
      "description": "",
      "description_tooltip": null,
      "layout": "IPY_MODEL_07898e1872574546aaf1d121c3790567",
      "placeholder": "​",
      "style": "IPY_MODEL_e8de69966d184a49bdef89857f4dbe05",
      "value": " 87599/87599 [01:10&lt;00:00, 1333.95 examples/s]"
     }
    },
    "65f5a1243674464ca264bb3767490172": {
     "model_module": "@jupyter-widgets/controls",
     "model_module_version": "1.5.0",
     "model_name": "FloatProgressModel",
     "state": {
      "_dom_classes": [],
      "_model_module": "@jupyter-widgets/controls",
      "_model_module_version": "1.5.0",
      "_model_name": "FloatProgressModel",
      "_view_count": null,
      "_view_module": "@jupyter-widgets/controls",
      "_view_module_version": "1.5.0",
      "_view_name": "ProgressView",
      "bar_style": "success",
      "description": "",
      "description_tooltip": null,
      "layout": "IPY_MODEL_cee4c7551a784b9b9cb5bc5554078677",
      "max": 2238601,
      "min": 0,
      "orientation": "horizontal",
      "style": "IPY_MODEL_0a41b77eec4f4c2f89defc9b30bc0db7",
      "value": 2238601
     }
    },
    "6a89a1747ed3417bb67ae9e5f14b6686": {
     "model_module": "@jupyter-widgets/base",
     "model_module_version": "1.2.0",
     "model_name": "LayoutModel",
     "state": {
      "_model_module": "@jupyter-widgets/base",
      "_model_module_version": "1.2.0",
      "_model_name": "LayoutModel",
      "_view_count": null,
      "_view_module": "@jupyter-widgets/base",
      "_view_module_version": "1.2.0",
      "_view_name": "LayoutView",
      "align_content": null,
      "align_items": null,
      "align_self": null,
      "border": null,
      "bottom": null,
      "display": null,
      "flex": null,
      "flex_flow": null,
      "grid_area": null,
      "grid_auto_columns": null,
      "grid_auto_flow": null,
      "grid_auto_rows": null,
      "grid_column": null,
      "grid_gap": null,
      "grid_row": null,
      "grid_template_areas": null,
      "grid_template_columns": null,
      "grid_template_rows": null,
      "height": null,
      "justify_content": null,
      "justify_items": null,
      "left": null,
      "margin": null,
      "max_height": null,
      "max_width": null,
      "min_height": null,
      "min_width": null,
      "object_fit": null,
      "object_position": null,
      "order": null,
      "overflow": null,
      "overflow_x": null,
      "overflow_y": null,
      "padding": null,
      "right": null,
      "top": null,
      "visibility": null,
      "width": null
     }
    },
    "6dba9531349841449a5cedb2a9838e6b": {
     "model_module": "@jupyter-widgets/base",
     "model_module_version": "1.2.0",
     "model_name": "LayoutModel",
     "state": {
      "_model_module": "@jupyter-widgets/base",
      "_model_module_version": "1.2.0",
      "_model_name": "LayoutModel",
      "_view_count": null,
      "_view_module": "@jupyter-widgets/base",
      "_view_module_version": "1.2.0",
      "_view_name": "LayoutView",
      "align_content": null,
      "align_items": null,
      "align_self": null,
      "border": null,
      "bottom": null,
      "display": null,
      "flex": null,
      "flex_flow": null,
      "grid_area": null,
      "grid_auto_columns": null,
      "grid_auto_flow": null,
      "grid_auto_rows": null,
      "grid_column": null,
      "grid_gap": null,
      "grid_row": null,
      "grid_template_areas": null,
      "grid_template_columns": null,
      "grid_template_rows": null,
      "height": null,
      "justify_content": null,
      "justify_items": null,
      "left": null,
      "margin": null,
      "max_height": null,
      "max_width": null,
      "min_height": null,
      "min_width": null,
      "object_fit": null,
      "object_position": null,
      "order": null,
      "overflow": null,
      "overflow_x": null,
      "overflow_y": null,
      "padding": null,
      "right": null,
      "top": null,
      "visibility": null,
      "width": null
     }
    },
    "6e14eb0e362549e5ab0666a4115a3320": {
     "model_module": "@jupyter-widgets/controls",
     "model_module_version": "1.5.0",
     "model_name": "FloatProgressModel",
     "state": {
      "_dom_classes": [],
      "_model_module": "@jupyter-widgets/controls",
      "_model_module_version": "1.5.0",
      "_model_name": "FloatProgressModel",
      "_view_count": null,
      "_view_module": "@jupyter-widgets/controls",
      "_view_module_version": "1.5.0",
      "_view_name": "ProgressView",
      "bar_style": "success",
      "description": "",
      "description_tooltip": null,
      "layout": "IPY_MODEL_92f4a47cb0c24a36a0843938cf316b42",
      "max": 483,
      "min": 0,
      "orientation": "horizontal",
      "style": "IPY_MODEL_ff7cd05bb15e495087cfeeccdcf7dcde",
      "value": 483
     }
    },
    "6efee356a9c745418b6a110e2b099de6": {
     "model_module": "@jupyter-widgets/controls",
     "model_module_version": "1.5.0",
     "model_name": "ProgressStyleModel",
     "state": {
      "_model_module": "@jupyter-widgets/controls",
      "_model_module_version": "1.5.0",
      "_model_name": "ProgressStyleModel",
      "_view_count": null,
      "_view_module": "@jupyter-widgets/base",
      "_view_module_version": "1.2.0",
      "_view_name": "StyleView",
      "bar_color": null,
      "description_width": ""
     }
    },
    "6fd7ed6eb8be4ab4ba10a530c85bda53": {
     "model_module": "@jupyter-widgets/controls",
     "model_module_version": "1.5.0",
     "model_name": "DescriptionStyleModel",
     "state": {
      "_model_module": "@jupyter-widgets/controls",
      "_model_module_version": "1.5.0",
      "_model_name": "DescriptionStyleModel",
      "_view_count": null,
      "_view_module": "@jupyter-widgets/base",
      "_view_module_version": "1.2.0",
      "_view_name": "StyleView",
      "description_width": ""
     }
    },
    "70a93bba207842318cac6d88c089d561": {
     "model_module": "@jupyter-widgets/controls",
     "model_module_version": "1.5.0",
     "model_name": "FloatProgressModel",
     "state": {
      "_dom_classes": [],
      "_model_module": "@jupyter-widgets/controls",
      "_model_module_version": "1.5.0",
      "_model_name": "FloatProgressModel",
      "_view_count": null,
      "_view_module": "@jupyter-widgets/controls",
      "_view_module_version": "1.5.0",
      "_view_name": "ProgressView",
      "bar_style": "success",
      "description": "",
      "description_tooltip": null,
      "layout": "IPY_MODEL_d9c93a96706f4faab788fc9ee49298d4",
      "max": 73546,
      "min": 0,
      "orientation": "horizontal",
      "style": "IPY_MODEL_a308fe18eedc48caac625b48b80ea2cd",
      "value": 73546
     }
    },
    "720b23703a25411281b134535cd95991": {
     "model_module": "@jupyter-widgets/controls",
     "model_module_version": "1.5.0",
     "model_name": "DescriptionStyleModel",
     "state": {
      "_model_module": "@jupyter-widgets/controls",
      "_model_module_version": "1.5.0",
      "_model_name": "DescriptionStyleModel",
      "_view_count": null,
      "_view_module": "@jupyter-widgets/base",
      "_view_module_version": "1.2.0",
      "_view_name": "StyleView",
      "description_width": ""
     }
    },
    "72393d1c834f4d6ab21bcc63e9803275": {
     "model_module": "@jupyter-widgets/controls",
     "model_module_version": "1.5.0",
     "model_name": "DescriptionStyleModel",
     "state": {
      "_model_module": "@jupyter-widgets/controls",
      "_model_module_version": "1.5.0",
      "_model_name": "DescriptionStyleModel",
      "_view_count": null,
      "_view_module": "@jupyter-widgets/base",
      "_view_module_version": "1.2.0",
      "_view_name": "StyleView",
      "description_width": ""
     }
    },
    "74ce21dcf2a0433185e56fee6b02d4ef": {
     "model_module": "@jupyter-widgets/controls",
     "model_module_version": "1.5.0",
     "model_name": "FloatProgressModel",
     "state": {
      "_dom_classes": [],
      "_model_module": "@jupyter-widgets/controls",
      "_model_module_version": "1.5.0",
      "_model_name": "FloatProgressModel",
      "_view_count": null,
      "_view_module": "@jupyter-widgets/controls",
      "_view_module_version": "1.5.0",
      "_view_name": "ProgressView",
      "bar_style": "success",
      "description": "",
      "description_tooltip": null,
      "layout": "IPY_MODEL_c0e77899d77644f4bc49d9bc520a1060",
      "max": 267954768,
      "min": 0,
      "orientation": "horizontal",
      "style": "IPY_MODEL_4387ecc630454c5495a309efa1d6c250",
      "value": 267954768
     }
    },
    "756cfdb7d7834909a5e627ca92587fe6": {
     "model_module": "@jupyter-widgets/base",
     "model_module_version": "1.2.0",
     "model_name": "LayoutModel",
     "state": {
      "_model_module": "@jupyter-widgets/base",
      "_model_module_version": "1.2.0",
      "_model_name": "LayoutModel",
      "_view_count": null,
      "_view_module": "@jupyter-widgets/base",
      "_view_module_version": "1.2.0",
      "_view_name": "LayoutView",
      "align_content": null,
      "align_items": null,
      "align_self": null,
      "border": null,
      "bottom": null,
      "display": null,
      "flex": null,
      "flex_flow": null,
      "grid_area": null,
      "grid_auto_columns": null,
      "grid_auto_flow": null,
      "grid_auto_rows": null,
      "grid_column": null,
      "grid_gap": null,
      "grid_row": null,
      "grid_template_areas": null,
      "grid_template_columns": null,
      "grid_template_rows": null,
      "height": null,
      "justify_content": null,
      "justify_items": null,
      "left": null,
      "margin": null,
      "max_height": null,
      "max_width": null,
      "min_height": null,
      "min_width": null,
      "object_fit": null,
      "object_position": null,
      "order": null,
      "overflow": null,
      "overflow_x": null,
      "overflow_y": null,
      "padding": null,
      "right": null,
      "top": null,
      "visibility": null,
      "width": null
     }
    },
    "76f3250ba01a4cdd8f8d69baceb3eb38": {
     "model_module": "@jupyter-widgets/controls",
     "model_module_version": "1.5.0",
     "model_name": "ProgressStyleModel",
     "state": {
      "_model_module": "@jupyter-widgets/controls",
      "_model_module_version": "1.5.0",
      "_model_name": "ProgressStyleModel",
      "_view_count": null,
      "_view_module": "@jupyter-widgets/base",
      "_view_module_version": "1.2.0",
      "_view_name": "StyleView",
      "bar_color": null,
      "description_width": ""
     }
    },
    "78d9123b0e8740caba6a1a90bf6cbc6a": {
     "model_module": "@jupyter-widgets/controls",
     "model_module_version": "1.5.0",
     "model_name": "HBoxModel",
     "state": {
      "_dom_classes": [],
      "_model_module": "@jupyter-widgets/controls",
      "_model_module_version": "1.5.0",
      "_model_name": "HBoxModel",
      "_view_count": null,
      "_view_module": "@jupyter-widgets/controls",
      "_view_module_version": "1.5.0",
      "_view_name": "HBoxView",
      "box_style": "",
      "children": [
       "IPY_MODEL_13098064db8842549703ae7db31b4106",
       "IPY_MODEL_70a93bba207842318cac6d88c089d561",
       "IPY_MODEL_909f15e9bdd94e478112512eb102e816"
      ],
      "layout": "IPY_MODEL_ccf3b25064e84028a56fa72def598730"
     }
    },
    "7c0495114d8c4c5396771284e146f8aa": {
     "model_module": "@jupyter-widgets/controls",
     "model_module_version": "1.5.0",
     "model_name": "DescriptionStyleModel",
     "state": {
      "_model_module": "@jupyter-widgets/controls",
      "_model_module_version": "1.5.0",
      "_model_name": "DescriptionStyleModel",
      "_view_count": null,
      "_view_module": "@jupyter-widgets/base",
      "_view_module_version": "1.2.0",
      "_view_name": "StyleView",
      "description_width": ""
     }
    },
    "7d0d384471254ac69783d4f3a71067e0": {
     "model_module": "@jupyter-widgets/controls",
     "model_module_version": "1.5.0",
     "model_name": "HBoxModel",
     "state": {
      "_dom_classes": [],
      "_model_module": "@jupyter-widgets/controls",
      "_model_module_version": "1.5.0",
      "_model_name": "HBoxModel",
      "_view_count": null,
      "_view_module": "@jupyter-widgets/controls",
      "_view_module_version": "1.5.0",
      "_view_name": "HBoxView",
      "box_style": "",
      "children": [
       "IPY_MODEL_a25c327d9b124737871c532334c6da94",
       "IPY_MODEL_a6f806b31c8c4978a5371965bd55b5ff",
       "IPY_MODEL_1f6e8d885b3d4881bb5a9324a2742a10"
      ],
      "layout": "IPY_MODEL_dc9fda7e6f684aceb3439da5f018c6a5"
     }
    },
    "7d69998e049d493ab673a092e599ec78": {
     "model_module": "@jupyter-widgets/controls",
     "model_module_version": "1.5.0",
     "model_name": "DescriptionStyleModel",
     "state": {
      "_model_module": "@jupyter-widgets/controls",
      "_model_module_version": "1.5.0",
      "_model_name": "DescriptionStyleModel",
      "_view_count": null,
      "_view_module": "@jupyter-widgets/base",
      "_view_module_version": "1.2.0",
      "_view_name": "StyleView",
      "description_width": ""
     }
    },
    "7decff89d35b40ad913d7378e6263b6e": {
     "model_module": "@jupyter-widgets/base",
     "model_module_version": "1.2.0",
     "model_name": "LayoutModel",
     "state": {
      "_model_module": "@jupyter-widgets/base",
      "_model_module_version": "1.2.0",
      "_model_name": "LayoutModel",
      "_view_count": null,
      "_view_module": "@jupyter-widgets/base",
      "_view_module_version": "1.2.0",
      "_view_name": "LayoutView",
      "align_content": null,
      "align_items": null,
      "align_self": null,
      "border": null,
      "bottom": null,
      "display": null,
      "flex": null,
      "flex_flow": null,
      "grid_area": null,
      "grid_auto_columns": null,
      "grid_auto_flow": null,
      "grid_auto_rows": null,
      "grid_column": null,
      "grid_gap": null,
      "grid_row": null,
      "grid_template_areas": null,
      "grid_template_columns": null,
      "grid_template_rows": null,
      "height": null,
      "justify_content": null,
      "justify_items": null,
      "left": null,
      "margin": null,
      "max_height": null,
      "max_width": null,
      "min_height": null,
      "min_width": null,
      "object_fit": null,
      "object_position": null,
      "order": null,
      "overflow": null,
      "overflow_x": null,
      "overflow_y": null,
      "padding": null,
      "right": null,
      "top": null,
      "visibility": null,
      "width": null
     }
    },
    "7e02c46dda6340788b75ad4506d40125": {
     "model_module": "@jupyter-widgets/controls",
     "model_module_version": "1.5.0",
     "model_name": "HBoxModel",
     "state": {
      "_dom_classes": [],
      "_model_module": "@jupyter-widgets/controls",
      "_model_module_version": "1.5.0",
      "_model_name": "HBoxModel",
      "_view_count": null,
      "_view_module": "@jupyter-widgets/controls",
      "_view_module_version": "1.5.0",
      "_view_name": "HBoxView",
      "box_style": "",
      "children": [
       "IPY_MODEL_8fd3852b1a0148acb28eeaee7f2d8a56",
       "IPY_MODEL_9a105ee2d89e40f8ac2834977da92bdc",
       "IPY_MODEL_a39dfe0360884e3a80ca326b523e92e7"
      ],
      "layout": "IPY_MODEL_4c9979aaebb44255b19eb66716e98b75"
     }
    },
    "807f90b58f124c648b4a5aab7054ce58": {
     "model_module": "@jupyter-widgets/base",
     "model_module_version": "1.2.0",
     "model_name": "LayoutModel",
     "state": {
      "_model_module": "@jupyter-widgets/base",
      "_model_module_version": "1.2.0",
      "_model_name": "LayoutModel",
      "_view_count": null,
      "_view_module": "@jupyter-widgets/base",
      "_view_module_version": "1.2.0",
      "_view_name": "LayoutView",
      "align_content": null,
      "align_items": null,
      "align_self": null,
      "border": null,
      "bottom": null,
      "display": null,
      "flex": null,
      "flex_flow": null,
      "grid_area": null,
      "grid_auto_columns": null,
      "grid_auto_flow": null,
      "grid_auto_rows": null,
      "grid_column": null,
      "grid_gap": null,
      "grid_row": null,
      "grid_template_areas": null,
      "grid_template_columns": null,
      "grid_template_rows": null,
      "height": null,
      "justify_content": null,
      "justify_items": null,
      "left": null,
      "margin": null,
      "max_height": null,
      "max_width": null,
      "min_height": null,
      "min_width": null,
      "object_fit": null,
      "object_position": null,
      "order": null,
      "overflow": null,
      "overflow_x": null,
      "overflow_y": null,
      "padding": null,
      "right": null,
      "top": null,
      "visibility": null,
      "width": null
     }
    },
    "80cd0c92994f4640a089da0eb29194d1": {
     "model_module": "@jupyter-widgets/base",
     "model_module_version": "1.2.0",
     "model_name": "LayoutModel",
     "state": {
      "_model_module": "@jupyter-widgets/base",
      "_model_module_version": "1.2.0",
      "_model_name": "LayoutModel",
      "_view_count": null,
      "_view_module": "@jupyter-widgets/base",
      "_view_module_version": "1.2.0",
      "_view_name": "LayoutView",
      "align_content": null,
      "align_items": null,
      "align_self": null,
      "border": null,
      "bottom": null,
      "display": null,
      "flex": null,
      "flex_flow": null,
      "grid_area": null,
      "grid_auto_columns": null,
      "grid_auto_flow": null,
      "grid_auto_rows": null,
      "grid_column": null,
      "grid_gap": null,
      "grid_row": null,
      "grid_template_areas": null,
      "grid_template_columns": null,
      "grid_template_rows": null,
      "height": null,
      "justify_content": null,
      "justify_items": null,
      "left": null,
      "margin": null,
      "max_height": null,
      "max_width": null,
      "min_height": null,
      "min_width": null,
      "object_fit": null,
      "object_position": null,
      "order": null,
      "overflow": null,
      "overflow_x": null,
      "overflow_y": null,
      "padding": null,
      "right": null,
      "top": null,
      "visibility": null,
      "width": null
     }
    },
    "815f804fd31e423a90db7bc18a2f5120": {
     "model_module": "@jupyter-widgets/controls",
     "model_module_version": "1.5.0",
     "model_name": "HTMLModel",
     "state": {
      "_dom_classes": [],
      "_model_module": "@jupyter-widgets/controls",
      "_model_module_version": "1.5.0",
      "_model_name": "HTMLModel",
      "_view_count": null,
      "_view_module": "@jupyter-widgets/controls",
      "_view_module_version": "1.5.0",
      "_view_name": "HTMLView",
      "description": "",
      "description_tooltip": null,
      "layout": "IPY_MODEL_7decff89d35b40ad913d7378e6263b6e",
      "placeholder": "​",
      "style": "IPY_MODEL_f15db3e2f67e44019e2bfac1e44cfaea",
      "value": "Downloading data: "
     }
    },
    "8202ec8d045d453f9f05fec0673c40d2": {
     "model_module": "@jupyter-widgets/controls",
     "model_module_version": "1.5.0",
     "model_name": "HTMLModel",
     "state": {
      "_dom_classes": [],
      "_model_module": "@jupyter-widgets/controls",
      "_model_module_version": "1.5.0",
      "_model_name": "HTMLModel",
      "_view_count": null,
      "_view_module": "@jupyter-widgets/controls",
      "_view_module_version": "1.5.0",
      "_view_name": "HTMLView",
      "description": "",
      "description_tooltip": null,
      "layout": "IPY_MODEL_19d665a27bdd4bb3b9427c1786466c38",
      "placeholder": "​",
      "style": "IPY_MODEL_030317354e9b48c4bf736c9638f0569c",
      "value": "Map: 100%"
     }
    },
    "8215fc1ba89546e0b012a3dac799dda7": {
     "model_module": "@jupyter-widgets/controls",
     "model_module_version": "1.5.0",
     "model_name": "HTMLModel",
     "state": {
      "_dom_classes": [],
      "_model_module": "@jupyter-widgets/controls",
      "_model_module_version": "1.5.0",
      "_model_name": "HTMLModel",
      "_view_count": null,
      "_view_module": "@jupyter-widgets/controls",
      "_view_module_version": "1.5.0",
      "_view_name": "HTMLView",
      "description": "",
      "description_tooltip": null,
      "layout": "IPY_MODEL_ecf42f8c8da8499cae056ec5d23b58bc",
      "placeholder": "​",
      "style": "IPY_MODEL_d7f74ea302c24594945a792671147e83",
      "value": "Map: 100%"
     }
    },
    "82aef36d130f4dc2a97c40b7fcb76bb1": {
     "model_module": "@jupyter-widgets/controls",
     "model_module_version": "1.5.0",
     "model_name": "ProgressStyleModel",
     "state": {
      "_model_module": "@jupyter-widgets/controls",
      "_model_module_version": "1.5.0",
      "_model_name": "ProgressStyleModel",
      "_view_count": null,
      "_view_module": "@jupyter-widgets/base",
      "_view_module_version": "1.2.0",
      "_view_name": "StyleView",
      "bar_color": null,
      "description_width": ""
     }
    },
    "83403591e7eb4223ba680d369509f9ac": {
     "model_module": "@jupyter-widgets/base",
     "model_module_version": "1.2.0",
     "model_name": "LayoutModel",
     "state": {
      "_model_module": "@jupyter-widgets/base",
      "_model_module_version": "1.2.0",
      "_model_name": "LayoutModel",
      "_view_count": null,
      "_view_module": "@jupyter-widgets/base",
      "_view_module_version": "1.2.0",
      "_view_name": "LayoutView",
      "align_content": null,
      "align_items": null,
      "align_self": null,
      "border": null,
      "bottom": null,
      "display": null,
      "flex": null,
      "flex_flow": null,
      "grid_area": null,
      "grid_auto_columns": null,
      "grid_auto_flow": null,
      "grid_auto_rows": null,
      "grid_column": null,
      "grid_gap": null,
      "grid_row": null,
      "grid_template_areas": null,
      "grid_template_columns": null,
      "grid_template_rows": null,
      "height": null,
      "justify_content": null,
      "justify_items": null,
      "left": null,
      "margin": null,
      "max_height": null,
      "max_width": null,
      "min_height": null,
      "min_width": null,
      "object_fit": null,
      "object_position": null,
      "order": null,
      "overflow": null,
      "overflow_x": null,
      "overflow_y": null,
      "padding": null,
      "right": null,
      "top": null,
      "visibility": null,
      "width": null
     }
    },
    "87332969216d41d092d1afcf7964bbda": {
     "model_module": "@jupyter-widgets/controls",
     "model_module_version": "1.5.0",
     "model_name": "HTMLModel",
     "state": {
      "_dom_classes": [],
      "_model_module": "@jupyter-widgets/controls",
      "_model_module_version": "1.5.0",
      "_model_name": "HTMLModel",
      "_view_count": null,
      "_view_module": "@jupyter-widgets/controls",
      "_view_module_version": "1.5.0",
      "_view_name": "HTMLView",
      "description": "",
      "description_tooltip": null,
      "layout": "IPY_MODEL_b0ed226340f94336b3b549da1afb53b1",
      "placeholder": "​",
      "style": "IPY_MODEL_1abe242703ee42688df0bd1ed7f469b0",
      "value": " 8.88k/8.88k [00:00&lt;00:00, 379kB/s]"
     }
    },
    "8897874572204f869cb49e6d747b3caf": {
     "model_module": "@jupyter-widgets/base",
     "model_module_version": "1.2.0",
     "model_name": "LayoutModel",
     "state": {
      "_model_module": "@jupyter-widgets/base",
      "_model_module_version": "1.2.0",
      "_model_name": "LayoutModel",
      "_view_count": null,
      "_view_module": "@jupyter-widgets/base",
      "_view_module_version": "1.2.0",
      "_view_name": "LayoutView",
      "align_content": null,
      "align_items": null,
      "align_self": null,
      "border": null,
      "bottom": null,
      "display": null,
      "flex": null,
      "flex_flow": null,
      "grid_area": null,
      "grid_auto_columns": null,
      "grid_auto_flow": null,
      "grid_auto_rows": null,
      "grid_column": null,
      "grid_gap": null,
      "grid_row": null,
      "grid_template_areas": null,
      "grid_template_columns": null,
      "grid_template_rows": null,
      "height": null,
      "justify_content": null,
      "justify_items": null,
      "left": null,
      "margin": null,
      "max_height": null,
      "max_width": null,
      "min_height": null,
      "min_width": null,
      "object_fit": null,
      "object_position": null,
      "order": null,
      "overflow": null,
      "overflow_x": null,
      "overflow_y": null,
      "padding": null,
      "right": null,
      "top": null,
      "visibility": null,
      "width": null
     }
    },
    "88cabdcb414d41b8b98cad547cc6f4e1": {
     "model_module": "@jupyter-widgets/controls",
     "model_module_version": "1.5.0",
     "model_name": "HTMLModel",
     "state": {
      "_dom_classes": [],
      "_model_module": "@jupyter-widgets/controls",
      "_model_module_version": "1.5.0",
      "_model_name": "HTMLModel",
      "_view_count": null,
      "_view_module": "@jupyter-widgets/controls",
      "_view_module_version": "1.5.0",
      "_view_name": "HTMLView",
      "description": "",
      "description_tooltip": null,
      "layout": "IPY_MODEL_40819e81486f4200ac2ea939f6757f32",
      "placeholder": "​",
      "style": "IPY_MODEL_7d69998e049d493ab673a092e599ec78",
      "value": "config.json: 100%"
     }
    },
    "88efedc4d7ec4874a6e6c33c64bb7f6b": {
     "model_module": "@jupyter-widgets/base",
     "model_module_version": "1.2.0",
     "model_name": "LayoutModel",
     "state": {
      "_model_module": "@jupyter-widgets/base",
      "_model_module_version": "1.2.0",
      "_model_name": "LayoutModel",
      "_view_count": null,
      "_view_module": "@jupyter-widgets/base",
      "_view_module_version": "1.2.0",
      "_view_name": "LayoutView",
      "align_content": null,
      "align_items": null,
      "align_self": null,
      "border": null,
      "bottom": null,
      "display": null,
      "flex": null,
      "flex_flow": null,
      "grid_area": null,
      "grid_auto_columns": null,
      "grid_auto_flow": null,
      "grid_auto_rows": null,
      "grid_column": null,
      "grid_gap": null,
      "grid_row": null,
      "grid_template_areas": null,
      "grid_template_columns": null,
      "grid_template_rows": null,
      "height": null,
      "justify_content": null,
      "justify_items": null,
      "left": null,
      "margin": null,
      "max_height": null,
      "max_width": null,
      "min_height": null,
      "min_width": null,
      "object_fit": null,
      "object_position": null,
      "order": null,
      "overflow": null,
      "overflow_x": null,
      "overflow_y": null,
      "padding": null,
      "right": null,
      "top": null,
      "visibility": null,
      "width": null
     }
    },
    "89b90efa2aa04be5aade9d8da2743ae9": {
     "model_module": "@jupyter-widgets/controls",
     "model_module_version": "1.5.0",
     "model_name": "HTMLModel",
     "state": {
      "_dom_classes": [],
      "_model_module": "@jupyter-widgets/controls",
      "_model_module_version": "1.5.0",
      "_model_name": "HTMLModel",
      "_view_count": null,
      "_view_module": "@jupyter-widgets/controls",
      "_view_module_version": "1.5.0",
      "_view_name": "HTMLView",
      "description": "",
      "description_tooltip": null,
      "layout": "IPY_MODEL_80cd0c92994f4640a089da0eb29194d1",
      "placeholder": "​",
      "style": "IPY_MODEL_b78743182b2a48cfbb55493659d13eda",
      "value": " 483/483 [00:00&lt;00:00, 5.71kB/s]"
     }
    },
    "8a0d9badbf3a4198adf0b07e06d68fb8": {
     "model_module": "@jupyter-widgets/controls",
     "model_module_version": "1.5.0",
     "model_name": "HTMLModel",
     "state": {
      "_dom_classes": [],
      "_model_module": "@jupyter-widgets/controls",
      "_model_module_version": "1.5.0",
      "_model_name": "HTMLModel",
      "_view_count": null,
      "_view_module": "@jupyter-widgets/controls",
      "_view_module_version": "1.5.0",
      "_view_name": "HTMLView",
      "description": "",
      "description_tooltip": null,
      "layout": "IPY_MODEL_b2a04283433a41f8b243fda2e16927fd",
      "placeholder": "​",
      "style": "IPY_MODEL_bcccef360d3a48b48a8fd5267e2cbac1",
      "value": " 20006/20006 [00:06&lt;00:00, 4780.19 examples/s]"
     }
    },
    "8d5d48239bb1476fbc50814ca56fe095": {
     "model_module": "@jupyter-widgets/controls",
     "model_module_version": "1.5.0",
     "model_name": "HBoxModel",
     "state": {
      "_dom_classes": [],
      "_model_module": "@jupyter-widgets/controls",
      "_model_module_version": "1.5.0",
      "_model_name": "HBoxModel",
      "_view_count": null,
      "_view_module": "@jupyter-widgets/controls",
      "_view_module_version": "1.5.0",
      "_view_name": "HBoxView",
      "box_style": "",
      "children": [
       "IPY_MODEL_21cedfbdf50d463986db43a4f1989ede",
       "IPY_MODEL_5caadc2c1dc14eb89d03a1f665c74712",
       "IPY_MODEL_bd9d49c4b09a4160ba0c9feabe71e5b7"
      ],
      "layout": "IPY_MODEL_eb291653521a482991461ee9efc1a622"
     }
    },
    "8fd3852b1a0148acb28eeaee7f2d8a56": {
     "model_module": "@jupyter-widgets/controls",
     "model_module_version": "1.5.0",
     "model_name": "HTMLModel",
     "state": {
      "_dom_classes": [],
      "_model_module": "@jupyter-widgets/controls",
      "_model_module_version": "1.5.0",
      "_model_name": "HTMLModel",
      "_view_count": null,
      "_view_module": "@jupyter-widgets/controls",
      "_view_module_version": "1.5.0",
      "_view_name": "HTMLView",
      "description": "",
      "description_tooltip": null,
      "layout": "IPY_MODEL_34484b96de404b54b0f441aba39fcf06",
      "placeholder": "​",
      "style": "IPY_MODEL_17509a6425984b35a4239b8e6e9a4cf6",
      "value": "Map: 100%"
     }
    },
    "909f15e9bdd94e478112512eb102e816": {
     "model_module": "@jupyter-widgets/controls",
     "model_module_version": "1.5.0",
     "model_name": "HTMLModel",
     "state": {
      "_dom_classes": [],
      "_model_module": "@jupyter-widgets/controls",
      "_model_module_version": "1.5.0",
      "_model_name": "HTMLModel",
      "_view_count": null,
      "_view_module": "@jupyter-widgets/controls",
      "_view_module_version": "1.5.0",
      "_view_name": "HTMLView",
      "description": "",
      "description_tooltip": null,
      "layout": "IPY_MODEL_6a89a1747ed3417bb67ae9e5f14b6686",
      "placeholder": "​",
      "style": "IPY_MODEL_aca78660175a4fd99c860cc12b144db4",
      "value": " 73546/73546 [00:17&lt;00:00, 3831.19 examples/s]"
     }
    },
    "92f4a47cb0c24a36a0843938cf316b42": {
     "model_module": "@jupyter-widgets/base",
     "model_module_version": "1.2.0",
     "model_name": "LayoutModel",
     "state": {
      "_model_module": "@jupyter-widgets/base",
      "_model_module_version": "1.2.0",
      "_model_name": "LayoutModel",
      "_view_count": null,
      "_view_module": "@jupyter-widgets/base",
      "_view_module_version": "1.2.0",
      "_view_name": "LayoutView",
      "align_content": null,
      "align_items": null,
      "align_self": null,
      "border": null,
      "bottom": null,
      "display": null,
      "flex": null,
      "flex_flow": null,
      "grid_area": null,
      "grid_auto_columns": null,
      "grid_auto_flow": null,
      "grid_auto_rows": null,
      "grid_column": null,
      "grid_gap": null,
      "grid_row": null,
      "grid_template_areas": null,
      "grid_template_columns": null,
      "grid_template_rows": null,
      "height": null,
      "justify_content": null,
      "justify_items": null,
      "left": null,
      "margin": null,
      "max_height": null,
      "max_width": null,
      "min_height": null,
      "min_width": null,
      "object_fit": null,
      "object_position": null,
      "order": null,
      "overflow": null,
      "overflow_x": null,
      "overflow_y": null,
      "padding": null,
      "right": null,
      "top": null,
      "visibility": null,
      "width": null
     }
    },
    "93569f4ecc13472d9ced935b623d0acd": {
     "model_module": "@jupyter-widgets/base",
     "model_module_version": "1.2.0",
     "model_name": "LayoutModel",
     "state": {
      "_model_module": "@jupyter-widgets/base",
      "_model_module_version": "1.2.0",
      "_model_name": "LayoutModel",
      "_view_count": null,
      "_view_module": "@jupyter-widgets/base",
      "_view_module_version": "1.2.0",
      "_view_name": "LayoutView",
      "align_content": null,
      "align_items": null,
      "align_self": null,
      "border": null,
      "bottom": null,
      "display": null,
      "flex": null,
      "flex_flow": null,
      "grid_area": null,
      "grid_auto_columns": null,
      "grid_auto_flow": null,
      "grid_auto_rows": null,
      "grid_column": null,
      "grid_gap": null,
      "grid_row": null,
      "grid_template_areas": null,
      "grid_template_columns": null,
      "grid_template_rows": null,
      "height": null,
      "justify_content": null,
      "justify_items": null,
      "left": null,
      "margin": null,
      "max_height": null,
      "max_width": null,
      "min_height": null,
      "min_width": null,
      "object_fit": null,
      "object_position": null,
      "order": null,
      "overflow": null,
      "overflow_x": null,
      "overflow_y": null,
      "padding": null,
      "right": null,
      "top": null,
      "visibility": null,
      "width": null
     }
    },
    "958378588fa1429dbf1ffc5c9f04db1c": {
     "model_module": "@jupyter-widgets/controls",
     "model_module_version": "1.5.0",
     "model_name": "HTMLModel",
     "state": {
      "_dom_classes": [],
      "_model_module": "@jupyter-widgets/controls",
      "_model_module_version": "1.5.0",
      "_model_name": "HTMLModel",
      "_view_count": null,
      "_view_module": "@jupyter-widgets/controls",
      "_view_module_version": "1.5.0",
      "_view_name": "HTMLView",
      "description": "",
      "description_tooltip": null,
      "layout": "IPY_MODEL_269525fa309a4c0f95b89baf5fbd7ad6",
      "placeholder": "​",
      "style": "IPY_MODEL_3bc1a9e5e5e6412fa26e118cb3c18e7b",
      "value": " 20005/20005 [00:05&lt;00:00, 3716.79 examples/s]"
     }
    },
    "964fc8371f0946f28a531765caec7398": {
     "model_module": "@jupyter-widgets/base",
     "model_module_version": "1.2.0",
     "model_name": "LayoutModel",
     "state": {
      "_model_module": "@jupyter-widgets/base",
      "_model_module_version": "1.2.0",
      "_model_name": "LayoutModel",
      "_view_count": null,
      "_view_module": "@jupyter-widgets/base",
      "_view_module_version": "1.2.0",
      "_view_name": "LayoutView",
      "align_content": null,
      "align_items": null,
      "align_self": null,
      "border": null,
      "bottom": null,
      "display": null,
      "flex": null,
      "flex_flow": null,
      "grid_area": null,
      "grid_auto_columns": null,
      "grid_auto_flow": null,
      "grid_auto_rows": null,
      "grid_column": null,
      "grid_gap": null,
      "grid_row": null,
      "grid_template_areas": null,
      "grid_template_columns": null,
      "grid_template_rows": null,
      "height": null,
      "justify_content": null,
      "justify_items": null,
      "left": null,
      "margin": null,
      "max_height": null,
      "max_width": null,
      "min_height": null,
      "min_width": null,
      "object_fit": null,
      "object_position": null,
      "order": null,
      "overflow": null,
      "overflow_x": null,
      "overflow_y": null,
      "padding": null,
      "right": null,
      "top": null,
      "visibility": null,
      "width": null
     }
    },
    "973d6e436a3f4df79962105e5772d9d7": {
     "model_module": "@jupyter-widgets/base",
     "model_module_version": "1.2.0",
     "model_name": "LayoutModel",
     "state": {
      "_model_module": "@jupyter-widgets/base",
      "_model_module_version": "1.2.0",
      "_model_name": "LayoutModel",
      "_view_count": null,
      "_view_module": "@jupyter-widgets/base",
      "_view_module_version": "1.2.0",
      "_view_name": "LayoutView",
      "align_content": null,
      "align_items": null,
      "align_self": null,
      "border": null,
      "bottom": null,
      "display": null,
      "flex": null,
      "flex_flow": null,
      "grid_area": null,
      "grid_auto_columns": null,
      "grid_auto_flow": null,
      "grid_auto_rows": null,
      "grid_column": null,
      "grid_gap": null,
      "grid_row": null,
      "grid_template_areas": null,
      "grid_template_columns": null,
      "grid_template_rows": null,
      "height": null,
      "justify_content": null,
      "justify_items": null,
      "left": null,
      "margin": null,
      "max_height": null,
      "max_width": null,
      "min_height": null,
      "min_width": null,
      "object_fit": null,
      "object_position": null,
      "order": null,
      "overflow": null,
      "overflow_x": null,
      "overflow_y": null,
      "padding": null,
      "right": null,
      "top": null,
      "visibility": null,
      "width": null
     }
    },
    "97e1a160f4674385aa526b3dcd558d91": {
     "model_module": "@jupyter-widgets/controls",
     "model_module_version": "1.5.0",
     "model_name": "DescriptionStyleModel",
     "state": {
      "_model_module": "@jupyter-widgets/controls",
      "_model_module_version": "1.5.0",
      "_model_name": "DescriptionStyleModel",
      "_view_count": null,
      "_view_module": "@jupyter-widgets/base",
      "_view_module_version": "1.2.0",
      "_view_name": "StyleView",
      "description_width": ""
     }
    },
    "9881018a76fe4f14ad5b6ab0f50f205d": {
     "model_module": "@jupyter-widgets/base",
     "model_module_version": "1.2.0",
     "model_name": "LayoutModel",
     "state": {
      "_model_module": "@jupyter-widgets/base",
      "_model_module_version": "1.2.0",
      "_model_name": "LayoutModel",
      "_view_count": null,
      "_view_module": "@jupyter-widgets/base",
      "_view_module_version": "1.2.0",
      "_view_name": "LayoutView",
      "align_content": null,
      "align_items": null,
      "align_self": null,
      "border": null,
      "bottom": null,
      "display": null,
      "flex": null,
      "flex_flow": null,
      "grid_area": null,
      "grid_auto_columns": null,
      "grid_auto_flow": null,
      "grid_auto_rows": null,
      "grid_column": null,
      "grid_gap": null,
      "grid_row": null,
      "grid_template_areas": null,
      "grid_template_columns": null,
      "grid_template_rows": null,
      "height": null,
      "justify_content": null,
      "justify_items": null,
      "left": null,
      "margin": null,
      "max_height": null,
      "max_width": null,
      "min_height": null,
      "min_width": null,
      "object_fit": null,
      "object_position": null,
      "order": null,
      "overflow": null,
      "overflow_x": null,
      "overflow_y": null,
      "padding": null,
      "right": null,
      "top": null,
      "visibility": null,
      "width": null
     }
    },
    "997fde08f57a43c5a32f3cd10cd84ed3": {
     "model_module": "@jupyter-widgets/base",
     "model_module_version": "1.2.0",
     "model_name": "LayoutModel",
     "state": {
      "_model_module": "@jupyter-widgets/base",
      "_model_module_version": "1.2.0",
      "_model_name": "LayoutModel",
      "_view_count": null,
      "_view_module": "@jupyter-widgets/base",
      "_view_module_version": "1.2.0",
      "_view_name": "LayoutView",
      "align_content": null,
      "align_items": null,
      "align_self": null,
      "border": null,
      "bottom": null,
      "display": null,
      "flex": null,
      "flex_flow": null,
      "grid_area": null,
      "grid_auto_columns": null,
      "grid_auto_flow": null,
      "grid_auto_rows": null,
      "grid_column": null,
      "grid_gap": null,
      "grid_row": null,
      "grid_template_areas": null,
      "grid_template_columns": null,
      "grid_template_rows": null,
      "height": null,
      "justify_content": null,
      "justify_items": null,
      "left": null,
      "margin": null,
      "max_height": null,
      "max_width": null,
      "min_height": null,
      "min_width": null,
      "object_fit": null,
      "object_position": null,
      "order": null,
      "overflow": null,
      "overflow_x": null,
      "overflow_y": null,
      "padding": null,
      "right": null,
      "top": null,
      "visibility": null,
      "width": null
     }
    },
    "9a105ee2d89e40f8ac2834977da92bdc": {
     "model_module": "@jupyter-widgets/controls",
     "model_module_version": "1.5.0",
     "model_name": "FloatProgressModel",
     "state": {
      "_dom_classes": [],
      "_model_module": "@jupyter-widgets/controls",
      "_model_module_version": "1.5.0",
      "_model_name": "FloatProgressModel",
      "_view_count": null,
      "_view_module": "@jupyter-widgets/controls",
      "_view_module_version": "1.5.0",
      "_view_name": "ProgressView",
      "bar_style": "success",
      "description": "",
      "description_tooltip": null,
      "layout": "IPY_MODEL_d7e2e58ac55040be95093b4c7bc6661d",
      "max": 87599,
      "min": 0,
      "orientation": "horizontal",
      "style": "IPY_MODEL_a955cbf014654a5f98fa2c57be0930ee",
      "value": 87599
     }
    },
    "9af113bec4724983a414e9f0416ba4f2": {
     "model_module": "@jupyter-widgets/base",
     "model_module_version": "1.2.0",
     "model_name": "LayoutModel",
     "state": {
      "_model_module": "@jupyter-widgets/base",
      "_model_module_version": "1.2.0",
      "_model_name": "LayoutModel",
      "_view_count": null,
      "_view_module": "@jupyter-widgets/base",
      "_view_module_version": "1.2.0",
      "_view_name": "LayoutView",
      "align_content": null,
      "align_items": null,
      "align_self": null,
      "border": null,
      "bottom": null,
      "display": null,
      "flex": null,
      "flex_flow": null,
      "grid_area": null,
      "grid_auto_columns": null,
      "grid_auto_flow": null,
      "grid_auto_rows": null,
      "grid_column": null,
      "grid_gap": null,
      "grid_row": null,
      "grid_template_areas": null,
      "grid_template_columns": null,
      "grid_template_rows": null,
      "height": null,
      "justify_content": null,
      "justify_items": null,
      "left": null,
      "margin": null,
      "max_height": null,
      "max_width": null,
      "min_height": null,
      "min_width": null,
      "object_fit": null,
      "object_position": null,
      "order": null,
      "overflow": null,
      "overflow_x": null,
      "overflow_y": null,
      "padding": null,
      "right": null,
      "top": null,
      "visibility": null,
      "width": null
     }
    },
    "9b25f1c8b2be434ca60c2be8342d9ad2": {
     "model_module": "@jupyter-widgets/base",
     "model_module_version": "1.2.0",
     "model_name": "LayoutModel",
     "state": {
      "_model_module": "@jupyter-widgets/base",
      "_model_module_version": "1.2.0",
      "_model_name": "LayoutModel",
      "_view_count": null,
      "_view_module": "@jupyter-widgets/base",
      "_view_module_version": "1.2.0",
      "_view_name": "LayoutView",
      "align_content": null,
      "align_items": null,
      "align_self": null,
      "border": null,
      "bottom": null,
      "display": null,
      "flex": null,
      "flex_flow": null,
      "grid_area": null,
      "grid_auto_columns": null,
      "grid_auto_flow": null,
      "grid_auto_rows": null,
      "grid_column": null,
      "grid_gap": null,
      "grid_row": null,
      "grid_template_areas": null,
      "grid_template_columns": null,
      "grid_template_rows": null,
      "height": null,
      "justify_content": null,
      "justify_items": null,
      "left": null,
      "margin": null,
      "max_height": null,
      "max_width": null,
      "min_height": null,
      "min_width": null,
      "object_fit": null,
      "object_position": null,
      "order": null,
      "overflow": null,
      "overflow_x": null,
      "overflow_y": null,
      "padding": null,
      "right": null,
      "top": null,
      "visibility": null,
      "width": null
     }
    },
    "9bbefbc31f4f4384bca26ee3e8c730a3": {
     "model_module": "@jupyter-widgets/controls",
     "model_module_version": "1.5.0",
     "model_name": "DescriptionStyleModel",
     "state": {
      "_model_module": "@jupyter-widgets/controls",
      "_model_module_version": "1.5.0",
      "_model_name": "DescriptionStyleModel",
      "_view_count": null,
      "_view_module": "@jupyter-widgets/base",
      "_view_module_version": "1.2.0",
      "_view_name": "StyleView",
      "description_width": ""
     }
    },
    "9c2bd398f48246488af3feb9bcd3e756": {
     "model_module": "@jupyter-widgets/controls",
     "model_module_version": "1.5.0",
     "model_name": "HTMLModel",
     "state": {
      "_dom_classes": [],
      "_model_module": "@jupyter-widgets/controls",
      "_model_module_version": "1.5.0",
      "_model_name": "HTMLModel",
      "_view_count": null,
      "_view_module": "@jupyter-widgets/controls",
      "_view_module_version": "1.5.0",
      "_view_name": "HTMLView",
      "description": "",
      "description_tooltip": null,
      "layout": "IPY_MODEL_4772752233cd4f488a850d916444adee",
      "placeholder": "​",
      "style": "IPY_MODEL_34dcb70d1d9f4db09df62407e93311f2",
      "value": " 7.89M/? [00:00&lt;00:00, 26.3MB/s]"
     }
    },
    "a25c327d9b124737871c532334c6da94": {
     "model_module": "@jupyter-widgets/controls",
     "model_module_version": "1.5.0",
     "model_name": "HTMLModel",
     "state": {
      "_dom_classes": [],
      "_model_module": "@jupyter-widgets/controls",
      "_model_module_version": "1.5.0",
      "_model_name": "HTMLModel",
      "_view_count": null,
      "_view_module": "@jupyter-widgets/controls",
      "_view_module_version": "1.5.0",
      "_view_name": "HTMLView",
      "description": "",
      "description_tooltip": null,
      "layout": "IPY_MODEL_b3ef303f06c240e7adfa15a74c331bd1",
      "placeholder": "​",
      "style": "IPY_MODEL_363d12f6d6fb4f8c936d66115f611e65",
      "value": "vocab.txt: 100%"
     }
    },
    "a27aeffc9b2b4ef0ba8f6fa38ef2befc": {
     "model_module": "@jupyter-widgets/controls",
     "model_module_version": "1.5.0",
     "model_name": "ProgressStyleModel",
     "state": {
      "_model_module": "@jupyter-widgets/controls",
      "_model_module_version": "1.5.0",
      "_model_name": "ProgressStyleModel",
      "_view_count": null,
      "_view_module": "@jupyter-widgets/base",
      "_view_module_version": "1.2.0",
      "_view_name": "StyleView",
      "bar_color": null,
      "description_width": ""
     }
    },
    "a308fe18eedc48caac625b48b80ea2cd": {
     "model_module": "@jupyter-widgets/controls",
     "model_module_version": "1.5.0",
     "model_name": "ProgressStyleModel",
     "state": {
      "_model_module": "@jupyter-widgets/controls",
      "_model_module_version": "1.5.0",
      "_model_name": "ProgressStyleModel",
      "_view_count": null,
      "_view_module": "@jupyter-widgets/base",
      "_view_module_version": "1.2.0",
      "_view_name": "StyleView",
      "bar_color": null,
      "description_width": ""
     }
    },
    "a39dfe0360884e3a80ca326b523e92e7": {
     "model_module": "@jupyter-widgets/controls",
     "model_module_version": "1.5.0",
     "model_name": "HTMLModel",
     "state": {
      "_dom_classes": [],
      "_model_module": "@jupyter-widgets/controls",
      "_model_module_version": "1.5.0",
      "_model_name": "HTMLModel",
      "_view_count": null,
      "_view_module": "@jupyter-widgets/controls",
      "_view_module_version": "1.5.0",
      "_view_name": "HTMLView",
      "description": "",
      "description_tooltip": null,
      "layout": "IPY_MODEL_def60e8dc5b24452a95746baebf5aa50",
      "placeholder": "​",
      "style": "IPY_MODEL_4314ff831ed642e88cde59d59b2f9d74",
      "value": " 87599/87599 [00:10&lt;00:00, 8280.22 examples/s]"
     }
    },
    "a3a73c274cb646b1a0b4285822ab5fea": {
     "model_module": "@jupyter-widgets/controls",
     "model_module_version": "1.5.0",
     "model_name": "DescriptionStyleModel",
     "state": {
      "_model_module": "@jupyter-widgets/controls",
      "_model_module_version": "1.5.0",
      "_model_name": "DescriptionStyleModel",
      "_view_count": null,
      "_view_module": "@jupyter-widgets/base",
      "_view_module_version": "1.2.0",
      "_view_name": "StyleView",
      "description_width": ""
     }
    },
    "a3a9d448674140adbd549b1a886b54e9": {
     "model_module": "@jupyter-widgets/controls",
     "model_module_version": "1.5.0",
     "model_name": "HBoxModel",
     "state": {
      "_dom_classes": [],
      "_model_module": "@jupyter-widgets/controls",
      "_model_module_version": "1.5.0",
      "_model_name": "HBoxModel",
      "_view_count": null,
      "_view_module": "@jupyter-widgets/controls",
      "_view_module_version": "1.5.0",
      "_view_name": "HBoxView",
      "box_style": "",
      "children": [
       "IPY_MODEL_3438dab2fc324fe99ed3738c359cc42b",
       "IPY_MODEL_a958a5fa76a645718fb7b7773912b1d2",
       "IPY_MODEL_1087550602604bda836023861d9e759a"
      ],
      "layout": "IPY_MODEL_63d5742dd76b4af9bcf0cc1e4e4051dc"
     }
    },
    "a5750f202cf342b18f60ae6b4c8960aa": {
     "model_module": "@jupyter-widgets/controls",
     "model_module_version": "1.5.0",
     "model_name": "DescriptionStyleModel",
     "state": {
      "_model_module": "@jupyter-widgets/controls",
      "_model_module_version": "1.5.0",
      "_model_name": "DescriptionStyleModel",
      "_view_count": null,
      "_view_module": "@jupyter-widgets/base",
      "_view_module_version": "1.2.0",
      "_view_name": "StyleView",
      "description_width": ""
     }
    },
    "a6bad5a1f39047bb99782ef46ba8352c": {
     "model_module": "@jupyter-widgets/base",
     "model_module_version": "1.2.0",
     "model_name": "LayoutModel",
     "state": {
      "_model_module": "@jupyter-widgets/base",
      "_model_module_version": "1.2.0",
      "_model_name": "LayoutModel",
      "_view_count": null,
      "_view_module": "@jupyter-widgets/base",
      "_view_module_version": "1.2.0",
      "_view_name": "LayoutView",
      "align_content": null,
      "align_items": null,
      "align_self": null,
      "border": null,
      "bottom": null,
      "display": null,
      "flex": null,
      "flex_flow": null,
      "grid_area": null,
      "grid_auto_columns": null,
      "grid_auto_flow": null,
      "grid_auto_rows": null,
      "grid_column": null,
      "grid_gap": null,
      "grid_row": null,
      "grid_template_areas": null,
      "grid_template_columns": null,
      "grid_template_rows": null,
      "height": null,
      "justify_content": null,
      "justify_items": null,
      "left": null,
      "margin": null,
      "max_height": null,
      "max_width": null,
      "min_height": null,
      "min_width": null,
      "object_fit": null,
      "object_position": null,
      "order": null,
      "overflow": null,
      "overflow_x": null,
      "overflow_y": null,
      "padding": null,
      "right": null,
      "top": null,
      "visibility": null,
      "width": null
     }
    },
    "a6f806b31c8c4978a5371965bd55b5ff": {
     "model_module": "@jupyter-widgets/controls",
     "model_module_version": "1.5.0",
     "model_name": "FloatProgressModel",
     "state": {
      "_dom_classes": [],
      "_model_module": "@jupyter-widgets/controls",
      "_model_module_version": "1.5.0",
      "_model_name": "FloatProgressModel",
      "_view_count": null,
      "_view_module": "@jupyter-widgets/controls",
      "_view_module_version": "1.5.0",
      "_view_name": "ProgressView",
      "bar_style": "success",
      "description": "",
      "description_tooltip": null,
      "layout": "IPY_MODEL_d0c28eeb77784a7ca259e99b769305b7",
      "max": 231508,
      "min": 0,
      "orientation": "horizontal",
      "style": "IPY_MODEL_0836a45def1c404cb4c62cc3d904d292",
      "value": 231508
     }
    },
    "a857a6a343b342988f876d759532c5bf": {
     "model_module": "@jupyter-widgets/base",
     "model_module_version": "1.2.0",
     "model_name": "LayoutModel",
     "state": {
      "_model_module": "@jupyter-widgets/base",
      "_model_module_version": "1.2.0",
      "_model_name": "LayoutModel",
      "_view_count": null,
      "_view_module": "@jupyter-widgets/base",
      "_view_module_version": "1.2.0",
      "_view_name": "LayoutView",
      "align_content": null,
      "align_items": null,
      "align_self": null,
      "border": null,
      "bottom": null,
      "display": null,
      "flex": null,
      "flex_flow": null,
      "grid_area": null,
      "grid_auto_columns": null,
      "grid_auto_flow": null,
      "grid_auto_rows": null,
      "grid_column": null,
      "grid_gap": null,
      "grid_row": null,
      "grid_template_areas": null,
      "grid_template_columns": null,
      "grid_template_rows": null,
      "height": null,
      "justify_content": null,
      "justify_items": null,
      "left": null,
      "margin": null,
      "max_height": null,
      "max_width": null,
      "min_height": null,
      "min_width": null,
      "object_fit": null,
      "object_position": null,
      "order": null,
      "overflow": null,
      "overflow_x": null,
      "overflow_y": null,
      "padding": null,
      "right": null,
      "top": null,
      "visibility": null,
      "width": null
     }
    },
    "a955cbf014654a5f98fa2c57be0930ee": {
     "model_module": "@jupyter-widgets/controls",
     "model_module_version": "1.5.0",
     "model_name": "ProgressStyleModel",
     "state": {
      "_model_module": "@jupyter-widgets/controls",
      "_model_module_version": "1.5.0",
      "_model_name": "ProgressStyleModel",
      "_view_count": null,
      "_view_module": "@jupyter-widgets/base",
      "_view_module_version": "1.2.0",
      "_view_name": "StyleView",
      "bar_color": null,
      "description_width": ""
     }
    },
    "a958a5fa76a645718fb7b7773912b1d2": {
     "model_module": "@jupyter-widgets/controls",
     "model_module_version": "1.5.0",
     "model_name": "FloatProgressModel",
     "state": {
      "_dom_classes": [],
      "_model_module": "@jupyter-widgets/controls",
      "_model_module_version": "1.5.0",
      "_model_name": "FloatProgressModel",
      "_view_count": null,
      "_view_module": "@jupyter-widgets/controls",
      "_view_module_version": "1.5.0",
      "_view_name": "ProgressView",
      "bar_style": "success",
      "description": "",
      "description_tooltip": null,
      "layout": "IPY_MODEL_ad8087d44f8848719f9805d2a03ae7e5",
      "max": 466062,
      "min": 0,
      "orientation": "horizontal",
      "style": "IPY_MODEL_82aef36d130f4dc2a97c40b7fcb76bb1",
      "value": 466062
     }
    },
    "a9698b33acaa4f4292a6ba8cf50b69e6": {
     "model_module": "@jupyter-widgets/base",
     "model_module_version": "1.2.0",
     "model_name": "LayoutModel",
     "state": {
      "_model_module": "@jupyter-widgets/base",
      "_model_module_version": "1.2.0",
      "_model_name": "LayoutModel",
      "_view_count": null,
      "_view_module": "@jupyter-widgets/base",
      "_view_module_version": "1.2.0",
      "_view_name": "LayoutView",
      "align_content": null,
      "align_items": null,
      "align_self": null,
      "border": null,
      "bottom": null,
      "display": null,
      "flex": null,
      "flex_flow": null,
      "grid_area": null,
      "grid_auto_columns": null,
      "grid_auto_flow": null,
      "grid_auto_rows": null,
      "grid_column": null,
      "grid_gap": null,
      "grid_row": null,
      "grid_template_areas": null,
      "grid_template_columns": null,
      "grid_template_rows": null,
      "height": null,
      "justify_content": null,
      "justify_items": null,
      "left": null,
      "margin": null,
      "max_height": null,
      "max_width": null,
      "min_height": null,
      "min_width": null,
      "object_fit": null,
      "object_position": null,
      "order": null,
      "overflow": null,
      "overflow_x": null,
      "overflow_y": null,
      "padding": null,
      "right": null,
      "top": null,
      "visibility": null,
      "width": null
     }
    },
    "ab33369b9374406c8b2f638691140d47": {
     "model_module": "@jupyter-widgets/controls",
     "model_module_version": "1.5.0",
     "model_name": "DescriptionStyleModel",
     "state": {
      "_model_module": "@jupyter-widgets/controls",
      "_model_module_version": "1.5.0",
      "_model_name": "DescriptionStyleModel",
      "_view_count": null,
      "_view_module": "@jupyter-widgets/base",
      "_view_module_version": "1.2.0",
      "_view_name": "StyleView",
      "description_width": ""
     }
    },
    "ab522895804f4693a949c05a206151f5": {
     "model_module": "@jupyter-widgets/base",
     "model_module_version": "1.2.0",
     "model_name": "LayoutModel",
     "state": {
      "_model_module": "@jupyter-widgets/base",
      "_model_module_version": "1.2.0",
      "_model_name": "LayoutModel",
      "_view_count": null,
      "_view_module": "@jupyter-widgets/base",
      "_view_module_version": "1.2.0",
      "_view_name": "LayoutView",
      "align_content": null,
      "align_items": null,
      "align_self": null,
      "border": null,
      "bottom": null,
      "display": null,
      "flex": null,
      "flex_flow": null,
      "grid_area": null,
      "grid_auto_columns": null,
      "grid_auto_flow": null,
      "grid_auto_rows": null,
      "grid_column": null,
      "grid_gap": null,
      "grid_row": null,
      "grid_template_areas": null,
      "grid_template_columns": null,
      "grid_template_rows": null,
      "height": null,
      "justify_content": null,
      "justify_items": null,
      "left": null,
      "margin": null,
      "max_height": null,
      "max_width": null,
      "min_height": null,
      "min_width": null,
      "object_fit": null,
      "object_position": null,
      "order": null,
      "overflow": null,
      "overflow_x": null,
      "overflow_y": null,
      "padding": null,
      "right": null,
      "top": null,
      "visibility": null,
      "width": null
     }
    },
    "aca78660175a4fd99c860cc12b144db4": {
     "model_module": "@jupyter-widgets/controls",
     "model_module_version": "1.5.0",
     "model_name": "DescriptionStyleModel",
     "state": {
      "_model_module": "@jupyter-widgets/controls",
      "_model_module_version": "1.5.0",
      "_model_name": "DescriptionStyleModel",
      "_view_count": null,
      "_view_module": "@jupyter-widgets/base",
      "_view_module_version": "1.2.0",
      "_view_name": "StyleView",
      "description_width": ""
     }
    },
    "acdbed58732d413ebfe865ac899bae03": {
     "model_module": "@jupyter-widgets/controls",
     "model_module_version": "1.5.0",
     "model_name": "ProgressStyleModel",
     "state": {
      "_model_module": "@jupyter-widgets/controls",
      "_model_module_version": "1.5.0",
      "_model_name": "ProgressStyleModel",
      "_view_count": null,
      "_view_module": "@jupyter-widgets/base",
      "_view_module_version": "1.2.0",
      "_view_name": "StyleView",
      "bar_color": null,
      "description_width": ""
     }
    },
    "ad4c32922c3045ac9bdcf31ef92b8a83": {
     "model_module": "@jupyter-widgets/controls",
     "model_module_version": "1.5.0",
     "model_name": "HTMLModel",
     "state": {
      "_dom_classes": [],
      "_model_module": "@jupyter-widgets/controls",
      "_model_module_version": "1.5.0",
      "_model_name": "HTMLModel",
      "_view_count": null,
      "_view_module": "@jupyter-widgets/controls",
      "_view_module_version": "1.5.0",
      "_view_name": "HTMLView",
      "description": "",
      "description_tooltip": null,
      "layout": "IPY_MODEL_1f5bc081d7d947e4869981edd4c31b3f",
      "placeholder": "​",
      "style": "IPY_MODEL_5b8977136c3948a5995b42315458f063",
      "value": "Downloading data: "
     }
    },
    "ad64b9007f56409fa3f947ffeadabf41": {
     "model_module": "@jupyter-widgets/controls",
     "model_module_version": "1.5.0",
     "model_name": "DescriptionStyleModel",
     "state": {
      "_model_module": "@jupyter-widgets/controls",
      "_model_module_version": "1.5.0",
      "_model_name": "DescriptionStyleModel",
      "_view_count": null,
      "_view_module": "@jupyter-widgets/base",
      "_view_module_version": "1.2.0",
      "_view_name": "StyleView",
      "description_width": ""
     }
    },
    "ad8087d44f8848719f9805d2a03ae7e5": {
     "model_module": "@jupyter-widgets/base",
     "model_module_version": "1.2.0",
     "model_name": "LayoutModel",
     "state": {
      "_model_module": "@jupyter-widgets/base",
      "_model_module_version": "1.2.0",
      "_model_name": "LayoutModel",
      "_view_count": null,
      "_view_module": "@jupyter-widgets/base",
      "_view_module_version": "1.2.0",
      "_view_name": "LayoutView",
      "align_content": null,
      "align_items": null,
      "align_self": null,
      "border": null,
      "bottom": null,
      "display": null,
      "flex": null,
      "flex_flow": null,
      "grid_area": null,
      "grid_auto_columns": null,
      "grid_auto_flow": null,
      "grid_auto_rows": null,
      "grid_column": null,
      "grid_gap": null,
      "grid_row": null,
      "grid_template_areas": null,
      "grid_template_columns": null,
      "grid_template_rows": null,
      "height": null,
      "justify_content": null,
      "justify_items": null,
      "left": null,
      "margin": null,
      "max_height": null,
      "max_width": null,
      "min_height": null,
      "min_width": null,
      "object_fit": null,
      "object_position": null,
      "order": null,
      "overflow": null,
      "overflow_x": null,
      "overflow_y": null,
      "padding": null,
      "right": null,
      "top": null,
      "visibility": null,
      "width": null
     }
    },
    "aeca97b9d8bd49dc8c94434a70437d46": {
     "model_module": "@jupyter-widgets/controls",
     "model_module_version": "1.5.0",
     "model_name": "HBoxModel",
     "state": {
      "_dom_classes": [],
      "_model_module": "@jupyter-widgets/controls",
      "_model_module_version": "1.5.0",
      "_model_name": "HBoxModel",
      "_view_count": null,
      "_view_module": "@jupyter-widgets/controls",
      "_view_module_version": "1.5.0",
      "_view_name": "HBoxView",
      "box_style": "",
      "children": [
       "IPY_MODEL_029e291d10f94ad799fd57da7824a117",
       "IPY_MODEL_74ce21dcf2a0433185e56fee6b02d4ef",
       "IPY_MODEL_b66d2831fe8c45fc95db7114086100d6"
      ],
      "layout": "IPY_MODEL_9af113bec4724983a414e9f0416ba4f2"
     }
    },
    "af97df78e97444489071f13a2c58df63": {
     "model_module": "@jupyter-widgets/controls",
     "model_module_version": "1.5.0",
     "model_name": "DescriptionStyleModel",
     "state": {
      "_model_module": "@jupyter-widgets/controls",
      "_model_module_version": "1.5.0",
      "_model_name": "DescriptionStyleModel",
      "_view_count": null,
      "_view_module": "@jupyter-widgets/base",
      "_view_module_version": "1.2.0",
      "_view_name": "StyleView",
      "description_width": ""
     }
    },
    "b0ed226340f94336b3b549da1afb53b1": {
     "model_module": "@jupyter-widgets/base",
     "model_module_version": "1.2.0",
     "model_name": "LayoutModel",
     "state": {
      "_model_module": "@jupyter-widgets/base",
      "_model_module_version": "1.2.0",
      "_model_name": "LayoutModel",
      "_view_count": null,
      "_view_module": "@jupyter-widgets/base",
      "_view_module_version": "1.2.0",
      "_view_name": "LayoutView",
      "align_content": null,
      "align_items": null,
      "align_self": null,
      "border": null,
      "bottom": null,
      "display": null,
      "flex": null,
      "flex_flow": null,
      "grid_area": null,
      "grid_auto_columns": null,
      "grid_auto_flow": null,
      "grid_auto_rows": null,
      "grid_column": null,
      "grid_gap": null,
      "grid_row": null,
      "grid_template_areas": null,
      "grid_template_columns": null,
      "grid_template_rows": null,
      "height": null,
      "justify_content": null,
      "justify_items": null,
      "left": null,
      "margin": null,
      "max_height": null,
      "max_width": null,
      "min_height": null,
      "min_width": null,
      "object_fit": null,
      "object_position": null,
      "order": null,
      "overflow": null,
      "overflow_x": null,
      "overflow_y": null,
      "padding": null,
      "right": null,
      "top": null,
      "visibility": null,
      "width": null
     }
    },
    "b0edc6aad13c497a8744d5e353bf665c": {
     "model_module": "@jupyter-widgets/controls",
     "model_module_version": "1.5.0",
     "model_name": "HTMLModel",
     "state": {
      "_dom_classes": [],
      "_model_module": "@jupyter-widgets/controls",
      "_model_module_version": "1.5.0",
      "_model_name": "HTMLModel",
      "_view_count": null,
      "_view_module": "@jupyter-widgets/controls",
      "_view_module_version": "1.5.0",
      "_view_name": "HTMLView",
      "description": "",
      "description_tooltip": null,
      "layout": "IPY_MODEL_35a4f58a8a594045941130da378a70b0",
      "placeholder": "​",
      "style": "IPY_MODEL_7c0495114d8c4c5396771284e146f8aa",
      "value": " 20005/20005 [00:11&lt;00:00, 1784.62 examples/s]"
     }
    },
    "b2135ca6b2154776ab74e327b1b4cc12": {
     "model_module": "@jupyter-widgets/controls",
     "model_module_version": "1.5.0",
     "model_name": "DescriptionStyleModel",
     "state": {
      "_model_module": "@jupyter-widgets/controls",
      "_model_module_version": "1.5.0",
      "_model_name": "DescriptionStyleModel",
      "_view_count": null,
      "_view_module": "@jupyter-widgets/base",
      "_view_module_version": "1.2.0",
      "_view_name": "StyleView",
      "description_width": ""
     }
    },
    "b2a04283433a41f8b243fda2e16927fd": {
     "model_module": "@jupyter-widgets/base",
     "model_module_version": "1.2.0",
     "model_name": "LayoutModel",
     "state": {
      "_model_module": "@jupyter-widgets/base",
      "_model_module_version": "1.2.0",
      "_model_name": "LayoutModel",
      "_view_count": null,
      "_view_module": "@jupyter-widgets/base",
      "_view_module_version": "1.2.0",
      "_view_name": "LayoutView",
      "align_content": null,
      "align_items": null,
      "align_self": null,
      "border": null,
      "bottom": null,
      "display": null,
      "flex": null,
      "flex_flow": null,
      "grid_area": null,
      "grid_auto_columns": null,
      "grid_auto_flow": null,
      "grid_auto_rows": null,
      "grid_column": null,
      "grid_gap": null,
      "grid_row": null,
      "grid_template_areas": null,
      "grid_template_columns": null,
      "grid_template_rows": null,
      "height": null,
      "justify_content": null,
      "justify_items": null,
      "left": null,
      "margin": null,
      "max_height": null,
      "max_width": null,
      "min_height": null,
      "min_width": null,
      "object_fit": null,
      "object_position": null,
      "order": null,
      "overflow": null,
      "overflow_x": null,
      "overflow_y": null,
      "padding": null,
      "right": null,
      "top": null,
      "visibility": null,
      "width": null
     }
    },
    "b3ef303f06c240e7adfa15a74c331bd1": {
     "model_module": "@jupyter-widgets/base",
     "model_module_version": "1.2.0",
     "model_name": "LayoutModel",
     "state": {
      "_model_module": "@jupyter-widgets/base",
      "_model_module_version": "1.2.0",
      "_model_name": "LayoutModel",
      "_view_count": null,
      "_view_module": "@jupyter-widgets/base",
      "_view_module_version": "1.2.0",
      "_view_name": "LayoutView",
      "align_content": null,
      "align_items": null,
      "align_self": null,
      "border": null,
      "bottom": null,
      "display": null,
      "flex": null,
      "flex_flow": null,
      "grid_area": null,
      "grid_auto_columns": null,
      "grid_auto_flow": null,
      "grid_auto_rows": null,
      "grid_column": null,
      "grid_gap": null,
      "grid_row": null,
      "grid_template_areas": null,
      "grid_template_columns": null,
      "grid_template_rows": null,
      "height": null,
      "justify_content": null,
      "justify_items": null,
      "left": null,
      "margin": null,
      "max_height": null,
      "max_width": null,
      "min_height": null,
      "min_width": null,
      "object_fit": null,
      "object_position": null,
      "order": null,
      "overflow": null,
      "overflow_x": null,
      "overflow_y": null,
      "padding": null,
      "right": null,
      "top": null,
      "visibility": null,
      "width": null
     }
    },
    "b534e765aaac4030b5131e1c983d9d18": {
     "model_module": "@jupyter-widgets/controls",
     "model_module_version": "1.5.0",
     "model_name": "DescriptionStyleModel",
     "state": {
      "_model_module": "@jupyter-widgets/controls",
      "_model_module_version": "1.5.0",
      "_model_name": "DescriptionStyleModel",
      "_view_count": null,
      "_view_module": "@jupyter-widgets/base",
      "_view_module_version": "1.2.0",
      "_view_name": "StyleView",
      "description_width": ""
     }
    },
    "b5acf7ea2b5a47e28b60da7ebfd2a559": {
     "model_module": "@jupyter-widgets/controls",
     "model_module_version": "1.5.0",
     "model_name": "ProgressStyleModel",
     "state": {
      "_model_module": "@jupyter-widgets/controls",
      "_model_module_version": "1.5.0",
      "_model_name": "ProgressStyleModel",
      "_view_count": null,
      "_view_module": "@jupyter-widgets/base",
      "_view_module_version": "1.2.0",
      "_view_name": "StyleView",
      "bar_color": null,
      "description_width": ""
     }
    },
    "b66d2831fe8c45fc95db7114086100d6": {
     "model_module": "@jupyter-widgets/controls",
     "model_module_version": "1.5.0",
     "model_name": "HTMLModel",
     "state": {
      "_dom_classes": [],
      "_model_module": "@jupyter-widgets/controls",
      "_model_module_version": "1.5.0",
      "_model_name": "HTMLModel",
      "_view_count": null,
      "_view_module": "@jupyter-widgets/controls",
      "_view_module_version": "1.5.0",
      "_view_name": "HTMLView",
      "description": "",
      "description_tooltip": null,
      "layout": "IPY_MODEL_c53c949e6a294018b461b4c203ec59c6",
      "placeholder": "​",
      "style": "IPY_MODEL_f0471b7a29ce48a3a53e20b837f8edc5",
      "value": " 268M/268M [00:01&lt;00:00, 214MB/s]"
     }
    },
    "b683ec446cc043259624b964b7838a1c": {
     "model_module": "@jupyter-widgets/controls",
     "model_module_version": "1.5.0",
     "model_name": "HBoxModel",
     "state": {
      "_dom_classes": [],
      "_model_module": "@jupyter-widgets/controls",
      "_model_module_version": "1.5.0",
      "_model_name": "HBoxModel",
      "_view_count": null,
      "_view_module": "@jupyter-widgets/controls",
      "_view_module_version": "1.5.0",
      "_view_name": "HBoxView",
      "box_style": "",
      "children": [
       "IPY_MODEL_8202ec8d045d453f9f05fec0673c40d2",
       "IPY_MODEL_d2376ab63b6645398c1ac39e623cfe54",
       "IPY_MODEL_656cbb0ed91c4c52be75ae501fd287a9"
      ],
      "layout": "IPY_MODEL_527907647a8b43d2a3be5e2f9d8717d5"
     }
    },
    "b69dee3ad0e24e41901375bf7e975374": {
     "model_module": "@jupyter-widgets/controls",
     "model_module_version": "1.5.0",
     "model_name": "DescriptionStyleModel",
     "state": {
      "_model_module": "@jupyter-widgets/controls",
      "_model_module_version": "1.5.0",
      "_model_name": "DescriptionStyleModel",
      "_view_count": null,
      "_view_module": "@jupyter-widgets/base",
      "_view_module_version": "1.2.0",
      "_view_name": "StyleView",
      "description_width": ""
     }
    },
    "b78743182b2a48cfbb55493659d13eda": {
     "model_module": "@jupyter-widgets/controls",
     "model_module_version": "1.5.0",
     "model_name": "DescriptionStyleModel",
     "state": {
      "_model_module": "@jupyter-widgets/controls",
      "_model_module_version": "1.5.0",
      "_model_name": "DescriptionStyleModel",
      "_view_count": null,
      "_view_module": "@jupyter-widgets/base",
      "_view_module_version": "1.2.0",
      "_view_name": "StyleView",
      "description_width": ""
     }
    },
    "b8e356e097d4456d87efbc400c38d903": {
     "model_module": "@jupyter-widgets/base",
     "model_module_version": "1.2.0",
     "model_name": "LayoutModel",
     "state": {
      "_model_module": "@jupyter-widgets/base",
      "_model_module_version": "1.2.0",
      "_model_name": "LayoutModel",
      "_view_count": null,
      "_view_module": "@jupyter-widgets/base",
      "_view_module_version": "1.2.0",
      "_view_name": "LayoutView",
      "align_content": null,
      "align_items": null,
      "align_self": null,
      "border": null,
      "bottom": null,
      "display": null,
      "flex": null,
      "flex_flow": null,
      "grid_area": null,
      "grid_auto_columns": null,
      "grid_auto_flow": null,
      "grid_auto_rows": null,
      "grid_column": null,
      "grid_gap": null,
      "grid_row": null,
      "grid_template_areas": null,
      "grid_template_columns": null,
      "grid_template_rows": null,
      "height": null,
      "justify_content": null,
      "justify_items": null,
      "left": null,
      "margin": null,
      "max_height": null,
      "max_width": null,
      "min_height": null,
      "min_width": null,
      "object_fit": null,
      "object_position": null,
      "order": null,
      "overflow": null,
      "overflow_x": null,
      "overflow_y": null,
      "padding": null,
      "right": null,
      "top": null,
      "visibility": null,
      "width": null
     }
    },
    "bc7fb01539824ed3b40e6a64bd49f170": {
     "model_module": "@jupyter-widgets/controls",
     "model_module_version": "1.5.0",
     "model_name": "HTMLModel",
     "state": {
      "_dom_classes": [],
      "_model_module": "@jupyter-widgets/controls",
      "_model_module_version": "1.5.0",
      "_model_name": "HTMLModel",
      "_view_count": null,
      "_view_module": "@jupyter-widgets/controls",
      "_view_module_version": "1.5.0",
      "_view_name": "HTMLView",
      "description": "",
      "description_tooltip": null,
      "layout": "IPY_MODEL_88efedc4d7ec4874a6e6c33c64bb7f6b",
      "placeholder": "​",
      "style": "IPY_MODEL_a3a73c274cb646b1a0b4285822ab5fea",
      "value": "Downloading readme: 100%"
     }
    },
    "bcc36c197907483481148a33e69a7df1": {
     "model_module": "@jupyter-widgets/controls",
     "model_module_version": "1.5.0",
     "model_name": "HTMLModel",
     "state": {
      "_dom_classes": [],
      "_model_module": "@jupyter-widgets/controls",
      "_model_module_version": "1.5.0",
      "_model_name": "HTMLModel",
      "_view_count": null,
      "_view_module": "@jupyter-widgets/controls",
      "_view_module_version": "1.5.0",
      "_view_name": "HTMLView",
      "description": "",
      "description_tooltip": null,
      "layout": "IPY_MODEL_4694593f86fc407fb074c7398764cb0b",
      "placeholder": "​",
      "style": "IPY_MODEL_6fd7ed6eb8be4ab4ba10a530c85bda53",
      "value": " 28.2M/? [00:00&lt;00:00, 34.7MB/s]"
     }
    },
    "bcccef360d3a48b48a8fd5267e2cbac1": {
     "model_module": "@jupyter-widgets/controls",
     "model_module_version": "1.5.0",
     "model_name": "DescriptionStyleModel",
     "state": {
      "_model_module": "@jupyter-widgets/controls",
      "_model_module_version": "1.5.0",
      "_model_name": "DescriptionStyleModel",
      "_view_count": null,
      "_view_module": "@jupyter-widgets/base",
      "_view_module_version": "1.2.0",
      "_view_name": "StyleView",
      "description_width": ""
     }
    },
    "bd9d49c4b09a4160ba0c9feabe71e5b7": {
     "model_module": "@jupyter-widgets/controls",
     "model_module_version": "1.5.0",
     "model_name": "HTMLModel",
     "state": {
      "_dom_classes": [],
      "_model_module": "@jupyter-widgets/controls",
      "_model_module_version": "1.5.0",
      "_model_name": "HTMLModel",
      "_view_count": null,
      "_view_module": "@jupyter-widgets/controls",
      "_view_module_version": "1.5.0",
      "_view_name": "HTMLView",
      "description": "",
      "description_tooltip": null,
      "layout": "IPY_MODEL_12af9ff80b2244748fe27b4b568653ba",
      "placeholder": "​",
      "style": "IPY_MODEL_97e1a160f4674385aa526b3dcd558d91",
      "value": " 7.97k/7.97k [00:00&lt;00:00, 215kB/s]"
     }
    },
    "bedc32911c004e3cb3e969cc737bc218": {
     "model_module": "@jupyter-widgets/controls",
     "model_module_version": "1.5.0",
     "model_name": "DescriptionStyleModel",
     "state": {
      "_model_module": "@jupyter-widgets/controls",
      "_model_module_version": "1.5.0",
      "_model_name": "DescriptionStyleModel",
      "_view_count": null,
      "_view_module": "@jupyter-widgets/base",
      "_view_module_version": "1.2.0",
      "_view_name": "StyleView",
      "description_width": ""
     }
    },
    "bfc99b64273744c0a7f08c239468898d": {
     "model_module": "@jupyter-widgets/controls",
     "model_module_version": "1.5.0",
     "model_name": "HBoxModel",
     "state": {
      "_dom_classes": [],
      "_model_module": "@jupyter-widgets/controls",
      "_model_module_version": "1.5.0",
      "_model_name": "HBoxModel",
      "_view_count": null,
      "_view_module": "@jupyter-widgets/controls",
      "_view_module_version": "1.5.0",
      "_view_name": "HBoxView",
      "box_style": "",
      "children": [
       "IPY_MODEL_815f804fd31e423a90db7bc18a2f5120",
       "IPY_MODEL_2adb91dfc6ca4ce5b4bdd38612220c34",
       "IPY_MODEL_bcc36c197907483481148a33e69a7df1"
      ],
      "layout": "IPY_MODEL_a9698b33acaa4f4292a6ba8cf50b69e6"
     }
    },
    "c0c3ffacde344ac7a02b65c0ca3b8dd1": {
     "model_module": "@jupyter-widgets/controls",
     "model_module_version": "1.5.0",
     "model_name": "FloatProgressModel",
     "state": {
      "_dom_classes": [],
      "_model_module": "@jupyter-widgets/controls",
      "_model_module_version": "1.5.0",
      "_model_name": "FloatProgressModel",
      "_view_count": null,
      "_view_module": "@jupyter-widgets/controls",
      "_view_module_version": "1.5.0",
      "_view_name": "ProgressView",
      "bar_style": "success",
      "description": "",
      "description_tooltip": null,
      "layout": "IPY_MODEL_09fd3705aa0541e19a9ec7ad6d97fb39",
      "max": 10570,
      "min": 0,
      "orientation": "horizontal",
      "style": "IPY_MODEL_e7f0db8ca4324963845a9fe2813da142",
      "value": 10570
     }
    },
    "c0e77899d77644f4bc49d9bc520a1060": {
     "model_module": "@jupyter-widgets/base",
     "model_module_version": "1.2.0",
     "model_name": "LayoutModel",
     "state": {
      "_model_module": "@jupyter-widgets/base",
      "_model_module_version": "1.2.0",
      "_model_name": "LayoutModel",
      "_view_count": null,
      "_view_module": "@jupyter-widgets/base",
      "_view_module_version": "1.2.0",
      "_view_name": "LayoutView",
      "align_content": null,
      "align_items": null,
      "align_self": null,
      "border": null,
      "bottom": null,
      "display": null,
      "flex": null,
      "flex_flow": null,
      "grid_area": null,
      "grid_auto_columns": null,
      "grid_auto_flow": null,
      "grid_auto_rows": null,
      "grid_column": null,
      "grid_gap": null,
      "grid_row": null,
      "grid_template_areas": null,
      "grid_template_columns": null,
      "grid_template_rows": null,
      "height": null,
      "justify_content": null,
      "justify_items": null,
      "left": null,
      "margin": null,
      "max_height": null,
      "max_width": null,
      "min_height": null,
      "min_width": null,
      "object_fit": null,
      "object_position": null,
      "order": null,
      "overflow": null,
      "overflow_x": null,
      "overflow_y": null,
      "padding": null,
      "right": null,
      "top": null,
      "visibility": null,
      "width": null
     }
    },
    "c1d8ea98ec5e4b12b3c80af5b30265d6": {
     "model_module": "@jupyter-widgets/controls",
     "model_module_version": "1.5.0",
     "model_name": "HTMLModel",
     "state": {
      "_dom_classes": [],
      "_model_module": "@jupyter-widgets/controls",
      "_model_module_version": "1.5.0",
      "_model_name": "HTMLModel",
      "_view_count": null,
      "_view_module": "@jupyter-widgets/controls",
      "_view_module_version": "1.5.0",
      "_view_name": "HTMLView",
      "description": "",
      "description_tooltip": null,
      "layout": "IPY_MODEL_048ede0b4f744550a81b0b8d6d62dc7a",
      "placeholder": "​",
      "style": "IPY_MODEL_b2135ca6b2154776ab74e327b1b4cc12",
      "value": "Downloading data: "
     }
    },
    "c1e3da2dd94745e3877fe4dbb54710b9": {
     "model_module": "@jupyter-widgets/controls",
     "model_module_version": "1.5.0",
     "model_name": "HTMLModel",
     "state": {
      "_dom_classes": [],
      "_model_module": "@jupyter-widgets/controls",
      "_model_module_version": "1.5.0",
      "_model_name": "HTMLModel",
      "_view_count": null,
      "_view_module": "@jupyter-widgets/controls",
      "_view_module_version": "1.5.0",
      "_view_name": "HTMLView",
      "description": "",
      "description_tooltip": null,
      "layout": "IPY_MODEL_9b25f1c8b2be434ca60c2be8342d9ad2",
      "placeholder": "​",
      "style": "IPY_MODEL_bedc32911c004e3cb3e969cc737bc218",
      "value": "Map: 100%"
     }
    },
    "c3116cbff21e45d89abf76206bb3c73d": {
     "model_module": "@jupyter-widgets/controls",
     "model_module_version": "1.5.0",
     "model_name": "DescriptionStyleModel",
     "state": {
      "_model_module": "@jupyter-widgets/controls",
      "_model_module_version": "1.5.0",
      "_model_name": "DescriptionStyleModel",
      "_view_count": null,
      "_view_module": "@jupyter-widgets/base",
      "_view_module_version": "1.2.0",
      "_view_name": "StyleView",
      "description_width": ""
     }
    },
    "c317e32e45804f119446664a8e7995f3": {
     "model_module": "@jupyter-widgets/base",
     "model_module_version": "1.2.0",
     "model_name": "LayoutModel",
     "state": {
      "_model_module": "@jupyter-widgets/base",
      "_model_module_version": "1.2.0",
      "_model_name": "LayoutModel",
      "_view_count": null,
      "_view_module": "@jupyter-widgets/base",
      "_view_module_version": "1.2.0",
      "_view_name": "LayoutView",
      "align_content": null,
      "align_items": null,
      "align_self": null,
      "border": null,
      "bottom": null,
      "display": null,
      "flex": null,
      "flex_flow": null,
      "grid_area": null,
      "grid_auto_columns": null,
      "grid_auto_flow": null,
      "grid_auto_rows": null,
      "grid_column": null,
      "grid_gap": null,
      "grid_row": null,
      "grid_template_areas": null,
      "grid_template_columns": null,
      "grid_template_rows": null,
      "height": null,
      "justify_content": null,
      "justify_items": null,
      "left": null,
      "margin": null,
      "max_height": null,
      "max_width": null,
      "min_height": null,
      "min_width": null,
      "object_fit": null,
      "object_position": null,
      "order": null,
      "overflow": null,
      "overflow_x": null,
      "overflow_y": null,
      "padding": null,
      "right": null,
      "top": null,
      "visibility": null,
      "width": null
     }
    },
    "c3d5368f656d4991b90f588858492641": {
     "model_module": "@jupyter-widgets/controls",
     "model_module_version": "1.5.0",
     "model_name": "HTMLModel",
     "state": {
      "_dom_classes": [],
      "_model_module": "@jupyter-widgets/controls",
      "_model_module_version": "1.5.0",
      "_model_name": "HTMLModel",
      "_view_count": null,
      "_view_module": "@jupyter-widgets/controls",
      "_view_module_version": "1.5.0",
      "_view_name": "HTMLView",
      "description": "",
      "description_tooltip": null,
      "layout": "IPY_MODEL_038fcd59bf3a47a4b3769952847063e9",
      "placeholder": "​",
      "style": "IPY_MODEL_72393d1c834f4d6ab21bcc63e9803275",
      "value": "Map: 100%"
     }
    },
    "c4fd4aeab87a4f249385f5d7ad1365ed": {
     "model_module": "@jupyter-widgets/controls",
     "model_module_version": "1.5.0",
     "model_name": "DescriptionStyleModel",
     "state": {
      "_model_module": "@jupyter-widgets/controls",
      "_model_module_version": "1.5.0",
      "_model_name": "DescriptionStyleModel",
      "_view_count": null,
      "_view_module": "@jupyter-widgets/base",
      "_view_module_version": "1.2.0",
      "_view_name": "StyleView",
      "description_width": ""
     }
    },
    "c53c949e6a294018b461b4c203ec59c6": {
     "model_module": "@jupyter-widgets/base",
     "model_module_version": "1.2.0",
     "model_name": "LayoutModel",
     "state": {
      "_model_module": "@jupyter-widgets/base",
      "_model_module_version": "1.2.0",
      "_model_name": "LayoutModel",
      "_view_count": null,
      "_view_module": "@jupyter-widgets/base",
      "_view_module_version": "1.2.0",
      "_view_name": "LayoutView",
      "align_content": null,
      "align_items": null,
      "align_self": null,
      "border": null,
      "bottom": null,
      "display": null,
      "flex": null,
      "flex_flow": null,
      "grid_area": null,
      "grid_auto_columns": null,
      "grid_auto_flow": null,
      "grid_auto_rows": null,
      "grid_column": null,
      "grid_gap": null,
      "grid_row": null,
      "grid_template_areas": null,
      "grid_template_columns": null,
      "grid_template_rows": null,
      "height": null,
      "justify_content": null,
      "justify_items": null,
      "left": null,
      "margin": null,
      "max_height": null,
      "max_width": null,
      "min_height": null,
      "min_width": null,
      "object_fit": null,
      "object_position": null,
      "order": null,
      "overflow": null,
      "overflow_x": null,
      "overflow_y": null,
      "padding": null,
      "right": null,
      "top": null,
      "visibility": null,
      "width": null
     }
    },
    "c75bd14a421041eab0404fa5bd148a7b": {
     "model_module": "@jupyter-widgets/controls",
     "model_module_version": "1.5.0",
     "model_name": "FloatProgressModel",
     "state": {
      "_dom_classes": [],
      "_model_module": "@jupyter-widgets/controls",
      "_model_module_version": "1.5.0",
      "_model_name": "FloatProgressModel",
      "_view_count": null,
      "_view_module": "@jupyter-widgets/controls",
      "_view_module_version": "1.5.0",
      "_view_name": "ProgressView",
      "bar_style": "success",
      "description": "",
      "description_tooltip": null,
      "layout": "IPY_MODEL_e4771723405b4c58b78c4d91cabf7478",
      "max": 2214653,
      "min": 0,
      "orientation": "horizontal",
      "style": "IPY_MODEL_5e7ceed356c541c18b9f73fb99bc2dd8",
      "value": 2214653
     }
    },
    "ca62dbfc3bfe4414b1e218c05ddbd25f": {
     "model_module": "@jupyter-widgets/base",
     "model_module_version": "1.2.0",
     "model_name": "LayoutModel",
     "state": {
      "_model_module": "@jupyter-widgets/base",
      "_model_module_version": "1.2.0",
      "_model_name": "LayoutModel",
      "_view_count": null,
      "_view_module": "@jupyter-widgets/base",
      "_view_module_version": "1.2.0",
      "_view_name": "LayoutView",
      "align_content": null,
      "align_items": null,
      "align_self": null,
      "border": null,
      "bottom": null,
      "display": null,
      "flex": null,
      "flex_flow": null,
      "grid_area": null,
      "grid_auto_columns": null,
      "grid_auto_flow": null,
      "grid_auto_rows": null,
      "grid_column": null,
      "grid_gap": null,
      "grid_row": null,
      "grid_template_areas": null,
      "grid_template_columns": null,
      "grid_template_rows": null,
      "height": null,
      "justify_content": null,
      "justify_items": null,
      "left": null,
      "margin": null,
      "max_height": null,
      "max_width": null,
      "min_height": null,
      "min_width": null,
      "object_fit": null,
      "object_position": null,
      "order": null,
      "overflow": null,
      "overflow_x": null,
      "overflow_y": null,
      "padding": null,
      "right": null,
      "top": null,
      "visibility": null,
      "width": null
     }
    },
    "cc70c22a09aa4e9bb59a44fc13e1b704": {
     "model_module": "@jupyter-widgets/controls",
     "model_module_version": "1.5.0",
     "model_name": "HBoxModel",
     "state": {
      "_dom_classes": [],
      "_model_module": "@jupyter-widgets/controls",
      "_model_module_version": "1.5.0",
      "_model_name": "HBoxModel",
      "_view_count": null,
      "_view_module": "@jupyter-widgets/controls",
      "_view_module_version": "1.5.0",
      "_view_name": "HBoxView",
      "box_style": "",
      "children": [
       "IPY_MODEL_88cabdcb414d41b8b98cad547cc6f4e1",
       "IPY_MODEL_6e14eb0e362549e5ab0666a4115a3320",
       "IPY_MODEL_89b90efa2aa04be5aade9d8da2743ae9"
      ],
      "layout": "IPY_MODEL_756cfdb7d7834909a5e627ca92587fe6"
     }
    },
    "ccf3b25064e84028a56fa72def598730": {
     "model_module": "@jupyter-widgets/base",
     "model_module_version": "1.2.0",
     "model_name": "LayoutModel",
     "state": {
      "_model_module": "@jupyter-widgets/base",
      "_model_module_version": "1.2.0",
      "_model_name": "LayoutModel",
      "_view_count": null,
      "_view_module": "@jupyter-widgets/base",
      "_view_module_version": "1.2.0",
      "_view_name": "LayoutView",
      "align_content": null,
      "align_items": null,
      "align_self": null,
      "border": null,
      "bottom": null,
      "display": null,
      "flex": null,
      "flex_flow": null,
      "grid_area": null,
      "grid_auto_columns": null,
      "grid_auto_flow": null,
      "grid_auto_rows": null,
      "grid_column": null,
      "grid_gap": null,
      "grid_row": null,
      "grid_template_areas": null,
      "grid_template_columns": null,
      "grid_template_rows": null,
      "height": null,
      "justify_content": null,
      "justify_items": null,
      "left": null,
      "margin": null,
      "max_height": null,
      "max_width": null,
      "min_height": null,
      "min_width": null,
      "object_fit": null,
      "object_position": null,
      "order": null,
      "overflow": null,
      "overflow_x": null,
      "overflow_y": null,
      "padding": null,
      "right": null,
      "top": null,
      "visibility": null,
      "width": null
     }
    },
    "cee4c7551a784b9b9cb5bc5554078677": {
     "model_module": "@jupyter-widgets/base",
     "model_module_version": "1.2.0",
     "model_name": "LayoutModel",
     "state": {
      "_model_module": "@jupyter-widgets/base",
      "_model_module_version": "1.2.0",
      "_model_name": "LayoutModel",
      "_view_count": null,
      "_view_module": "@jupyter-widgets/base",
      "_view_module_version": "1.2.0",
      "_view_name": "LayoutView",
      "align_content": null,
      "align_items": null,
      "align_self": null,
      "border": null,
      "bottom": null,
      "display": null,
      "flex": null,
      "flex_flow": null,
      "grid_area": null,
      "grid_auto_columns": null,
      "grid_auto_flow": null,
      "grid_auto_rows": null,
      "grid_column": null,
      "grid_gap": null,
      "grid_row": null,
      "grid_template_areas": null,
      "grid_template_columns": null,
      "grid_template_rows": null,
      "height": null,
      "justify_content": null,
      "justify_items": null,
      "left": null,
      "margin": null,
      "max_height": null,
      "max_width": null,
      "min_height": null,
      "min_width": null,
      "object_fit": null,
      "object_position": null,
      "order": null,
      "overflow": null,
      "overflow_x": null,
      "overflow_y": null,
      "padding": null,
      "right": null,
      "top": null,
      "visibility": null,
      "width": null
     }
    },
    "cf46307de9864d73bdb1a7706b5c21b1": {
     "model_module": "@jupyter-widgets/controls",
     "model_module_version": "1.5.0",
     "model_name": "ProgressStyleModel",
     "state": {
      "_model_module": "@jupyter-widgets/controls",
      "_model_module_version": "1.5.0",
      "_model_name": "ProgressStyleModel",
      "_view_count": null,
      "_view_module": "@jupyter-widgets/base",
      "_view_module_version": "1.2.0",
      "_view_name": "StyleView",
      "bar_color": null,
      "description_width": ""
     }
    },
    "d05ef6e8c22e4969a33d272608d64c87": {
     "model_module": "@jupyter-widgets/controls",
     "model_module_version": "1.5.0",
     "model_name": "DescriptionStyleModel",
     "state": {
      "_model_module": "@jupyter-widgets/controls",
      "_model_module_version": "1.5.0",
      "_model_name": "DescriptionStyleModel",
      "_view_count": null,
      "_view_module": "@jupyter-widgets/base",
      "_view_module_version": "1.2.0",
      "_view_name": "StyleView",
      "description_width": ""
     }
    },
    "d0c28eeb77784a7ca259e99b769305b7": {
     "model_module": "@jupyter-widgets/base",
     "model_module_version": "1.2.0",
     "model_name": "LayoutModel",
     "state": {
      "_model_module": "@jupyter-widgets/base",
      "_model_module_version": "1.2.0",
      "_model_name": "LayoutModel",
      "_view_count": null,
      "_view_module": "@jupyter-widgets/base",
      "_view_module_version": "1.2.0",
      "_view_name": "LayoutView",
      "align_content": null,
      "align_items": null,
      "align_self": null,
      "border": null,
      "bottom": null,
      "display": null,
      "flex": null,
      "flex_flow": null,
      "grid_area": null,
      "grid_auto_columns": null,
      "grid_auto_flow": null,
      "grid_auto_rows": null,
      "grid_column": null,
      "grid_gap": null,
      "grid_row": null,
      "grid_template_areas": null,
      "grid_template_columns": null,
      "grid_template_rows": null,
      "height": null,
      "justify_content": null,
      "justify_items": null,
      "left": null,
      "margin": null,
      "max_height": null,
      "max_width": null,
      "min_height": null,
      "min_width": null,
      "object_fit": null,
      "object_position": null,
      "order": null,
      "overflow": null,
      "overflow_x": null,
      "overflow_y": null,
      "padding": null,
      "right": null,
      "top": null,
      "visibility": null,
      "width": null
     }
    },
    "d2376ab63b6645398c1ac39e623cfe54": {
     "model_module": "@jupyter-widgets/controls",
     "model_module_version": "1.5.0",
     "model_name": "FloatProgressModel",
     "state": {
      "_dom_classes": [],
      "_model_module": "@jupyter-widgets/controls",
      "_model_module_version": "1.5.0",
      "_model_name": "FloatProgressModel",
      "_view_count": null,
      "_view_module": "@jupyter-widgets/controls",
      "_view_module_version": "1.5.0",
      "_view_name": "ProgressView",
      "bar_style": "success",
      "description": "",
      "description_tooltip": null,
      "layout": "IPY_MODEL_5e48169a17d74e18aca086d3111c5dee",
      "max": 87599,
      "min": 0,
      "orientation": "horizontal",
      "style": "IPY_MODEL_e1a9f5d12c114b818423799ab22f4e5b",
      "value": 87599
     }
    },
    "d5ec3b3f1a004067b03a38ab891e7a4f": {
     "model_module": "@jupyter-widgets/base",
     "model_module_version": "1.2.0",
     "model_name": "LayoutModel",
     "state": {
      "_model_module": "@jupyter-widgets/base",
      "_model_module_version": "1.2.0",
      "_model_name": "LayoutModel",
      "_view_count": null,
      "_view_module": "@jupyter-widgets/base",
      "_view_module_version": "1.2.0",
      "_view_name": "LayoutView",
      "align_content": null,
      "align_items": null,
      "align_self": null,
      "border": null,
      "bottom": null,
      "display": null,
      "flex": null,
      "flex_flow": null,
      "grid_area": null,
      "grid_auto_columns": null,
      "grid_auto_flow": null,
      "grid_auto_rows": null,
      "grid_column": null,
      "grid_gap": null,
      "grid_row": null,
      "grid_template_areas": null,
      "grid_template_columns": null,
      "grid_template_rows": null,
      "height": null,
      "justify_content": null,
      "justify_items": null,
      "left": null,
      "margin": null,
      "max_height": null,
      "max_width": null,
      "min_height": null,
      "min_width": null,
      "object_fit": null,
      "object_position": null,
      "order": null,
      "overflow": null,
      "overflow_x": null,
      "overflow_y": null,
      "padding": null,
      "right": null,
      "top": null,
      "visibility": null,
      "width": null
     }
    },
    "d5fdcfd56c304acaacc838ba19c9ad7a": {
     "model_module": "@jupyter-widgets/base",
     "model_module_version": "1.2.0",
     "model_name": "LayoutModel",
     "state": {
      "_model_module": "@jupyter-widgets/base",
      "_model_module_version": "1.2.0",
      "_model_name": "LayoutModel",
      "_view_count": null,
      "_view_module": "@jupyter-widgets/base",
      "_view_module_version": "1.2.0",
      "_view_name": "LayoutView",
      "align_content": null,
      "align_items": null,
      "align_self": null,
      "border": null,
      "bottom": null,
      "display": null,
      "flex": null,
      "flex_flow": null,
      "grid_area": null,
      "grid_auto_columns": null,
      "grid_auto_flow": null,
      "grid_auto_rows": null,
      "grid_column": null,
      "grid_gap": null,
      "grid_row": null,
      "grid_template_areas": null,
      "grid_template_columns": null,
      "grid_template_rows": null,
      "height": null,
      "justify_content": null,
      "justify_items": null,
      "left": null,
      "margin": null,
      "max_height": null,
      "max_width": null,
      "min_height": null,
      "min_width": null,
      "object_fit": null,
      "object_position": null,
      "order": null,
      "overflow": null,
      "overflow_x": null,
      "overflow_y": null,
      "padding": null,
      "right": null,
      "top": null,
      "visibility": null,
      "width": null
     }
    },
    "d71c646c38514dd7a9ebf7674160fc38": {
     "model_module": "@jupyter-widgets/controls",
     "model_module_version": "1.5.0",
     "model_name": "HTMLModel",
     "state": {
      "_dom_classes": [],
      "_model_module": "@jupyter-widgets/controls",
      "_model_module_version": "1.5.0",
      "_model_name": "HTMLModel",
      "_view_count": null,
      "_view_module": "@jupyter-widgets/controls",
      "_view_module_version": "1.5.0",
      "_view_name": "HTMLView",
      "description": "",
      "description_tooltip": null,
      "layout": "IPY_MODEL_ca62dbfc3bfe4414b1e218c05ddbd25f",
      "placeholder": "​",
      "style": "IPY_MODEL_d05ef6e8c22e4969a33d272608d64c87",
      "value": " 7.82M/? [00:00&lt;00:00, 25.7MB/s]"
     }
    },
    "d7e2e58ac55040be95093b4c7bc6661d": {
     "model_module": "@jupyter-widgets/base",
     "model_module_version": "1.2.0",
     "model_name": "LayoutModel",
     "state": {
      "_model_module": "@jupyter-widgets/base",
      "_model_module_version": "1.2.0",
      "_model_name": "LayoutModel",
      "_view_count": null,
      "_view_module": "@jupyter-widgets/base",
      "_view_module_version": "1.2.0",
      "_view_name": "LayoutView",
      "align_content": null,
      "align_items": null,
      "align_self": null,
      "border": null,
      "bottom": null,
      "display": null,
      "flex": null,
      "flex_flow": null,
      "grid_area": null,
      "grid_auto_columns": null,
      "grid_auto_flow": null,
      "grid_auto_rows": null,
      "grid_column": null,
      "grid_gap": null,
      "grid_row": null,
      "grid_template_areas": null,
      "grid_template_columns": null,
      "grid_template_rows": null,
      "height": null,
      "justify_content": null,
      "justify_items": null,
      "left": null,
      "margin": null,
      "max_height": null,
      "max_width": null,
      "min_height": null,
      "min_width": null,
      "object_fit": null,
      "object_position": null,
      "order": null,
      "overflow": null,
      "overflow_x": null,
      "overflow_y": null,
      "padding": null,
      "right": null,
      "top": null,
      "visibility": null,
      "width": null
     }
    },
    "d7f74ea302c24594945a792671147e83": {
     "model_module": "@jupyter-widgets/controls",
     "model_module_version": "1.5.0",
     "model_name": "DescriptionStyleModel",
     "state": {
      "_model_module": "@jupyter-widgets/controls",
      "_model_module_version": "1.5.0",
      "_model_name": "DescriptionStyleModel",
      "_view_count": null,
      "_view_module": "@jupyter-widgets/base",
      "_view_module_version": "1.2.0",
      "_view_name": "StyleView",
      "description_width": ""
     }
    },
    "d91659f703304535ba1892cc1ecc7638": {
     "model_module": "@jupyter-widgets/base",
     "model_module_version": "1.2.0",
     "model_name": "LayoutModel",
     "state": {
      "_model_module": "@jupyter-widgets/base",
      "_model_module_version": "1.2.0",
      "_model_name": "LayoutModel",
      "_view_count": null,
      "_view_module": "@jupyter-widgets/base",
      "_view_module_version": "1.2.0",
      "_view_name": "LayoutView",
      "align_content": null,
      "align_items": null,
      "align_self": null,
      "border": null,
      "bottom": null,
      "display": null,
      "flex": null,
      "flex_flow": null,
      "grid_area": null,
      "grid_auto_columns": null,
      "grid_auto_flow": null,
      "grid_auto_rows": null,
      "grid_column": null,
      "grid_gap": null,
      "grid_row": null,
      "grid_template_areas": null,
      "grid_template_columns": null,
      "grid_template_rows": null,
      "height": null,
      "justify_content": null,
      "justify_items": null,
      "left": null,
      "margin": null,
      "max_height": null,
      "max_width": null,
      "min_height": null,
      "min_width": null,
      "object_fit": null,
      "object_position": null,
      "order": null,
      "overflow": null,
      "overflow_x": null,
      "overflow_y": null,
      "padding": null,
      "right": null,
      "top": null,
      "visibility": null,
      "width": null
     }
    },
    "d9c93a96706f4faab788fc9ee49298d4": {
     "model_module": "@jupyter-widgets/base",
     "model_module_version": "1.2.0",
     "model_name": "LayoutModel",
     "state": {
      "_model_module": "@jupyter-widgets/base",
      "_model_module_version": "1.2.0",
      "_model_name": "LayoutModel",
      "_view_count": null,
      "_view_module": "@jupyter-widgets/base",
      "_view_module_version": "1.2.0",
      "_view_name": "LayoutView",
      "align_content": null,
      "align_items": null,
      "align_self": null,
      "border": null,
      "bottom": null,
      "display": null,
      "flex": null,
      "flex_flow": null,
      "grid_area": null,
      "grid_auto_columns": null,
      "grid_auto_flow": null,
      "grid_auto_rows": null,
      "grid_column": null,
      "grid_gap": null,
      "grid_row": null,
      "grid_template_areas": null,
      "grid_template_columns": null,
      "grid_template_rows": null,
      "height": null,
      "justify_content": null,
      "justify_items": null,
      "left": null,
      "margin": null,
      "max_height": null,
      "max_width": null,
      "min_height": null,
      "min_width": null,
      "object_fit": null,
      "object_position": null,
      "order": null,
      "overflow": null,
      "overflow_x": null,
      "overflow_y": null,
      "padding": null,
      "right": null,
      "top": null,
      "visibility": null,
      "width": null
     }
    },
    "dc9fda7e6f684aceb3439da5f018c6a5": {
     "model_module": "@jupyter-widgets/base",
     "model_module_version": "1.2.0",
     "model_name": "LayoutModel",
     "state": {
      "_model_module": "@jupyter-widgets/base",
      "_model_module_version": "1.2.0",
      "_model_name": "LayoutModel",
      "_view_count": null,
      "_view_module": "@jupyter-widgets/base",
      "_view_module_version": "1.2.0",
      "_view_name": "LayoutView",
      "align_content": null,
      "align_items": null,
      "align_self": null,
      "border": null,
      "bottom": null,
      "display": null,
      "flex": null,
      "flex_flow": null,
      "grid_area": null,
      "grid_auto_columns": null,
      "grid_auto_flow": null,
      "grid_auto_rows": null,
      "grid_column": null,
      "grid_gap": null,
      "grid_row": null,
      "grid_template_areas": null,
      "grid_template_columns": null,
      "grid_template_rows": null,
      "height": null,
      "justify_content": null,
      "justify_items": null,
      "left": null,
      "margin": null,
      "max_height": null,
      "max_width": null,
      "min_height": null,
      "min_width": null,
      "object_fit": null,
      "object_position": null,
      "order": null,
      "overflow": null,
      "overflow_x": null,
      "overflow_y": null,
      "padding": null,
      "right": null,
      "top": null,
      "visibility": null,
      "width": null
     }
    },
    "dd32ad5b086248ccb70ae17f539fcdb6": {
     "model_module": "@jupyter-widgets/controls",
     "model_module_version": "1.5.0",
     "model_name": "HTMLModel",
     "state": {
      "_dom_classes": [],
      "_model_module": "@jupyter-widgets/controls",
      "_model_module_version": "1.5.0",
      "_model_name": "HTMLModel",
      "_view_count": null,
      "_view_module": "@jupyter-widgets/controls",
      "_view_module_version": "1.5.0",
      "_view_name": "HTMLView",
      "description": "",
      "description_tooltip": null,
      "layout": "IPY_MODEL_d5ec3b3f1a004067b03a38ab891e7a4f",
      "placeholder": "​",
      "style": "IPY_MODEL_ad64b9007f56409fa3f947ffeadabf41",
      "value": " 73546/73546 [00:51&lt;00:00, 2066.57 examples/s]"
     }
    },
    "def60e8dc5b24452a95746baebf5aa50": {
     "model_module": "@jupyter-widgets/base",
     "model_module_version": "1.2.0",
     "model_name": "LayoutModel",
     "state": {
      "_model_module": "@jupyter-widgets/base",
      "_model_module_version": "1.2.0",
      "_model_name": "LayoutModel",
      "_view_count": null,
      "_view_module": "@jupyter-widgets/base",
      "_view_module_version": "1.2.0",
      "_view_name": "LayoutView",
      "align_content": null,
      "align_items": null,
      "align_self": null,
      "border": null,
      "bottom": null,
      "display": null,
      "flex": null,
      "flex_flow": null,
      "grid_area": null,
      "grid_auto_columns": null,
      "grid_auto_flow": null,
      "grid_auto_rows": null,
      "grid_column": null,
      "grid_gap": null,
      "grid_row": null,
      "grid_template_areas": null,
      "grid_template_columns": null,
      "grid_template_rows": null,
      "height": null,
      "justify_content": null,
      "justify_items": null,
      "left": null,
      "margin": null,
      "max_height": null,
      "max_width": null,
      "min_height": null,
      "min_width": null,
      "object_fit": null,
      "object_position": null,
      "order": null,
      "overflow": null,
      "overflow_x": null,
      "overflow_y": null,
      "padding": null,
      "right": null,
      "top": null,
      "visibility": null,
      "width": null
     }
    },
    "dfdd4f96d77b421b81d3f77f3d875e80": {
     "model_module": "@jupyter-widgets/controls",
     "model_module_version": "1.5.0",
     "model_name": "ProgressStyleModel",
     "state": {
      "_model_module": "@jupyter-widgets/controls",
      "_model_module_version": "1.5.0",
      "_model_name": "ProgressStyleModel",
      "_view_count": null,
      "_view_module": "@jupyter-widgets/base",
      "_view_module_version": "1.2.0",
      "_view_name": "StyleView",
      "bar_color": null,
      "description_width": ""
     }
    },
    "e1a9f5d12c114b818423799ab22f4e5b": {
     "model_module": "@jupyter-widgets/controls",
     "model_module_version": "1.5.0",
     "model_name": "ProgressStyleModel",
     "state": {
      "_model_module": "@jupyter-widgets/controls",
      "_model_module_version": "1.5.0",
      "_model_name": "ProgressStyleModel",
      "_view_count": null,
      "_view_module": "@jupyter-widgets/base",
      "_view_module_version": "1.2.0",
      "_view_name": "StyleView",
      "bar_color": null,
      "description_width": ""
     }
    },
    "e1c2b68a0ba841bea1c7e43243e2f2fe": {
     "model_module": "@jupyter-widgets/base",
     "model_module_version": "1.2.0",
     "model_name": "LayoutModel",
     "state": {
      "_model_module": "@jupyter-widgets/base",
      "_model_module_version": "1.2.0",
      "_model_name": "LayoutModel",
      "_view_count": null,
      "_view_module": "@jupyter-widgets/base",
      "_view_module_version": "1.2.0",
      "_view_name": "LayoutView",
      "align_content": null,
      "align_items": null,
      "align_self": null,
      "border": null,
      "bottom": null,
      "display": null,
      "flex": null,
      "flex_flow": null,
      "grid_area": null,
      "grid_auto_columns": null,
      "grid_auto_flow": null,
      "grid_auto_rows": null,
      "grid_column": null,
      "grid_gap": null,
      "grid_row": null,
      "grid_template_areas": null,
      "grid_template_columns": null,
      "grid_template_rows": null,
      "height": null,
      "justify_content": null,
      "justify_items": null,
      "left": null,
      "margin": null,
      "max_height": null,
      "max_width": null,
      "min_height": null,
      "min_width": null,
      "object_fit": null,
      "object_position": null,
      "order": null,
      "overflow": null,
      "overflow_x": null,
      "overflow_y": null,
      "padding": null,
      "right": null,
      "top": null,
      "visibility": null,
      "width": null
     }
    },
    "e205e40b0612405c983e2b81dadaad6a": {
     "model_module": "@jupyter-widgets/base",
     "model_module_version": "1.2.0",
     "model_name": "LayoutModel",
     "state": {
      "_model_module": "@jupyter-widgets/base",
      "_model_module_version": "1.2.0",
      "_model_name": "LayoutModel",
      "_view_count": null,
      "_view_module": "@jupyter-widgets/base",
      "_view_module_version": "1.2.0",
      "_view_name": "LayoutView",
      "align_content": null,
      "align_items": null,
      "align_self": null,
      "border": null,
      "bottom": null,
      "display": null,
      "flex": null,
      "flex_flow": null,
      "grid_area": null,
      "grid_auto_columns": null,
      "grid_auto_flow": null,
      "grid_auto_rows": null,
      "grid_column": null,
      "grid_gap": null,
      "grid_row": null,
      "grid_template_areas": null,
      "grid_template_columns": null,
      "grid_template_rows": null,
      "height": null,
      "justify_content": null,
      "justify_items": null,
      "left": null,
      "margin": null,
      "max_height": null,
      "max_width": null,
      "min_height": null,
      "min_width": null,
      "object_fit": null,
      "object_position": null,
      "order": null,
      "overflow": null,
      "overflow_x": null,
      "overflow_y": null,
      "padding": null,
      "right": null,
      "top": null,
      "visibility": null,
      "width": null
     }
    },
    "e3fe174194ae414ca3454e47bf9a334f": {
     "model_module": "@jupyter-widgets/controls",
     "model_module_version": "1.5.0",
     "model_name": "HTMLModel",
     "state": {
      "_dom_classes": [],
      "_model_module": "@jupyter-widgets/controls",
      "_model_module_version": "1.5.0",
      "_model_name": "HTMLModel",
      "_view_count": null,
      "_view_module": "@jupyter-widgets/controls",
      "_view_module_version": "1.5.0",
      "_view_name": "HTMLView",
      "description": "",
      "description_tooltip": null,
      "layout": "IPY_MODEL_42c61c3c747c4240afab1d6979c9714e",
      "placeholder": "​",
      "style": "IPY_MODEL_58f7e282bcfd4abd99423e3591e6aa09",
      "value": "Generating validation split: 100%"
     }
    },
    "e4771723405b4c58b78c4d91cabf7478": {
     "model_module": "@jupyter-widgets/base",
     "model_module_version": "1.2.0",
     "model_name": "LayoutModel",
     "state": {
      "_model_module": "@jupyter-widgets/base",
      "_model_module_version": "1.2.0",
      "_model_name": "LayoutModel",
      "_view_count": null,
      "_view_module": "@jupyter-widgets/base",
      "_view_module_version": "1.2.0",
      "_view_name": "LayoutView",
      "align_content": null,
      "align_items": null,
      "align_self": null,
      "border": null,
      "bottom": null,
      "display": null,
      "flex": null,
      "flex_flow": null,
      "grid_area": null,
      "grid_auto_columns": null,
      "grid_auto_flow": null,
      "grid_auto_rows": null,
      "grid_column": null,
      "grid_gap": null,
      "grid_row": null,
      "grid_template_areas": null,
      "grid_template_columns": null,
      "grid_template_rows": null,
      "height": null,
      "justify_content": null,
      "justify_items": null,
      "left": null,
      "margin": null,
      "max_height": null,
      "max_width": null,
      "min_height": null,
      "min_width": null,
      "object_fit": null,
      "object_position": null,
      "order": null,
      "overflow": null,
      "overflow_x": null,
      "overflow_y": null,
      "padding": null,
      "right": null,
      "top": null,
      "visibility": null,
      "width": null
     }
    },
    "e6cb76b02cb643ff89f2308b80f1a786": {
     "model_module": "@jupyter-widgets/controls",
     "model_module_version": "1.5.0",
     "model_name": "DescriptionStyleModel",
     "state": {
      "_model_module": "@jupyter-widgets/controls",
      "_model_module_version": "1.5.0",
      "_model_name": "DescriptionStyleModel",
      "_view_count": null,
      "_view_module": "@jupyter-widgets/base",
      "_view_module_version": "1.2.0",
      "_view_name": "StyleView",
      "description_width": ""
     }
    },
    "e7f0db8ca4324963845a9fe2813da142": {
     "model_module": "@jupyter-widgets/controls",
     "model_module_version": "1.5.0",
     "model_name": "ProgressStyleModel",
     "state": {
      "_model_module": "@jupyter-widgets/controls",
      "_model_module_version": "1.5.0",
      "_model_name": "ProgressStyleModel",
      "_view_count": null,
      "_view_module": "@jupyter-widgets/base",
      "_view_module_version": "1.2.0",
      "_view_name": "StyleView",
      "bar_color": null,
      "description_width": ""
     }
    },
    "e8da71681472490c841abfcf723e022c": {
     "model_module": "@jupyter-widgets/controls",
     "model_module_version": "1.5.0",
     "model_name": "HBoxModel",
     "state": {
      "_dom_classes": [],
      "_model_module": "@jupyter-widgets/controls",
      "_model_module_version": "1.5.0",
      "_model_name": "HBoxModel",
      "_view_count": null,
      "_view_module": "@jupyter-widgets/controls",
      "_view_module_version": "1.5.0",
      "_view_name": "HBoxView",
      "box_style": "",
      "children": [
       "IPY_MODEL_4c313c6acb684eb6bf042a051b8b77c3",
       "IPY_MODEL_22c5e03baaae4de18526423f2bced1e9",
       "IPY_MODEL_958378588fa1429dbf1ffc5c9f04db1c"
      ],
      "layout": "IPY_MODEL_3446a39ca0374e3fb984fee8f379a6d2"
     }
    },
    "e8de69966d184a49bdef89857f4dbe05": {
     "model_module": "@jupyter-widgets/controls",
     "model_module_version": "1.5.0",
     "model_name": "DescriptionStyleModel",
     "state": {
      "_model_module": "@jupyter-widgets/controls",
      "_model_module_version": "1.5.0",
      "_model_name": "DescriptionStyleModel",
      "_view_count": null,
      "_view_module": "@jupyter-widgets/base",
      "_view_module_version": "1.2.0",
      "_view_name": "StyleView",
      "description_width": ""
     }
    },
    "e9d816c0371c4da78b28d31e6ff89a24": {
     "model_module": "@jupyter-widgets/controls",
     "model_module_version": "1.5.0",
     "model_name": "HTMLModel",
     "state": {
      "_dom_classes": [],
      "_model_module": "@jupyter-widgets/controls",
      "_model_module_version": "1.5.0",
      "_model_name": "HTMLModel",
      "_view_count": null,
      "_view_module": "@jupyter-widgets/controls",
      "_view_module_version": "1.5.0",
      "_view_name": "HTMLView",
      "description": "",
      "description_tooltip": null,
      "layout": "IPY_MODEL_587469972a054fd8b50b8b9b36495bd4",
      "placeholder": "​",
      "style": "IPY_MODEL_e6cb76b02cb643ff89f2308b80f1a786",
      "value": "Downloading metadata: 100%"
     }
    },
    "ea5b4bca494a433db37536c58a0ef3ac": {
     "model_module": "@jupyter-widgets/base",
     "model_module_version": "1.2.0",
     "model_name": "LayoutModel",
     "state": {
      "_model_module": "@jupyter-widgets/base",
      "_model_module_version": "1.2.0",
      "_model_name": "LayoutModel",
      "_view_count": null,
      "_view_module": "@jupyter-widgets/base",
      "_view_module_version": "1.2.0",
      "_view_name": "LayoutView",
      "align_content": null,
      "align_items": null,
      "align_self": null,
      "border": null,
      "bottom": null,
      "display": null,
      "flex": null,
      "flex_flow": null,
      "grid_area": null,
      "grid_auto_columns": null,
      "grid_auto_flow": null,
      "grid_auto_rows": null,
      "grid_column": null,
      "grid_gap": null,
      "grid_row": null,
      "grid_template_areas": null,
      "grid_template_columns": null,
      "grid_template_rows": null,
      "height": null,
      "justify_content": null,
      "justify_items": null,
      "left": null,
      "margin": null,
      "max_height": null,
      "max_width": null,
      "min_height": null,
      "min_width": null,
      "object_fit": null,
      "object_position": null,
      "order": null,
      "overflow": null,
      "overflow_x": null,
      "overflow_y": null,
      "padding": null,
      "right": null,
      "top": null,
      "visibility": null,
      "width": null
     }
    },
    "ea79aec13a2f4a9babb02190e6ca2fbb": {
     "model_module": "@jupyter-widgets/controls",
     "model_module_version": "1.5.0",
     "model_name": "ProgressStyleModel",
     "state": {
      "_model_module": "@jupyter-widgets/controls",
      "_model_module_version": "1.5.0",
      "_model_name": "ProgressStyleModel",
      "_view_count": null,
      "_view_module": "@jupyter-widgets/base",
      "_view_module_version": "1.2.0",
      "_view_name": "StyleView",
      "bar_color": null,
      "description_width": ""
     }
    },
    "eb291653521a482991461ee9efc1a622": {
     "model_module": "@jupyter-widgets/base",
     "model_module_version": "1.2.0",
     "model_name": "LayoutModel",
     "state": {
      "_model_module": "@jupyter-widgets/base",
      "_model_module_version": "1.2.0",
      "_model_name": "LayoutModel",
      "_view_count": null,
      "_view_module": "@jupyter-widgets/base",
      "_view_module_version": "1.2.0",
      "_view_name": "LayoutView",
      "align_content": null,
      "align_items": null,
      "align_self": null,
      "border": null,
      "bottom": null,
      "display": null,
      "flex": null,
      "flex_flow": null,
      "grid_area": null,
      "grid_auto_columns": null,
      "grid_auto_flow": null,
      "grid_auto_rows": null,
      "grid_column": null,
      "grid_gap": null,
      "grid_row": null,
      "grid_template_areas": null,
      "grid_template_columns": null,
      "grid_template_rows": null,
      "height": null,
      "justify_content": null,
      "justify_items": null,
      "left": null,
      "margin": null,
      "max_height": null,
      "max_width": null,
      "min_height": null,
      "min_width": null,
      "object_fit": null,
      "object_position": null,
      "order": null,
      "overflow": null,
      "overflow_x": null,
      "overflow_y": null,
      "padding": null,
      "right": null,
      "top": null,
      "visibility": null,
      "width": null
     }
    },
    "ebaaa2c7b7c04f429234adbe5a103942": {
     "model_module": "@jupyter-widgets/base",
     "model_module_version": "1.2.0",
     "model_name": "LayoutModel",
     "state": {
      "_model_module": "@jupyter-widgets/base",
      "_model_module_version": "1.2.0",
      "_model_name": "LayoutModel",
      "_view_count": null,
      "_view_module": "@jupyter-widgets/base",
      "_view_module_version": "1.2.0",
      "_view_name": "LayoutView",
      "align_content": null,
      "align_items": null,
      "align_self": null,
      "border": null,
      "bottom": null,
      "display": null,
      "flex": null,
      "flex_flow": null,
      "grid_area": null,
      "grid_auto_columns": null,
      "grid_auto_flow": null,
      "grid_auto_rows": null,
      "grid_column": null,
      "grid_gap": null,
      "grid_row": null,
      "grid_template_areas": null,
      "grid_template_columns": null,
      "grid_template_rows": null,
      "height": null,
      "justify_content": null,
      "justify_items": null,
      "left": null,
      "margin": null,
      "max_height": null,
      "max_width": null,
      "min_height": null,
      "min_width": null,
      "object_fit": null,
      "object_position": null,
      "order": null,
      "overflow": null,
      "overflow_x": null,
      "overflow_y": null,
      "padding": null,
      "right": null,
      "top": null,
      "visibility": null,
      "width": null
     }
    },
    "ec23d7709b7a41379e154041fa0ca02c": {
     "model_module": "@jupyter-widgets/controls",
     "model_module_version": "1.5.0",
     "model_name": "HBoxModel",
     "state": {
      "_dom_classes": [],
      "_model_module": "@jupyter-widgets/controls",
      "_model_module_version": "1.5.0",
      "_model_name": "HBoxModel",
      "_view_count": null,
      "_view_module": "@jupyter-widgets/controls",
      "_view_module_version": "1.5.0",
      "_view_name": "HBoxView",
      "box_style": "",
      "children": [
       "IPY_MODEL_f88ba27419874c3787e48539662f9ea6",
       "IPY_MODEL_46525fb99558434ca43a31517c8125be",
       "IPY_MODEL_b0edc6aad13c497a8744d5e353bf665c"
      ],
      "layout": "IPY_MODEL_a857a6a343b342988f876d759532c5bf"
     }
    },
    "ec9bd01cdbfd4a82a60744bc80b4fb8c": {
     "model_module": "@jupyter-widgets/base",
     "model_module_version": "1.2.0",
     "model_name": "LayoutModel",
     "state": {
      "_model_module": "@jupyter-widgets/base",
      "_model_module_version": "1.2.0",
      "_model_name": "LayoutModel",
      "_view_count": null,
      "_view_module": "@jupyter-widgets/base",
      "_view_module_version": "1.2.0",
      "_view_name": "LayoutView",
      "align_content": null,
      "align_items": null,
      "align_self": null,
      "border": null,
      "bottom": null,
      "display": null,
      "flex": null,
      "flex_flow": null,
      "grid_area": null,
      "grid_auto_columns": null,
      "grid_auto_flow": null,
      "grid_auto_rows": null,
      "grid_column": null,
      "grid_gap": null,
      "grid_row": null,
      "grid_template_areas": null,
      "grid_template_columns": null,
      "grid_template_rows": null,
      "height": null,
      "justify_content": null,
      "justify_items": null,
      "left": null,
      "margin": null,
      "max_height": null,
      "max_width": null,
      "min_height": null,
      "min_width": null,
      "object_fit": null,
      "object_position": null,
      "order": null,
      "overflow": null,
      "overflow_x": null,
      "overflow_y": null,
      "padding": null,
      "right": null,
      "top": null,
      "visibility": null,
      "width": null
     }
    },
    "ecf42f8c8da8499cae056ec5d23b58bc": {
     "model_module": "@jupyter-widgets/base",
     "model_module_version": "1.2.0",
     "model_name": "LayoutModel",
     "state": {
      "_model_module": "@jupyter-widgets/base",
      "_model_module_version": "1.2.0",
      "_model_name": "LayoutModel",
      "_view_count": null,
      "_view_module": "@jupyter-widgets/base",
      "_view_module_version": "1.2.0",
      "_view_name": "LayoutView",
      "align_content": null,
      "align_items": null,
      "align_self": null,
      "border": null,
      "bottom": null,
      "display": null,
      "flex": null,
      "flex_flow": null,
      "grid_area": null,
      "grid_auto_columns": null,
      "grid_auto_flow": null,
      "grid_auto_rows": null,
      "grid_column": null,
      "grid_gap": null,
      "grid_row": null,
      "grid_template_areas": null,
      "grid_template_columns": null,
      "grid_template_rows": null,
      "height": null,
      "justify_content": null,
      "justify_items": null,
      "left": null,
      "margin": null,
      "max_height": null,
      "max_width": null,
      "min_height": null,
      "min_width": null,
      "object_fit": null,
      "object_position": null,
      "order": null,
      "overflow": null,
      "overflow_x": null,
      "overflow_y": null,
      "padding": null,
      "right": null,
      "top": null,
      "visibility": null,
      "width": null
     }
    },
    "efaba3679f6846e5929bdb5e3e95eb26": {
     "model_module": "@jupyter-widgets/base",
     "model_module_version": "1.2.0",
     "model_name": "LayoutModel",
     "state": {
      "_model_module": "@jupyter-widgets/base",
      "_model_module_version": "1.2.0",
      "_model_name": "LayoutModel",
      "_view_count": null,
      "_view_module": "@jupyter-widgets/base",
      "_view_module_version": "1.2.0",
      "_view_name": "LayoutView",
      "align_content": null,
      "align_items": null,
      "align_self": null,
      "border": null,
      "bottom": null,
      "display": null,
      "flex": null,
      "flex_flow": null,
      "grid_area": null,
      "grid_auto_columns": null,
      "grid_auto_flow": null,
      "grid_auto_rows": null,
      "grid_column": null,
      "grid_gap": null,
      "grid_row": null,
      "grid_template_areas": null,
      "grid_template_columns": null,
      "grid_template_rows": null,
      "height": null,
      "justify_content": null,
      "justify_items": null,
      "left": null,
      "margin": null,
      "max_height": null,
      "max_width": null,
      "min_height": null,
      "min_width": null,
      "object_fit": null,
      "object_position": null,
      "order": null,
      "overflow": null,
      "overflow_x": null,
      "overflow_y": null,
      "padding": null,
      "right": null,
      "top": null,
      "visibility": null,
      "width": null
     }
    },
    "f0471b7a29ce48a3a53e20b837f8edc5": {
     "model_module": "@jupyter-widgets/controls",
     "model_module_version": "1.5.0",
     "model_name": "DescriptionStyleModel",
     "state": {
      "_model_module": "@jupyter-widgets/controls",
      "_model_module_version": "1.5.0",
      "_model_name": "DescriptionStyleModel",
      "_view_count": null,
      "_view_module": "@jupyter-widgets/base",
      "_view_module_version": "1.2.0",
      "_view_name": "StyleView",
      "description_width": ""
     }
    },
    "f0bfc40291814b9a856cf747104d2f17": {
     "model_module": "@jupyter-widgets/controls",
     "model_module_version": "1.5.0",
     "model_name": "HTMLModel",
     "state": {
      "_dom_classes": [],
      "_model_module": "@jupyter-widgets/controls",
      "_model_module_version": "1.5.0",
      "_model_name": "HTMLModel",
      "_view_count": null,
      "_view_module": "@jupyter-widgets/controls",
      "_view_module_version": "1.5.0",
      "_view_name": "HTMLView",
      "description": "",
      "description_tooltip": null,
      "layout": "IPY_MODEL_02039e015a404bee8f57035773b1641f",
      "placeholder": "​",
      "style": "IPY_MODEL_38c40e48f351453baa54da4dfe2abbeb",
      "value": " 10570/10570 [00:01&lt;00:00, 8244.75 examples/s]"
     }
    },
    "f15db3e2f67e44019e2bfac1e44cfaea": {
     "model_module": "@jupyter-widgets/controls",
     "model_module_version": "1.5.0",
     "model_name": "DescriptionStyleModel",
     "state": {
      "_model_module": "@jupyter-widgets/controls",
      "_model_module_version": "1.5.0",
      "_model_name": "DescriptionStyleModel",
      "_view_count": null,
      "_view_module": "@jupyter-widgets/base",
      "_view_module_version": "1.2.0",
      "_view_name": "StyleView",
      "description_width": ""
     }
    },
    "f88ba27419874c3787e48539662f9ea6": {
     "model_module": "@jupyter-widgets/controls",
     "model_module_version": "1.5.0",
     "model_name": "HTMLModel",
     "state": {
      "_dom_classes": [],
      "_model_module": "@jupyter-widgets/controls",
      "_model_module_version": "1.5.0",
      "_model_name": "HTMLModel",
      "_view_count": null,
      "_view_module": "@jupyter-widgets/controls",
      "_view_module_version": "1.5.0",
      "_view_name": "HTMLView",
      "description": "",
      "description_tooltip": null,
      "layout": "IPY_MODEL_d91659f703304535ba1892cc1ecc7638",
      "placeholder": "​",
      "style": "IPY_MODEL_510c26ba61b841979edfba382b1e6091",
      "value": "Map: 100%"
     }
    },
    "f94d50d0c62b4270a62fae4ec4440373": {
     "model_module": "@jupyter-widgets/controls",
     "model_module_version": "1.5.0",
     "model_name": "DescriptionStyleModel",
     "state": {
      "_model_module": "@jupyter-widgets/controls",
      "_model_module_version": "1.5.0",
      "_model_name": "DescriptionStyleModel",
      "_view_count": null,
      "_view_module": "@jupyter-widgets/base",
      "_view_module_version": "1.2.0",
      "_view_name": "StyleView",
      "description_width": ""
     }
    },
    "f9630bea6c2c4b668598141bdd0415a6": {
     "model_module": "@jupyter-widgets/controls",
     "model_module_version": "1.5.0",
     "model_name": "FloatProgressModel",
     "state": {
      "_dom_classes": [],
      "_model_module": "@jupyter-widgets/controls",
      "_model_module_version": "1.5.0",
      "_model_name": "FloatProgressModel",
      "_view_count": null,
      "_view_module": "@jupyter-widgets/controls",
      "_view_module_version": "1.5.0",
      "_view_name": "ProgressView",
      "bar_style": "success",
      "description": "",
      "description_tooltip": null,
      "layout": "IPY_MODEL_3eeaa28683b849bcb7ce1ce9bf9b48a9",
      "max": 28,
      "min": 0,
      "orientation": "horizontal",
      "style": "IPY_MODEL_4c798b0711134919835c7ede3ef2a248",
      "value": 28
     }
    },
    "fb9d3bb6ec56489cb574b0ee6c07381d": {
     "model_module": "@jupyter-widgets/base",
     "model_module_version": "1.2.0",
     "model_name": "LayoutModel",
     "state": {
      "_model_module": "@jupyter-widgets/base",
      "_model_module_version": "1.2.0",
      "_model_name": "LayoutModel",
      "_view_count": null,
      "_view_module": "@jupyter-widgets/base",
      "_view_module_version": "1.2.0",
      "_view_name": "LayoutView",
      "align_content": null,
      "align_items": null,
      "align_self": null,
      "border": null,
      "bottom": null,
      "display": null,
      "flex": null,
      "flex_flow": null,
      "grid_area": null,
      "grid_auto_columns": null,
      "grid_auto_flow": null,
      "grid_auto_rows": null,
      "grid_column": null,
      "grid_gap": null,
      "grid_row": null,
      "grid_template_areas": null,
      "grid_template_columns": null,
      "grid_template_rows": null,
      "height": null,
      "justify_content": null,
      "justify_items": null,
      "left": null,
      "margin": null,
      "max_height": null,
      "max_width": null,
      "min_height": null,
      "min_width": null,
      "object_fit": null,
      "object_position": null,
      "order": null,
      "overflow": null,
      "overflow_x": null,
      "overflow_y": null,
      "padding": null,
      "right": null,
      "top": null,
      "visibility": null,
      "width": null
     }
    },
    "fd6adea302814be1b5bb006dfcbc6918": {
     "model_module": "@jupyter-widgets/base",
     "model_module_version": "1.2.0",
     "model_name": "LayoutModel",
     "state": {
      "_model_module": "@jupyter-widgets/base",
      "_model_module_version": "1.2.0",
      "_model_name": "LayoutModel",
      "_view_count": null,
      "_view_module": "@jupyter-widgets/base",
      "_view_module_version": "1.2.0",
      "_view_name": "LayoutView",
      "align_content": null,
      "align_items": null,
      "align_self": null,
      "border": null,
      "bottom": null,
      "display": null,
      "flex": null,
      "flex_flow": null,
      "grid_area": null,
      "grid_auto_columns": null,
      "grid_auto_flow": null,
      "grid_auto_rows": null,
      "grid_column": null,
      "grid_gap": null,
      "grid_row": null,
      "grid_template_areas": null,
      "grid_template_columns": null,
      "grid_template_rows": null,
      "height": null,
      "justify_content": null,
      "justify_items": null,
      "left": null,
      "margin": null,
      "max_height": null,
      "max_width": null,
      "min_height": null,
      "min_width": null,
      "object_fit": null,
      "object_position": null,
      "order": null,
      "overflow": null,
      "overflow_x": null,
      "overflow_y": null,
      "padding": null,
      "right": null,
      "top": null,
      "visibility": null,
      "width": null
     }
    },
    "ff7cd05bb15e495087cfeeccdcf7dcde": {
     "model_module": "@jupyter-widgets/controls",
     "model_module_version": "1.5.0",
     "model_name": "ProgressStyleModel",
     "state": {
      "_model_module": "@jupyter-widgets/controls",
      "_model_module_version": "1.5.0",
      "_model_name": "ProgressStyleModel",
      "_view_count": null,
      "_view_module": "@jupyter-widgets/base",
      "_view_module_version": "1.2.0",
      "_view_name": "StyleView",
      "bar_color": null,
      "description_width": ""
     }
    }
   }
  }
 },
 "nbformat": 4,
 "nbformat_minor": 5
}
